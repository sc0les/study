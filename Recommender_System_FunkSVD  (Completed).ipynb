{
 "cells": [
  {
   "cell_type": "markdown",
   "metadata": {},
   "source": [
    "# Recommender System with Matrix Factorization Method\n",
    "October 29, 2022\n",
    "\n",
    "We have learned how to use FunkSVD technique (Funk Singular Value Decomposition) from Surprise library to provide recommendation (or more accurately to provide rating prediction). \n",
    "\n",
    "For today's kickoff, we will be practicing with a dataset of **anime ratings** from [this](https://www.kaggle.com/CooperUnion/anime-recommendations-database) Kaggle dataset and do hyperparameter optimization with GridSearchCV method from the same library.\n",
    "\n",
    "Note: Since the original rating dataset has more than 7 million rows, I filtered the data to include only users and animes with minimum 1000 ratings."
   ]
  },
  {
   "cell_type": "code",
   "execution_count": 2,
   "metadata": {},
   "outputs": [],
   "source": [
    "# Import the basic packages\n",
    "import numpy as np \n",
    "import pandas as pd \n",
    "\n",
    "# Import the surprise packages\n",
    "from surprise import Dataset\n",
    "from surprise.reader import Reader\n",
    "from surprise.prediction_algorithms.matrix_factorization import SVD as FunkSVD"
   ]
  },
  {
   "cell_type": "markdown",
   "metadata": {},
   "source": [
    "## Data loading"
   ]
  },
  {
   "cell_type": "code",
   "execution_count": 3,
   "metadata": {},
   "outputs": [],
   "source": [
    "rating_df = pd.read_csv(\"anime_rating_merged.csv\")"
   ]
  },
  {
   "cell_type": "code",
   "execution_count": 4,
   "metadata": {},
   "outputs": [
    {
     "data": {
      "text/html": [
       "<div>\n",
       "<style scoped>\n",
       "    .dataframe tbody tr th:only-of-type {\n",
       "        vertical-align: middle;\n",
       "    }\n",
       "\n",
       "    .dataframe tbody tr th {\n",
       "        vertical-align: top;\n",
       "    }\n",
       "\n",
       "    .dataframe thead th {\n",
       "        text-align: right;\n",
       "    }\n",
       "</style>\n",
       "<table border=\"1\" class=\"dataframe\">\n",
       "  <thead>\n",
       "    <tr style=\"text-align: right;\">\n",
       "      <th></th>\n",
       "      <th>user_id</th>\n",
       "      <th>anime_id</th>\n",
       "      <th>rating</th>\n",
       "      <th>name</th>\n",
       "      <th>genre</th>\n",
       "    </tr>\n",
       "  </thead>\n",
       "  <tbody>\n",
       "    <tr>\n",
       "      <td>0</td>\n",
       "      <td>1497</td>\n",
       "      <td>18</td>\n",
       "      <td>9</td>\n",
       "      <td>Initial D Fourth Stage</td>\n",
       "      <td>Action, Cars, Drama, Seinen, Sports</td>\n",
       "    </tr>\n",
       "    <tr>\n",
       "      <td>1</td>\n",
       "      <td>1497</td>\n",
       "      <td>22</td>\n",
       "      <td>10</td>\n",
       "      <td>Prince of Tennis</td>\n",
       "      <td>Action, Comedy, School, Shounen, Sports</td>\n",
       "    </tr>\n",
       "    <tr>\n",
       "      <td>2</td>\n",
       "      <td>1497</td>\n",
       "      <td>51</td>\n",
       "      <td>3</td>\n",
       "      <td>Tenshi Kinryouku</td>\n",
       "      <td>Action, Drama, Romance, Shoujo, Supernatural</td>\n",
       "    </tr>\n",
       "    <tr>\n",
       "      <td>3</td>\n",
       "      <td>1497</td>\n",
       "      <td>52</td>\n",
       "      <td>8</td>\n",
       "      <td>Kidou Tenshi Angelic Layer</td>\n",
       "      <td>Comedy, Drama, Sci-Fi, Shounen, Sports</td>\n",
       "    </tr>\n",
       "    <tr>\n",
       "      <td>4</td>\n",
       "      <td>1497</td>\n",
       "      <td>59</td>\n",
       "      <td>7</td>\n",
       "      <td>Chobits</td>\n",
       "      <td>Comedy, Drama, Ecchi, Romance, Sci-Fi, Seinen</td>\n",
       "    </tr>\n",
       "  </tbody>\n",
       "</table>\n",
       "</div>"
      ],
      "text/plain": [
       "   user_id  anime_id  rating                        name  \\\n",
       "0     1497        18       9      Initial D Fourth Stage   \n",
       "1     1497        22      10            Prince of Tennis   \n",
       "2     1497        51       3            Tenshi Kinryouku   \n",
       "3     1497        52       8  Kidou Tenshi Angelic Layer   \n",
       "4     1497        59       7                     Chobits   \n",
       "\n",
       "                                           genre  \n",
       "0            Action, Cars, Drama, Seinen, Sports  \n",
       "1        Action, Comedy, School, Shounen, Sports  \n",
       "2   Action, Drama, Romance, Shoujo, Supernatural  \n",
       "3         Comedy, Drama, Sci-Fi, Shounen, Sports  \n",
       "4  Comedy, Drama, Ecchi, Romance, Sci-Fi, Seinen  "
      ]
     },
     "metadata": {},
     "output_type": "display_data"
    },
    {
     "name": "stdout",
     "output_type": "stream",
     "text": [
      "Shape:  (114207, 5)\n",
      "Number of Unique Users: 165\n",
      "Number of Unique Animes: 1462\n"
     ]
    }
   ],
   "source": [
    "# Check the anime dataset\n",
    "display(rating_df.head())\n",
    "print('Shape: ', rating_df.shape)\n",
    "print('Number of Unique Users:',len(rating_df['user_id'].unique()))\n",
    "print('Number of Unique Animes:',len(rating_df['anime_id'].unique()))"
   ]
  },
  {
   "cell_type": "code",
   "execution_count": 5,
   "metadata": {},
   "outputs": [
    {
     "name": "stdout",
     "output_type": "stream",
     "text": [
      "Min:1\n",
      "Max:10\n"
     ]
    }
   ],
   "source": [
    "# Check the min and max value of rating columns\n",
    "print(f'Min:{rating_df[\"rating\"].min()}')\n",
    "print(f'Max:{rating_df[\"rating\"].max()}')"
   ]
  },
  {
   "cell_type": "code",
   "execution_count": 6,
   "metadata": {},
   "outputs": [
    {
     "data": {
      "text/html": [
       "<div>\n",
       "<style scoped>\n",
       "    .dataframe tbody tr th:only-of-type {\n",
       "        vertical-align: middle;\n",
       "    }\n",
       "\n",
       "    .dataframe tbody tr th {\n",
       "        vertical-align: top;\n",
       "    }\n",
       "\n",
       "    .dataframe thead th {\n",
       "        text-align: right;\n",
       "    }\n",
       "</style>\n",
       "<table border=\"1\" class=\"dataframe\">\n",
       "  <thead>\n",
       "    <tr style=\"text-align: right;\">\n",
       "      <th></th>\n",
       "      <th>user_id</th>\n",
       "      <th>anime_id</th>\n",
       "      <th>rating</th>\n",
       "      <th>name</th>\n",
       "      <th>genre</th>\n",
       "    </tr>\n",
       "  </thead>\n",
       "  <tbody>\n",
       "  </tbody>\n",
       "</table>\n",
       "</div>"
      ],
      "text/plain": [
       "Empty DataFrame\n",
       "Columns: [user_id, anime_id, rating, name, genre]\n",
       "Index: []"
      ]
     },
     "execution_count": 6,
     "metadata": {},
     "output_type": "execute_result"
    }
   ],
   "source": [
    "# check if there is null values in the rating\n",
    "rating_df[rating_df['rating'].isna()]"
   ]
  },
  {
   "cell_type": "markdown",
   "metadata": {},
   "source": [
    "**Goal**: From the rating dataset, we understand that every row is a different user and anime with the rating between 1 (negative) and 10 (positive). We will focus on user `1497` and see what animes that this user watched and predict what animes this user might be interested in."
   ]
  },
  {
   "cell_type": "code",
   "execution_count": 7,
   "metadata": {},
   "outputs": [
    {
     "data": {
      "text/plain": [
       "(628, 5)"
      ]
     },
     "execution_count": 7,
     "metadata": {},
     "output_type": "execute_result"
    }
   ],
   "source": [
    "# Check number of animes rated by user 1497\n",
    "user_1497 = rating_df[rating_df['user_id']==1497]\n",
    "user_1497.shape"
   ]
  },
  {
   "cell_type": "code",
   "execution_count": 8,
   "metadata": {},
   "outputs": [
    {
     "data": {
      "text/plain": [
       "45"
      ]
     },
     "execution_count": 8,
     "metadata": {},
     "output_type": "execute_result"
    }
   ],
   "source": [
    "# find the number of anime user 2497 rated as 10/10\n",
    "sum(user_1497['rating'] == 10)"
   ]
  },
  {
   "cell_type": "markdown",
   "metadata": {},
   "source": [
    "So out of the 1,462 animes in the data set we can see that user `1497` has reviewed 628 of them and gave ratings 10 for 45 animes."
   ]
  },
  {
   "cell_type": "code",
   "execution_count": 9,
   "metadata": {},
   "outputs": [
    {
     "data": {
      "text/html": [
       "<div>\n",
       "<style scoped>\n",
       "    .dataframe tbody tr th:only-of-type {\n",
       "        vertical-align: middle;\n",
       "    }\n",
       "\n",
       "    .dataframe tbody tr th {\n",
       "        vertical-align: top;\n",
       "    }\n",
       "\n",
       "    .dataframe thead th {\n",
       "        text-align: right;\n",
       "    }\n",
       "</style>\n",
       "<table border=\"1\" class=\"dataframe\">\n",
       "  <thead>\n",
       "    <tr style=\"text-align: right;\">\n",
       "      <th></th>\n",
       "      <th>user_id</th>\n",
       "      <th>anime_id</th>\n",
       "      <th>rating</th>\n",
       "      <th>name</th>\n",
       "      <th>genre</th>\n",
       "    </tr>\n",
       "  </thead>\n",
       "  <tbody>\n",
       "    <tr>\n",
       "      <td>38</td>\n",
       "      <td>1497</td>\n",
       "      <td>427</td>\n",
       "      <td>10</td>\n",
       "      <td>Kaleido Star</td>\n",
       "      <td>Comedy, Drama, Fantasy, Shoujo</td>\n",
       "    </tr>\n",
       "    <tr>\n",
       "      <td>102</td>\n",
       "      <td>1497</td>\n",
       "      <td>3470</td>\n",
       "      <td>10</td>\n",
       "      <td>Special A</td>\n",
       "      <td>Comedy, Romance, School, Shoujo</td>\n",
       "    </tr>\n",
       "    <tr>\n",
       "      <td>34</td>\n",
       "      <td>1497</td>\n",
       "      <td>317</td>\n",
       "      <td>10</td>\n",
       "      <td>Final Fantasy VII: Advent Children</td>\n",
       "      <td>Action, Fantasy, Super Power</td>\n",
       "    </tr>\n",
       "    <tr>\n",
       "      <td>268</td>\n",
       "      <td>1497</td>\n",
       "      <td>10460</td>\n",
       "      <td>10</td>\n",
       "      <td>Kimi to Boku.</td>\n",
       "      <td>Comedy, Drama, Romance, School, Shounen, Slice...</td>\n",
       "    </tr>\n",
       "    <tr>\n",
       "      <td>417</td>\n",
       "      <td>1497</td>\n",
       "      <td>18115</td>\n",
       "      <td>10</td>\n",
       "      <td>Magi: The Kingdom of Magic</td>\n",
       "      <td>Action, Adventure, Fantasy, Magic, Shounen</td>\n",
       "    </tr>\n",
       "    <tr>\n",
       "      <td>341</td>\n",
       "      <td>1497</td>\n",
       "      <td>14345</td>\n",
       "      <td>10</td>\n",
       "      <td>Btooom!</td>\n",
       "      <td>Action, Psychological, Sci-Fi, Seinen</td>\n",
       "    </tr>\n",
       "    <tr>\n",
       "      <td>170</td>\n",
       "      <td>1497</td>\n",
       "      <td>6637</td>\n",
       "      <td>10</td>\n",
       "      <td>Higashi no Eden Movie II: Paradise Lost</td>\n",
       "      <td>Action, Comedy, Drama, Mystery, Romance, Thriller</td>\n",
       "    </tr>\n",
       "    <tr>\n",
       "      <td>41</td>\n",
       "      <td>1497</td>\n",
       "      <td>476</td>\n",
       "      <td>10</td>\n",
       "      <td>Ginban Kaleidoscope</td>\n",
       "      <td>Drama, Romance, Sports</td>\n",
       "    </tr>\n",
       "    <tr>\n",
       "      <td>423</td>\n",
       "      <td>1497</td>\n",
       "      <td>18245</td>\n",
       "      <td>10</td>\n",
       "      <td>White Album 2</td>\n",
       "      <td>Drama, Music, Romance, Slice of Life</td>\n",
       "    </tr>\n",
       "    <tr>\n",
       "      <td>277</td>\n",
       "      <td>1497</td>\n",
       "      <td>10793</td>\n",
       "      <td>10</td>\n",
       "      <td>Guilty Crown</td>\n",
       "      <td>Action, Drama, Sci-Fi, Super Power</td>\n",
       "    </tr>\n",
       "  </tbody>\n",
       "</table>\n",
       "</div>"
      ],
      "text/plain": [
       "     user_id  anime_id  rating                                     name  \\\n",
       "38      1497       427      10                             Kaleido Star   \n",
       "102     1497      3470      10                                Special A   \n",
       "34      1497       317      10       Final Fantasy VII: Advent Children   \n",
       "268     1497     10460      10                            Kimi to Boku.   \n",
       "417     1497     18115      10               Magi: The Kingdom of Magic   \n",
       "341     1497     14345      10                                  Btooom!   \n",
       "170     1497      6637      10  Higashi no Eden Movie II: Paradise Lost   \n",
       "41      1497       476      10                      Ginban Kaleidoscope   \n",
       "423     1497     18245      10                            White Album 2   \n",
       "277     1497     10793      10                             Guilty Crown   \n",
       "\n",
       "                                                 genre  \n",
       "38                      Comedy, Drama, Fantasy, Shoujo  \n",
       "102                    Comedy, Romance, School, Shoujo  \n",
       "34                        Action, Fantasy, Super Power  \n",
       "268  Comedy, Drama, Romance, School, Shounen, Slice...  \n",
       "417         Action, Adventure, Fantasy, Magic, Shounen  \n",
       "341              Action, Psychological, Sci-Fi, Seinen  \n",
       "170  Action, Comedy, Drama, Mystery, Romance, Thriller  \n",
       "41                              Drama, Romance, Sports  \n",
       "423               Drama, Music, Romance, Slice of Life  \n",
       "277                 Action, Drama, Sci-Fi, Super Power  "
      ]
     },
     "execution_count": 9,
     "metadata": {},
     "output_type": "execute_result"
    }
   ],
   "source": [
    "# sort the anime of user 1497 by the rating in descending order (10->1)\n",
    "user_1497.sort_values('rating', ascending = False).head(10)"
   ]
  },
  {
   "cell_type": "code",
   "execution_count": 10,
   "metadata": {},
   "outputs": [
    {
     "data": {
      "text/html": [
       "<div>\n",
       "<style scoped>\n",
       "    .dataframe tbody tr th:only-of-type {\n",
       "        vertical-align: middle;\n",
       "    }\n",
       "\n",
       "    .dataframe tbody tr th {\n",
       "        vertical-align: top;\n",
       "    }\n",
       "\n",
       "    .dataframe thead th {\n",
       "        text-align: right;\n",
       "    }\n",
       "</style>\n",
       "<table border=\"1\" class=\"dataframe\">\n",
       "  <thead>\n",
       "    <tr style=\"text-align: right;\">\n",
       "      <th></th>\n",
       "      <th>user_id</th>\n",
       "      <th>anime_id</th>\n",
       "      <th>rating</th>\n",
       "      <th>name</th>\n",
       "      <th>genre</th>\n",
       "    </tr>\n",
       "  </thead>\n",
       "  <tbody>\n",
       "    <tr>\n",
       "      <td>505</td>\n",
       "      <td>1497</td>\n",
       "      <td>23079</td>\n",
       "      <td>2</td>\n",
       "      <td>Glasslip</td>\n",
       "      <td>Romance, Slice of Life, Supernatural</td>\n",
       "    </tr>\n",
       "    <tr>\n",
       "      <td>60</td>\n",
       "      <td>1497</td>\n",
       "      <td>935</td>\n",
       "      <td>2</td>\n",
       "      <td>Witchblade</td>\n",
       "      <td>Action, Sci-Fi, Super Power</td>\n",
       "    </tr>\n",
       "    <tr>\n",
       "      <td>539</td>\n",
       "      <td>1497</td>\n",
       "      <td>25283</td>\n",
       "      <td>2</td>\n",
       "      <td>Kuusen Madoushi Kouhosei no Kyoukan</td>\n",
       "      <td>Action, Drama, Fantasy, Magic, School</td>\n",
       "    </tr>\n",
       "    <tr>\n",
       "      <td>555</td>\n",
       "      <td>1497</td>\n",
       "      <td>27891</td>\n",
       "      <td>1</td>\n",
       "      <td>Sword Art Online II: Debriefing</td>\n",
       "      <td>Action, Adventure, Fantasy, Game</td>\n",
       "    </tr>\n",
       "    <tr>\n",
       "      <td>212</td>\n",
       "      <td>1497</td>\n",
       "      <td>8861</td>\n",
       "      <td>1</td>\n",
       "      <td>Yosuga no Sora: In Solitude, Where We Are Leas...</td>\n",
       "      <td>Drama, Ecchi, Harem, Romance</td>\n",
       "    </tr>\n",
       "    <tr>\n",
       "      <td>361</td>\n",
       "      <td>1497</td>\n",
       "      <td>15085</td>\n",
       "      <td>1</td>\n",
       "      <td>Amnesia</td>\n",
       "      <td>Fantasy, Josei, Mystery, Romance</td>\n",
       "    </tr>\n",
       "    <tr>\n",
       "      <td>408</td>\n",
       "      <td>1497</td>\n",
       "      <td>17513</td>\n",
       "      <td>1</td>\n",
       "      <td>Diabolik Lovers</td>\n",
       "      <td>Harem, School, Shoujo, Vampire</td>\n",
       "    </tr>\n",
       "    <tr>\n",
       "      <td>621</td>\n",
       "      <td>1497</td>\n",
       "      <td>32379</td>\n",
       "      <td>1</td>\n",
       "      <td>Berserk (2016)</td>\n",
       "      <td>Action, Adventure, Demons, Drama, Fantasy, Hor...</td>\n",
       "    </tr>\n",
       "    <tr>\n",
       "      <td>256</td>\n",
       "      <td>1497</td>\n",
       "      <td>10213</td>\n",
       "      <td>1</td>\n",
       "      <td>Maji de Watashi ni Koi Shinasai!</td>\n",
       "      <td>Comedy, Ecchi, Harem, Martial Arts, Romance, S...</td>\n",
       "    </tr>\n",
       "    <tr>\n",
       "      <td>17</td>\n",
       "      <td>1497</td>\n",
       "      <td>147</td>\n",
       "      <td>1</td>\n",
       "      <td>Kimi ga Nozomu Eien</td>\n",
       "      <td>Drama, Romance, Slice of Life</td>\n",
       "    </tr>\n",
       "  </tbody>\n",
       "</table>\n",
       "</div>"
      ],
      "text/plain": [
       "     user_id  anime_id  rating  \\\n",
       "505     1497     23079       2   \n",
       "60      1497       935       2   \n",
       "539     1497     25283       2   \n",
       "555     1497     27891       1   \n",
       "212     1497      8861       1   \n",
       "361     1497     15085       1   \n",
       "408     1497     17513       1   \n",
       "621     1497     32379       1   \n",
       "256     1497     10213       1   \n",
       "17      1497       147       1   \n",
       "\n",
       "                                                  name  \\\n",
       "505                                           Glasslip   \n",
       "60                                          Witchblade   \n",
       "539                Kuusen Madoushi Kouhosei no Kyoukan   \n",
       "555                    Sword Art Online II: Debriefing   \n",
       "212  Yosuga no Sora: In Solitude, Where We Are Leas...   \n",
       "361                                            Amnesia   \n",
       "408                                    Diabolik Lovers   \n",
       "621                                     Berserk (2016)   \n",
       "256                   Maji de Watashi ni Koi Shinasai!   \n",
       "17                                 Kimi ga Nozomu Eien   \n",
       "\n",
       "                                                 genre  \n",
       "505               Romance, Slice of Life, Supernatural  \n",
       "60                         Action, Sci-Fi, Super Power  \n",
       "539              Action, Drama, Fantasy, Magic, School  \n",
       "555                   Action, Adventure, Fantasy, Game  \n",
       "212                       Drama, Ecchi, Harem, Romance  \n",
       "361                   Fantasy, Josei, Mystery, Romance  \n",
       "408                     Harem, School, Shoujo, Vampire  \n",
       "621  Action, Adventure, Demons, Drama, Fantasy, Hor...  \n",
       "256  Comedy, Ecchi, Harem, Martial Arts, Romance, S...  \n",
       "17                       Drama, Romance, Slice of Life  "
      ]
     },
     "execution_count": 10,
     "metadata": {},
     "output_type": "execute_result"
    }
   ],
   "source": [
    "# animes with lowest rating by user\n",
    "user_1497.sort_values('rating', ascending = False).tail(10)"
   ]
  },
  {
   "cell_type": "markdown",
   "metadata": {},
   "source": [
    "## Matrix Factorization: FunkSVD"
   ]
  },
  {
   "cell_type": "markdown",
   "metadata": {},
   "source": [
    "With the traditional matrix factorization techniques, we are able to find the **latent features**, which are essentially the 'hidden factor ' in our data related to the items and users. \n",
    "\n",
    "Recall the movie review example from the Recommender Systems lecture.<br>\n",
    "Rating matrix $R$:\n",
    "\n",
    "|User  | Finding Nemo |  Thor  | Thor: Ragnarok |  Finding Dory  |\n",
    "|------|--------------|--------|----------------|----------------|\n",
    "|Bob   |   4          | 1      |   1            | 5              |\n",
    "|Sally |   5          | 5      |   2            | 1              |\n",
    "|Shila |   3          | 5      |   4            | 3              |\n",
    "\n",
    "To find the latent features, we can decompose this matrix into two other matrices, $U$ (for users) and $M$ (for movies):\n",
    "\n",
    "$$U \\cdot M = R$$\n",
    "\n",
    "User Matrix $U$:\n",
    "\n",
    "|      | Latent Variable1 |  Latent Variable2  | Latent Variable3|\n",
    "|------|------------------|--------------------|-----------------|\n",
    "|Bob   |   0.29           |         2.89       |   0.46          |\n",
    "|Sally |   2.33           | 0.61               |   0.0           |\n",
    "|Shila |   0.56           | 0.0                |   1.87          |\n",
    "\n",
    "\n",
    "Movie Matrix $M$:\n",
    "\n",
    "|                 | Finding Nemo |  Thor  | Thor: Ragnarok |  Finding Dory  |\n",
    "|-----------------|--------------|--------|----------------|----------------|\n",
    "|Latent Variable1 |   1.78       | 2.13   |   0.75         | 0.0            |\n",
    "|Latent Variable2 |   1.36       | 0.0    |   0.37         | 1.63           |\n",
    "|Latent Variable3 |   0.0        | 2.03   |   1.91         | 0.53           |\n",
    "\n",
    "\n",
    "From the movie matrix $M$, latent variable 1 seems to be concerned with original movies vs sequels (Finding Nemo vs Finding Dory, and Thor vs Thor: Ragnarok). Looking at the user matrix $U$, Sally seems to be most concern about latent variable 1, which we can interpret as her being mostly concerned with originals vs sequels.\n",
    "\n",
    "The traditional matrix factorization techniques seem to work fine here, but in real life, our rating matrix will look more like this:\n",
    "\n",
    "|User  | Stein;Gate |  Pokemon the Series: Sun & Moon  | Haikyuu |\n",
    "|------|--------------|--------|----------------|\n",
    "|1872   |   9          | 1      |   ?            |\n",
    "|227 |   ?          | 2      |   ?            |\n",
    "|1982 |   10          | ?      |   7            |\n",
    "\n",
    "**So how do we deal with these missing values?**\n",
    "\n",
    "We can use the **Funk Singular Value Decomposition**, which will ignore these missing values and find a way to compute latent factors only using the values we know. You can read up on how this algorithm works in detail [here](https://medium.com/datadriveninvestor/how-funk-singular-value-decomposition-algorithm-work-in-recommendation-engines-36f2fbf62cac).\n",
    "\n",
    "FunkSVD can allow us to predict a rating for every user-item pair, if we can predict ratings with low error, we can use this predicted rating in order to find the item related to the highest rating predicted.\n",
    "\n",
    "Now let's see how we can use the FunkSVD technique, to find which unwatched animes user `1497` would likely give a high rating on."
   ]
  },
  {
   "cell_type": "markdown",
   "metadata": {},
   "source": [
    "In surprise library, we need a `reader` object to load the data in the special object."
   ]
  },
  {
   "cell_type": "code",
   "execution_count": 11,
   "metadata": {},
   "outputs": [
    {
     "data": {
      "text/plain": [
       "<surprise.dataset.DatasetAutoFolds at 0x2971a505908>"
      ]
     },
     "execution_count": 11,
     "metadata": {},
     "output_type": "execute_result"
    }
   ],
   "source": [
    "# Set the reader with accurate rating scale\n",
    "my_reader = Reader(rating_scale=(1,10))\n",
    "\n",
    "# Set the dataset\n",
    "# Remember that the df parameter has to have 3 columns:\n",
    "# User ids, Item ids (anime), Ratings\n",
    "my_dataset = Dataset.load_from_df(rating_df[['user_id','anime_id','rating']], my_reader)\n",
    "my_dataset"
   ]
  },
  {
   "cell_type": "markdown",
   "metadata": {},
   "source": [
    "Next, surprise library has GridSearchCV function for hyperparameter optimization activity. We have to set up the basic parameters for SVD and also defines what evaluation metric we are going to use."
   ]
  },
  {
   "cell_type": "markdown",
   "metadata": {},
   "source": [
    "**Parameters**\n",
    "\n",
    "- Number of latent factors: more factors could give better results, but can also lead overfitting.\n",
    "- Number of epochs: number of iterations the algorithm will run.\n",
    "- Learning rate: the speed at which algorithm learns. Larger values give faster learning, but smaller values give more accurate learning.\n"
   ]
  },
  {
   "cell_type": "markdown",
   "metadata": {},
   "source": [
    "**Evaluation Metric**\n",
    "\n",
    "For evaluation, we will use the **Fraction of Concordant Pairs (FCP)**, which is the fraction of pairs whose relative ranking order is correct\n",
    "\n",
    "A concordant pair of ratings is composed of two pairs of ratings, a true rating and a predicted rating, $(r_{1}, \\hat{r_{1}})$ and $(r_{2}, \\hat{r_{2}})$. If these pairs are concordant, and $r_1 > r_2$, then $\\hat{r_1} > \\hat{r_2}$. This means that regardless of the predicted values, the order of ratings is correct (i.e. movie 1 is predicted to be preferred to movie 2)\n",
    "\n",
    "In the example below, although the true and predicted values differ for both animes, but since $r_1(6) > r_2(3)$  and $\\hat{r_1}(6) > \\hat{r_2}(5) $, the order of rating is still correct, showing that anime 1 is predicted to be preferred to anime 2.\n",
    "\n",
    "| | True ($r_{i}$) | Predicted ($\\hat{r_{i}}$)|\n",
    "|--|--|--|\n",
    "|Anime 1|6|6|\n",
    "|Anime 2|3|5|"
   ]
  },
  {
   "cell_type": "code",
   "execution_count": 12,
   "metadata": {},
   "outputs": [],
   "source": [
    "# Import GridSearchCV for algorithm tuning\n",
    "from surprise.model_selection import GridSearchCV\n",
    "\n",
    "# Set the parameter grid\n",
    "param_grid = {\n",
    "    'n_factors': [100], \n",
    "    'n_epochs': [10, 20],\n",
    "    'lr_all': [0.005],\n",
    "    'biased': [False] }\n",
    "\n",
    "# Set GridSearchCV with 3 cross validation\n",
    "GS = GridSearchCV(FunkSVD, param_grid, measures=['fcp'], cv=2)\n",
    "\n",
    "# Fit the model\n",
    "GS.fit(my_dataset)"
   ]
  },
  {
   "cell_type": "code",
   "execution_count": 13,
   "metadata": {},
   "outputs": [
    {
     "data": {
      "text/plain": [
       "0.7065980145337932"
      ]
     },
     "execution_count": 13,
     "metadata": {},
     "output_type": "execute_result"
    }
   ],
   "source": [
    "# Check the FCP accuracy score (1.0 is ideal and 0 is worst)\n",
    "GS.best_score['fcp']"
   ]
  },
  {
   "cell_type": "code",
   "execution_count": 14,
   "metadata": {},
   "outputs": [
    {
     "data": {
      "text/plain": [
       "{'n_factors': 100, 'n_epochs': 20, 'lr_all': 0.005, 'biased': False}"
      ]
     },
     "execution_count": 14,
     "metadata": {},
     "output_type": "execute_result"
    }
   ],
   "source": [
    "# Check the best parameters\n",
    "GS.best_params['fcp']"
   ]
  },
  {
   "cell_type": "markdown",
   "metadata": {},
   "source": [
    "Based on above information:\n",
    "{'n_factors': 100, 'n_epochs': 20, 'lr_all': 0.005, 'biased': False}\n",
    "\n",
    "We can build the algorithm on train and test set to check the accuracy based on the prediction values."
   ]
  },
  {
   "cell_type": "code",
   "execution_count": 17,
   "metadata": {},
   "outputs": [],
   "source": [
    "# Import train_test_split\n",
    "from surprise.model_selection import train_test_split\n",
    "\n",
    "# Split train test set\n",
    "trainset, testset = train_test_split(my_dataset, test_size=0.25)\n",
    "\n",
    "# Set the algorithm\n",
    "my_svd = FunkSVD(n_factors=100, \n",
    "                 n_epochs=20, \n",
    "                 lr_all=0.005, \n",
    "                 biased=False,\n",
    "                 verbose=0)\n",
    "# Fit train set\n",
    "my_svd.fit(trainset)\n",
    "\n",
    "# Test the algorithm using test set\n",
    "my_pred = my_svd.test(testset)"
   ]
  },
  {
   "cell_type": "code",
   "execution_count": 19,
   "metadata": {},
   "outputs": [],
   "source": [
    "# Put my_pred result in a dataframe\n",
    "df_prediction = pd.DataFrame(my_pred, columns=['user_id',\n",
    "                                                     'anime_id',\n",
    "                                                     'actual',\n",
    "                                                     'prediction',\n",
    "                                                     'details'])\n",
    "\n",
    "# Calculate the difference of actual and prediction into diff column\n",
    "df_prediction['diff'] = abs(df_prediction['prediction'] - \n",
    "                            df_prediction['actual'])"
   ]
  },
  {
   "cell_type": "code",
   "execution_count": 20,
   "metadata": {},
   "outputs": [
    {
     "data": {
      "text/html": [
       "<div>\n",
       "<style scoped>\n",
       "    .dataframe tbody tr th:only-of-type {\n",
       "        vertical-align: middle;\n",
       "    }\n",
       "\n",
       "    .dataframe tbody tr th {\n",
       "        vertical-align: top;\n",
       "    }\n",
       "\n",
       "    .dataframe thead th {\n",
       "        text-align: right;\n",
       "    }\n",
       "</style>\n",
       "<table border=\"1\" class=\"dataframe\">\n",
       "  <thead>\n",
       "    <tr style=\"text-align: right;\">\n",
       "      <th></th>\n",
       "      <th>user_id</th>\n",
       "      <th>anime_id</th>\n",
       "      <th>actual</th>\n",
       "      <th>prediction</th>\n",
       "      <th>details</th>\n",
       "      <th>diff</th>\n",
       "    </tr>\n",
       "  </thead>\n",
       "  <tbody>\n",
       "    <tr>\n",
       "      <td>0</td>\n",
       "      <td>22394</td>\n",
       "      <td>5671</td>\n",
       "      <td>8.0</td>\n",
       "      <td>8.345280</td>\n",
       "      <td>{'was_impossible': False}</td>\n",
       "      <td>0.345280</td>\n",
       "    </tr>\n",
       "    <tr>\n",
       "      <td>1</td>\n",
       "      <td>12431</td>\n",
       "      <td>9047</td>\n",
       "      <td>6.0</td>\n",
       "      <td>4.927884</td>\n",
       "      <td>{'was_impossible': False}</td>\n",
       "      <td>1.072116</td>\n",
       "    </tr>\n",
       "    <tr>\n",
       "      <td>2</td>\n",
       "      <td>51270</td>\n",
       "      <td>1690</td>\n",
       "      <td>10.0</td>\n",
       "      <td>8.578622</td>\n",
       "      <td>{'was_impossible': False}</td>\n",
       "      <td>1.421378</td>\n",
       "    </tr>\n",
       "    <tr>\n",
       "      <td>3</td>\n",
       "      <td>61110</td>\n",
       "      <td>21881</td>\n",
       "      <td>10.0</td>\n",
       "      <td>10.000000</td>\n",
       "      <td>{'was_impossible': False}</td>\n",
       "      <td>0.000000</td>\n",
       "    </tr>\n",
       "    <tr>\n",
       "      <td>4</td>\n",
       "      <td>23247</td>\n",
       "      <td>20939</td>\n",
       "      <td>7.0</td>\n",
       "      <td>7.078663</td>\n",
       "      <td>{'was_impossible': False}</td>\n",
       "      <td>0.078663</td>\n",
       "    </tr>\n",
       "  </tbody>\n",
       "</table>\n",
       "</div>"
      ],
      "text/plain": [
       "   user_id  anime_id  actual  prediction                    details      diff\n",
       "0    22394      5671     8.0    8.345280  {'was_impossible': False}  0.345280\n",
       "1    12431      9047     6.0    4.927884  {'was_impossible': False}  1.072116\n",
       "2    51270      1690    10.0    8.578622  {'was_impossible': False}  1.421378\n",
       "3    61110     21881    10.0   10.000000  {'was_impossible': False}  0.000000\n",
       "4    23247     20939     7.0    7.078663  {'was_impossible': False}  0.078663"
      ]
     },
     "execution_count": 20,
     "metadata": {},
     "output_type": "execute_result"
    }
   ],
   "source": [
    "# Check the df_prediction\n",
    "df_prediction.head()"
   ]
  },
  {
   "cell_type": "code",
   "execution_count": 21,
   "metadata": {},
   "outputs": [
    {
     "data": {
      "text/plain": [
       "0.00724992995236761"
      ]
     },
     "execution_count": 21,
     "metadata": {},
     "output_type": "execute_result"
    }
   ],
   "source": [
    "(df_prediction['diff'] == 0).mean()"
   ]
  },
  {
   "cell_type": "markdown",
   "metadata": {},
   "source": [
    "We can see that only 0.8% data have same prediction rating with the actual rating. It is understandable since the prediction scores are in float data type. In this case, we will put threshold +- 1 for the difference."
   ]
  },
  {
   "cell_type": "code",
   "execution_count": 22,
   "metadata": {},
   "outputs": [
    {
     "data": {
      "text/plain": [
       "0.6700056038105912"
      ]
     },
     "execution_count": 22,
     "metadata": {},
     "output_type": "execute_result"
    }
   ],
   "source": [
    "(df_prediction[\"diff\"] <= 1).mean()"
   ]
  },
  {
   "cell_type": "markdown",
   "metadata": {},
   "source": [
    "67% of the predictions are almost accurate. Now we can build the algorithm for the full train set."
   ]
  },
  {
   "cell_type": "code",
   "execution_count": 23,
   "metadata": {},
   "outputs": [
    {
     "data": {
      "text/plain": [
       "<surprise.prediction_algorithms.matrix_factorization.SVD at 0x29720113208>"
      ]
     },
     "execution_count": 23,
     "metadata": {},
     "output_type": "execute_result"
    }
   ],
   "source": [
    "# Build full trainset\n",
    "full_trainset = my_dataset.build_full_trainset()\n",
    "\n",
    "# Build the SVD algorithm\n",
    "my_svd = FunkSVD(n_factors=100, \n",
    "                 n_epochs=20, \n",
    "                 lr_all=0.005,    \n",
    "                 biased=False, \n",
    "                 verbose=0)\n",
    "\n",
    "# Fit with full trainset\n",
    "my_svd.fit(full_trainset)"
   ]
  },
  {
   "cell_type": "markdown",
   "metadata": {},
   "source": [
    "Now we have to build a test set for all users and animes without any ratings. We can utilize `.build_anti_testset` method for this purpose.\n",
    "\n",
    "This method allows us to create an “anti testset”, which is essentially the complement of the original dataset. In this case, since the user `1497` has rated 628 out of 1,462 animes, our test set will contain the 834 animes the user did not rate.\n",
    "\n",
    "The, we can run the predictions on the anti_testset with the test method (which results in a similar structure to the predict method). With this step, we have an estimated rating for all the user-item rating pairs that was missing from our data."
   ]
  },
  {
   "cell_type": "code",
   "execution_count": 25,
   "metadata": {},
   "outputs": [],
   "source": [
    "# Define the full test set\n",
    "full_testset = full_trainset.build_anti_testset(fill=-1)"
   ]
  },
  {
   "cell_type": "code",
   "execution_count": 26,
   "metadata": {},
   "outputs": [],
   "source": [
    "# Set the prediction\n",
    "my_prediction = my_svd.test(full_testset)"
   ]
  },
  {
   "cell_type": "code",
   "execution_count": 27,
   "metadata": {},
   "outputs": [],
   "source": [
    "# Put into a dataframe\n",
    "df_prediction = pd.DataFrame(my_prediction, columns=['user_id',\n",
    "                                                     'anime_id',\n",
    "                                                     'actual',\n",
    "                                                     'prediction',\n",
    "                                                     'details'])"
   ]
  },
  {
   "cell_type": "code",
   "execution_count": 31,
   "metadata": {},
   "outputs": [],
   "source": [
    "# Check user id `1497` predictions\n",
    "df_1497 = df_prediction[df_prediction['user_id']==1497]\n",
    "df_1497 = df_1497.sort_values('prediction', ascending=False)"
   ]
  },
  {
   "cell_type": "code",
   "execution_count": 32,
   "metadata": {},
   "outputs": [
    {
     "data": {
      "text/html": [
       "<div>\n",
       "<style scoped>\n",
       "    .dataframe tbody tr th:only-of-type {\n",
       "        vertical-align: middle;\n",
       "    }\n",
       "\n",
       "    .dataframe tbody tr th {\n",
       "        vertical-align: top;\n",
       "    }\n",
       "\n",
       "    .dataframe thead th {\n",
       "        text-align: right;\n",
       "    }\n",
       "</style>\n",
       "<table border=\"1\" class=\"dataframe\">\n",
       "  <thead>\n",
       "    <tr style=\"text-align: right;\">\n",
       "      <th></th>\n",
       "      <th>user_id</th>\n",
       "      <th>anime_id</th>\n",
       "      <th>actual</th>\n",
       "      <th>prediction</th>\n",
       "      <th>details</th>\n",
       "      <th>name</th>\n",
       "      <th>genre</th>\n",
       "    </tr>\n",
       "  </thead>\n",
       "  <tbody>\n",
       "    <tr>\n",
       "      <td>0</td>\n",
       "      <td>1497</td>\n",
       "      <td>2034</td>\n",
       "      <td>-1.0</td>\n",
       "      <td>9.474843</td>\n",
       "      <td>{'was_impossible': False}</td>\n",
       "      <td>Lovely★Complex</td>\n",
       "      <td>Comedy, Romance, Shoujo</td>\n",
       "    </tr>\n",
       "    <tr>\n",
       "      <td>1</td>\n",
       "      <td>1497</td>\n",
       "      <td>4181</td>\n",
       "      <td>-1.0</td>\n",
       "      <td>9.438204</td>\n",
       "      <td>{'was_impossible': False}</td>\n",
       "      <td>Clannad: After Story</td>\n",
       "      <td>Drama, Fantasy, Romance, Slice of Life, Supern...</td>\n",
       "    </tr>\n",
       "    <tr>\n",
       "      <td>2</td>\n",
       "      <td>1497</td>\n",
       "      <td>2167</td>\n",
       "      <td>-1.0</td>\n",
       "      <td>9.306982</td>\n",
       "      <td>{'was_impossible': False}</td>\n",
       "      <td>Clannad</td>\n",
       "      <td>Comedy, Drama, Romance, School, Slice of Life,...</td>\n",
       "    </tr>\n",
       "    <tr>\n",
       "      <td>3</td>\n",
       "      <td>1497</td>\n",
       "      <td>5114</td>\n",
       "      <td>-1.0</td>\n",
       "      <td>9.306035</td>\n",
       "      <td>{'was_impossible': False}</td>\n",
       "      <td>Fullmetal Alchemist: Brotherhood</td>\n",
       "      <td>Action, Adventure, Drama, Fantasy, Magic, Mili...</td>\n",
       "    </tr>\n",
       "    <tr>\n",
       "      <td>4</td>\n",
       "      <td>1497</td>\n",
       "      <td>11061</td>\n",
       "      <td>-1.0</td>\n",
       "      <td>9.239254</td>\n",
       "      <td>{'was_impossible': False}</td>\n",
       "      <td>Hunter x Hunter (2011)</td>\n",
       "      <td>Action, Adventure, Shounen, Super Power</td>\n",
       "    </tr>\n",
       "    <tr>\n",
       "      <td>...</td>\n",
       "      <td>...</td>\n",
       "      <td>...</td>\n",
       "      <td>...</td>\n",
       "      <td>...</td>\n",
       "      <td>...</td>\n",
       "      <td>...</td>\n",
       "      <td>...</td>\n",
       "    </tr>\n",
       "    <tr>\n",
       "      <td>829</td>\n",
       "      <td>1497</td>\n",
       "      <td>7017</td>\n",
       "      <td>-1.0</td>\n",
       "      <td>4.804937</td>\n",
       "      <td>{'was_impossible': False}</td>\n",
       "      <td>K-On!: Ura-On!</td>\n",
       "      <td>Comedy</td>\n",
       "    </tr>\n",
       "    <tr>\n",
       "      <td>830</td>\n",
       "      <td>1497</td>\n",
       "      <td>9587</td>\n",
       "      <td>-1.0</td>\n",
       "      <td>4.796448</td>\n",
       "      <td>{'was_impossible': False}</td>\n",
       "      <td>Oniichan no Koto nanka Zenzen Suki ja Nai n da...</td>\n",
       "      <td>Comedy, Ecchi, Harem, Romance</td>\n",
       "    </tr>\n",
       "    <tr>\n",
       "      <td>831</td>\n",
       "      <td>1497</td>\n",
       "      <td>19315</td>\n",
       "      <td>-1.0</td>\n",
       "      <td>4.205938</td>\n",
       "      <td>{'was_impossible': False}</td>\n",
       "      <td>Pupa</td>\n",
       "      <td>Fantasy, Horror, Psychological</td>\n",
       "    </tr>\n",
       "    <tr>\n",
       "      <td>832</td>\n",
       "      <td>1497</td>\n",
       "      <td>15565</td>\n",
       "      <td>-1.0</td>\n",
       "      <td>3.744902</td>\n",
       "      <td>{'was_impossible': False}</td>\n",
       "      <td>Maken-Ki! Two</td>\n",
       "      <td>Action, Ecchi, Harem, Martial Arts, School, Su...</td>\n",
       "    </tr>\n",
       "    <tr>\n",
       "      <td>833</td>\n",
       "      <td>1497</td>\n",
       "      <td>413</td>\n",
       "      <td>-1.0</td>\n",
       "      <td>3.162459</td>\n",
       "      <td>{'was_impossible': False}</td>\n",
       "      <td>Hametsu no Mars</td>\n",
       "      <td>Horror, Sci-Fi</td>\n",
       "    </tr>\n",
       "  </tbody>\n",
       "</table>\n",
       "<p>834 rows × 7 columns</p>\n",
       "</div>"
      ],
      "text/plain": [
       "     user_id  anime_id  actual  prediction                    details  \\\n",
       "0       1497      2034    -1.0    9.474843  {'was_impossible': False}   \n",
       "1       1497      4181    -1.0    9.438204  {'was_impossible': False}   \n",
       "2       1497      2167    -1.0    9.306982  {'was_impossible': False}   \n",
       "3       1497      5114    -1.0    9.306035  {'was_impossible': False}   \n",
       "4       1497     11061    -1.0    9.239254  {'was_impossible': False}   \n",
       "..       ...       ...     ...         ...                        ...   \n",
       "829     1497      7017    -1.0    4.804937  {'was_impossible': False}   \n",
       "830     1497      9587    -1.0    4.796448  {'was_impossible': False}   \n",
       "831     1497     19315    -1.0    4.205938  {'was_impossible': False}   \n",
       "832     1497     15565    -1.0    3.744902  {'was_impossible': False}   \n",
       "833     1497       413    -1.0    3.162459  {'was_impossible': False}   \n",
       "\n",
       "                                                  name  \\\n",
       "0                                       Lovely★Complex   \n",
       "1                                 Clannad: After Story   \n",
       "2                                              Clannad   \n",
       "3                     Fullmetal Alchemist: Brotherhood   \n",
       "4                               Hunter x Hunter (2011)   \n",
       "..                                                 ...   \n",
       "829                                     K-On!: Ura-On!   \n",
       "830  Oniichan no Koto nanka Zenzen Suki ja Nai n da...   \n",
       "831                                               Pupa   \n",
       "832                                      Maken-Ki! Two   \n",
       "833                                    Hametsu no Mars   \n",
       "\n",
       "                                                 genre  \n",
       "0                              Comedy, Romance, Shoujo  \n",
       "1    Drama, Fantasy, Romance, Slice of Life, Supern...  \n",
       "2    Comedy, Drama, Romance, School, Slice of Life,...  \n",
       "3    Action, Adventure, Drama, Fantasy, Magic, Mili...  \n",
       "4              Action, Adventure, Shounen, Super Power  \n",
       "..                                                 ...  \n",
       "829                                             Comedy  \n",
       "830                      Comedy, Ecchi, Harem, Romance  \n",
       "831                     Fantasy, Horror, Psychological  \n",
       "832  Action, Ecchi, Harem, Martial Arts, School, Su...  \n",
       "833                                     Horror, Sci-Fi  \n",
       "\n",
       "[834 rows x 7 columns]"
      ]
     },
     "execution_count": 32,
     "metadata": {},
     "output_type": "execute_result"
    }
   ],
   "source": [
    "# Merge with the anime data\n",
    "merge_df = df_1497.merge(rating_df[[\"anime_id\", \"name\", \"genre\"]].drop_duplicates(), how='left', \n",
    "                    left_on=['anime_id'], right_on=['anime_id'])\n",
    "\n",
    "# Check anime of user 1497\n",
    "merge_df"
   ]
  },
  {
   "cell_type": "markdown",
   "metadata": {},
   "source": [
    "Now we can recommend some animes to user `1497` based on top ratings prediction. The genre of those animes quite similar with their favourite animes."
   ]
  }
 ],
 "metadata": {
  "kernelspec": {
   "display_name": "Python 3",
   "language": "python",
   "name": "python3"
  },
  "language_info": {
   "codemirror_mode": {
    "name": "ipython",
    "version": 3
   },
   "file_extension": ".py",
   "mimetype": "text/x-python",
   "name": "python",
   "nbconvert_exporter": "python",
   "pygments_lexer": "ipython3",
   "version": "3.7.4"
  }
 },
 "nbformat": 4,
 "nbformat_minor": 4
}
