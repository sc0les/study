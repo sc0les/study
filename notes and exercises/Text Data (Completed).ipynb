{
 "cells": [
  {
   "cell_type": "markdown",
   "metadata": {},
   "source": [
    "# Working with Text Data\n"
   ]
  },
  {
   "cell_type": "code",
   "execution_count": 1,
   "metadata": {},
   "outputs": [],
   "source": [
    "import pandas as pd\n",
    "import numpy as np\n",
    "import matplotlib.pyplot as plt\n",
    "\n",
    "from sklearn.linear_model import LogisticRegression\n"
   ]
  },
  {
   "cell_type": "markdown",
   "metadata": {},
   "source": [
    "Text data can be one of the most challenging types of data to work with. People\n",
    "can speak to each other and grab meaning pretty quickly, but the built-in\n",
    "context, grammar, and meaning is incredibly difficult to code.\n",
    "\n",
    "The process of working with text data is called natural language processing\n",
    "(NLP).\n",
    "\n",
    "The techniques used to encode text data into something that a computer can\n",
    "understand can be incredibly complex! We will start with the building blocks\n",
    "today, although there are much more complex neural network methods to encode\n",
    "text, one of the most popular of which is `word2vec`.\n"
   ]
  },
  {
   "cell_type": "markdown",
   "metadata": {},
   "source": [
    "### Text as Data\n",
    "\n",
    "We have already seen at least some text treated as features in our models. When\n",
    "we have simple categorical data, with labels like red, green, or blue, we know\n",
    "that we can simply code them as integers (if they are ordinal) or dummy\n",
    "variables (if they are nominal), depending on our model.\n",
    "\n",
    "This is the essence of what we will do with any text data: find a numeric\n",
    "representation that we can feed into our models.\n",
    "\n",
    "### Common Vocabulary in Text Analysis\n",
    "\n",
    "When working with text data, we'll usually be dealing with many individual text\n",
    "files, each usually considered to be an individual data point (e.g. product\n",
    "reviews, documents, song lyrics, etc.)\n",
    "\n",
    "When working with text data, there is some common language that we'll use.\n",
    "\n",
    "**Corpus**: The entire data set or collection of text files. If working with\n",
    "product reviews, the corpus would be all of the individual reviews.\n",
    "\n",
    "**Document**: One individual text file. If working with product reviews, a\n",
    "document would be one individual review.\n",
    "\n",
    "**Tokens**: In processing the documents, we will break them into sequences of\n",
    "short strings called tokens. These could be the (processed) words/phrases from\n",
    "the original document, maybe pairs of consecutive words or even just parts of\n",
    "words.\n",
    "\n",
    "**Vocabulary**: the collection of all unique words/tokens from the corpus.\n",
    "\n",
    "### The text data workflow\n",
    "\n",
    "The basic steps of working with text data is:\n",
    "\n",
    "- Step 1: Convert text data into numeric data (the step that is unique to NLP)\n",
    "\n",
    "- Step 2: Feed numeric data into required model\n",
    "\n",
    "#### Step 1\n",
    "\n",
    "This is the part that requires a lot of detailed preprocessing. There are many\n",
    "ways to convert text data into numeric data. We usually want to make some kind\n",
    "of matrix that stores information about the frequency of individual words or\n",
    "phrases in the data set. The unique words or phrases are the tokens.\n"
   ]
  },
  {
   "cell_type": "markdown",
   "metadata": {},
   "source": [
    "---\n",
    "#### Exercise 1\n",
    "\n",
    "If we consider tokens to be unique words, what would the tokens be in this corpus? How often does each token occur? Place the counts of each token into a table where the tokens are the columns and each document is a row. \n",
    "\n",
    "Corpus: \n",
    "\n",
    "`BrainStation is awesome!`\n",
    "\n",
    "`We are learning so much at BrainStation.`\n",
    "\n",
    "`The learning is so great...`\n",
    "<br><br>\n",
    "Use the following table to fill in the correct counts:\n",
    "\n",
    "\n",
    "\n",
    "|          | BrainStation | is | awesome | we | are | learning | so | much | at | the  | great |\n",
    "|----------|--------------|----|---------|----|-----|----------|----|------|----|-----|-------|\n",
    "|sentence1 |        1     |  1 |    1    |    |     |          |    |      |    |      |       |\n",
    "|sentence2 |        1     |    |         |  1 | 1   |   1      | 1  |  1   | 1  |        |       |\n",
    "|sentence3 |              | 1  |         |    |     |   1      | 1  |      |    |  1     |   1   |\n",
    "\n",
    "\n",
    "\n",
    "---\n"
   ]
  },
  {
   "cell_type": "markdown",
   "metadata": {},
   "source": [
    "#### Vectorization\n",
    "\n",
    "In the above example, you performed NLP! In particular, you created a\n",
    "**document-term matrix**, that is you encoded text data into a numeric matrix\n",
    "that any computer can understand.\n",
    "\n",
    "This idea of making a document-term matrix, where each row is a document and\n",
    "each column is a unique token, is the basic idea of NLP.\n",
    "\n",
    "The methods for creating these document-term matrices are called **vectorizers**\n",
    "and we'll look at two today:\n",
    "\n",
    "- **Bag of Words**: Storing the counts of each unique word from our corpus for\n",
    "  each document.\n",
    "\n",
    "- **TF-IDF**: Storing a measure of the _relevance_ of every word in each\n",
    "  document by reweighing the counts.\n",
    "\n",
    "#### Text Processing\n",
    "\n",
    "A key part of NLP is simplifying our text data to allow our models to focus on\n",
    "the most _meaningful_ tokens within each document. We will cover a number of\n",
    "steps to clean our text and bring it to the best form for exploration and\n",
    "modeling. The most important steps include:\n",
    "\n",
    "- **Tokenizing**: Something that might have come up in Exercise 1 is the issue\n",
    "  of punctuation. Do we include that in the token or just remove it? This is a\n",
    "  common issue in NLP, along with a few other problems when we talk about\n",
    "  _tokenizing_ text data.\n",
    "\n",
    "- **Stop word removal**: You might have also considered how to deal with common\n",
    "  stop words (and, or, the, etc.). These words are very common in language and\n",
    "  usually link parts of sentences rather than conveying particular meaning or\n",
    "  information.\n",
    "\n",
    "- **Stemming and lemmatization**: Another example is actually modifying the\n",
    "  unique words like shortening words from _working_ to _work_ to try and reduce\n",
    "  the number of columns in the matrix and encode commonality between sentences\n",
    "  like:\n",
    "\n",
    "`I am working.`\n",
    "\n",
    "`I am at work.`\n",
    "\n",
    "The above sentences have very similar meaning, but if we put them into a\n",
    "document-term matrix, the two sentences are going to look different because\n",
    "`working` and `work` are considered different tokens.\n",
    "\n",
    "This are just some steps of the preprocessing we'll need to complete before\n",
    "implementing the vectorization mentioned above.\n",
    "\n",
    "#### Step 2\n",
    "\n",
    "After our data is transformed into a matrix of numerical values, we can easily\n",
    "feed that into any required model. Some common text data problems that require\n",
    "model fitting are document sorting (into categories like financial, medical,\n",
    "etc.) or sentiment analysis, which refers to learning if the text is positive or\n",
    "negative in sentiment.\n",
    "\n",
    "We'll explore NLP (i.e. Step 1) through building a model for sentiment analysis.\n"
   ]
  },
  {
   "cell_type": "markdown",
   "metadata": {},
   "source": [
    "### Sentiment Analysis\n",
    "\n",
    "Sentiment analysis refers to the understanding of the mood of text. For example,\n",
    "if our company is suddenly trending on Twitter, we care a lot about if they are\n",
    "tweeting good things or bad things. Similarly, reviews of restaurants and movies\n",
    "often have a \"sentiment\" or star rating, that we can tie back to the text.\n",
    "\n",
    "Most sentiment analysis models are built on the use of certain keywords - like\n",
    "good, great, bad, terrible - or a model based on known sentiments (e.g. a Yelp\n",
    "review, with a star rating) compared to an unknown text.\n",
    "\n",
    "Let's load some data. The data here is single sentences from reviews of movies\n",
    "on [Rotten Tomatoes](https://www.rottentomatoes.com/). Download it\n",
    "[from here](https://drive.google.com/open?id=1cxSoOz4zdVJoMe8uvUp7K1tJ0C58iXa0).\n"
   ]
  },
  {
   "cell_type": "code",
   "execution_count": 2,
   "metadata": {},
   "outputs": [
    {
     "data": {
      "text/html": [
       "<div>\n",
       "<style scoped>\n",
       "    .dataframe tbody tr th:only-of-type {\n",
       "        vertical-align: middle;\n",
       "    }\n",
       "\n",
       "    .dataframe tbody tr th {\n",
       "        vertical-align: top;\n",
       "    }\n",
       "\n",
       "    .dataframe thead th {\n",
       "        text-align: right;\n",
       "    }\n",
       "</style>\n",
       "<table border=\"1\" class=\"dataframe\">\n",
       "  <thead>\n",
       "    <tr style=\"text-align: right;\">\n",
       "      <th></th>\n",
       "      <th>SentenceId</th>\n",
       "      <th>Phrase</th>\n",
       "      <th>Sentiment</th>\n",
       "    </tr>\n",
       "  </thead>\n",
       "  <tbody>\n",
       "    <tr>\n",
       "      <th>0</th>\n",
       "      <td>1</td>\n",
       "      <td>A series of escapades demonstrating the adage ...</td>\n",
       "      <td>1</td>\n",
       "    </tr>\n",
       "    <tr>\n",
       "      <th>1</th>\n",
       "      <td>2</td>\n",
       "      <td>This quiet , introspective and entertaining in...</td>\n",
       "      <td>4</td>\n",
       "    </tr>\n",
       "    <tr>\n",
       "      <th>2</th>\n",
       "      <td>3</td>\n",
       "      <td>Even fans of Ismail Merchant 's work , I suspe...</td>\n",
       "      <td>1</td>\n",
       "    </tr>\n",
       "    <tr>\n",
       "      <th>3</th>\n",
       "      <td>4</td>\n",
       "      <td>A positively thrilling combination of ethnogra...</td>\n",
       "      <td>3</td>\n",
       "    </tr>\n",
       "    <tr>\n",
       "      <th>4</th>\n",
       "      <td>5</td>\n",
       "      <td>Aggressive self-glorification and a manipulati...</td>\n",
       "      <td>1</td>\n",
       "    </tr>\n",
       "  </tbody>\n",
       "</table>\n",
       "</div>"
      ],
      "text/plain": [
       "   SentenceId                                             Phrase  Sentiment\n",
       "0           1  A series of escapades demonstrating the adage ...          1\n",
       "1           2  This quiet , introspective and entertaining in...          4\n",
       "2           3  Even fans of Ismail Merchant 's work , I suspe...          1\n",
       "3           4  A positively thrilling combination of ethnogra...          3\n",
       "4           5  Aggressive self-glorification and a manipulati...          1"
      ]
     },
     "execution_count": 2,
     "metadata": {},
     "output_type": "execute_result"
    }
   ],
   "source": [
    "data = pd.read_csv(\"../data/rottentomatoes.csv\")\n",
    "data.head()\n"
   ]
  },
  {
   "cell_type": "markdown",
   "metadata": {},
   "source": [
    "The data is a `SentenceId` for each sentence, the review as `Phrase`, and the\n",
    "rating given by the user, `Sentiment`. In this data set, the rating ranges from\n",
    "0 to 4. We can look at samples of the data to see phrases and their associated\n",
    "reviews:\n"
   ]
  },
  {
   "cell_type": "code",
   "execution_count": 3,
   "metadata": {},
   "outputs": [
    {
     "name": "stdout",
     "output_type": "stream",
     "text": [
      "[[\"Take any 12-year-old boy to see this picture , and he 'll be your slave for a year .\"\n",
      "  3]\n",
      " ['That rare movie that works on any number of levels -- as a film of magic and whimsy for children , a heartfelt romance for teenagers and a compelling argument about death , both pro and con , for adults .'\n",
      "  4]\n",
      " ['Showtime is a fine-looking film with a bouncy score and a clutch of lively songs for deft punctuation .'\n",
      "  4]\n",
      " ['Return to Neverland manages to straddle the line between another classic for the company and just another run-of-the-mill Disney sequel intended for the home video market .'\n",
      "  1]]\n"
     ]
    }
   ],
   "source": [
    "print(data[[\"Phrase\", \"Sentiment\"]].sample(4).values)\n"
   ]
  },
  {
   "cell_type": "markdown",
   "metadata": {},
   "source": [
    "Let's look at the distribution of ratings:\n"
   ]
  },
  {
   "cell_type": "code",
   "execution_count": 4,
   "metadata": {},
   "outputs": [
    {
     "data": {
      "image/png": "[encoded data removed]",
      "text/plain": [
       "<Figure size 432x288 with 1 Axes>"
      ]
     },
     "metadata": {
      "needs_background": "light"
     },
     "output_type": "display_data"
    }
   ],
   "source": [
    "values, counts = np.unique(data[\"Sentiment\"], return_counts=True)\n",
    "normalized_counts = counts / counts.sum()\n",
    "\n",
    "plt.figure()\n",
    "plt.bar(values, normalized_counts * 100)\n",
    "plt.xlabel(\"Review rating\")\n",
    "plt.ylabel(\"% of reviews\")\n",
    "plt.title(\"Rating distribution\")\n",
    "plt.show()\n"
   ]
  },
  {
   "cell_type": "markdown",
   "metadata": {},
   "source": [
    "How do we move from our human understanding that these are good or bad reviews,\n",
    "to modeling it?\n"
   ]
  },
  {
   "cell_type": "markdown",
   "metadata": {},
   "source": [
    "### Simplifying the Problem\n",
    "\n",
    "Let's start with a simpler version of this problem to get an idea of how much\n",
    "information our data can give us.\n",
    "\n",
    "We will create a new set of ratings where 0, 1, and 2 will count as 0 (bad), ,\n",
    "and 3 and 4 will count as 1 (good).\n"
   ]
  },
  {
   "cell_type": "code",
   "execution_count": 5,
   "metadata": {},
   "outputs": [
    {
     "data": {
      "text/html": [
       "<div>\n",
       "<style scoped>\n",
       "    .dataframe tbody tr th:only-of-type {\n",
       "        vertical-align: middle;\n",
       "    }\n",
       "\n",
       "    .dataframe tbody tr th {\n",
       "        vertical-align: top;\n",
       "    }\n",
       "\n",
       "    .dataframe thead th {\n",
       "        text-align: right;\n",
       "    }\n",
       "</style>\n",
       "<table border=\"1\" class=\"dataframe\">\n",
       "  <thead>\n",
       "    <tr style=\"text-align: right;\">\n",
       "      <th></th>\n",
       "      <th>SentenceId</th>\n",
       "      <th>Phrase</th>\n",
       "      <th>Sentiment</th>\n",
       "    </tr>\n",
       "  </thead>\n",
       "  <tbody>\n",
       "    <tr>\n",
       "      <th>0</th>\n",
       "      <td>1</td>\n",
       "      <td>A series of escapades demonstrating the adage ...</td>\n",
       "      <td>1</td>\n",
       "    </tr>\n",
       "    <tr>\n",
       "      <th>1</th>\n",
       "      <td>2</td>\n",
       "      <td>This quiet , introspective and entertaining in...</td>\n",
       "      <td>4</td>\n",
       "    </tr>\n",
       "    <tr>\n",
       "      <th>2</th>\n",
       "      <td>3</td>\n",
       "      <td>Even fans of Ismail Merchant 's work , I suspe...</td>\n",
       "      <td>1</td>\n",
       "    </tr>\n",
       "    <tr>\n",
       "      <th>3</th>\n",
       "      <td>4</td>\n",
       "      <td>A positively thrilling combination of ethnogra...</td>\n",
       "      <td>3</td>\n",
       "    </tr>\n",
       "    <tr>\n",
       "      <th>4</th>\n",
       "      <td>5</td>\n",
       "      <td>Aggressive self-glorification and a manipulati...</td>\n",
       "      <td>1</td>\n",
       "    </tr>\n",
       "  </tbody>\n",
       "</table>\n",
       "</div>"
      ],
      "text/plain": [
       "   SentenceId                                             Phrase  Sentiment\n",
       "0           1  A series of escapades demonstrating the adage ...          1\n",
       "1           2  This quiet , introspective and entertaining in...          4\n",
       "2           3  Even fans of Ismail Merchant 's work , I suspe...          1\n",
       "3           4  A positively thrilling combination of ethnogra...          3\n",
       "4           5  Aggressive self-glorification and a manipulati...          1"
      ]
     },
     "execution_count": 5,
     "metadata": {},
     "output_type": "execute_result"
    }
   ],
   "source": [
    "simple_data = data.copy()\n",
    "simple_data.head()\n"
   ]
  },
  {
   "cell_type": "code",
   "execution_count": 6,
   "metadata": {},
   "outputs": [
    {
     "data": {
      "text/html": [
       "<div>\n",
       "<style scoped>\n",
       "    .dataframe tbody tr th:only-of-type {\n",
       "        vertical-align: middle;\n",
       "    }\n",
       "\n",
       "    .dataframe tbody tr th {\n",
       "        vertical-align: top;\n",
       "    }\n",
       "\n",
       "    .dataframe thead th {\n",
       "        text-align: right;\n",
       "    }\n",
       "</style>\n",
       "<table border=\"1\" class=\"dataframe\">\n",
       "  <thead>\n",
       "    <tr style=\"text-align: right;\">\n",
       "      <th></th>\n",
       "      <th>SentenceId</th>\n",
       "      <th>Phrase</th>\n",
       "      <th>Sentiment</th>\n",
       "    </tr>\n",
       "  </thead>\n",
       "  <tbody>\n",
       "    <tr>\n",
       "      <th>0</th>\n",
       "      <td>1</td>\n",
       "      <td>A series of escapades demonstrating the adage ...</td>\n",
       "      <td>0</td>\n",
       "    </tr>\n",
       "    <tr>\n",
       "      <th>1</th>\n",
       "      <td>2</td>\n",
       "      <td>This quiet , introspective and entertaining in...</td>\n",
       "      <td>1</td>\n",
       "    </tr>\n",
       "    <tr>\n",
       "      <th>2</th>\n",
       "      <td>3</td>\n",
       "      <td>Even fans of Ismail Merchant 's work , I suspe...</td>\n",
       "      <td>0</td>\n",
       "    </tr>\n",
       "    <tr>\n",
       "      <th>3</th>\n",
       "      <td>4</td>\n",
       "      <td>A positively thrilling combination of ethnogra...</td>\n",
       "      <td>1</td>\n",
       "    </tr>\n",
       "    <tr>\n",
       "      <th>4</th>\n",
       "      <td>5</td>\n",
       "      <td>Aggressive self-glorification and a manipulati...</td>\n",
       "      <td>0</td>\n",
       "    </tr>\n",
       "  </tbody>\n",
       "</table>\n",
       "</div>"
      ],
      "text/plain": [
       "   SentenceId                                             Phrase  Sentiment\n",
       "0           1  A series of escapades demonstrating the adage ...          0\n",
       "1           2  This quiet , introspective and entertaining in...          1\n",
       "2           3  Even fans of Ismail Merchant 's work , I suspe...          0\n",
       "3           4  A positively thrilling combination of ethnogra...          1\n",
       "4           5  Aggressive self-glorification and a manipulati...          0"
      ]
     },
     "execution_count": 6,
     "metadata": {},
     "output_type": "execute_result"
    }
   ],
   "source": [
    "simple_data[\"Sentiment\"] = np.where(simple_data[\"Sentiment\"] >= 3, 1, 0)\n",
    "simple_data.head()\n"
   ]
  },
  {
   "cell_type": "code",
   "execution_count": 7,
   "metadata": {},
   "outputs": [
    {
     "data": {
      "image/png": "[encoded data removed]",
      "text/plain": [
       "<Figure size 432x288 with 1 Axes>"
      ]
     },
     "metadata": {
      "needs_background": "light"
     },
     "output_type": "display_data"
    },
    {
     "name": "stdout",
     "output_type": "stream",
     "text": [
      "Class imbalance: [0.58 0.42]\n"
     ]
    }
   ],
   "source": [
    "values, counts = np.unique(simple_data[\"Sentiment\"], return_counts=True)\n",
    "normalized_counts = counts / counts.sum()\n",
    "\n",
    "plt.figure()\n",
    "plt.bar([\"0\", \"1\"], normalized_counts * 100)  # plot normalized counts\n",
    "plt.xlabel(\"Review Rating\")\n",
    "plt.ylabel(\"% of Reviews\")\n",
    "plt.show()\n",
    "\n",
    "print(f\"Class imbalance: {np.round(normalized_counts, 2)}\")\n"
   ]
  },
  {
   "cell_type": "code",
   "execution_count": 8,
   "metadata": {},
   "outputs": [],
   "source": [
    "# store simplified data in X and y\n",
    "X = simple_data[\"Phrase\"]\n",
    "y = simple_data[\"Sentiment\"]\n"
   ]
  },
  {
   "cell_type": "markdown",
   "metadata": {},
   "source": [
    "This is quite common if we're about to approach a serious problem (and sentiment\n",
    "analysis is very serious business). We first create a simpler representation and\n",
    "find out if we can even tell apart \"good\" from \"bad.\"\n"
   ]
  },
  {
   "cell_type": "markdown",
   "metadata": {},
   "source": [
    "### The Bag-of-Words model\n",
    "\n",
    "In a [bag-of-words model](https://en.wikipedia.org/wiki/Bag-of-words_model), we\n",
    "take each word that exists in our corpus, count its occurrences in each\n",
    "document, and make this count a feature to form the document-term matrix. So,\n",
    "each document is a row and each unique word in the corpus is a column.\n"
   ]
  },
  {
   "cell_type": "markdown",
   "metadata": {},
   "source": [
    "The first step in any NLP task is to _tokenize_ our data - this is splitting it\n",
    "into individual words, or tokens. A simple way to do this would be to just split\n",
    "each string on the whitespace between the words.\n",
    "\n",
    "Let's start with a very simple corpus.\n"
   ]
  },
  {
   "cell_type": "code",
   "execution_count": 9,
   "metadata": {},
   "outputs": [
    {
     "data": {
      "text/html": [
       "<div>\n",
       "<style scoped>\n",
       "    .dataframe tbody tr th:only-of-type {\n",
       "        vertical-align: middle;\n",
       "    }\n",
       "\n",
       "    .dataframe tbody tr th {\n",
       "        vertical-align: top;\n",
       "    }\n",
       "\n",
       "    .dataframe thead th {\n",
       "        text-align: right;\n",
       "    }\n",
       "</style>\n",
       "<table border=\"1\" class=\"dataframe\">\n",
       "  <thead>\n",
       "    <tr style=\"text-align: right;\">\n",
       "      <th></th>\n",
       "      <th>Review</th>\n",
       "    </tr>\n",
       "  </thead>\n",
       "  <tbody>\n",
       "    <tr>\n",
       "      <th>0</th>\n",
       "      <td>This was absolutely the best movie I have ever...</td>\n",
       "    </tr>\n",
       "    <tr>\n",
       "      <th>1</th>\n",
       "      <td>This was absolutely not the best movie I have ...</td>\n",
       "    </tr>\n",
       "    <tr>\n",
       "      <th>2</th>\n",
       "      <td>This was absolutely the best movie I have ever...</td>\n",
       "    </tr>\n",
       "  </tbody>\n",
       "</table>\n",
       "</div>"
      ],
      "text/plain": [
       "                                              Review\n",
       "0  This was absolutely the best movie I have ever...\n",
       "1  This was absolutely not the best movie I have ...\n",
       "2  This was absolutely the best movie I have ever..."
      ]
     },
     "execution_count": 9,
     "metadata": {},
     "output_type": "execute_result"
    }
   ],
   "source": [
    "review1 = \"This was absolutely the best movie I have ever seen, not sure it can ever be beaten\"\n",
    "review2 = \"This was absolutely not the best movie I have ever seen, sure it can be beaten\"\n",
    "review3 = \"This was absolutely the best movie I have ever seen\"\n",
    "\n",
    "small_reviews = pd.DataFrame({\"Review\": [review1, review2, review3]})\n",
    "small_reviews\n"
   ]
  },
  {
   "cell_type": "code",
   "execution_count": 10,
   "metadata": {},
   "outputs": [
    {
     "data": {
      "text/plain": [
       "0    [This, was, absolutely, the, best, movie, I, h...\n",
       "1    [This, was, absolutely, not, the, best, movie,...\n",
       "2    [This, was, absolutely, the, best, movie, I, h...\n",
       "Name: Review, dtype: object"
      ]
     },
     "execution_count": 10,
     "metadata": {},
     "output_type": "execute_result"
    }
   ],
   "source": [
    "# Tokenizing these reviews\n",
    "\n",
    "small_reviews[\"Review\"].str.split(\" \")\n"
   ]
  },
  {
   "cell_type": "markdown",
   "metadata": {},
   "source": [
    "We now need to take this tokenized corpus and make the document-term matrix\n",
    "using the bag of words model. We can do that using the `CountVectorizer()`\n",
    "function from Sklearn. One useful feature of the `CountVectorizer()` function is\n",
    "that by default it will perform the same form of tokenization for us (i.e it\n",
    "will split the strings on the whitespace). So we can just feed in our reviews\n",
    "column.\n",
    "\n",
    "Let's fit it first and talk about what we are seeing.\n"
   ]
  },
  {
   "cell_type": "code",
   "execution_count": 11,
   "metadata": {},
   "outputs": [],
   "source": [
    "from sklearn.feature_extraction.text import CountVectorizer\n"
   ]
  },
  {
   "cell_type": "code",
   "execution_count": 12,
   "metadata": {},
   "outputs": [
    {
     "data": {
      "text/plain": [
       "<3x15 sparse matrix of type '<class 'numpy.int64'>'\n",
       "\twith 39 stored elements in Compressed Sparse Row format>"
      ]
     },
     "execution_count": 12,
     "metadata": {},
     "output_type": "execute_result"
    }
   ],
   "source": [
    "# 1. Instantiate\n",
    "bagofwords = CountVectorizer()\n",
    "\n",
    "# 2. Fit\n",
    "bagofwords.fit(small_reviews[\"Review\"])\n",
    "\n",
    "# 3. Transform\n",
    "small_transformed = bagofwords.transform(small_reviews[\"Review\"])\n",
    "small_transformed\n"
   ]
  },
  {
   "cell_type": "markdown",
   "metadata": {},
   "source": [
    "We can see that the the output of the `CountVectorizer()` is a sparse matrix.\n",
    "This will always be the case because the matrix that is returned is usually very\n",
    "large and contains lots of 0s.\n"
   ]
  },
  {
   "cell_type": "markdown",
   "metadata": {},
   "source": [
    "So how does this document-term matrix look? We can extract the information out\n",
    "of the sparse matrix with the following functions:\n"
   ]
  },
  {
   "cell_type": "code",
   "execution_count": 13,
   "metadata": {},
   "outputs": [
    {
     "data": {
      "text/plain": [
       "array(['absolutely', 'be', 'beaten', 'best', 'can', 'ever', 'have', 'it',\n",
       "       'movie', 'not', 'seen', 'sure', 'the', 'this', 'was'], dtype=object)"
      ]
     },
     "execution_count": 13,
     "metadata": {},
     "output_type": "execute_result"
    }
   ],
   "source": [
    "# these are now the features, they are the individual tokens\n",
    "bagofwords.get_feature_names_out()\n"
   ]
  },
  {
   "cell_type": "code",
   "execution_count": 14,
   "metadata": {},
   "outputs": [
    {
     "data": {
      "text/plain": [
       "array([[1, 1, 1, 1, 1, 2, 1, 1, 1, 1, 1, 1, 1, 1, 1],\n",
       "       [1, 1, 1, 1, 1, 1, 1, 1, 1, 1, 1, 1, 1, 1, 1],\n",
       "       [1, 0, 0, 1, 0, 1, 1, 0, 1, 0, 1, 0, 1, 1, 1]])"
      ]
     },
     "execution_count": 14,
     "metadata": {},
     "output_type": "execute_result"
    }
   ],
   "source": [
    "# converting the sparse matrix into a numpy array\n",
    "small_transformed.toarray()\n"
   ]
  },
  {
   "cell_type": "code",
   "execution_count": 15,
   "metadata": {},
   "outputs": [
    {
     "name": "stderr",
     "output_type": "stream",
     "text": [
      "/Users/nishant/src/work/brainstation/datascience-bootcamp/.venv/lib/python3.9/site-packages/sklearn/utils/deprecation.py:87: FutureWarning: Function get_feature_names is deprecated; get_feature_names is deprecated in 1.0 and will be removed in 1.2. Please use get_feature_names_out instead.\n",
      "  warnings.warn(msg, category=FutureWarning)\n"
     ]
    },
    {
     "data": {
      "text/html": [
       "<div>\n",
       "<style scoped>\n",
       "    .dataframe tbody tr th:only-of-type {\n",
       "        vertical-align: middle;\n",
       "    }\n",
       "\n",
       "    .dataframe tbody tr th {\n",
       "        vertical-align: top;\n",
       "    }\n",
       "\n",
       "    .dataframe thead th {\n",
       "        text-align: right;\n",
       "    }\n",
       "</style>\n",
       "<table border=\"1\" class=\"dataframe\">\n",
       "  <thead>\n",
       "    <tr style=\"text-align: right;\">\n",
       "      <th></th>\n",
       "      <th>absolutely</th>\n",
       "      <th>be</th>\n",
       "      <th>beaten</th>\n",
       "      <th>best</th>\n",
       "      <th>can</th>\n",
       "      <th>ever</th>\n",
       "      <th>have</th>\n",
       "      <th>it</th>\n",
       "      <th>movie</th>\n",
       "      <th>not</th>\n",
       "      <th>seen</th>\n",
       "      <th>sure</th>\n",
       "      <th>the</th>\n",
       "      <th>this</th>\n",
       "      <th>was</th>\n",
       "    </tr>\n",
       "  </thead>\n",
       "  <tbody>\n",
       "    <tr>\n",
       "      <th>0</th>\n",
       "      <td>1</td>\n",
       "      <td>1</td>\n",
       "      <td>1</td>\n",
       "      <td>1</td>\n",
       "      <td>1</td>\n",
       "      <td>2</td>\n",
       "      <td>1</td>\n",
       "      <td>1</td>\n",
       "      <td>1</td>\n",
       "      <td>1</td>\n",
       "      <td>1</td>\n",
       "      <td>1</td>\n",
       "      <td>1</td>\n",
       "      <td>1</td>\n",
       "      <td>1</td>\n",
       "    </tr>\n",
       "    <tr>\n",
       "      <th>1</th>\n",
       "      <td>1</td>\n",
       "      <td>1</td>\n",
       "      <td>1</td>\n",
       "      <td>1</td>\n",
       "      <td>1</td>\n",
       "      <td>1</td>\n",
       "      <td>1</td>\n",
       "      <td>1</td>\n",
       "      <td>1</td>\n",
       "      <td>1</td>\n",
       "      <td>1</td>\n",
       "      <td>1</td>\n",
       "      <td>1</td>\n",
       "      <td>1</td>\n",
       "      <td>1</td>\n",
       "    </tr>\n",
       "    <tr>\n",
       "      <th>2</th>\n",
       "      <td>1</td>\n",
       "      <td>0</td>\n",
       "      <td>0</td>\n",
       "      <td>1</td>\n",
       "      <td>0</td>\n",
       "      <td>1</td>\n",
       "      <td>1</td>\n",
       "      <td>0</td>\n",
       "      <td>1</td>\n",
       "      <td>0</td>\n",
       "      <td>1</td>\n",
       "      <td>0</td>\n",
       "      <td>1</td>\n",
       "      <td>1</td>\n",
       "      <td>1</td>\n",
       "    </tr>\n",
       "  </tbody>\n",
       "</table>\n",
       "</div>"
      ],
      "text/plain": [
       "   absolutely  be  beaten  best  can  ever  have  it  movie  not  seen  sure  \\\n",
       "0           1   1       1     1    1     2     1   1      1    1     1     1   \n",
       "1           1   1       1     1    1     1     1   1      1    1     1     1   \n",
       "2           1   0       0     1    0     1     1   0      1    0     1     0   \n",
       "\n",
       "   the  this  was  \n",
       "0    1     1    1  \n",
       "1    1     1    1  \n",
       "2    1     1    1  "
      ]
     },
     "metadata": {},
     "output_type": "display_data"
    }
   ],
   "source": [
    "# We can extract the information and put it in a data frame to make it easier to see what has occured\n",
    "my_df = pd.DataFrame(columns=bagofwords.get_feature_names(), data=small_transformed.toarray())\n",
    "display(my_df)\n"
   ]
  },
  {
   "cell_type": "markdown",
   "metadata": {},
   "source": [
    "You can see that the information contained is just the counts of how many times\n",
    "each token occurs in each document (in this case each document refers to a\n",
    "review).\n"
   ]
  },
  {
   "cell_type": "markdown",
   "metadata": {},
   "source": [
    "This is a good start, but we have some problems - think about the sentences:\n",
    "\n",
    "`This was absolutely the best movie I have ever seen, not sure it can ever be beaten.`\n",
    "\n",
    "`This was absolutely not the best movie I have ever seen, sure it can be beaten.`\n",
    "\n",
    "These look identical to a bag of words model - a 'not' can be in any place, and\n",
    "can substantially modify the meaning of a sentence.\n",
    "\n",
    "Or:\n",
    "\n",
    "`This is the best Adam Sandler movie I have ever seen.`\n",
    "\n",
    "Depending on the user, this might be a great compliment, or a sarcastic jab.\n",
    "\n",
    "We will look at ways to deal with these issues. For now let's implement a\n",
    "bag-of-words model to our reviews data.\n"
   ]
  },
  {
   "cell_type": "markdown",
   "metadata": {},
   "source": [
    "### Bag-of-Words on the Reviews Data\n"
   ]
  },
  {
   "cell_type": "code",
   "execution_count": 16,
   "metadata": {},
   "outputs": [],
   "source": [
    "# splitting our data into train and test sets\n",
    "from sklearn.model_selection import train_test_split\n",
    "\n",
    "X_train, X_test, y_train, y_test = train_test_split(X, y, test_size=0.33, random_state=42)\n"
   ]
  },
  {
   "cell_type": "markdown",
   "metadata": {},
   "source": [
    "Remember that the ultimate goal is to perform classification on each document,\n",
    "to say whether there is a positive or negative sentiment in each review. Hence,\n",
    "the actual reviews become our `X` and the 0 or 1 column we made becomes our `y`.\n"
   ]
  },
  {
   "cell_type": "code",
   "execution_count": 17,
   "metadata": {},
   "outputs": [
    {
     "data": {
      "text/plain": [
       "(5714,)"
      ]
     },
     "execution_count": 17,
     "metadata": {},
     "output_type": "execute_result"
    }
   ],
   "source": [
    "# size of training data\n",
    "X_train.shape\n"
   ]
  },
  {
   "cell_type": "markdown",
   "metadata": {},
   "source": [
    "Let's now make a document-term matrix that's based on our training data.\n"
   ]
  },
  {
   "cell_type": "code",
   "execution_count": 18,
   "metadata": {},
   "outputs": [
    {
     "data": {
      "text/plain": [
       "<5714x12530 sparse matrix of type '<class 'numpy.int64'>'\n",
       "\twith 86463 stored elements in Compressed Sparse Row format>"
      ]
     },
     "execution_count": 18,
     "metadata": {},
     "output_type": "execute_result"
    }
   ],
   "source": [
    "# 1. Instantiate\n",
    "bagofwords = CountVectorizer()\n",
    "\n",
    "# 2. Fit\n",
    "bagofwords.fit(X_train)\n",
    "\n",
    "# 3. Transform\n",
    "X_train_transformed = bagofwords.transform(X_train)\n",
    "X_train_transformed\n"
   ]
  },
  {
   "cell_type": "markdown",
   "metadata": {},
   "source": [
    "We can see that the sparse matrix has 5,714 rows and 12,530 columns. This means\n",
    "that there are 12,530 unique terms or tokens.\n",
    "\n",
    "---\n",
    "\n",
    "### (Supplementary) Why Sparse Matrices?\n"
   ]
  },
  {
   "cell_type": "markdown",
   "metadata": {},
   "source": [
    "A `5714x12530` matrix would take ~0.5GB (500MB) to store in a dense matrix as\n",
    "opposed to about 8MB in CSR format:\n"
   ]
  },
  {
   "cell_type": "code",
   "execution_count": 19,
   "metadata": {},
   "outputs": [
    {
     "data": {
      "text/plain": [
       "546.2373352050781"
      ]
     },
     "execution_count": 19,
     "metadata": {},
     "output_type": "execute_result"
    }
   ],
   "source": [
    "# calculation of how many MB a dense matrix would take up\n",
    "# 5714 sentences * 12530 terms * 8 bits in a byte / 1024b per kb / 1024 kb per Mb\n",
    "5714 * 12530 * 8 / 1024 / 1024\n"
   ]
  },
  {
   "cell_type": "code",
   "execution_count": 20,
   "metadata": {},
   "outputs": [
    {
     "data": {
      "text/plain": [
       "8.09033203125"
      ]
     },
     "execution_count": 20,
     "metadata": {},
     "output_type": "execute_result"
    }
   ],
   "source": [
    "# how much memory does our sparse matrix take up?\n",
    "(\n",
    "    X_train_transformed.data.nbytes + X_train_transformed.indptr.nbytes + X_train_transformed.indices.nbytes\n",
    ") * 8 / 1024 / 1024\n"
   ]
  },
  {
   "cell_type": "markdown",
   "metadata": {},
   "source": [
    "The sparse matrix takes up 8MB.\n",
    "\n",
    "---\n"
   ]
  },
  {
   "cell_type": "markdown",
   "metadata": {},
   "source": [
    "**Transforming the test set**\n",
    "\n",
    "We know that when we train a model on some training data and want to test the\n",
    "same model, the testing data has to be in the exact same format as the training\n",
    "data. This means that the train and test data have to contain the same features.\n",
    "**This means that we have to use the bag-of-words vectorizer fitted to our\n",
    "training data to transform our test data as well.**\n"
   ]
  },
  {
   "cell_type": "code",
   "execution_count": 21,
   "metadata": {},
   "outputs": [
    {
     "data": {
      "text/plain": [
       "<2815x12530 sparse matrix of type '<class 'numpy.int64'>'\n",
       "\twith 39166 stored elements in Compressed Sparse Row format>"
      ]
     },
     "execution_count": 21,
     "metadata": {},
     "output_type": "execute_result"
    }
   ],
   "source": [
    "X_test_transformed = bagofwords.transform(X_test)\n",
    "X_test_transformed\n"
   ]
  },
  {
   "cell_type": "markdown",
   "metadata": {},
   "source": [
    "If there are new words in the test set that were not present in the training\n",
    "data, they get ignored.\n"
   ]
  },
  {
   "cell_type": "markdown",
   "metadata": {},
   "source": [
    "**Looking at frequent tokens**\n",
    "\n",
    "Let's take a look at some of our features/words, taking a sample first:\n"
   ]
  },
  {
   "cell_type": "code",
   "execution_count": 22,
   "metadata": {},
   "outputs": [
    {
     "name": "stdout",
     "output_type": "stream",
     "text": [
      "['10', 'bluescreen', 'cowering', 'equal', 'hackneyed', 'landbound', 'nourishing', 'rap', 'six', 'toes']\n"
     ]
    }
   ],
   "source": [
    "words = bagofwords.get_feature_names_out()\n",
    "some_indices = range(1, 12530, round(12530 / 10))  # just pick some indices\n",
    "\n",
    "samples = [words[i] for i in some_indices]\n",
    "print(samples)\n"
   ]
  },
  {
   "cell_type": "markdown",
   "metadata": {},
   "source": [
    "And lets extract the total counts for how many times they occur:\n"
   ]
  },
  {
   "cell_type": "code",
   "execution_count": 23,
   "metadata": {},
   "outputs": [
    {
     "data": {
      "text/html": [
       "<div>\n",
       "<style scoped>\n",
       "    .dataframe tbody tr th:only-of-type {\n",
       "        vertical-align: middle;\n",
       "    }\n",
       "\n",
       "    .dataframe tbody tr th {\n",
       "        vertical-align: top;\n",
       "    }\n",
       "\n",
       "    .dataframe thead th {\n",
       "        text-align: right;\n",
       "    }\n",
       "</style>\n",
       "<table border=\"1\" class=\"dataframe\">\n",
       "  <thead>\n",
       "    <tr style=\"text-align: right;\">\n",
       "      <th></th>\n",
       "      <th>10</th>\n",
       "      <th>bluescreen</th>\n",
       "      <th>cowering</th>\n",
       "      <th>equal</th>\n",
       "      <th>hackneyed</th>\n",
       "      <th>landbound</th>\n",
       "      <th>nourishing</th>\n",
       "      <th>rap</th>\n",
       "      <th>six</th>\n",
       "      <th>toes</th>\n",
       "    </tr>\n",
       "  </thead>\n",
       "  <tbody>\n",
       "    <tr>\n",
       "      <th>total_corpus_count</th>\n",
       "      <td>12</td>\n",
       "      <td>2</td>\n",
       "      <td>1</td>\n",
       "      <td>3</td>\n",
       "      <td>8</td>\n",
       "      <td>1</td>\n",
       "      <td>2</td>\n",
       "      <td>4</td>\n",
       "      <td>3</td>\n",
       "      <td>1</td>\n",
       "    </tr>\n",
       "  </tbody>\n",
       "</table>\n",
       "</div>"
      ],
      "text/plain": [
       "                    10  bluescreen  cowering  equal  hackneyed  landbound  \\\n",
       "total_corpus_count  12           2         1      3          8          1   \n",
       "\n",
       "                    nourishing  rap  six  toes  \n",
       "total_corpus_count           2    4    3     1  "
      ]
     },
     "metadata": {},
     "output_type": "display_data"
    }
   ],
   "source": [
    "counts = np.array(X_train_transformed[:, some_indices].sum(axis=0))\n",
    "\n",
    "display(pd.DataFrame({\"total_corpus_count\": counts[0]}, index=samples).T)\n"
   ]
  },
  {
   "cell_type": "markdown",
   "metadata": {},
   "source": [
    "Cool, we can see that summing up a column of our `X_train` document-term matrix\n",
    "gives how many times a token appeared in our overall corpus.\n",
    "\n",
    "Let's find the most frequently occurring words next.\n"
   ]
  },
  {
   "cell_type": "code",
   "execution_count": 24,
   "metadata": {},
   "outputs": [
    {
     "data": {
      "text/plain": [
       "12530"
      ]
     },
     "execution_count": 24,
     "metadata": {},
     "output_type": "execute_result"
    }
   ],
   "source": [
    "len(bagofwords.get_feature_names_out())\n"
   ]
  },
  {
   "cell_type": "code",
   "execution_count": 25,
   "metadata": {},
   "outputs": [
    {
     "data": {
      "text/plain": [
       "array([ 2, 12,  7, ...,  1,  1,  1])"
      ]
     },
     "execution_count": 25,
     "metadata": {},
     "output_type": "execute_result"
    }
   ],
   "source": [
    "X_train_transformed.toarray().sum(axis=0)\n"
   ]
  },
  {
   "cell_type": "markdown",
   "metadata": {},
   "source": [
    "Now, we are ready to look at the top 20 words and visualize the distribution of\n",
    "counts:\n"
   ]
  },
  {
   "cell_type": "code",
   "execution_count": 26,
   "metadata": {},
   "outputs": [
    {
     "data": {
      "image/png": "[encoded data removed]",
      "text/plain": [
       "<Figure size 1080x360 with 1 Axes>"
      ]
     },
     "metadata": {
      "needs_background": "light"
     },
     "output_type": "display_data"
    }
   ],
   "source": [
    "word_counts = pd.DataFrame(\n",
    "    {\"counts\": X_train_transformed.toarray().sum(axis=0)}, index=bagofwords.get_feature_names_out()\n",
    ").sort_values(\"counts\", ascending=False)\n",
    "\n",
    "word_counts.head(20).plot(kind=\"bar\", figsize=(15, 5), legend=False)\n",
    "plt.title(\"Top 20 most frequently occurring words\")\n",
    "plt.ylabel(\"Count\")\n",
    "plt.xticks(rotation=45)\n",
    "plt.show()\n"
   ]
  },
  {
   "cell_type": "markdown",
   "metadata": {},
   "source": [
    "Unsuprisingly the most common tokens are words like 'the', 'of', and 'and.'\n",
    "These common words are known as **stopwords** and are not really useful in\n",
    "understanding of the text. Fortunately, there is a quick solve for this.\n"
   ]
  },
  {
   "cell_type": "markdown",
   "metadata": {},
   "source": [
    "#### Stopwords\n"
   ]
  },
  {
   "cell_type": "markdown",
   "metadata": {},
   "source": [
    "Our goal is to remove very frequent words that do not have a lot of extra\n",
    "content or enrich our understanding of the text. These could be articles\n",
    "('the'), prepositions ('ago'), pronouns ('her'), conjunctions ('or'), and simple\n",
    "verbs like 'be' and 'have'. These words are categorized as **stop words** and a\n",
    "common text processing step is to remove them completely.\n",
    "\n",
    "We will now use the same `CountVectorizer()` function, but add in an argument\n",
    "which takes away common stop words. You can also provide your own stop word\n",
    "collection as a list.\n"
   ]
  },
  {
   "cell_type": "code",
   "execution_count": 27,
   "metadata": {},
   "outputs": [
    {
     "data": {
      "text/plain": [
       "(5714, 12257)"
      ]
     },
     "execution_count": 27,
     "metadata": {},
     "output_type": "execute_result"
    }
   ],
   "source": [
    "bagofwords = CountVectorizer(stop_words=\"english\")\n",
    "bagofwords.fit(X_train)\n",
    "\n",
    "X_train_transformed = bagofwords.transform(X_train)\n",
    "X_test_transformed = bagofwords.transform(X_test)\n",
    "\n",
    "X_train_transformed.shape\n"
   ]
  },
  {
   "cell_type": "markdown",
   "metadata": {},
   "source": [
    "We have reduces the number of features from 12530 to 12257. What are the most\n",
    "common words now?\n"
   ]
  },
  {
   "cell_type": "code",
   "execution_count": 28,
   "metadata": {},
   "outputs": [
    {
     "data": {
      "image/png": "[encoded data removed]",
      "text/plain": [
       "<Figure size 1080x360 with 1 Axes>"
      ]
     },
     "metadata": {
      "needs_background": "light"
     },
     "output_type": "display_data"
    }
   ],
   "source": [
    "word_counts = pd.DataFrame(\n",
    "    {\"counts\": X_train_transformed.toarray().sum(axis=0)}, index=bagofwords.get_feature_names_out()\n",
    ").sort_values(\"counts\", ascending=False)\n",
    "\n",
    "word_counts.head(20).plot(kind=\"bar\", figsize=(15, 5), legend=False)\n",
    "plt.title(\"Top 20 most frequently occurring words\")\n",
    "plt.ylabel(\"Count\")\n",
    "plt.xticks(rotation=45)\n",
    "plt.show()\n"
   ]
  },
  {
   "cell_type": "markdown",
   "metadata": {},
   "source": [
    "### Fitting a classifier\n"
   ]
  },
  {
   "cell_type": "markdown",
   "metadata": {},
   "source": [
    "Next, let's fit a model - remember we have not done anything super complicated,\n",
    "just counted each word. For now we will use a Logistic Regression model to\n",
    "predict if a review is positive or negative.\n"
   ]
  },
  {
   "cell_type": "code",
   "execution_count": 29,
   "metadata": {},
   "outputs": [
    {
     "name": "stdout",
     "output_type": "stream",
     "text": [
      "Train score: 0.8412670633531677\n",
      "Test score: 0.7072824156305506\n"
     ]
    }
   ],
   "source": [
    "# Fitting a model\n",
    "logreg = LogisticRegression(C=0.1)\n",
    "logreg.fit(X_train_transformed, y_train)\n",
    "\n",
    "# Training and test score\n",
    "print(f\"Train score: {logreg.score(X_train_transformed, y_train)}\")\n",
    "print(f\"Test score: {logreg.score(X_test_transformed, y_test)}\")\n"
   ]
  },
  {
   "cell_type": "markdown",
   "metadata": {},
   "source": [
    "Not bad for a binary classification problem, although we definitely see some\n",
    "overfitting. Keep in mind that by random guessing we would have gotten slightly\n",
    "over 50% correctly (since there are more \"bad\" reviews than \"good\" ones), so we\n",
    "are doing better than just randomly guessing. So our model has learned\n",
    "something!\n"
   ]
  },
  {
   "cell_type": "markdown",
   "metadata": {},
   "source": [
    "Let's look at the coefficients of our model:\n"
   ]
  },
  {
   "cell_type": "code",
   "execution_count": 30,
   "metadata": {},
   "outputs": [
    {
     "data": {
      "image/png": "[encoded data removed]",
      "text/plain": [
       "<Figure size 1080x360 with 1 Axes>"
      ]
     },
     "metadata": {
      "needs_background": "light"
     },
     "output_type": "display_data"
    }
   ],
   "source": [
    "word_counts = pd.DataFrame({\"coefficients\": logreg.coef_[0]}, index=bagofwords.get_feature_names_out()).sort_values(\n",
    "    \"coefficients\", ascending=False\n",
    ")\n",
    "\n",
    "word_counts.head(20).plot(kind=\"bar\", figsize=(15, 5), legend=False)\n",
    "plt.title(\"The 20 highest model coefficients indicating positive sentiment\")\n",
    "plt.ylabel(\"Coefficients\")\n",
    "plt.xticks(rotation=45)\n",
    "plt.show()\n"
   ]
  },
  {
   "cell_type": "code",
   "execution_count": 31,
   "metadata": {},
   "outputs": [
    {
     "data": {
      "image/png": "[encoded data removed]",
      "text/plain": [
       "<Figure size 1080x360 with 1 Axes>"
      ]
     },
     "metadata": {
      "needs_background": "light"
     },
     "output_type": "display_data"
    }
   ],
   "source": [
    "word_counts.sort_values(\"coefficients\", ascending=True).head(20).plot(kind=\"bar\", figsize=(15, 5), legend=False)\n",
    "plt.title(\"The 20 lowest model coefficients indicating negative sentiment\")\n",
    "plt.ylabel(\"Coefficients\")\n",
    "plt.xticks(rotation=45)\n",
    "plt.show()\n"
   ]
  },
  {
   "cell_type": "markdown",
   "metadata": {},
   "source": [
    "---\n",
    "#### Exercise 2\n",
    "\n",
    "Try to fitting KNN, a decision tree and an SVM model. How do they compare  in\n",
    "terms of model performance?\n",
    "---\n"
   ]
  },
  {
   "cell_type": "code",
   "execution_count": null,
   "metadata": {},
   "outputs": [],
   "source": []
  },
  {
   "cell_type": "code",
   "execution_count": null,
   "metadata": {},
   "outputs": [],
   "source": []
  },
  {
   "cell_type": "code",
   "execution_count": null,
   "metadata": {},
   "outputs": [],
   "source": []
  },
  {
   "cell_type": "code",
   "execution_count": null,
   "metadata": {},
   "outputs": [],
   "source": []
  },
  {
   "cell_type": "markdown",
   "metadata": {},
   "source": [
    "#### Solution\n"
   ]
  },
  {
   "cell_type": "code",
   "execution_count": 32,
   "metadata": {},
   "outputs": [],
   "source": [
    "from sklearn.neighbors import KNeighborsClassifier\n",
    "from sklearn.tree import DecisionTreeClassifier\n",
    "from sklearn.svm import SVC, LinearSVC\n"
   ]
  },
  {
   "cell_type": "markdown",
   "metadata": {},
   "source": [
    "We create and fit each model one-by-one:\n"
   ]
  },
  {
   "cell_type": "code",
   "execution_count": 33,
   "metadata": {},
   "outputs": [
    {
     "data": {
      "text/html": [
       "<style>#sk-container-id-1 {color: black;background-color: white;}#sk-container-id-1 pre{padding: 0;}#sk-container-id-1 div.sk-toggleable {background-color: white;}#sk-container-id-1 label.sk-toggleable__label {cursor: pointer;display: block;width: 100%;margin-bottom: 0;padding: 0.3em;box-sizing: border-box;text-align: center;}#sk-container-id-1 label.sk-toggleable__label-arrow:before {content: \"▸\";float: left;margin-right: 0.25em;color: #696969;}#sk-container-id-1 label.sk-toggleable__label-arrow:hover:before {color: black;}#sk-container-id-1 div.sk-estimator:hover label.sk-toggleable__label-arrow:before {color: black;}#sk-container-id-1 div.sk-toggleable__content {max-height: 0;max-width: 0;overflow: hidden;text-align: left;background-color: #f0f8ff;}#sk-container-id-1 div.sk-toggleable__content pre {margin: 0.2em;color: black;border-radius: 0.25em;background-color: #f0f8ff;}#sk-container-id-1 input.sk-toggleable__control:checked~div.sk-toggleable__content {max-height: 200px;max-width: 100%;overflow: auto;}#sk-container-id-1 input.sk-toggleable__control:checked~label.sk-toggleable__label-arrow:before {content: \"▾\";}#sk-container-id-1 div.sk-estimator input.sk-toggleable__control:checked~label.sk-toggleable__label {background-color: #d4ebff;}#sk-container-id-1 div.sk-label input.sk-toggleable__control:checked~label.sk-toggleable__label {background-color: #d4ebff;}#sk-container-id-1 input.sk-hidden--visually {border: 0;clip: rect(1px 1px 1px 1px);clip: rect(1px, 1px, 1px, 1px);height: 1px;margin: -1px;overflow: hidden;padding: 0;position: absolute;width: 1px;}#sk-container-id-1 div.sk-estimator {font-family: monospace;background-color: #f0f8ff;border: 1px dotted black;border-radius: 0.25em;box-sizing: border-box;margin-bottom: 0.5em;}#sk-container-id-1 div.sk-estimator:hover {background-color: #d4ebff;}#sk-container-id-1 div.sk-parallel-item::after {content: \"\";width: 100%;border-bottom: 1px solid gray;flex-grow: 1;}#sk-container-id-1 div.sk-label:hover label.sk-toggleable__label {background-color: #d4ebff;}#sk-container-id-1 div.sk-serial::before {content: \"\";position: absolute;border-left: 1px solid gray;box-sizing: border-box;top: 0;bottom: 0;left: 50%;z-index: 0;}#sk-container-id-1 div.sk-serial {display: flex;flex-direction: column;align-items: center;background-color: white;padding-right: 0.2em;padding-left: 0.2em;position: relative;}#sk-container-id-1 div.sk-item {position: relative;z-index: 1;}#sk-container-id-1 div.sk-parallel {display: flex;align-items: stretch;justify-content: center;background-color: white;position: relative;}#sk-container-id-1 div.sk-item::before, #sk-container-id-1 div.sk-parallel-item::before {content: \"\";position: absolute;border-left: 1px solid gray;box-sizing: border-box;top: 0;bottom: 0;left: 50%;z-index: -1;}#sk-container-id-1 div.sk-parallel-item {display: flex;flex-direction: column;z-index: 1;position: relative;background-color: white;}#sk-container-id-1 div.sk-parallel-item:first-child::after {align-self: flex-end;width: 50%;}#sk-container-id-1 div.sk-parallel-item:last-child::after {align-self: flex-start;width: 50%;}#sk-container-id-1 div.sk-parallel-item:only-child::after {width: 0;}#sk-container-id-1 div.sk-dashed-wrapped {border: 1px dashed gray;margin: 0 0.4em 0.5em 0.4em;box-sizing: border-box;padding-bottom: 0.4em;background-color: white;}#sk-container-id-1 div.sk-label label {font-family: monospace;font-weight: bold;display: inline-block;line-height: 1.2em;}#sk-container-id-1 div.sk-label-container {text-align: center;}#sk-container-id-1 div.sk-container {/* jupyter's `normalize.less` sets `[hidden] { display: none; }` but bootstrap.min.css set `[hidden] { display: none !important; }` so we also need the `!important` here to be able to override the default hidden behavior on the sphinx rendered scikit-learn.org. See: https://github.com/scikit-learn/scikit-learn/issues/21755 */display: inline-block !important;position: relative;}#sk-container-id-1 div.sk-text-repr-fallback {display: none;}</style><div id=\"sk-container-id-1\" class=\"sk-top-container\"><div class=\"sk-text-repr-fallback\"><pre>LinearSVC()</pre><b>In a Jupyter environment, please rerun this cell to show the HTML representation or trust the notebook. <br />On GitHub, the HTML representation is unable to render, please try loading this page with nbviewer.org.</b></div><div class=\"sk-container\" hidden><div class=\"sk-item\"><div class=\"sk-estimator sk-toggleable\"><input class=\"sk-toggleable__control sk-hidden--visually\" id=\"sk-estimator-id-1\" type=\"checkbox\" checked><label for=\"sk-estimator-id-1\" class=\"sk-toggleable__label sk-toggleable__label-arrow\">LinearSVC</label><div class=\"sk-toggleable__content\"><pre>LinearSVC()</pre></div></div></div></div></div>"
      ],
      "text/plain": [
       "LinearSVC()"
      ]
     },
     "execution_count": 33,
     "metadata": {},
     "output_type": "execute_result"
    }
   ],
   "source": [
    "# Instantiate models\n",
    "knn = KNeighborsClassifier()\n",
    "dt = DecisionTreeClassifier(max_depth=10)\n",
    "svc = SVC(kernel=\"rbf\")\n",
    "linear_svc = LinearSVC()\n",
    "\n",
    "# Fit models\n",
    "knn.fit(X_train_transformed, y_train)\n",
    "dt.fit(X_train_transformed, y_train)\n",
    "svc.fit(X_train_transformed, y_train)\n",
    "linear_svc.fit(X_train_transformed, y_train)\n"
   ]
  },
  {
   "cell_type": "markdown",
   "metadata": {},
   "source": [
    "Next, we score the models:\n"
   ]
  },
  {
   "cell_type": "code",
   "execution_count": 34,
   "metadata": {},
   "outputs": [
    {
     "name": "stdout",
     "output_type": "stream",
     "text": [
      "KNN train: 0.708260413020651 KNN test:0.5658969804618117\n",
      "DT train: 0.6331816590829541 DT test:0.5996447602131438\n",
      "SVM RBF train: 0.9511725586279314 SVM RBF Test:0.7108348134991119\n",
      "SVM linear train: 0.9935246762338117 SVM linear test: 0.7161634103019539\n"
     ]
    }
   ],
   "source": [
    "# Score Models\n",
    "print(f\"KNN train: {knn.score(X_train_transformed, y_train)} KNN test:{knn.score(X_test_transformed, y_test)}\")\n",
    "print(f\"DT train: {dt.score(X_train_transformed, y_train)} DT test:{dt.score(X_test_transformed, y_test)}\")\n",
    "print(f\"SVM RBF train: {svc.score(X_train_transformed, y_train)} SVM RBF Test:{svc.score(X_test_transformed, y_test)}\")\n",
    "print(\n",
    "    f\"SVM linear train: {linear_svc.score(X_train_transformed, y_train)} SVM linear test: {linear_svc.score(X_test_transformed, y_test)}\"\n",
    ")\n"
   ]
  },
  {
   "cell_type": "markdown",
   "metadata": {},
   "source": [
    "The highest test scores are achieved by the SVM models around ~71% while the\n",
    "decision tree and KNN lag behind with 60% and 57% test accuracy. We did not tune\n",
    "the regularization parameters and do see some overfitting, especially for the\n",
    "SVM models.\n"
   ]
  },
  {
   "cell_type": "markdown",
   "metadata": {},
   "source": [
    "### Removing Infrequent Words\n",
    "\n",
    "We saw that our document-term matrix had a huge number of columns.\n",
    "`CountVectorizer` allows us to remedy this by removing infrequent words which\n",
    "occur in a small number of documents only. This can be useful for two reasons:\n",
    "\n",
    "1. If someone wrote a certain actor is \"an utter failure\" and their review is\n",
    "   bad, it makes sense. But is that really a trend our models should pay\n",
    "   attention to?\n",
    "2. There may be a large group of words that each appear in only in a few\n",
    "   documents. Ignoring those words reduces our memory and run-time consumption\n",
    "   even more, allowing us to do faster processing on laptops and desktops.\n",
    "\n",
    "In our vectorizer, we can\n",
    "\n",
    "- add a `min_df` parameter to exclude any token that occurs in less than\n",
    "  `min_df` documents,\n",
    "- add a `max_df` parameter to exclude any token that occurs in more than\n",
    "  `max_df` documents, and\n",
    "- add a `max_features` parameter to restrict the vectorization to the\n",
    "  `max_features`-many most frequent tokens (hence explicitly limiting our column\n",
    "  count to `max_features`).\n"
   ]
  },
  {
   "cell_type": "code",
   "execution_count": 35,
   "metadata": {},
   "outputs": [
    {
     "data": {
      "text/plain": [
       "(5714, 2197)"
      ]
     },
     "execution_count": 35,
     "metadata": {},
     "output_type": "execute_result"
    }
   ],
   "source": [
    "bagofwords = CountVectorizer(stop_words=\"english\", min_df=5)\n",
    "bagofwords.fit(X_train)\n",
    "\n",
    "X_train_transformed = bagofwords.transform(X_train)\n",
    "\n",
    "X_train_transformed.shape\n"
   ]
  },
  {
   "cell_type": "markdown",
   "metadata": {},
   "source": [
    "We have dropped the number of words down to 2197! That is a much bigger\n",
    "reduction. You can check that the `max_df` parameter does not make a huge\n",
    "difference here, especially after we removed the stop words already. The\n",
    "`max_features` parameter is still useful though:\n"
   ]
  },
  {
   "cell_type": "code",
   "execution_count": 36,
   "metadata": {},
   "outputs": [
    {
     "data": {
      "text/plain": [
       "(5714, 1000)"
      ]
     },
     "execution_count": 36,
     "metadata": {},
     "output_type": "execute_result"
    }
   ],
   "source": [
    "bagofwords = CountVectorizer(stop_words=\"english\", min_df=5, max_features=1000)\n",
    "bagofwords.fit(X_train)\n",
    "\n",
    "X_train_transformed = bagofwords.transform(X_train)\n",
    "\n",
    "X_train_transformed.shape\n"
   ]
  },
  {
   "cell_type": "markdown",
   "metadata": {},
   "source": [
    "These are huge improvements that could help us build better and faster models,\n",
    "especially when high dimensionality is a problem.\n"
   ]
  },
  {
   "cell_type": "markdown",
   "metadata": {},
   "source": [
    "### Stemming and Lemmatization\n",
    "\n",
    "In language, we often use variations on the same word or meaning: run, runs,\n",
    "running, ran, jogged, jogging, jogs...... These examples are all forms of the\n",
    "word 'run' in different tenses. We need to make the decision on whether the\n",
    "added context provided by the tenses is worth the additional complexity for our\n",
    "model. When working with more simple vectorization techniques and standard\n",
    "models such as logistic regression, the answer is often no.\n",
    "\n",
    "You might have noticed during our vectorizing, we removed the punctuation and\n",
    "capitals by default - this is part of the normalization process build into\n",
    "`CountVectorizer`. There are two ways to find a common root form of words:\n",
    "\n",
    "- **stemming**: stemming is a heuristic (rules-based) way of cutting off 's',\n",
    "  'ing' and other endings to reduce words to a basic root form. There are\n",
    "  various strategies for carrying this out and these are obviously language\n",
    "  specific. Also, note that stemming does not guarantee that you end up with a\n",
    "  meaningful word (laziness -> lazi).\n",
    "\n",
    "- **lemmatization**: is a lexicographic look-up, where each word is mapped to a\n",
    "  fixed, meaningful common root form (laziness -> lazy). While its beneficial to\n",
    "  map back to a meaningful common root form, lemmatization is a lot more\n",
    "  complex. For example, the root form of a word can actually change depending on\n",
    "  whether it is used as a verb or a noun.\n",
    "  - A good example of this is the word _saw_:\n",
    "    - _saw_ (verb) -> _see_\n",
    "    - _saw_ (noun) -> _saw_\n",
    "\n",
    "We will look into stemming with the Porter Stemmer from\n",
    "[nltk](http://www.nltk.org/howto/stem.html), one of the most widely used NLP\n",
    "packages.\n"
   ]
  },
  {
   "cell_type": "code",
   "execution_count": 37,
   "metadata": {},
   "outputs": [
    {
     "data": {
      "text/plain": [
       "['run', 'run', 'run', 'ran', 'jog', 'jog', 'jog']"
      ]
     },
     "execution_count": 37,
     "metadata": {},
     "output_type": "execute_result"
    }
   ],
   "source": [
    "import nltk\n",
    "\n",
    "# Let's test it out\n",
    "stemmer = nltk.stem.PorterStemmer()\n",
    "\n",
    "[stemmer.stem(i) for i in [\"run\", \"runs\", \"running\", \"ran\", \"jogged\", \"jogging\", \"jogs\"]]\n"
   ]
  },
  {
   "cell_type": "markdown",
   "metadata": {},
   "source": [
    "We can see exactly what the `PorterStemmer()` function above. Let's now apply it\n",
    "to our data. `CountVectorizer`, has a tokenizer parameter where we can pass in\n",
    "our own function to tokenize and process the text\n"
   ]
  },
  {
   "cell_type": "code",
   "execution_count": 38,
   "metadata": {},
   "outputs": [
    {
     "name": "stderr",
     "output_type": "stream",
     "text": [
      "/Users/nishant/src/work/brainstation/datascience-bootcamp/.venv/lib/python3.9/site-packages/sklearn/feature_extraction/text.py:524: UserWarning: The parameter 'token_pattern' will not be used since 'tokenizer' is not None'\n",
      "  warnings.warn(\n",
      "/Users/nishant/src/work/brainstation/datascience-bootcamp/.venv/lib/python3.9/site-packages/sklearn/feature_extraction/text.py:404: UserWarning: Your stop_words may be inconsistent with your preprocessing. Tokenizing the stop words generated tokens ['abov', 'afterward', 'alon', 'alreadi', 'alway', 'ani', 'anoth', 'anyon', 'anyth', 'anywher', 'becam', 'becaus', 'becom', 'befor', 'besid', 'cri', 'describ', 'dure', 'els', 'elsewher', 'empti', 'everi', 'everyon', 'everyth', 'everywher', 'fifti', 'formerli', 'forti', 'ha', 'henc', 'hereaft', 'herebi', 'hi', 'howev', 'hundr', 'inde', 'latterli', 'mani', 'meanwhil', 'moreov', 'mostli', 'nobodi', 'noon', 'noth', 'nowher', 'onc', 'onli', 'otherwis', 'ourselv', 'perhap', 'pleas', 'seriou', 'sever', 'sinc', 'sincer', 'sixti', 'someon', 'someth', 'sometim', 'somewher', 'themselv', 'thenc', 'thereaft', 'therebi', 'therefor', 'thi', 'thu', 'togeth', 'twelv', 'twenti', 'veri', 'wa', 'whatev', 'whenc', 'whenev', 'wherea', 'whereaft', 'wherebi', 'wherev', 'whi', 'yourselv'] not in stop_words.\n",
      "  warnings.warn(\n"
     ]
    }
   ],
   "source": [
    "bagofwords = CountVectorizer(\n",
    "    min_df=5, tokenizer=lambda x: [stemmer.stem(i) for i in x.split(\" \")], stop_words=\"english\"\n",
    ")\n",
    "bagofwords.fit(X_train)\n",
    "\n",
    "X_train_transformed = bagofwords.transform(X_train)\n",
    "X_test_transformed = bagofwords.transform(X_test)\n"
   ]
  },
  {
   "cell_type": "markdown",
   "metadata": {},
   "source": [
    "In the above bag-of-words model, we are actually changing the tokenizer itself.\n",
    "Rather than having the tokens be the unique words, we are adding stemming in the\n",
    "process.\n"
   ]
  },
  {
   "cell_type": "code",
   "execution_count": 39,
   "metadata": {},
   "outputs": [
    {
     "name": "stderr",
     "output_type": "stream",
     "text": [
      "/Users/nishant/src/work/brainstation/datascience-bootcamp/.venv/lib/python3.9/site-packages/sklearn/utils/deprecation.py:87: FutureWarning: Function get_feature_names is deprecated; get_feature_names is deprecated in 1.0 and will be removed in 1.2. Please use get_feature_names_out instead.\n",
      "  warnings.warn(msg, category=FutureWarning)\n"
     ]
    },
    {
     "data": {
      "image/png": "[encoded data removed]",
      "text/plain": [
       "<Figure size 1080x360 with 1 Axes>"
      ]
     },
     "metadata": {
      "needs_background": "light"
     },
     "output_type": "display_data"
    }
   ],
   "source": [
    "word_counts = pd.DataFrame(\n",
    "    {\"counts\": X_train_transformed.toarray().sum(axis=0)}, index=bagofwords.get_feature_names()\n",
    ").sort_values(\"counts\", ascending=False)\n",
    "\n",
    "word_counts.head(20).plot(kind=\"bar\", figsize=(15, 5), legend=False)\n",
    "plt.title(\"Top 20 most frequently occurring words\")\n",
    "plt.ylabel(\"Count\")\n",
    "plt.xticks(rotation=45)\n",
    "plt.show()\n"
   ]
  },
  {
   "cell_type": "markdown",
   "metadata": {},
   "source": [
    "Notice this time we got some strange results such as punctuation marks, and some\n",
    "other unclear words. This is because our custom tokenizer lacked many features\n",
    "that the built-in one had, we only split the words into tokens and then stemmed\n",
    "them.\n"
   ]
  },
  {
   "cell_type": "markdown",
   "metadata": {},
   "source": [
    "### Custom Tokenizers\n"
   ]
  },
  {
   "cell_type": "markdown",
   "metadata": {},
   "source": [
    "By default, Sklearn vectorizers will perform basic tokenization for us including\n",
    "removal of punctuation (as best as it can) and lowercasing all text. However we\n",
    "can define our own function to do this and pass this in as an argument to the\n",
    "vectorizer. This allows us to incorporate more advanced techniques such as\n",
    "stemming or lemmatization or other NLP techniques\n",
    "\n",
    "Lets go ahead and define our own function that will deal with punctuation prior\n",
    "to stemming.\n"
   ]
  },
  {
   "cell_type": "code",
   "execution_count": 42,
   "metadata": {},
   "outputs": [
    {
     "name": "stdout",
     "output_type": "stream",
     "text": [
      "!\"#$%&'()*+,-./:;<=>?@[\\]^_`{|}~\n"
     ]
    }
   ],
   "source": [
    "# the python string package has a helpful punctuation list\n",
    "import string\n",
    "\n",
    "print(string.punctuation)\n"
   ]
  },
  {
   "cell_type": "markdown",
   "metadata": {},
   "source": [
    "Next, we upgrade our tokenizer to remove punctuation marks before stemming.\n",
    "Similarly, we could remove numerical values and take any other text cleaning\n",
    "steps such as bringing short-hand words like _be4_ or _4ever_ into their proper\n",
    "form.\n"
   ]
  },
  {
   "cell_type": "code",
   "execution_count": 48,
   "metadata": {},
   "outputs": [
    {
     "name": "stdout",
     "output_type": "stream",
     "text": [
      "['the', 'quick', 'brown', 'fox', 'jump', 'over', 'the', 'lazi', 'dog']\n"
     ]
    }
   ],
   "source": [
    "# a dummy sentence used for checking our process\n",
    "sentence = \"The quick brown fox, jumped over the lazy dog!!\"\n",
    "\n",
    "# after splitting the text based on spaces\n",
    "split_sentence = sentence.split(\" \")\n",
    "\n",
    "# we stem and remove punctuation\n",
    "tokenized_sentence = []\n",
    "for word in split_sentence:\n",
    "    for punctuation_mark in string.punctuation:\n",
    "        word = word.replace(punctuation_mark, \"\")\n",
    "    stemmed_word = stemmer.stem(word)\n",
    "    tokenized_sentence.append(stemmed_word)\n",
    "\n",
    "print(tokenized_sentence)\n"
   ]
  },
  {
   "cell_type": "markdown",
   "metadata": {},
   "source": [
    "Our final tokenizer will also remove stopwords.\n"
   ]
  },
  {
   "cell_type": "code",
   "execution_count": 49,
   "metadata": {},
   "outputs": [
    {
     "name": "stderr",
     "output_type": "stream",
     "text": [
      "[nltk_data] Downloading package stopwords to\n",
      "[nltk_data]     /Users/nishant/nltk_data...\n",
      "[nltk_data]   Package stopwords is already up-to-date!\n"
     ]
    }
   ],
   "source": [
    "# import the nltk stopwords\n",
    "nltk.download(\"stopwords\")\n",
    "from nltk.corpus import stopwords\n",
    "\n",
    "ENGLISH_STOP_WORDS = stopwords.words(\"english\")\n",
    "\n",
    "\n",
    "def my_tokenizer(sentence):\n",
    "    # remove punctuation and set to lower case\n",
    "    for punctuation_mark in string.punctuation:\n",
    "        sentence = sentence.replace(punctuation_mark, \"\").lower()\n",
    "\n",
    "    # split sentence into words\n",
    "    listofwords = sentence.split(\" \")\n",
    "    listofstemmed_words = []\n",
    "\n",
    "    # remove stopwords and any tokens that are just empty strings\n",
    "    for word in listofwords:\n",
    "        if (not word in ENGLISH_STOP_WORDS) and (word != \"\"):\n",
    "            # Stem words\n",
    "            stemmed_word = stemmer.stem(word)\n",
    "            listofstemmed_words.append(stemmed_word)\n",
    "\n",
    "    return listofstemmed_words\n"
   ]
  },
  {
   "cell_type": "code",
   "execution_count": 50,
   "metadata": {},
   "outputs": [
    {
     "data": {
      "text/plain": [
       "['quick', 'brown', 'fox', 'jump', 'lazi', 'dog']"
      ]
     },
     "execution_count": 50,
     "metadata": {},
     "output_type": "execute_result"
    }
   ],
   "source": [
    "# checking tokenizer on simple sentence from above\n",
    "my_tokenizer(sentence)\n"
   ]
  },
  {
   "cell_type": "code",
   "execution_count": 51,
   "metadata": {},
   "outputs": [
    {
     "name": "stderr",
     "output_type": "stream",
     "text": [
      "/Users/nishant/src/work/brainstation/datascience-bootcamp/.venv/lib/python3.9/site-packages/sklearn/feature_extraction/text.py:524: UserWarning: The parameter 'token_pattern' will not be used since 'tokenizer' is not None'\n",
      "  warnings.warn(\n"
     ]
    },
    {
     "data": {
      "text/plain": [
       "(5714, 2125)"
      ]
     },
     "execution_count": 51,
     "metadata": {},
     "output_type": "execute_result"
    }
   ],
   "source": [
    "bagofwords = CountVectorizer(min_df=5, tokenizer=my_tokenizer)\n",
    "bagofwords.fit(X_train)\n",
    "\n",
    "X_train_transformed = bagofwords.transform(X_train)\n",
    "X_test_transformed = bagofwords.transform(X_test)\n",
    "\n",
    "X_train_transformed.shape\n"
   ]
  },
  {
   "cell_type": "markdown",
   "metadata": {},
   "source": [
    "We have 2125 tokens now, but notice that the cell took a few seconds to run. So\n",
    "even a slightly more advanced bag-of-words model is already taking a bit more\n",
    "time to run.\n"
   ]
  },
  {
   "cell_type": "code",
   "execution_count": 53,
   "metadata": {},
   "outputs": [
    {
     "data": {
      "image/png": "[encoded data removed]",
      "text/plain": [
       "<Figure size 1080x360 with 1 Axes>"
      ]
     },
     "metadata": {
      "needs_background": "light"
     },
     "output_type": "display_data"
    }
   ],
   "source": [
    "word_counts = pd.DataFrame(\n",
    "    {\"counts\": X_train_transformed.toarray().sum(axis=0)}, index=bagofwords.get_feature_names_out()\n",
    ").sort_values(\"counts\", ascending=False)\n",
    "\n",
    "word_counts.head(20).plot(kind=\"bar\", figsize=(15, 5), legend=False)\n",
    "plt.title(\"Top 20 most frequently occurring words\")\n",
    "plt.ylabel(\"Count\")\n",
    "plt.xticks(rotation=45)\n",
    "plt.show()\n"
   ]
  },
  {
   "cell_type": "markdown",
   "metadata": {},
   "source": [
    "Our most common words might not make a lot of sense and some are cut off, but at\n",
    "least they are not stop words or punctuation.\n",
    "\n",
    "Let's see how our model will do.\n"
   ]
  },
  {
   "cell_type": "code",
   "execution_count": 54,
   "metadata": {},
   "outputs": [
    {
     "name": "stdout",
     "output_type": "stream",
     "text": [
      "Train score: 0.8036401820091005\n",
      "Test score: 0.7200710479573712\n"
     ]
    }
   ],
   "source": [
    "# Fitting a model\n",
    "logreg = LogisticRegression(C=0.1)\n",
    "logreg.fit(X_train_transformed, y_train)\n",
    "\n",
    "# Training and test score\n",
    "print(f\"Train score: {logreg.score(X_train_transformed, y_train)}\")\n",
    "print(f\"Test score: {logreg.score(X_test_transformed, y_test)}\")\n"
   ]
  },
  {
   "cell_type": "markdown",
   "metadata": {},
   "source": [
    "Not bad! We get clean tokens, much less features than before and the accuracy on\n",
    "the test set has actually improved ~2%.\n"
   ]
  },
  {
   "cell_type": "markdown",
   "metadata": {},
   "source": [
    "### Adding N-grams to the vocabulary\n",
    "\n",
    "As well as single words, we can start to put in multiple combinations of words\n",
    "into the bag. This will explode out feature space but should lead to better\n",
    "fitting models: \"not great\" is a lot more informative than \"not\" and \"great\"\n",
    "separately. Adding n-grams also helps to preserve some of the sequential nature\n",
    "of text data that is mostly lost in the bag-of-words model.\n",
    "\n",
    "Two-grams in the following toy sentence:\n",
    "\n",
    "`the turtle is not fast`\n",
    "\n",
    "would be:\n",
    "\n",
    "`the turtle`\n",
    "\n",
    "`turtle is`\n",
    "\n",
    "`is not`\n",
    "\n",
    "`not fast`\n",
    "\n",
    "These n-grams usually get added as tokens to our document-term matrix. So the\n",
    "tokens for the above sentence (without other processing) would be:\n",
    "\n",
    "`the` `turtle` `is` `not` `fast` `the turtle` `turtle is` `is not` `not fast`.\n"
   ]
  },
  {
   "cell_type": "markdown",
   "metadata": {},
   "source": [
    "To do this in Python, we can pass an argument `ngram_range` into our vectorizer:\n"
   ]
  },
  {
   "cell_type": "code",
   "execution_count": 55,
   "metadata": {},
   "outputs": [
    {
     "name": "stderr",
     "output_type": "stream",
     "text": [
      "/Users/nishant/src/work/brainstation/datascience-bootcamp/.venv/lib/python3.9/site-packages/sklearn/feature_extraction/text.py:524: UserWarning: The parameter 'token_pattern' will not be used since 'tokenizer' is not None'\n",
      "  warnings.warn(\n"
     ]
    },
    {
     "data": {
      "text/plain": [
       "(5714, 2362)"
      ]
     },
     "execution_count": 55,
     "metadata": {},
     "output_type": "execute_result"
    }
   ],
   "source": [
    "bagofwords = CountVectorizer(min_df=5, tokenizer=my_tokenizer, ngram_range=(1, 3))\n",
    "bagofwords.fit(X_train)\n",
    "\n",
    "X_train_transformed = bagofwords.transform(X_train)\n",
    "X_test_transformed = bagofwords.transform(X_test)\n",
    "\n",
    "X_train_transformed.shape\n"
   ]
  },
  {
   "cell_type": "code",
   "execution_count": 56,
   "metadata": {},
   "outputs": [
    {
     "name": "stdout",
     "output_type": "stream",
     "text": [
      "Train score: 0.8053902695134757\n",
      "Test score: 0.7246891651865008\n"
     ]
    }
   ],
   "source": [
    "# Fitting a model\n",
    "logreg = LogisticRegression(C=0.1)\n",
    "logreg.fit(X_train_transformed, y_train)\n",
    "\n",
    "# Training and test score\n",
    "print(f\"Train score: {logreg.score(X_train_transformed, y_train)}\")\n",
    "print(f\"Test score: {logreg.score(X_test_transformed, y_test)}\")"
   ]
  },
  {
   "cell_type": "markdown",
   "metadata": {},
   "source": [
    "We have 2362 tokens now, (it was previously 2125), so we ended up adding some\n",
    "tokens, hopefully they are the 2 or 3 grams.\n",
    "\n",
    "You will try to find all of the n-grams in the exercise below.\n"
   ]
  },
  {
   "cell_type": "markdown",
   "metadata": {},
   "source": [
    "---\n",
    "#### Exercise 3\n",
    "Pull out the most frequent bigrams (2-grams) which were found by the vectorizer. \n",
    "---\n",
    "\n",
    "Hint: they contain a space in the string.\n"
   ]
  },
  {
   "cell_type": "code",
   "execution_count": null,
   "metadata": {},
   "outputs": [],
   "source": []
  },
  {
   "cell_type": "code",
   "execution_count": null,
   "metadata": {},
   "outputs": [],
   "source": []
  },
  {
   "cell_type": "code",
   "execution_count": null,
   "metadata": {},
   "outputs": [],
   "source": []
  },
  {
   "cell_type": "code",
   "execution_count": null,
   "metadata": {},
   "outputs": [],
   "source": []
  },
  {
   "cell_type": "markdown",
   "metadata": {},
   "source": [
    "#### Solution\n"
   ]
  },
  {
   "cell_type": "markdown",
   "metadata": {},
   "source": [
    "We put the features and word counts into a dataframe; the latter is calculated\n",
    "by summing the rows of the bag-of-words array.\n"
   ]
  },
  {
   "cell_type": "code",
   "execution_count": 57,
   "metadata": {},
   "outputs": [
    {
     "name": "stderr",
     "output_type": "stream",
     "text": [
      "/Users/nishant/src/work/brainstation/datascience-bootcamp/.venv/lib/python3.9/site-packages/sklearn/utils/deprecation.py:87: FutureWarning: Function get_feature_names is deprecated; get_feature_names is deprecated in 1.0 and will be removed in 1.2. Please use get_feature_names_out instead.\n",
      "  warnings.warn(msg, category=FutureWarning)\n"
     ]
    },
    {
     "data": {
      "text/html": [
       "<div>\n",
       "<style scoped>\n",
       "    .dataframe tbody tr th:only-of-type {\n",
       "        vertical-align: middle;\n",
       "    }\n",
       "\n",
       "    .dataframe tbody tr th {\n",
       "        vertical-align: top;\n",
       "    }\n",
       "\n",
       "    .dataframe thead th {\n",
       "        text-align: right;\n",
       "    }\n",
       "</style>\n",
       "<table border=\"1\" class=\"dataframe\">\n",
       "  <thead>\n",
       "    <tr style=\"text-align: right;\">\n",
       "      <th></th>\n",
       "      <th>token</th>\n",
       "      <th>counts</th>\n",
       "    </tr>\n",
       "  </thead>\n",
       "  <tbody>\n",
       "    <tr>\n",
       "      <th>0</th>\n",
       "      <td>1</td>\n",
       "      <td>5</td>\n",
       "    </tr>\n",
       "    <tr>\n",
       "      <th>1</th>\n",
       "      <td>10</td>\n",
       "      <td>7</td>\n",
       "    </tr>\n",
       "    <tr>\n",
       "      <th>2</th>\n",
       "      <td>10 minut</td>\n",
       "      <td>5</td>\n",
       "    </tr>\n",
       "    <tr>\n",
       "      <th>3</th>\n",
       "      <td>100</td>\n",
       "      <td>5</td>\n",
       "    </tr>\n",
       "    <tr>\n",
       "      <th>4</th>\n",
       "      <td>1960</td>\n",
       "      <td>5</td>\n",
       "    </tr>\n",
       "  </tbody>\n",
       "</table>\n",
       "</div>"
      ],
      "text/plain": [
       "      token  counts\n",
       "0         1       5\n",
       "1        10       7\n",
       "2  10 minut       5\n",
       "3       100       5\n",
       "4      1960       5"
      ]
     },
     "execution_count": 57,
     "metadata": {},
     "output_type": "execute_result"
    }
   ],
   "source": [
    "words = bagofwords.get_feature_names()\n",
    "word_counts = X_train_transformed.toarray().sum(axis=0)\n",
    "count_df = pd.DataFrame({\"token\": words, \"counts\": word_counts})\n",
    "count_df.head()\n"
   ]
  },
  {
   "cell_type": "markdown",
   "metadata": {},
   "source": [
    "Next, we filter for 2-grams by splitting the token on a whitespace and checking\n",
    "if the length is 2.\n"
   ]
  },
  {
   "cell_type": "code",
   "execution_count": 58,
   "metadata": {},
   "outputs": [
    {
     "data": {
      "text/html": [
       "<div>\n",
       "<style scoped>\n",
       "    .dataframe tbody tr th:only-of-type {\n",
       "        vertical-align: middle;\n",
       "    }\n",
       "\n",
       "    .dataframe tbody tr th {\n",
       "        vertical-align: top;\n",
       "    }\n",
       "\n",
       "    .dataframe thead th {\n",
       "        text-align: right;\n",
       "    }\n",
       "</style>\n",
       "<table border=\"1\" class=\"dataframe\">\n",
       "  <thead>\n",
       "    <tr style=\"text-align: right;\">\n",
       "      <th></th>\n",
       "      <th>token</th>\n",
       "      <th>counts</th>\n",
       "    </tr>\n",
       "  </thead>\n",
       "  <tbody>\n",
       "    <tr>\n",
       "      <th>264</th>\n",
       "      <td>ca nt</td>\n",
       "      <td>59</td>\n",
       "    </tr>\n",
       "    <tr>\n",
       "      <th>757</th>\n",
       "      <td>feel like</td>\n",
       "      <td>49</td>\n",
       "    </tr>\n",
       "    <tr>\n",
       "      <th>1217</th>\n",
       "      <td>lrb rrb</td>\n",
       "      <td>36</td>\n",
       "    </tr>\n",
       "    <tr>\n",
       "      <th>1735</th>\n",
       "      <td>romant comedi</td>\n",
       "      <td>32</td>\n",
       "    </tr>\n",
       "    <tr>\n",
       "      <th>2310</th>\n",
       "      <td>wo nt</td>\n",
       "      <td>32</td>\n",
       "    </tr>\n",
       "    <tr>\n",
       "      <th>1538</th>\n",
       "      <td>play like</td>\n",
       "      <td>24</td>\n",
       "    </tr>\n",
       "    <tr>\n",
       "      <th>2005</th>\n",
       "      <td>subject matter</td>\n",
       "      <td>21</td>\n",
       "    </tr>\n",
       "    <tr>\n",
       "      <th>1746</th>\n",
       "      <td>run time</td>\n",
       "      <td>18</td>\n",
       "    </tr>\n",
       "    <tr>\n",
       "      <th>775</th>\n",
       "      <td>film nt</td>\n",
       "      <td>18</td>\n",
       "    </tr>\n",
       "    <tr>\n",
       "      <th>1212</th>\n",
       "      <td>love stori</td>\n",
       "      <td>18</td>\n",
       "    </tr>\n",
       "    <tr>\n",
       "      <th>1202</th>\n",
       "      <td>look like</td>\n",
       "      <td>17</td>\n",
       "    </tr>\n",
       "    <tr>\n",
       "      <th>1892</th>\n",
       "      <td>soap opera</td>\n",
       "      <td>15</td>\n",
       "    </tr>\n",
       "    <tr>\n",
       "      <th>1385</th>\n",
       "      <td>new york</td>\n",
       "      <td>14</td>\n",
       "    </tr>\n",
       "    <tr>\n",
       "      <th>774</th>\n",
       "      <td>film never</td>\n",
       "      <td>14</td>\n",
       "    </tr>\n",
       "    <tr>\n",
       "      <th>1343</th>\n",
       "      <td>movi nt</td>\n",
       "      <td>13</td>\n",
       "    </tr>\n",
       "    <tr>\n",
       "      <th>1449</th>\n",
       "      <td>one best</td>\n",
       "      <td>13</td>\n",
       "    </tr>\n",
       "    <tr>\n",
       "      <th>1928</th>\n",
       "      <td>special effect</td>\n",
       "      <td>13</td>\n",
       "    </tr>\n",
       "    <tr>\n",
       "      <th>1122</th>\n",
       "      <td>kind movi</td>\n",
       "      <td>13</td>\n",
       "    </tr>\n",
       "    <tr>\n",
       "      <th>1238</th>\n",
       "      <td>make movi</td>\n",
       "      <td>12</td>\n",
       "    </tr>\n",
       "    <tr>\n",
       "      <th>1425</th>\n",
       "      <td>nt quit</td>\n",
       "      <td>12</td>\n",
       "    </tr>\n",
       "  </tbody>\n",
       "</table>\n",
       "</div>"
      ],
      "text/plain": [
       "               token  counts\n",
       "264            ca nt      59\n",
       "757        feel like      49\n",
       "1217         lrb rrb      36\n",
       "1735   romant comedi      32\n",
       "2310           wo nt      32\n",
       "1538       play like      24\n",
       "2005  subject matter      21\n",
       "1746        run time      18\n",
       "775          film nt      18\n",
       "1212      love stori      18\n",
       "1202       look like      17\n",
       "1892      soap opera      15\n",
       "1385        new york      14\n",
       "774       film never      14\n",
       "1343         movi nt      13\n",
       "1449        one best      13\n",
       "1928  special effect      13\n",
       "1122       kind movi      13\n",
       "1238       make movi      12\n",
       "1425         nt quit      12"
      ]
     },
     "execution_count": 58,
     "metadata": {},
     "output_type": "execute_result"
    }
   ],
   "source": [
    "# filter for bigrams\n",
    "\n",
    "count_df[count_df[\"token\"].str.split(\" \").apply(len) == 2].sort_values(\"counts\", ascending=False).head(20)\n"
   ]
  },
  {
   "cell_type": "markdown",
   "metadata": {},
   "source": [
    "Among the top 20 2-grams, we see filler bigrams like `feel like` or `look like`\n",
    "and grammatical turns such as `can't` or `won't`. More informative bigrams could\n",
    "be movie type mentions such as `romant comedi` or `soap opera` or `love stori`.\n",
    "Movie features mentioned include `new york` and `special effect`.\n"
   ]
  },
  {
   "cell_type": "markdown",
   "metadata": {},
   "source": [
    "## TF-IDF Vectorization\n",
    "\n",
    "Using our `CountVectorizer` and `min_df`, we've only enforced that words that\n",
    "appear in less than 5 documents should be discarded, while all other words are\n",
    "kept. In essence we are saying that words that appear less frequently may not be\n",
    "so important.\n",
    "\n",
    "There is, however, also the argument that words that appear infrequently are\n",
    "VERY important. Using either \"good\" or \"bad\" might be very common, but more\n",
    "uncommon words like \"terrific\" or \"atrocious\" should be given more weight.\n",
    "\n",
    "For this purpose we have the TF-IDF Vectorizer, which is composed of multiplying\n",
    "the following:\n",
    "\n",
    "1. **Term Frequency (TF)** - which is the number of times a given word appears\n",
    "   in a document (review), this is the same as the content of our bag-of-words\n",
    "   document-term matrix;\n",
    "2. **Inverse Document Frequency (IDF)** - Inverse of the number of documents\n",
    "   (reviews) a given word appears in.\n",
    "\n",
    "Assuming we have a collection of tokens $[t_1, t_2, t_3, ..., t_n]$, and a\n",
    "collection of documents $D = [d_1, d_2, d_3, ... d_m]$ the overall formula for a\n",
    "TF-IDF score is:\n",
    "\n",
    "$$TF(t_i, d_j) \\times IDF(t_i, D)$$\n",
    "\n",
    "Where:\n",
    "\n",
    "- $TF(t_i, d_j)$ is the term frequency of term $i$ in document $j$.\n",
    "- $IDF(t_i, D)$ is the inverse document frequency of term $i$ in all documents.\n",
    "  In the simplest case it is:\n",
    "\n",
    "$$\\frac{len(D)}{len(\\{\\text{all $d_k$ such that $t_i \\in d_k$} \\})+1}$$\n",
    "\n",
    "In simple words, instead of our document-term matrix containing just the count\n",
    "of each token, it now contains a weight.\n",
    "\n",
    "- Words that are very common across documents are going to have their count be\n",
    "  scaled down\n",
    "- Words that are less common across documents are going to have their count be\n",
    "  scaled up\n",
    "\n",
    "That way, when any model is trying to learn whether a word is predictive of\n",
    "sentiment, it will put more focus on the less common words.\n",
    "\n",
    "In `sklearn`, we can use this vectorizer with the `TfidfVectorizer` function.\n"
   ]
  },
  {
   "cell_type": "code",
   "execution_count": 59,
   "metadata": {},
   "outputs": [],
   "source": [
    "from sklearn.feature_extraction.text import TfidfVectorizer\n"
   ]
  },
  {
   "cell_type": "code",
   "execution_count": 60,
   "metadata": {},
   "outputs": [
    {
     "data": {
      "text/html": [
       "<div>\n",
       "<style scoped>\n",
       "    .dataframe tbody tr th:only-of-type {\n",
       "        vertical-align: middle;\n",
       "    }\n",
       "\n",
       "    .dataframe tbody tr th {\n",
       "        vertical-align: top;\n",
       "    }\n",
       "\n",
       "    .dataframe thead th {\n",
       "        text-align: right;\n",
       "    }\n",
       "</style>\n",
       "<table border=\"1\" class=\"dataframe\">\n",
       "  <thead>\n",
       "    <tr style=\"text-align: right;\">\n",
       "      <th></th>\n",
       "      <th>Review</th>\n",
       "    </tr>\n",
       "  </thead>\n",
       "  <tbody>\n",
       "    <tr>\n",
       "      <th>0</th>\n",
       "      <td>This was absolutely the best movie I have ever...</td>\n",
       "    </tr>\n",
       "    <tr>\n",
       "      <th>1</th>\n",
       "      <td>This was absolutely not the best movie I have ...</td>\n",
       "    </tr>\n",
       "    <tr>\n",
       "      <th>2</th>\n",
       "      <td>This was absolutely the best movie I have ever...</td>\n",
       "    </tr>\n",
       "  </tbody>\n",
       "</table>\n",
       "</div>"
      ],
      "text/plain": [
       "                                              Review\n",
       "0  This was absolutely the best movie I have ever...\n",
       "1  This was absolutely not the best movie I have ...\n",
       "2  This was absolutely the best movie I have ever..."
      ]
     },
     "metadata": {},
     "output_type": "display_data"
    }
   ],
   "source": [
    "# taking a toy data set\n",
    "review1 = \"This was absolutely the best movie I have ever seen, not sure it can ever be beaten\"\n",
    "review2 = \"This was absolutely not the best movie I have ever seen, sure it can be beaten\"\n",
    "review3 = \"This was absolutely the best movie I have ever seen. period!\"\n",
    "\n",
    "small_reviews = pd.DataFrame({\"Review\": [review1, review2, review3]})\n",
    "display(small_reviews)\n"
   ]
  },
  {
   "cell_type": "code",
   "execution_count": 61,
   "metadata": {},
   "outputs": [
    {
     "name": "stderr",
     "output_type": "stream",
     "text": [
      "/Users/nishant/src/work/brainstation/datascience-bootcamp/.venv/lib/python3.9/site-packages/sklearn/utils/deprecation.py:87: FutureWarning: Function get_feature_names is deprecated; get_feature_names is deprecated in 1.0 and will be removed in 1.2. Please use get_feature_names_out instead.\n",
      "  warnings.warn(msg, category=FutureWarning)\n"
     ]
    },
    {
     "data": {
      "text/html": [
       "<div>\n",
       "<style scoped>\n",
       "    .dataframe tbody tr th:only-of-type {\n",
       "        vertical-align: middle;\n",
       "    }\n",
       "\n",
       "    .dataframe tbody tr th {\n",
       "        vertical-align: top;\n",
       "    }\n",
       "\n",
       "    .dataframe thead th {\n",
       "        text-align: right;\n",
       "    }\n",
       "</style>\n",
       "<table border=\"1\" class=\"dataframe\">\n",
       "  <thead>\n",
       "    <tr style=\"text-align: right;\">\n",
       "      <th></th>\n",
       "      <th>absolutely</th>\n",
       "      <th>be</th>\n",
       "      <th>beaten</th>\n",
       "      <th>best</th>\n",
       "      <th>can</th>\n",
       "      <th>ever</th>\n",
       "      <th>have</th>\n",
       "      <th>it</th>\n",
       "      <th>movie</th>\n",
       "      <th>not</th>\n",
       "      <th>period</th>\n",
       "      <th>seen</th>\n",
       "      <th>sure</th>\n",
       "      <th>the</th>\n",
       "      <th>this</th>\n",
       "      <th>was</th>\n",
       "    </tr>\n",
       "  </thead>\n",
       "  <tbody>\n",
       "    <tr>\n",
       "      <th>0</th>\n",
       "      <td>1</td>\n",
       "      <td>1</td>\n",
       "      <td>1</td>\n",
       "      <td>1</td>\n",
       "      <td>1</td>\n",
       "      <td>2</td>\n",
       "      <td>1</td>\n",
       "      <td>1</td>\n",
       "      <td>1</td>\n",
       "      <td>1</td>\n",
       "      <td>0</td>\n",
       "      <td>1</td>\n",
       "      <td>1</td>\n",
       "      <td>1</td>\n",
       "      <td>1</td>\n",
       "      <td>1</td>\n",
       "    </tr>\n",
       "    <tr>\n",
       "      <th>1</th>\n",
       "      <td>1</td>\n",
       "      <td>1</td>\n",
       "      <td>1</td>\n",
       "      <td>1</td>\n",
       "      <td>1</td>\n",
       "      <td>1</td>\n",
       "      <td>1</td>\n",
       "      <td>1</td>\n",
       "      <td>1</td>\n",
       "      <td>1</td>\n",
       "      <td>0</td>\n",
       "      <td>1</td>\n",
       "      <td>1</td>\n",
       "      <td>1</td>\n",
       "      <td>1</td>\n",
       "      <td>1</td>\n",
       "    </tr>\n",
       "    <tr>\n",
       "      <th>2</th>\n",
       "      <td>1</td>\n",
       "      <td>0</td>\n",
       "      <td>0</td>\n",
       "      <td>1</td>\n",
       "      <td>0</td>\n",
       "      <td>1</td>\n",
       "      <td>1</td>\n",
       "      <td>0</td>\n",
       "      <td>1</td>\n",
       "      <td>0</td>\n",
       "      <td>1</td>\n",
       "      <td>1</td>\n",
       "      <td>0</td>\n",
       "      <td>1</td>\n",
       "      <td>1</td>\n",
       "      <td>1</td>\n",
       "    </tr>\n",
       "  </tbody>\n",
       "</table>\n",
       "</div>"
      ],
      "text/plain": [
       "   absolutely  be  beaten  best  can  ever  have  it  movie  not  period  \\\n",
       "0           1   1       1     1    1     2     1   1      1    1       0   \n",
       "1           1   1       1     1    1     1     1   1      1    1       0   \n",
       "2           1   0       0     1    0     1     1   0      1    0       1   \n",
       "\n",
       "   seen  sure  the  this  was  \n",
       "0     1     1    1     1    1  \n",
       "1     1     1    1     1    1  \n",
       "2     1     0    1     1    1  "
      ]
     },
     "metadata": {},
     "output_type": "display_data"
    }
   ],
   "source": [
    "bagofwords = CountVectorizer().fit(small_reviews[\"Review\"])\n",
    "small_transformed = bagofwords.transform(small_reviews[\"Review\"])\n",
    "\n",
    "my_df = pd.DataFrame(columns=bagofwords.get_feature_names(), data=small_transformed.toarray())\n",
    "display(my_df)\n"
   ]
  },
  {
   "cell_type": "code",
   "execution_count": 63,
   "metadata": {},
   "outputs": [
    {
     "name": "stderr",
     "output_type": "stream",
     "text": [
      "/Users/nishant/src/work/brainstation/datascience-bootcamp/.venv/lib/python3.9/site-packages/sklearn/utils/deprecation.py:87: FutureWarning: Function get_feature_names is deprecated; get_feature_names is deprecated in 1.0 and will be removed in 1.2. Please use get_feature_names_out instead.\n",
      "  warnings.warn(msg, category=FutureWarning)\n"
     ]
    },
    {
     "data": {
      "text/html": [
       "<div>\n",
       "<style scoped>\n",
       "    .dataframe tbody tr th:only-of-type {\n",
       "        vertical-align: middle;\n",
       "    }\n",
       "\n",
       "    .dataframe tbody tr th {\n",
       "        vertical-align: top;\n",
       "    }\n",
       "\n",
       "    .dataframe thead th {\n",
       "        text-align: right;\n",
       "    }\n",
       "</style>\n",
       "<table border=\"1\" class=\"dataframe\">\n",
       "  <thead>\n",
       "    <tr style=\"text-align: right;\">\n",
       "      <th></th>\n",
       "      <th>absolutely</th>\n",
       "      <th>be</th>\n",
       "      <th>beaten</th>\n",
       "      <th>best</th>\n",
       "      <th>can</th>\n",
       "      <th>ever</th>\n",
       "      <th>have</th>\n",
       "      <th>it</th>\n",
       "      <th>movie</th>\n",
       "      <th>not</th>\n",
       "      <th>period</th>\n",
       "      <th>seen</th>\n",
       "      <th>sure</th>\n",
       "      <th>the</th>\n",
       "      <th>this</th>\n",
       "      <th>was</th>\n",
       "    </tr>\n",
       "  </thead>\n",
       "  <tbody>\n",
       "    <tr>\n",
       "      <th>0</th>\n",
       "      <td>0.213449</td>\n",
       "      <td>0.274855</td>\n",
       "      <td>0.274855</td>\n",
       "      <td>0.213449</td>\n",
       "      <td>0.274855</td>\n",
       "      <td>0.426899</td>\n",
       "      <td>0.213449</td>\n",
       "      <td>0.274855</td>\n",
       "      <td>0.213449</td>\n",
       "      <td>0.274855</td>\n",
       "      <td>0.000000</td>\n",
       "      <td>0.213449</td>\n",
       "      <td>0.274855</td>\n",
       "      <td>0.213449</td>\n",
       "      <td>0.213449</td>\n",
       "      <td>0.213449</td>\n",
       "    </tr>\n",
       "    <tr>\n",
       "      <th>1</th>\n",
       "      <td>0.229726</td>\n",
       "      <td>0.295814</td>\n",
       "      <td>0.295814</td>\n",
       "      <td>0.229726</td>\n",
       "      <td>0.295814</td>\n",
       "      <td>0.229726</td>\n",
       "      <td>0.229726</td>\n",
       "      <td>0.295814</td>\n",
       "      <td>0.229726</td>\n",
       "      <td>0.295814</td>\n",
       "      <td>0.000000</td>\n",
       "      <td>0.229726</td>\n",
       "      <td>0.295814</td>\n",
       "      <td>0.229726</td>\n",
       "      <td>0.229726</td>\n",
       "      <td>0.229726</td>\n",
       "    </tr>\n",
       "    <tr>\n",
       "      <th>2</th>\n",
       "      <td>0.290291</td>\n",
       "      <td>0.000000</td>\n",
       "      <td>0.000000</td>\n",
       "      <td>0.290291</td>\n",
       "      <td>0.000000</td>\n",
       "      <td>0.290291</td>\n",
       "      <td>0.290291</td>\n",
       "      <td>0.000000</td>\n",
       "      <td>0.290291</td>\n",
       "      <td>0.000000</td>\n",
       "      <td>0.491506</td>\n",
       "      <td>0.290291</td>\n",
       "      <td>0.000000</td>\n",
       "      <td>0.290291</td>\n",
       "      <td>0.290291</td>\n",
       "      <td>0.290291</td>\n",
       "    </tr>\n",
       "  </tbody>\n",
       "</table>\n",
       "</div>"
      ],
      "text/plain": [
       "   absolutely        be    beaten      best       can      ever      have  \\\n",
       "0    0.213449  0.274855  0.274855  0.213449  0.274855  0.426899  0.213449   \n",
       "1    0.229726  0.295814  0.295814  0.229726  0.295814  0.229726  0.229726   \n",
       "2    0.290291  0.000000  0.000000  0.290291  0.000000  0.290291  0.290291   \n",
       "\n",
       "         it     movie       not    period      seen      sure       the  \\\n",
       "0  0.274855  0.213449  0.274855  0.000000  0.213449  0.274855  0.213449   \n",
       "1  0.295814  0.229726  0.295814  0.000000  0.229726  0.295814  0.229726   \n",
       "2  0.000000  0.290291  0.000000  0.491506  0.290291  0.000000  0.290291   \n",
       "\n",
       "       this       was  \n",
       "0  0.213449  0.213449  \n",
       "1  0.229726  0.229726  \n",
       "2  0.290291  0.290291  "
      ]
     },
     "metadata": {},
     "output_type": "display_data"
    }
   ],
   "source": [
    "tfidf = TfidfVectorizer().fit(small_reviews[\"Review\"])\n",
    "small_transformed = tfidf.transform(small_reviews[\"Review\"])\n",
    "\n",
    "my_df = pd.DataFrame(columns=tfidf.get_feature_names(), data=small_transformed.toarray())\n",
    "display(my_df)\n"
   ]
  },
  {
   "cell_type": "markdown",
   "metadata": {},
   "source": [
    "The `sklearn` implementation uses a more complex IDF count, so we will not get\n",
    "into the math of these numbers, but it is very customizable so feel free to look\n",
    "at the documentation.\n"
   ]
  },
  {
   "cell_type": "markdown",
   "metadata": {},
   "source": [
    "Notice that while for the `CountVectorizer` the word \"absolutely\" got a value of\n",
    "1 for all three documents, the `TfidfVectorizer` gave it a higher value for a\n",
    "short review (it makes up a bigger part of that sentence).\n",
    "\n",
    "Also notice that while for the `CountVectorizer`, the value for the word\n",
    "\"period\" is 1, the same value as for the words \"movie\", \"beaten\", and \"have\",\n",
    "the `TfidfVectorizer` gave it the highest value since it only appears in one\n",
    "document.\n"
   ]
  },
  {
   "cell_type": "markdown",
   "metadata": {},
   "source": [
    "Now, looking at our reviews data:\n"
   ]
  },
  {
   "cell_type": "code",
   "execution_count": 64,
   "metadata": {},
   "outputs": [
    {
     "name": "stderr",
     "output_type": "stream",
     "text": [
      "/Users/nishant/src/work/brainstation/datascience-bootcamp/.venv/lib/python3.9/site-packages/sklearn/feature_extraction/text.py:524: UserWarning: The parameter 'token_pattern' will not be used since 'tokenizer' is not None'\n",
      "  warnings.warn(\n"
     ]
    },
    {
     "data": {
      "text/plain": [
       "(5714, 2125)"
      ]
     },
     "execution_count": 64,
     "metadata": {},
     "output_type": "execute_result"
    }
   ],
   "source": [
    "# using our custom tokenizer in TfidfVectorizer\n",
    "tfidf = TfidfVectorizer(min_df=5, tokenizer=my_tokenizer)\n",
    "tfidf.fit(X_train)\n",
    "\n",
    "X_train_transformed = tfidf.transform(X_train)\n",
    "X_test_transformed = tfidf.transform(X_test)\n",
    "\n",
    "X_train_transformed.shape\n"
   ]
  },
  {
   "cell_type": "markdown",
   "metadata": {},
   "source": [
    "We can also visualize the words with largest overall weight over the corpus:\n"
   ]
  },
  {
   "cell_type": "code",
   "execution_count": 65,
   "metadata": {},
   "outputs": [
    {
     "data": {
      "image/png": "[encoded data removed]",
      "text/plain": [
       "<Figure size 1080x360 with 1 Axes>"
      ]
     },
     "metadata": {
      "needs_background": "light"
     },
     "output_type": "display_data"
    }
   ],
   "source": [
    "word_counts = pd.DataFrame(\n",
    "    {\"counts\": X_train_transformed.toarray().sum(axis=0)}, index=tfidf.get_feature_names_out()\n",
    ").sort_values(\"counts\", ascending=False)\n",
    "\n",
    "word_counts.head(20).plot(kind=\"bar\", figsize=(15, 5), legend=False)\n",
    "plt.title(\"Top 20 highest weighted words by TF-IDF\")\n",
    "plt.ylabel(\"Total TF-IDF weight\")\n",
    "plt.xticks(rotation=45)\n",
    "plt.show()\n"
   ]
  },
  {
   "cell_type": "markdown",
   "metadata": {},
   "source": [
    "There is some difference in which tokens become more important compared to the\n",
    "`CountVectorizer`. You can rerun the model with this representation but note\n",
    "that you will need to tune the hyperparameters for good performance because we\n",
    "completely changed our data.\n"
   ]
  },
  {
   "cell_type": "markdown",
   "metadata": {},
   "source": [
    "### (Supplementary) Text Similarity\n"
   ]
  },
  {
   "cell_type": "markdown",
   "metadata": {},
   "source": [
    "We used nearest neighbour models for classification and regression. Once we\n",
    "represented our text data as numeric vectors, we can use the same models to find\n",
    "similar documents. Let's see how this would work with TF-IDF and our reviews\n",
    "data.\n",
    "\n",
    "We start by fitting a `NearestNeighbors` model that is used solely for finding\n",
    "nearest neighbors by a specific metric (and not for predicting any class label\n",
    "or target value).\n"
   ]
  },
  {
   "cell_type": "code",
   "execution_count": 66,
   "metadata": {},
   "outputs": [
    {
     "data": {
      "text/html": [
       "<style>#sk-container-id-2 {color: black;background-color: white;}#sk-container-id-2 pre{padding: 0;}#sk-container-id-2 div.sk-toggleable {background-color: white;}#sk-container-id-2 label.sk-toggleable__label {cursor: pointer;display: block;width: 100%;margin-bottom: 0;padding: 0.3em;box-sizing: border-box;text-align: center;}#sk-container-id-2 label.sk-toggleable__label-arrow:before {content: \"▸\";float: left;margin-right: 0.25em;color: #696969;}#sk-container-id-2 label.sk-toggleable__label-arrow:hover:before {color: black;}#sk-container-id-2 div.sk-estimator:hover label.sk-toggleable__label-arrow:before {color: black;}#sk-container-id-2 div.sk-toggleable__content {max-height: 0;max-width: 0;overflow: hidden;text-align: left;background-color: #f0f8ff;}#sk-container-id-2 div.sk-toggleable__content pre {margin: 0.2em;color: black;border-radius: 0.25em;background-color: #f0f8ff;}#sk-container-id-2 input.sk-toggleable__control:checked~div.sk-toggleable__content {max-height: 200px;max-width: 100%;overflow: auto;}#sk-container-id-2 input.sk-toggleable__control:checked~label.sk-toggleable__label-arrow:before {content: \"▾\";}#sk-container-id-2 div.sk-estimator input.sk-toggleable__control:checked~label.sk-toggleable__label {background-color: #d4ebff;}#sk-container-id-2 div.sk-label input.sk-toggleable__control:checked~label.sk-toggleable__label {background-color: #d4ebff;}#sk-container-id-2 input.sk-hidden--visually {border: 0;clip: rect(1px 1px 1px 1px);clip: rect(1px, 1px, 1px, 1px);height: 1px;margin: -1px;overflow: hidden;padding: 0;position: absolute;width: 1px;}#sk-container-id-2 div.sk-estimator {font-family: monospace;background-color: #f0f8ff;border: 1px dotted black;border-radius: 0.25em;box-sizing: border-box;margin-bottom: 0.5em;}#sk-container-id-2 div.sk-estimator:hover {background-color: #d4ebff;}#sk-container-id-2 div.sk-parallel-item::after {content: \"\";width: 100%;border-bottom: 1px solid gray;flex-grow: 1;}#sk-container-id-2 div.sk-label:hover label.sk-toggleable__label {background-color: #d4ebff;}#sk-container-id-2 div.sk-serial::before {content: \"\";position: absolute;border-left: 1px solid gray;box-sizing: border-box;top: 0;bottom: 0;left: 50%;z-index: 0;}#sk-container-id-2 div.sk-serial {display: flex;flex-direction: column;align-items: center;background-color: white;padding-right: 0.2em;padding-left: 0.2em;position: relative;}#sk-container-id-2 div.sk-item {position: relative;z-index: 1;}#sk-container-id-2 div.sk-parallel {display: flex;align-items: stretch;justify-content: center;background-color: white;position: relative;}#sk-container-id-2 div.sk-item::before, #sk-container-id-2 div.sk-parallel-item::before {content: \"\";position: absolute;border-left: 1px solid gray;box-sizing: border-box;top: 0;bottom: 0;left: 50%;z-index: -1;}#sk-container-id-2 div.sk-parallel-item {display: flex;flex-direction: column;z-index: 1;position: relative;background-color: white;}#sk-container-id-2 div.sk-parallel-item:first-child::after {align-self: flex-end;width: 50%;}#sk-container-id-2 div.sk-parallel-item:last-child::after {align-self: flex-start;width: 50%;}#sk-container-id-2 div.sk-parallel-item:only-child::after {width: 0;}#sk-container-id-2 div.sk-dashed-wrapped {border: 1px dashed gray;margin: 0 0.4em 0.5em 0.4em;box-sizing: border-box;padding-bottom: 0.4em;background-color: white;}#sk-container-id-2 div.sk-label label {font-family: monospace;font-weight: bold;display: inline-block;line-height: 1.2em;}#sk-container-id-2 div.sk-label-container {text-align: center;}#sk-container-id-2 div.sk-container {/* jupyter's `normalize.less` sets `[hidden] { display: none; }` but bootstrap.min.css set `[hidden] { display: none !important; }` so we also need the `!important` here to be able to override the default hidden behavior on the sphinx rendered scikit-learn.org. See: https://github.com/scikit-learn/scikit-learn/issues/21755 */display: inline-block !important;position: relative;}#sk-container-id-2 div.sk-text-repr-fallback {display: none;}</style><div id=\"sk-container-id-2\" class=\"sk-top-container\"><div class=\"sk-text-repr-fallback\"><pre>NearestNeighbors(metric=&#x27;cosine&#x27;, n_neighbors=1)</pre><b>In a Jupyter environment, please rerun this cell to show the HTML representation or trust the notebook. <br />On GitHub, the HTML representation is unable to render, please try loading this page with nbviewer.org.</b></div><div class=\"sk-container\" hidden><div class=\"sk-item\"><div class=\"sk-estimator sk-toggleable\"><input class=\"sk-toggleable__control sk-hidden--visually\" id=\"sk-estimator-id-2\" type=\"checkbox\" checked><label for=\"sk-estimator-id-2\" class=\"sk-toggleable__label sk-toggleable__label-arrow\">NearestNeighbors</label><div class=\"sk-toggleable__content\"><pre>NearestNeighbors(metric=&#x27;cosine&#x27;, n_neighbors=1)</pre></div></div></div></div></div>"
      ],
      "text/plain": [
       "NearestNeighbors(metric='cosine', n_neighbors=1)"
      ]
     },
     "execution_count": 66,
     "metadata": {},
     "output_type": "execute_result"
    }
   ],
   "source": [
    "from sklearn.neighbors import NearestNeighbors\n",
    "\n",
    "nn_model = NearestNeighbors(n_neighbors=1, metric=\"cosine\")\n",
    "nn_model.fit(X_train_transformed)\n"
   ]
  },
  {
   "cell_type": "markdown",
   "metadata": {},
   "source": [
    "We then select a document from the test set, query its tf-idf vector with our\n",
    "`nn_model` and look up the closest training document.\n"
   ]
  },
  {
   "cell_type": "code",
   "execution_count": 67,
   "metadata": {},
   "outputs": [
    {
     "name": "stdout",
     "output_type": "stream",
     "text": [
      "Selected test document:\n",
      " Initially gripping , eventually cloying POW drama .\n",
      "\n",
      "Closest training neighbour:\n",
      " A gripping drama .\n"
     ]
    }
   ],
   "source": [
    "idx = 6\n",
    "print(f\"Selected test document:\\n {X_test.iloc[idx]}\")\n",
    "\n",
    "# use the nearest neighbour model to find the closest document by the tf-idf representation\n",
    "dist, neighbour_ind = nn_model.kneighbors(X_test_transformed[idx])\n",
    "\n",
    "print(f\"\\nClosest training neighbour:\\n {X_train.iloc[neighbour_ind[0]].values[0]}\")\n"
   ]
  },
  {
   "cell_type": "markdown",
   "metadata": {},
   "source": [
    "Quite close! Feel free to look up other documents and see how close the actual\n",
    "texts feel.\n"
   ]
  },
  {
   "cell_type": "markdown",
   "metadata": {},
   "source": [
    "### (Supplementary) Topic modeling\n",
    "\n",
    "**Topic modeling or topic clustering** is another example applied to text -\n",
    "think of how Google News clusters articles into sport, business, international,\n",
    "politics, etc. A common method is to use **Latent Dirchlet Allocation** (LDA,\n",
    "not to be confused with Linear Discriminant Analysis, which is also abbreviated\n",
    "as LDA), which is a type of unsupervised learning. We could also use\n",
    "**Non-negative Matrix Factorization** (NMF).\n",
    "\n",
    "Both methods are available in sklearn and are demonstrated\n",
    "[here](https://scikit-learn.org/stable/auto_examples/applications/plot_topics_extraction_with_nmf_lda.html#sphx-glr-auto-examples-applications-plot-topics-extraction-with-nmf-lda-py).\n",
    "\n",
    "Using what we learned about text processing, we can quickly run an example of\n",
    "LDA on the `newsgroup` dataset which contains emails from 20 categories.\n"
   ]
  },
  {
   "cell_type": "code",
   "execution_count": 68,
   "metadata": {},
   "outputs": [
    {
     "name": "stdout",
     "output_type": "stream",
     "text": [
      "Number of documents: 11314\n",
      "\n",
      "Sample document:\n",
      "\n",
      " From: ab245@cleveland.Freenet.Edu (Sam Latonia)\n",
      "Subject: Re: Need phone number for Western Digital (ESDI problem)\n",
      "Organization: Case Western Reserve University, Cleveland, Ohio (USA)\n",
      "Lines: 5\n",
      "NNTP-Posting-Host: slc10.ins.cwru.edu\n",
      "\n",
      "\n",
      "Western Digital 1-800-832-4778.....Sam\n",
      "-- \n",
      "Gosh..I think I just installed a virus..It was called MS DOS6...\n",
      "Don't copy that floppy..BURN IT...I just love Windows...CRASH...\n",
      "\n",
      "\n",
      "Original topics: ['alt.atheism', 'comp.graphics', 'comp.os.ms-windows.misc', 'comp.sys.ibm.pc.hardware', 'comp.sys.mac.hardware', 'comp.windows.x', 'misc.forsale', 'rec.autos', 'rec.motorcycles', 'rec.sport.baseball', 'rec.sport.hockey', 'sci.crypt', 'sci.electronics', 'sci.med', 'sci.space', 'soc.religion.christian', 'talk.politics.guns', 'talk.politics.mideast', 'talk.politics.misc', 'talk.religion.misc']\n"
     ]
    }
   ],
   "source": [
    "# parts of the example are from here\n",
    "# https://scikit-learn.org/stable/auto_examples/applications/plot_topics_extraction_with_nmf_lda.html#sphx-glr-auto-examples-applications-plot-topics-extraction-with-nmf-lda-py\n",
    "from sklearn.datasets import fetch_20newsgroups\n",
    "\n",
    "news_data = fetch_20newsgroups()\n",
    "\n",
    "print(f\"Number of documents: {len(news_data.data)}\")\n",
    "\n",
    "print(f\"\\nSample document:\\n\\n {news_data.data[42]}\")\n",
    "\n",
    "print(f\"\\nOriginal topics: {news_data.target_names}\")\n"
   ]
  },
  {
   "cell_type": "markdown",
   "metadata": {},
   "source": [
    "First, we vectorize our documents with TF-IDF.\n"
   ]
  },
  {
   "cell_type": "code",
   "execution_count": 69,
   "metadata": {},
   "outputs": [],
   "source": [
    "# NLTK has a few prebuilt stopwords lists\n",
    "from nltk.corpus import stopwords\n",
    "\n",
    "stopwords = stopwords.words(\"english\")\n",
    "# We can add in additional words to include further stopwords\n",
    "# We've added these to remove some email-specific words\n",
    "stopwords.extend([\"edu\", \"com\", \"cc\", \"gov\"])\n"
   ]
  },
  {
   "cell_type": "code",
   "execution_count": 70,
   "metadata": {},
   "outputs": [
    {
     "data": {
      "text/plain": [
       "(11314, 1000)"
      ]
     },
     "execution_count": 70,
     "metadata": {},
     "output_type": "execute_result"
    }
   ],
   "source": [
    "# BoW vectorization\n",
    "bagofwords = CountVectorizer(\n",
    "    min_df=5,\n",
    "    max_df=0.95,  # drop words that occur in at least 95% of the documents\n",
    "    max_features=1000,\n",
    "    stop_words=stopwords,\n",
    ")\n",
    "\n",
    "news_transformed = bagofwords.fit_transform(news_data.data)\n",
    "\n",
    "news_transformed.shape\n"
   ]
  },
  {
   "cell_type": "markdown",
   "metadata": {},
   "source": [
    "Next, we fit the **Latent Dirichlet Allocation** model to discover related sets\n",
    "of documents. We will set the `n_components` parameter to 10 so that the model\n",
    "looks for 10 topics and limit the fitting procedure to 5 iterations.\n"
   ]
  },
  {
   "cell_type": "code",
   "execution_count": 71,
   "metadata": {},
   "outputs": [
    {
     "name": "stdout",
     "output_type": "stream",
     "text": [
      "iteration: 1 of max_iter: 15\n",
      "iteration: 2 of max_iter: 15\n",
      "iteration: 3 of max_iter: 15\n",
      "iteration: 4 of max_iter: 15\n",
      "iteration: 5 of max_iter: 15\n",
      "iteration: 6 of max_iter: 15\n",
      "iteration: 7 of max_iter: 15\n",
      "iteration: 8 of max_iter: 15\n",
      "iteration: 9 of max_iter: 15\n",
      "iteration: 10 of max_iter: 15\n",
      "iteration: 11 of max_iter: 15\n",
      "iteration: 12 of max_iter: 15\n",
      "iteration: 13 of max_iter: 15\n",
      "iteration: 14 of max_iter: 15\n",
      "iteration: 15 of max_iter: 15\n"
     ]
    },
    {
     "data": {
      "text/html": [
       "<style>#sk-container-id-3 {color: black;background-color: white;}#sk-container-id-3 pre{padding: 0;}#sk-container-id-3 div.sk-toggleable {background-color: white;}#sk-container-id-3 label.sk-toggleable__label {cursor: pointer;display: block;width: 100%;margin-bottom: 0;padding: 0.3em;box-sizing: border-box;text-align: center;}#sk-container-id-3 label.sk-toggleable__label-arrow:before {content: \"▸\";float: left;margin-right: 0.25em;color: #696969;}#sk-container-id-3 label.sk-toggleable__label-arrow:hover:before {color: black;}#sk-container-id-3 div.sk-estimator:hover label.sk-toggleable__label-arrow:before {color: black;}#sk-container-id-3 div.sk-toggleable__content {max-height: 0;max-width: 0;overflow: hidden;text-align: left;background-color: #f0f8ff;}#sk-container-id-3 div.sk-toggleable__content pre {margin: 0.2em;color: black;border-radius: 0.25em;background-color: #f0f8ff;}#sk-container-id-3 input.sk-toggleable__control:checked~div.sk-toggleable__content {max-height: 200px;max-width: 100%;overflow: auto;}#sk-container-id-3 input.sk-toggleable__control:checked~label.sk-toggleable__label-arrow:before {content: \"▾\";}#sk-container-id-3 div.sk-estimator input.sk-toggleable__control:checked~label.sk-toggleable__label {background-color: #d4ebff;}#sk-container-id-3 div.sk-label input.sk-toggleable__control:checked~label.sk-toggleable__label {background-color: #d4ebff;}#sk-container-id-3 input.sk-hidden--visually {border: 0;clip: rect(1px 1px 1px 1px);clip: rect(1px, 1px, 1px, 1px);height: 1px;margin: -1px;overflow: hidden;padding: 0;position: absolute;width: 1px;}#sk-container-id-3 div.sk-estimator {font-family: monospace;background-color: #f0f8ff;border: 1px dotted black;border-radius: 0.25em;box-sizing: border-box;margin-bottom: 0.5em;}#sk-container-id-3 div.sk-estimator:hover {background-color: #d4ebff;}#sk-container-id-3 div.sk-parallel-item::after {content: \"\";width: 100%;border-bottom: 1px solid gray;flex-grow: 1;}#sk-container-id-3 div.sk-label:hover label.sk-toggleable__label {background-color: #d4ebff;}#sk-container-id-3 div.sk-serial::before {content: \"\";position: absolute;border-left: 1px solid gray;box-sizing: border-box;top: 0;bottom: 0;left: 50%;z-index: 0;}#sk-container-id-3 div.sk-serial {display: flex;flex-direction: column;align-items: center;background-color: white;padding-right: 0.2em;padding-left: 0.2em;position: relative;}#sk-container-id-3 div.sk-item {position: relative;z-index: 1;}#sk-container-id-3 div.sk-parallel {display: flex;align-items: stretch;justify-content: center;background-color: white;position: relative;}#sk-container-id-3 div.sk-item::before, #sk-container-id-3 div.sk-parallel-item::before {content: \"\";position: absolute;border-left: 1px solid gray;box-sizing: border-box;top: 0;bottom: 0;left: 50%;z-index: -1;}#sk-container-id-3 div.sk-parallel-item {display: flex;flex-direction: column;z-index: 1;position: relative;background-color: white;}#sk-container-id-3 div.sk-parallel-item:first-child::after {align-self: flex-end;width: 50%;}#sk-container-id-3 div.sk-parallel-item:last-child::after {align-self: flex-start;width: 50%;}#sk-container-id-3 div.sk-parallel-item:only-child::after {width: 0;}#sk-container-id-3 div.sk-dashed-wrapped {border: 1px dashed gray;margin: 0 0.4em 0.5em 0.4em;box-sizing: border-box;padding-bottom: 0.4em;background-color: white;}#sk-container-id-3 div.sk-label label {font-family: monospace;font-weight: bold;display: inline-block;line-height: 1.2em;}#sk-container-id-3 div.sk-label-container {text-align: center;}#sk-container-id-3 div.sk-container {/* jupyter's `normalize.less` sets `[hidden] { display: none; }` but bootstrap.min.css set `[hidden] { display: none !important; }` so we also need the `!important` here to be able to override the default hidden behavior on the sphinx rendered scikit-learn.org. See: https://github.com/scikit-learn/scikit-learn/issues/21755 */display: inline-block !important;position: relative;}#sk-container-id-3 div.sk-text-repr-fallback {display: none;}</style><div id=\"sk-container-id-3\" class=\"sk-top-container\"><div class=\"sk-text-repr-fallback\"><pre>LatentDirichletAllocation(max_iter=15, random_state=1, verbose=1)</pre><b>In a Jupyter environment, please rerun this cell to show the HTML representation or trust the notebook. <br />On GitHub, the HTML representation is unable to render, please try loading this page with nbviewer.org.</b></div><div class=\"sk-container\" hidden><div class=\"sk-item\"><div class=\"sk-estimator sk-toggleable\"><input class=\"sk-toggleable__control sk-hidden--visually\" id=\"sk-estimator-id-3\" type=\"checkbox\" checked><label for=\"sk-estimator-id-3\" class=\"sk-toggleable__label sk-toggleable__label-arrow\">LatentDirichletAllocation</label><div class=\"sk-toggleable__content\"><pre>LatentDirichletAllocation(max_iter=15, random_state=1, verbose=1)</pre></div></div></div></div></div>"
      ],
      "text/plain": [
       "LatentDirichletAllocation(max_iter=15, random_state=1, verbose=1)"
      ]
     },
     "execution_count": 71,
     "metadata": {},
     "output_type": "execute_result"
    }
   ],
   "source": [
    "from sklearn.decomposition import LatentDirichletAllocation\n",
    "\n",
    "# fit the LDA topic model\n",
    "lda = LatentDirichletAllocation(n_components=10, max_iter=15, random_state=1, verbose=1)\n",
    "\n",
    "lda.fit(news_transformed)\n"
   ]
  },
  {
   "cell_type": "markdown",
   "metadata": {},
   "source": [
    "Finally, we can look at which words represent the 10 topics best (these are the\n",
    "words that occurred most frequently for the particular topic).\n"
   ]
  },
  {
   "cell_type": "code",
   "execution_count": 62,
   "metadata": {},
   "outputs": [
    {
     "name": "stdout",
     "output_type": "stream",
     "text": [
      "Topic #0 words: ax max g9v b8f a86 145 pl 1d9 0d 34u\n",
      "Topic #1 words: posting host nntp university article writes distribution reply uk please\n",
      "Topic #2 words: file windows use program system drive files also software using\n",
      "Topic #3 words: people would gun one israel said government us right turkish\n",
      "Topic #4 words: space key nasa system would chip use government encryption one\n",
      "Topic #5 words: god one people would jesus think believe say writes christian\n",
      "Topic #6 words: writes would one like article get good think time know\n",
      "Topic #7 words: 00 10 16 15 25 20 14 11 12 17\n",
      "Topic #8 words: team game year games hockey __ play season players pitt\n",
      "Topic #9 words: article writes cs university state one science new people would\n"
     ]
    },
    {
     "name": "stderr",
     "output_type": "stream",
     "text": [
      "/Users/nishant/src/work/brainstation/datascience-bootcamp/.venv/lib/python3.9/site-packages/sklearn/utils/deprecation.py:87: FutureWarning: Function get_feature_names is deprecated; get_feature_names is deprecated in 1.0 and will be removed in 1.2. Please use get_feature_names_out instead.\n",
      "  warnings.warn(msg, category=FutureWarning)\n"
     ]
    }
   ],
   "source": [
    "# for each topic, print the the top 10 most representative words\n",
    "words = bagofwords.get_feature_names()\n",
    "\n",
    "for i, topic in enumerate(lda.components_):\n",
    "    topic_words = \" \".join([words[j] for j in topic.argsort()[:-11:-1]])\n",
    "    print(f\"Topic #{i} words: {topic_words}\")\n"
   ]
  },
  {
   "cell_type": "markdown",
   "metadata": {},
   "source": [
    "Can you recognize some of the original topics?\n"
   ]
  }
 ],
 "metadata": {
  "hide_input": false,
  "kernelspec": {
   "display_name": "Python 3.9.13 ('.venv': poetry)",
   "language": "python",
   "name": "python3"
  },
  "language_info": {
   "codemirror_mode": {
    "name": "ipython",
    "version": 3
   },
   "file_extension": ".py",
   "mimetype": "text/x-python",
   "name": "python",
   "nbconvert_exporter": "python",
   "pygments_lexer": "ipython3",
   "version": "3.9.13"
  },
  "vscode": {
   "interpreter": {
    "hash": "09fa77dfce31738cd768fb92202d4b676dd1336a655854d9fb98a0feba06c452"
   }
  }
 },
 "nbformat": 4,
 "nbformat_minor": 4
}
