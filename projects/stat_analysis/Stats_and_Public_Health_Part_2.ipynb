{
 "cells": [
  {
   "cell_type": "code",
   "execution_count": 135,
   "id": "2e6d6e13",
   "metadata": {},
   "outputs": [],
   "source": [
    "import pandas as pd\n",
    "import numpy as np\n",
    "import matplotlib.pyplot as plt\n",
    "import seaborn as sns\n",
    "import statsmodels.api as sm\n",
    "from scipy import stats"
   ]
  },
  {
   "cell_type": "markdown",
   "id": "071d5759",
   "metadata": {},
   "source": [
    "# Part 1 - Basic Analysis"
   ]
  },
  {
   "cell_type": "code",
   "execution_count": 136,
   "id": "e177c9e7",
   "metadata": {},
   "outputs": [
    {
     "data": {
      "text/html": [
       "<div>\n",
       "<style scoped>\n",
       "    .dataframe tbody tr th:only-of-type {\n",
       "        vertical-align: middle;\n",
       "    }\n",
       "\n",
       "    .dataframe tbody tr th {\n",
       "        vertical-align: top;\n",
       "    }\n",
       "\n",
       "    .dataframe thead th {\n",
       "        text-align: right;\n",
       "    }\n",
       "</style>\n",
       "<table border=\"1\" class=\"dataframe\">\n",
       "  <thead>\n",
       "    <tr style=\"text-align: right;\">\n",
       "      <th></th>\n",
       "      <th>Year</th>\n",
       "      <th>Week</th>\n",
       "      <th>Address Block</th>\n",
       "      <th>Trap</th>\n",
       "      <th>Trap type</th>\n",
       "      <th>Date</th>\n",
       "      <th>Mosquito number</th>\n",
       "      <th>WNV Present</th>\n",
       "      <th>Species</th>\n",
       "      <th>Lat</th>\n",
       "      <th>Lon</th>\n",
       "      <th>Month</th>\n",
       "    </tr>\n",
       "  </thead>\n",
       "  <tbody>\n",
       "    <tr>\n",
       "      <th>0</th>\n",
       "      <td>2019</td>\n",
       "      <td>39</td>\n",
       "      <td>100XX W OHARE AIRPORT</td>\n",
       "      <td>T910</td>\n",
       "      <td>GRAVID</td>\n",
       "      <td>2019-09-26 00:09:00</td>\n",
       "      <td>2</td>\n",
       "      <td>negative</td>\n",
       "      <td>CULEX RESTUANS</td>\n",
       "      <td>41.977738</td>\n",
       "      <td>-87.880969</td>\n",
       "      <td>9</td>\n",
       "    </tr>\n",
       "    <tr>\n",
       "      <th>1</th>\n",
       "      <td>2019</td>\n",
       "      <td>39</td>\n",
       "      <td>52XX S KOLMAR AVE</td>\n",
       "      <td>T114</td>\n",
       "      <td>GRAVID</td>\n",
       "      <td>2019-09-26 00:09:00</td>\n",
       "      <td>1</td>\n",
       "      <td>negative</td>\n",
       "      <td>CULEX RESTUANS</td>\n",
       "      <td>41.798211</td>\n",
       "      <td>-87.736925</td>\n",
       "      <td>9</td>\n",
       "    </tr>\n",
       "    <tr>\n",
       "      <th>2</th>\n",
       "      <td>2019</td>\n",
       "      <td>39</td>\n",
       "      <td>58XX N WESTERN AVE</td>\n",
       "      <td>T028</td>\n",
       "      <td>GRAVID</td>\n",
       "      <td>2019-09-26 00:09:00</td>\n",
       "      <td>2</td>\n",
       "      <td>negative</td>\n",
       "      <td>CULEX RESTUANS</td>\n",
       "      <td>41.987245</td>\n",
       "      <td>-87.689417</td>\n",
       "      <td>9</td>\n",
       "    </tr>\n",
       "    <tr>\n",
       "      <th>3</th>\n",
       "      <td>2019</td>\n",
       "      <td>39</td>\n",
       "      <td>39XX N SPRINGFIELD AVE</td>\n",
       "      <td>T228</td>\n",
       "      <td>GRAVID</td>\n",
       "      <td>2019-09-26 00:09:00</td>\n",
       "      <td>1</td>\n",
       "      <td>negative</td>\n",
       "      <td>CULEX RESTUANS</td>\n",
       "      <td>41.953664</td>\n",
       "      <td>-87.724987</td>\n",
       "      <td>9</td>\n",
       "    </tr>\n",
       "    <tr>\n",
       "      <th>4</th>\n",
       "      <td>2019</td>\n",
       "      <td>39</td>\n",
       "      <td>131XX S BRANDON AVE</td>\n",
       "      <td>T209</td>\n",
       "      <td>GRAVID</td>\n",
       "      <td>2019-09-26 00:09:00</td>\n",
       "      <td>9</td>\n",
       "      <td>negative</td>\n",
       "      <td>CULEX RESTUANS</td>\n",
       "      <td>41.657069</td>\n",
       "      <td>-87.546049</td>\n",
       "      <td>9</td>\n",
       "    </tr>\n",
       "  </tbody>\n",
       "</table>\n",
       "</div>"
      ],
      "text/plain": [
       "   Year  Week           Address Block  Trap Trap type                 Date  \\\n",
       "0  2019    39   100XX W OHARE AIRPORT  T910    GRAVID  2019-09-26 00:09:00   \n",
       "1  2019    39       52XX S KOLMAR AVE  T114    GRAVID  2019-09-26 00:09:00   \n",
       "2  2019    39      58XX N WESTERN AVE  T028    GRAVID  2019-09-26 00:09:00   \n",
       "3  2019    39  39XX N SPRINGFIELD AVE  T228    GRAVID  2019-09-26 00:09:00   \n",
       "4  2019    39     131XX S BRANDON AVE  T209    GRAVID  2019-09-26 00:09:00   \n",
       "\n",
       "   Mosquito number WNV Present         Species        Lat        Lon  Month  \n",
       "0                2    negative  CULEX RESTUANS  41.977738 -87.880969      9  \n",
       "1                1    negative  CULEX RESTUANS  41.798211 -87.736925      9  \n",
       "2                2    negative  CULEX RESTUANS  41.987245 -87.689417      9  \n",
       "3                1    negative  CULEX RESTUANS  41.953664 -87.724987      9  \n",
       "4                9    negative  CULEX RESTUANS  41.657069 -87.546049      9  "
      ]
     },
     "execution_count": 136,
     "metadata": {},
     "output_type": "execute_result"
    }
   ],
   "source": [
    "# read in csv\n",
    "df = pd.read_csv('mosquito_data_part_2.csv')\n",
    "df.head()"
   ]
  },
  {
   "cell_type": "code",
   "execution_count": 137,
   "id": "4259c96d",
   "metadata": {},
   "outputs": [
    {
     "name": "stdout",
     "output_type": "stream",
     "text": [
      "<class 'pandas.core.frame.DataFrame'>\n",
      "RangeIndex: 18495 entries, 0 to 18494\n",
      "Data columns (total 12 columns):\n",
      " #   Column           Non-Null Count  Dtype  \n",
      "---  ------           --------------  -----  \n",
      " 0   Year             18495 non-null  int64  \n",
      " 1   Week             18495 non-null  int64  \n",
      " 2   Address Block    18495 non-null  object \n",
      " 3   Trap             18495 non-null  object \n",
      " 4   Trap type        18495 non-null  object \n",
      " 5   Date             18495 non-null  object \n",
      " 6   Mosquito number  18495 non-null  int64  \n",
      " 7   WNV Present      18495 non-null  object \n",
      " 8   Species          18495 non-null  object \n",
      " 9   Lat              18495 non-null  float64\n",
      " 10  Lon              18495 non-null  float64\n",
      " 11  Month            18495 non-null  int64  \n",
      "dtypes: float64(2), int64(4), object(6)\n",
      "memory usage: 1.7+ MB\n"
     ]
    }
   ],
   "source": [
    "# get general overview of dataset, datatypes, and any issues that may be seen on the surface\n",
    "\n",
    "df.info()"
   ]
  },
  {
   "cell_type": "markdown",
   "id": "1c39d9f8",
   "metadata": {},
   "source": [
    "#### Q1.1: Convert the `WNV Present` column into a binary column and create dummy variables from the `Trap type` column.\n",
    "\n",
    "To properly process datasets through statistical methodologies and models, you first need to convert objects into numerical values to properly find mathematical relationships.\n",
    "\n",
    "The first outlined step to perform this encoding is the conversion of the `WNV Present` column, which signifies if a given mosquito batch was found to be positive or negative for the West Nile Virus."
   ]
  },
  {
   "cell_type": "code",
   "execution_count": 138,
   "id": "1ac98d2b",
   "metadata": {},
   "outputs": [],
   "source": [
    "# converting column into a binary column (0 or 1)\n",
    "\n",
    "df['WNV Present'] = np.where(df['WNV Present'] == 'negative', 0, 1)"
   ]
  },
  {
   "cell_type": "code",
   "execution_count": 139,
   "id": "1518e987",
   "metadata": {},
   "outputs": [
    {
     "data": {
      "text/plain": [
       "0    14501\n",
       "1     3994\n",
       "Name: WNV Present, dtype: int64"
      ]
     },
     "execution_count": 139,
     "metadata": {},
     "output_type": "execute_result"
    }
   ],
   "source": [
    "# ensuring proper binary encoding through value_counts, which summarizes the count of records per column value\n",
    "\n",
    "df['WNV Present'].value_counts()"
   ]
  },
  {
   "cell_type": "markdown",
   "id": "9f63fff6",
   "metadata": {},
   "source": [
    "For columns that have many distinct values, dummy variables can be used.\n",
    "\n",
    "Since there are are more than two values in the column, and since there is not an inherent numeric ordering for the values, dummy variables create separate columns for unique value that is present in the original column.\n",
    "\n",
    "Luckily, pandas as a built in function for this methodology: `.get_dummies()`\n",
    "\n",
    "This function takes in the required argument, which is the dataframe column you'd like to produce dummy variables for. An optional argument is `drop_first`, which defaults to `False`. If signified as `True`, the first column of the dummy columns is removed. The logic behind this is that (1) less columns are added to the dataset and (2) if all retained dummy columns are false, it is safe to assume that the dropped column is true.\n",
    "\n",
    "We'll keep all 4 `Trap type` columns included for now, but we will address this again further down the notebook."
   ]
  },
  {
   "cell_type": "code",
   "execution_count": 140,
   "id": "7d4fdceb",
   "metadata": {},
   "outputs": [
    {
     "data": {
      "text/html": [
       "<div>\n",
       "<style scoped>\n",
       "    .dataframe tbody tr th:only-of-type {\n",
       "        vertical-align: middle;\n",
       "    }\n",
       "\n",
       "    .dataframe tbody tr th {\n",
       "        vertical-align: top;\n",
       "    }\n",
       "\n",
       "    .dataframe thead th {\n",
       "        text-align: right;\n",
       "    }\n",
       "</style>\n",
       "<table border=\"1\" class=\"dataframe\">\n",
       "  <thead>\n",
       "    <tr style=\"text-align: right;\">\n",
       "      <th></th>\n",
       "      <th>CDC</th>\n",
       "      <th>GRAVID</th>\n",
       "      <th>OVI</th>\n",
       "      <th>SENTINEL</th>\n",
       "    </tr>\n",
       "  </thead>\n",
       "  <tbody>\n",
       "    <tr>\n",
       "      <th>0</th>\n",
       "      <td>0</td>\n",
       "      <td>1</td>\n",
       "      <td>0</td>\n",
       "      <td>0</td>\n",
       "    </tr>\n",
       "    <tr>\n",
       "      <th>1</th>\n",
       "      <td>0</td>\n",
       "      <td>1</td>\n",
       "      <td>0</td>\n",
       "      <td>0</td>\n",
       "    </tr>\n",
       "    <tr>\n",
       "      <th>2</th>\n",
       "      <td>0</td>\n",
       "      <td>1</td>\n",
       "      <td>0</td>\n",
       "      <td>0</td>\n",
       "    </tr>\n",
       "    <tr>\n",
       "      <th>3</th>\n",
       "      <td>0</td>\n",
       "      <td>1</td>\n",
       "      <td>0</td>\n",
       "      <td>0</td>\n",
       "    </tr>\n",
       "    <tr>\n",
       "      <th>4</th>\n",
       "      <td>0</td>\n",
       "      <td>1</td>\n",
       "      <td>0</td>\n",
       "      <td>0</td>\n",
       "    </tr>\n",
       "    <tr>\n",
       "      <th>...</th>\n",
       "      <td>...</td>\n",
       "      <td>...</td>\n",
       "      <td>...</td>\n",
       "      <td>...</td>\n",
       "    </tr>\n",
       "    <tr>\n",
       "      <th>18490</th>\n",
       "      <td>0</td>\n",
       "      <td>1</td>\n",
       "      <td>0</td>\n",
       "      <td>0</td>\n",
       "    </tr>\n",
       "    <tr>\n",
       "      <th>18491</th>\n",
       "      <td>0</td>\n",
       "      <td>1</td>\n",
       "      <td>0</td>\n",
       "      <td>0</td>\n",
       "    </tr>\n",
       "    <tr>\n",
       "      <th>18492</th>\n",
       "      <td>0</td>\n",
       "      <td>1</td>\n",
       "      <td>0</td>\n",
       "      <td>0</td>\n",
       "    </tr>\n",
       "    <tr>\n",
       "      <th>18493</th>\n",
       "      <td>0</td>\n",
       "      <td>0</td>\n",
       "      <td>0</td>\n",
       "      <td>1</td>\n",
       "    </tr>\n",
       "    <tr>\n",
       "      <th>18494</th>\n",
       "      <td>0</td>\n",
       "      <td>1</td>\n",
       "      <td>0</td>\n",
       "      <td>0</td>\n",
       "    </tr>\n",
       "  </tbody>\n",
       "</table>\n",
       "<p>18495 rows × 4 columns</p>\n",
       "</div>"
      ],
      "text/plain": [
       "       CDC  GRAVID  OVI  SENTINEL\n",
       "0        0       1    0         0\n",
       "1        0       1    0         0\n",
       "2        0       1    0         0\n",
       "3        0       1    0         0\n",
       "4        0       1    0         0\n",
       "...    ...     ...  ...       ...\n",
       "18490    0       1    0         0\n",
       "18491    0       1    0         0\n",
       "18492    0       1    0         0\n",
       "18493    0       0    0         1\n",
       "18494    0       1    0         0\n",
       "\n",
       "[18495 rows x 4 columns]"
      ]
     },
     "execution_count": 140,
     "metadata": {},
     "output_type": "execute_result"
    }
   ],
   "source": [
    "# getting dummy variables for the Trap type column\n",
    "\n",
    "pd.get_dummies(df['Trap type']) #, drop_first = True)"
   ]
  },
  {
   "cell_type": "markdown",
   "id": "18e86c51",
   "metadata": {},
   "source": [
    "#### Q1.2: What is the average number of mosquitoes for each month? What trends do you notice?"
   ]
  },
  {
   "cell_type": "markdown",
   "id": "854d50e8",
   "metadata": {},
   "source": [
    "Here, some of the same functions described in Part 1 of this assignment are again leveraged, such as `.groupby()`, `.mean()`, and `.plot()`."
   ]
  },
  {
   "cell_type": "code",
   "execution_count": 141,
   "id": "2ed2a1aa",
   "metadata": {},
   "outputs": [
    {
     "data": {
      "text/plain": [
       "<AxesSubplot:ylabel='Month'>"
      ]
     },
     "execution_count": 141,
     "metadata": {},
     "output_type": "execute_result"
    },
    {
     "data": {
      "image/png": "[encoded data removed]",
      "text/plain": [
       "<Figure size 432x288 with 1 Axes>"
      ]
     },
     "metadata": {
      "needs_background": "light"
     },
     "output_type": "display_data"
    }
   ],
   "source": [
    "# select relevant subset of df, group the average number (mean) of mosquitos by month, plot it on a bar graph\n",
    "\n",
    "df[['Month', 'Mosquito number']].groupby('Month').mean().plot(kind = 'barh')"
   ]
  },
  {
   "cell_type": "markdown",
   "id": "16399f69",
   "metadata": {},
   "source": [
    "As seen here and in the previous assignment, the average number of mosquitos captured grows as the weather becomes warmer, and therefore we see the highest average in July & August, with lower averages in Spring and Fall months"
   ]
  },
  {
   "cell_type": "markdown",
   "id": "98f73367",
   "metadata": {},
   "source": [
    "# Part 2 - Statistical Analysis\n",
    "#### Q2.1: Is there a statistically significant difference between the different mosquito species when looking at the occurrence of West Nile Virus?"
   ]
  },
  {
   "cell_type": "markdown",
   "id": "729f5f0b",
   "metadata": {},
   "source": [
    "To answer the above prompt, we'll first see how many mosquito species are part of the data set, and what the distribution of the species is."
   ]
  },
  {
   "cell_type": "code",
   "execution_count": 142,
   "id": "af55cda6",
   "metadata": {},
   "outputs": [
    {
     "data": {
      "text/plain": [
       "CULEX RESTUANS      11866\n",
       "CULEX PIPIENS        5486\n",
       "CULEX TERRITANS       917\n",
       "CULEX SALINARIUS      226\n",
       "Name: Species, dtype: int64"
      ]
     },
     "execution_count": 142,
     "metadata": {},
     "output_type": "execute_result"
    }
   ],
   "source": [
    "df['Species'].value_counts()"
   ]
  },
  {
   "cell_type": "markdown",
   "id": "d86e8202",
   "metadata": {},
   "source": [
    "When first running through this exercise, I went underwent a one-hot encoding methodology for `Species`, which maps a numeric value to a variable as the encoding mechanism.\n",
    "\n",
    "However, as specified above with `Trap type`, this would be the incorrect path forward, as there is no ordinal logic associated with the mosquito species. I've included the commented-out code below."
   ]
  },
  {
   "cell_type": "code",
   "execution_count": 143,
   "id": "80f78908",
   "metadata": {},
   "outputs": [],
   "source": [
    "# perform mapping\n",
    "## df['Species'] = df['Species'].map({'CULEX RESTUANS': 1, 'CULEX PIPIENS': 2, 'CULEX TERRITANS': 3, 'CULEX SALINARIUS': 4})\n",
    "\n",
    "# create separate series of all encoded Species & WNV test results\n",
    "## all_cases = df[['Species', 'WNV Present']].groupby(['Species']).count()\n",
    "\n",
    "# create separate series of all encoded Species that has a positive WNV test result\n",
    "## positive_cases = df[['Species', 'WNV Present']].groupby(['Species']).sum()\n",
    "\n",
    "# create separate dataframe for all encoded Species & WNV test results\n",
    "## data = pd.DataFrame(df[['Species', 'WNV Present']].groupby(['Species']).sum())\n",
    "\n",
    "# create new column in separate dataframe for all negative WNV test results\n",
    "## data['WNV Not Present'] = all_cases - positive_cases\n",
    "\n",
    "# run chi squared analysis\n",
    "## stats.chi2_contingency(dummy_df)"
   ]
  },
  {
   "cell_type": "code",
   "execution_count": 144,
   "id": "783f51b9",
   "metadata": {},
   "outputs": [],
   "source": [
    "# create new dummy dataframe of Species dummy variables\n",
    "dummy_df = pd.get_dummies(df['Species'])"
   ]
  },
  {
   "cell_type": "code",
   "execution_count": 145,
   "id": "8f9b6745",
   "metadata": {},
   "outputs": [
    {
     "data": {
      "text/html": [
       "<div>\n",
       "<style scoped>\n",
       "    .dataframe tbody tr th:only-of-type {\n",
       "        vertical-align: middle;\n",
       "    }\n",
       "\n",
       "    .dataframe tbody tr th {\n",
       "        vertical-align: top;\n",
       "    }\n",
       "\n",
       "    .dataframe thead th {\n",
       "        text-align: right;\n",
       "    }\n",
       "</style>\n",
       "<table border=\"1\" class=\"dataframe\">\n",
       "  <thead>\n",
       "    <tr style=\"text-align: right;\">\n",
       "      <th></th>\n",
       "      <th>CULEX PIPIENS</th>\n",
       "      <th>CULEX RESTUANS</th>\n",
       "      <th>CULEX SALINARIUS</th>\n",
       "      <th>CULEX TERRITANS</th>\n",
       "      <th>WNV Present</th>\n",
       "    </tr>\n",
       "  </thead>\n",
       "  <tbody>\n",
       "    <tr>\n",
       "      <th>0</th>\n",
       "      <td>0</td>\n",
       "      <td>1</td>\n",
       "      <td>0</td>\n",
       "      <td>0</td>\n",
       "      <td>0</td>\n",
       "    </tr>\n",
       "    <tr>\n",
       "      <th>1</th>\n",
       "      <td>0</td>\n",
       "      <td>1</td>\n",
       "      <td>0</td>\n",
       "      <td>0</td>\n",
       "      <td>0</td>\n",
       "    </tr>\n",
       "    <tr>\n",
       "      <th>2</th>\n",
       "      <td>0</td>\n",
       "      <td>1</td>\n",
       "      <td>0</td>\n",
       "      <td>0</td>\n",
       "      <td>0</td>\n",
       "    </tr>\n",
       "    <tr>\n",
       "      <th>3</th>\n",
       "      <td>0</td>\n",
       "      <td>1</td>\n",
       "      <td>0</td>\n",
       "      <td>0</td>\n",
       "      <td>0</td>\n",
       "    </tr>\n",
       "    <tr>\n",
       "      <th>4</th>\n",
       "      <td>0</td>\n",
       "      <td>1</td>\n",
       "      <td>0</td>\n",
       "      <td>0</td>\n",
       "      <td>0</td>\n",
       "    </tr>\n",
       "    <tr>\n",
       "      <th>...</th>\n",
       "      <td>...</td>\n",
       "      <td>...</td>\n",
       "      <td>...</td>\n",
       "      <td>...</td>\n",
       "      <td>...</td>\n",
       "    </tr>\n",
       "    <tr>\n",
       "      <th>18490</th>\n",
       "      <td>1</td>\n",
       "      <td>0</td>\n",
       "      <td>0</td>\n",
       "      <td>0</td>\n",
       "      <td>1</td>\n",
       "    </tr>\n",
       "    <tr>\n",
       "      <th>18491</th>\n",
       "      <td>1</td>\n",
       "      <td>0</td>\n",
       "      <td>0</td>\n",
       "      <td>0</td>\n",
       "      <td>1</td>\n",
       "    </tr>\n",
       "    <tr>\n",
       "      <th>18492</th>\n",
       "      <td>0</td>\n",
       "      <td>1</td>\n",
       "      <td>0</td>\n",
       "      <td>0</td>\n",
       "      <td>1</td>\n",
       "    </tr>\n",
       "    <tr>\n",
       "      <th>18493</th>\n",
       "      <td>0</td>\n",
       "      <td>1</td>\n",
       "      <td>0</td>\n",
       "      <td>0</td>\n",
       "      <td>1</td>\n",
       "    </tr>\n",
       "    <tr>\n",
       "      <th>18494</th>\n",
       "      <td>0</td>\n",
       "      <td>1</td>\n",
       "      <td>0</td>\n",
       "      <td>0</td>\n",
       "      <td>1</td>\n",
       "    </tr>\n",
       "  </tbody>\n",
       "</table>\n",
       "<p>18495 rows × 5 columns</p>\n",
       "</div>"
      ],
      "text/plain": [
       "       CULEX PIPIENS  CULEX RESTUANS  CULEX SALINARIUS  CULEX TERRITANS  \\\n",
       "0                  0               1                 0                0   \n",
       "1                  0               1                 0                0   \n",
       "2                  0               1                 0                0   \n",
       "3                  0               1                 0                0   \n",
       "4                  0               1                 0                0   \n",
       "...              ...             ...               ...              ...   \n",
       "18490              1               0                 0                0   \n",
       "18491              1               0                 0                0   \n",
       "18492              0               1                 0                0   \n",
       "18493              0               1                 0                0   \n",
       "18494              0               1                 0                0   \n",
       "\n",
       "       WNV Present  \n",
       "0                0  \n",
       "1                0  \n",
       "2                0  \n",
       "3                0  \n",
       "4                0  \n",
       "...            ...  \n",
       "18490            1  \n",
       "18491            1  \n",
       "18492            1  \n",
       "18493            1  \n",
       "18494            1  \n",
       "\n",
       "[18495 rows x 5 columns]"
      ]
     },
     "execution_count": 145,
     "metadata": {},
     "output_type": "execute_result"
    }
   ],
   "source": [
    "# add WNV Present column to dummy_df so that dependent variable is included in the dataset\n",
    "\n",
    "dummy_df['WNV Present'] = df['WNV Present']\n",
    "dummy_df"
   ]
  },
  {
   "cell_type": "code",
   "execution_count": 146,
   "id": "8a4d53cb",
   "metadata": {},
   "outputs": [
    {
     "data": {
      "text/html": [
       "<div>\n",
       "<style scoped>\n",
       "    .dataframe tbody tr th:only-of-type {\n",
       "        vertical-align: middle;\n",
       "    }\n",
       "\n",
       "    .dataframe tbody tr th {\n",
       "        vertical-align: top;\n",
       "    }\n",
       "\n",
       "    .dataframe thead th {\n",
       "        text-align: right;\n",
       "    }\n",
       "</style>\n",
       "<table border=\"1\" class=\"dataframe\">\n",
       "  <thead>\n",
       "    <tr style=\"text-align: right;\">\n",
       "      <th></th>\n",
       "      <th>CULEX PIPIENS</th>\n",
       "      <th>CULEX RESTUANS</th>\n",
       "      <th>CULEX SALINARIUS</th>\n",
       "      <th>CULEX TERRITANS</th>\n",
       "    </tr>\n",
       "    <tr>\n",
       "      <th>WNV Present</th>\n",
       "      <th></th>\n",
       "      <th></th>\n",
       "      <th></th>\n",
       "      <th></th>\n",
       "    </tr>\n",
       "  </thead>\n",
       "  <tbody>\n",
       "    <tr>\n",
       "      <th>0</th>\n",
       "      <td>4074.0</td>\n",
       "      <td>9309.0</td>\n",
       "      <td>215.0</td>\n",
       "      <td>903.0</td>\n",
       "    </tr>\n",
       "    <tr>\n",
       "      <th>1</th>\n",
       "      <td>1412.0</td>\n",
       "      <td>2557.0</td>\n",
       "      <td>11.0</td>\n",
       "      <td>14.0</td>\n",
       "    </tr>\n",
       "  </tbody>\n",
       "</table>\n",
       "</div>"
      ],
      "text/plain": [
       "             CULEX PIPIENS  CULEX RESTUANS  CULEX SALINARIUS  CULEX TERRITANS\n",
       "WNV Present                                                                  \n",
       "0                   4074.0          9309.0             215.0            903.0\n",
       "1                   1412.0          2557.0              11.0             14.0"
      ]
     },
     "execution_count": 146,
     "metadata": {},
     "output_type": "execute_result"
    }
   ],
   "source": [
    "# vizualize dataframe, grouped by WNV Presence\n",
    "\n",
    "dummy_df.groupby('WNV Present').sum()"
   ]
  },
  {
   "cell_type": "markdown",
   "id": "b9339a38",
   "metadata": {},
   "source": [
    "To see the correlations between mosquito species and positive WNV test results, we can call the pandas function `.corr()`, which provides the correlation relationship for each column in the dataframe specified."
   ]
  },
  {
   "cell_type": "code",
   "execution_count": 147,
   "id": "315dfb9b",
   "metadata": {},
   "outputs": [
    {
     "data": {
      "text/html": [
       "<div>\n",
       "<style scoped>\n",
       "    .dataframe tbody tr th:only-of-type {\n",
       "        vertical-align: middle;\n",
       "    }\n",
       "\n",
       "    .dataframe tbody tr th {\n",
       "        vertical-align: top;\n",
       "    }\n",
       "\n",
       "    .dataframe thead th {\n",
       "        text-align: right;\n",
       "    }\n",
       "</style>\n",
       "<table border=\"1\" class=\"dataframe\">\n",
       "  <thead>\n",
       "    <tr style=\"text-align: right;\">\n",
       "      <th></th>\n",
       "      <th>CULEX PIPIENS</th>\n",
       "      <th>CULEX RESTUANS</th>\n",
       "      <th>CULEX SALINARIUS</th>\n",
       "      <th>CULEX TERRITANS</th>\n",
       "      <th>WNV Present</th>\n",
       "    </tr>\n",
       "  </thead>\n",
       "  <tbody>\n",
       "    <tr>\n",
       "      <th>CULEX PIPIENS</th>\n",
       "      <td>1.000000</td>\n",
       "      <td>-0.868829</td>\n",
       "      <td>-0.072228</td>\n",
       "      <td>-0.148322</td>\n",
       "      <td>0.065388</td>\n",
       "    </tr>\n",
       "    <tr>\n",
       "      <th>CULEX RESTUANS</th>\n",
       "      <td>-0.868829</td>\n",
       "      <td>1.000000</td>\n",
       "      <td>-0.148808</td>\n",
       "      <td>-0.305582</td>\n",
       "      <td>-0.001498</td>\n",
       "    </tr>\n",
       "    <tr>\n",
       "      <th>CULEX SALINARIUS</th>\n",
       "      <td>-0.072228</td>\n",
       "      <td>-0.148808</td>\n",
       "      <td>1.000000</td>\n",
       "      <td>-0.025404</td>\n",
       "      <td>-0.045215</td>\n",
       "    </tr>\n",
       "    <tr>\n",
       "      <th>CULEX TERRITANS</th>\n",
       "      <td>-0.148322</td>\n",
       "      <td>-0.305582</td>\n",
       "      <td>-0.025404</td>\n",
       "      <td>1.000000</td>\n",
       "      <td>-0.111394</td>\n",
       "    </tr>\n",
       "    <tr>\n",
       "      <th>WNV Present</th>\n",
       "      <td>0.065388</td>\n",
       "      <td>-0.001498</td>\n",
       "      <td>-0.045215</td>\n",
       "      <td>-0.111394</td>\n",
       "      <td>1.000000</td>\n",
       "    </tr>\n",
       "  </tbody>\n",
       "</table>\n",
       "</div>"
      ],
      "text/plain": [
       "                  CULEX PIPIENS  CULEX RESTUANS  CULEX SALINARIUS  \\\n",
       "CULEX PIPIENS          1.000000       -0.868829         -0.072228   \n",
       "CULEX RESTUANS        -0.868829        1.000000         -0.148808   \n",
       "CULEX SALINARIUS      -0.072228       -0.148808          1.000000   \n",
       "CULEX TERRITANS       -0.148322       -0.305582         -0.025404   \n",
       "WNV Present            0.065388       -0.001498         -0.045215   \n",
       "\n",
       "                  CULEX TERRITANS  WNV Present  \n",
       "CULEX PIPIENS           -0.148322     0.065388  \n",
       "CULEX RESTUANS          -0.305582    -0.001498  \n",
       "CULEX SALINARIUS        -0.025404    -0.045215  \n",
       "CULEX TERRITANS          1.000000    -0.111394  \n",
       "WNV Present             -0.111394     1.000000  "
      ]
     },
     "execution_count": 147,
     "metadata": {},
     "output_type": "execute_result"
    }
   ],
   "source": [
    "# display correlations between column values\n",
    "\n",
    "dummy_df.corr()"
   ]
  },
  {
   "cell_type": "markdown",
   "id": "30ea4966",
   "metadata": {},
   "source": [
    "When analyzing the bottom row or the right most column (both show the same findings), we see extremely weak correlations between `WNV Present` and each mosquito species."
   ]
  },
  {
   "cell_type": "markdown",
   "id": "f9c7b670",
   "metadata": {},
   "source": [
    "To determine if there is any statistical significance, beyond the weak correlations seen above, we can use a form of hypothesis testing to quantify the p-value.\n",
    "\n",
    "Within null hypothesis testing, the p-value signifies the probability of seeing test results at least as extreme as the results observed in the dataset. In other words, a p-value below 0.05 signifies that the probability of seeing the observed data would be rare if the null hypothesis were true, and therefore it is safe to reject the hypothesis.\n",
    "\n",
    "For this particular case the null hypothesis would be the following:\n",
    "* There is no statistical relationship between mosquito species when looking at the occurence of the West Nile Virus"
   ]
  },
  {
   "cell_type": "markdown",
   "id": "40deda63",
   "metadata": {},
   "source": [
    "There are a variety of statisical test that can be performed to determine the p-value between independent and dependent variables.\n",
    "\n",
    "However, being that the prompt at hand inquires about the relationship between categorical variables, as opposed to continuous variables, the proper form of hypothesis testing is Chi Squared.\n",
    "\n",
    "Within the SciPy stats package, there is a function for this methodology, denoted as `stats.chi2_contingency()`."
   ]
  },
  {
   "cell_type": "code",
   "execution_count": 148,
   "id": "900ce788",
   "metadata": {
    "scrolled": true
   },
   "outputs": [
    {
     "data": {
      "text/plain": [
       "(72675.31966776465,\n",
       " 0.9996628172537025,\n",
       " 73976,\n",
       " array([[0.24394148, 0.52763573, 0.01004936, 0.04077549, 0.17759794],\n",
       "        [0.24394148, 0.52763573, 0.01004936, 0.04077549, 0.17759794],\n",
       "        [0.24394148, 0.52763573, 0.01004936, 0.04077549, 0.17759794],\n",
       "        ...,\n",
       "        [0.48788297, 1.05527147, 0.02009871, 0.08155098, 0.35519587],\n",
       "        [0.48788297, 1.05527147, 0.02009871, 0.08155098, 0.35519587],\n",
       "        [0.48788297, 1.05527147, 0.02009871, 0.08155098, 0.35519587]]))"
      ]
     },
     "execution_count": 148,
     "metadata": {},
     "output_type": "execute_result"
    }
   ],
   "source": [
    "# perform chi squared hypothesis test\n",
    "\n",
    "stats.chi2_contingency(dummy_df)"
   ]
  },
  {
   "cell_type": "markdown",
   "id": "f47a8f60",
   "metadata": {},
   "source": [
    "The relevant number to us is the second number returned, `0.9996628...`, which is the p-value of the observed dataset.\n",
    "\n",
    "Since 0.999 is greater than the null hypothesis rejection threshold of < 0.05, the null hypothesis can be retained. In fact, since the p-value is so close to 1, it proves that the observed relationship within the dataset almost exactly equals the null hypothesis."
   ]
  },
  {
   "cell_type": "markdown",
   "id": "0950b458",
   "metadata": {},
   "source": [
    "#### Q2.2: Which columns are positively correlated with the number of mosquitoes caught? Which columns are negatively correlated? Are these correlations statistically significant?"
   ]
  },
  {
   "cell_type": "markdown",
   "id": "6615ecce",
   "metadata": {},
   "source": [
    "Although we did thorough data cleansing and EDA in Part 1 of this assignment, there are some additional data transformations needed to move forward with this and following prompts.\n",
    "\n",
    "As seen and mentioned above, each variable to be included in any statistical analysis or model needs to be in numeric form. Therefore, we need to transform all `objects` into integers, floats, or other numeric formats."
   ]
  },
  {
   "cell_type": "code",
   "execution_count": 149,
   "id": "d3e37a1e",
   "metadata": {},
   "outputs": [
    {
     "name": "stdout",
     "output_type": "stream",
     "text": [
      "<class 'pandas.core.frame.DataFrame'>\n",
      "RangeIndex: 18495 entries, 0 to 18494\n",
      "Data columns (total 12 columns):\n",
      " #   Column           Non-Null Count  Dtype  \n",
      "---  ------           --------------  -----  \n",
      " 0   Year             18495 non-null  int64  \n",
      " 1   Week             18495 non-null  int64  \n",
      " 2   Address Block    18495 non-null  object \n",
      " 3   Trap             18495 non-null  object \n",
      " 4   Trap type        18495 non-null  object \n",
      " 5   Date             18495 non-null  object \n",
      " 6   Mosquito number  18495 non-null  int64  \n",
      " 7   WNV Present      18495 non-null  int64  \n",
      " 8   Species          18495 non-null  object \n",
      " 9   Lat              18495 non-null  float64\n",
      " 10  Lon              18495 non-null  float64\n",
      " 11  Month            18495 non-null  int64  \n",
      "dtypes: float64(2), int64(5), object(5)\n",
      "memory usage: 1.7+ MB\n"
     ]
    }
   ],
   "source": [
    "# another overview of the dataset, specifically focused on dtypes\n",
    "\n",
    "df.info()"
   ]
  },
  {
   "cell_type": "markdown",
   "id": "0f57a1ad",
   "metadata": {},
   "source": [
    "The following columns need to be either dropped or transformed into numerical values:\n",
    "* Address Block\n",
    "* Trap\n",
    "* Trap type\n",
    "* Date\n",
    "* Species\n",
    "\n",
    "Since we've addressed `Trap type` and `Species` in previous, separate analyses, we'll save those for later in the analysis."
   ]
  },
  {
   "cell_type": "markdown",
   "id": "929611e0",
   "metadata": {},
   "source": [
    "\n",
    "Let's first look at `Date`. It is currently being displayed in a datetime format (although stored as an object), it is very granular and most likely does not provide additional insight that `Week`, `Month`, and `Year` columns already have. Therefore, we will drop date from the dataframe."
   ]
  },
  {
   "cell_type": "code",
   "execution_count": 150,
   "id": "de6d91ea",
   "metadata": {},
   "outputs": [],
   "source": [
    "# dropping date using .drop()\n",
    "\n",
    "df = df.drop('Date', axis = 1)"
   ]
  },
  {
   "cell_type": "markdown",
   "id": "84fe29e7",
   "metadata": {},
   "source": [
    "Next, we'll look at `Trap`. It is an interesting column, mostly due to the fact that outside of standardized preceding--and in some cases proceding--alphabetical letters, it is already an enumerated column. As opposed to creating 190 separate columns, which would make this dataset complex and harder to manage, let's see if we can leverage its current identifiers."
   ]
  },
  {
   "cell_type": "code",
   "execution_count": 151,
   "id": "f9eacc1c",
   "metadata": {},
   "outputs": [
    {
     "data": {
      "text/plain": [
       "190"
      ]
     },
     "execution_count": 151,
     "metadata": {},
     "output_type": "execute_result"
    }
   ],
   "source": [
    "# gauge number of unique values\n",
    "\n",
    "df['Trap'].nunique()"
   ]
  },
  {
   "cell_type": "code",
   "execution_count": 152,
   "id": "e1b5a4ad",
   "metadata": {},
   "outputs": [
    {
     "data": {
      "text/plain": [
       "T002     406\n",
       "T114     340\n",
       "T031     333\n",
       "T008     326\n",
       "T138     304\n",
       "        ... \n",
       "T128A      1\n",
       "T135B      1\n",
       "T241       1\n",
       "T167       1\n",
       "T040       1\n",
       "Name: Trap, Length: 190, dtype: int64"
      ]
     },
     "execution_count": 152,
     "metadata": {},
     "output_type": "execute_result"
    }
   ],
   "source": [
    "# display preview of standardized Trap ID format\n",
    "\n",
    "df['Trap'].value_counts()"
   ]
  },
  {
   "cell_type": "markdown",
   "id": "4d806053",
   "metadata": {},
   "source": [
    "Based on the Trap ID values that are shown, we see that each Trap begins with the letter T and that some satellite Traps end in an alphabetical character.\n",
    "\n",
    "Since it seems that the three middle characters are always numbers, we'll create a for loop to extract those characters from the string, convert to numerical, and then replace the original Trap ID with the numerical extraction."
   ]
  },
  {
   "cell_type": "code",
   "execution_count": 153,
   "id": "bb3e1ea6",
   "metadata": {},
   "outputs": [],
   "source": [
    "y = []\n",
    "\n",
    "for x in range(len(df['Trap'])):\n",
    "    y.append(df['Trap'][x][1:4])"
   ]
  },
  {
   "cell_type": "code",
   "execution_count": 154,
   "id": "f0964646",
   "metadata": {},
   "outputs": [],
   "source": [
    "df['Trap'] = y"
   ]
  },
  {
   "cell_type": "code",
   "execution_count": 155,
   "id": "8eb4df2f",
   "metadata": {
    "scrolled": true
   },
   "outputs": [
    {
     "ename": "ValueError",
     "evalue": "invalid literal for int() with base 10: '20A'",
     "output_type": "error",
     "traceback": [
      "\u001b[0;31m---------------------------------------------------------------------------\u001b[0m",
      "\u001b[0;31mValueError\u001b[0m                                Traceback (most recent call last)",
      "Input \u001b[0;32mIn [155]\u001b[0m, in \u001b[0;36m<cell line: 1>\u001b[0;34m()\u001b[0m\n\u001b[0;32m----> 1\u001b[0m df[\u001b[38;5;124m'\u001b[39m\u001b[38;5;124mTrap\u001b[39m\u001b[38;5;124m'\u001b[39m] \u001b[38;5;241m=\u001b[39m \u001b[43mdf\u001b[49m\u001b[43m[\u001b[49m\u001b[38;5;124;43m'\u001b[39;49m\u001b[38;5;124;43mTrap\u001b[39;49m\u001b[38;5;124;43m'\u001b[39;49m\u001b[43m]\u001b[49m\u001b[38;5;241;43m.\u001b[39;49m\u001b[43mastype\u001b[49m\u001b[43m(\u001b[49m\u001b[43mdtype\u001b[49m\u001b[43m \u001b[49m\u001b[38;5;241;43m=\u001b[39;49m\u001b[43m \u001b[49m\u001b[38;5;124;43m'\u001b[39;49m\u001b[38;5;124;43mint64\u001b[39;49m\u001b[38;5;124;43m'\u001b[39;49m\u001b[43m)\u001b[49m\n",
      "File \u001b[0;32m~/opt/anaconda3/lib/python3.9/site-packages/pandas/core/generic.py:5912\u001b[0m, in \u001b[0;36mNDFrame.astype\u001b[0;34m(self, dtype, copy, errors)\u001b[0m\n\u001b[1;32m   5905\u001b[0m     results \u001b[38;5;241m=\u001b[39m [\n\u001b[1;32m   5906\u001b[0m         \u001b[38;5;28mself\u001b[39m\u001b[38;5;241m.\u001b[39miloc[:, i]\u001b[38;5;241m.\u001b[39mastype(dtype, copy\u001b[38;5;241m=\u001b[39mcopy)\n\u001b[1;32m   5907\u001b[0m         \u001b[38;5;28;01mfor\u001b[39;00m i \u001b[38;5;129;01min\u001b[39;00m \u001b[38;5;28mrange\u001b[39m(\u001b[38;5;28mlen\u001b[39m(\u001b[38;5;28mself\u001b[39m\u001b[38;5;241m.\u001b[39mcolumns))\n\u001b[1;32m   5908\u001b[0m     ]\n\u001b[1;32m   5910\u001b[0m \u001b[38;5;28;01melse\u001b[39;00m:\n\u001b[1;32m   5911\u001b[0m     \u001b[38;5;66;03m# else, only a single dtype is given\u001b[39;00m\n\u001b[0;32m-> 5912\u001b[0m     new_data \u001b[38;5;241m=\u001b[39m \u001b[38;5;28;43mself\u001b[39;49m\u001b[38;5;241;43m.\u001b[39;49m\u001b[43m_mgr\u001b[49m\u001b[38;5;241;43m.\u001b[39;49m\u001b[43mastype\u001b[49m\u001b[43m(\u001b[49m\u001b[43mdtype\u001b[49m\u001b[38;5;241;43m=\u001b[39;49m\u001b[43mdtype\u001b[49m\u001b[43m,\u001b[49m\u001b[43m \u001b[49m\u001b[43mcopy\u001b[49m\u001b[38;5;241;43m=\u001b[39;49m\u001b[43mcopy\u001b[49m\u001b[43m,\u001b[49m\u001b[43m \u001b[49m\u001b[43merrors\u001b[49m\u001b[38;5;241;43m=\u001b[39;49m\u001b[43merrors\u001b[49m\u001b[43m)\u001b[49m\n\u001b[1;32m   5913\u001b[0m     \u001b[38;5;28;01mreturn\u001b[39;00m \u001b[38;5;28mself\u001b[39m\u001b[38;5;241m.\u001b[39m_constructor(new_data)\u001b[38;5;241m.\u001b[39m__finalize__(\u001b[38;5;28mself\u001b[39m, method\u001b[38;5;241m=\u001b[39m\u001b[38;5;124m\"\u001b[39m\u001b[38;5;124mastype\u001b[39m\u001b[38;5;124m\"\u001b[39m)\n\u001b[1;32m   5915\u001b[0m \u001b[38;5;66;03m# GH 33113: handle empty frame or series\u001b[39;00m\n",
      "File \u001b[0;32m~/opt/anaconda3/lib/python3.9/site-packages/pandas/core/internals/managers.py:419\u001b[0m, in \u001b[0;36mBaseBlockManager.astype\u001b[0;34m(self, dtype, copy, errors)\u001b[0m\n\u001b[1;32m    418\u001b[0m \u001b[38;5;28;01mdef\u001b[39;00m \u001b[38;5;21mastype\u001b[39m(\u001b[38;5;28mself\u001b[39m: T, dtype, copy: \u001b[38;5;28mbool\u001b[39m \u001b[38;5;241m=\u001b[39m \u001b[38;5;28;01mFalse\u001b[39;00m, errors: \u001b[38;5;28mstr\u001b[39m \u001b[38;5;241m=\u001b[39m \u001b[38;5;124m\"\u001b[39m\u001b[38;5;124mraise\u001b[39m\u001b[38;5;124m\"\u001b[39m) \u001b[38;5;241m-\u001b[39m\u001b[38;5;241m>\u001b[39m T:\n\u001b[0;32m--> 419\u001b[0m     \u001b[38;5;28;01mreturn\u001b[39;00m \u001b[38;5;28;43mself\u001b[39;49m\u001b[38;5;241;43m.\u001b[39;49m\u001b[43mapply\u001b[49m\u001b[43m(\u001b[49m\u001b[38;5;124;43m\"\u001b[39;49m\u001b[38;5;124;43mastype\u001b[39;49m\u001b[38;5;124;43m\"\u001b[39;49m\u001b[43m,\u001b[49m\u001b[43m \u001b[49m\u001b[43mdtype\u001b[49m\u001b[38;5;241;43m=\u001b[39;49m\u001b[43mdtype\u001b[49m\u001b[43m,\u001b[49m\u001b[43m \u001b[49m\u001b[43mcopy\u001b[49m\u001b[38;5;241;43m=\u001b[39;49m\u001b[43mcopy\u001b[49m\u001b[43m,\u001b[49m\u001b[43m \u001b[49m\u001b[43merrors\u001b[49m\u001b[38;5;241;43m=\u001b[39;49m\u001b[43merrors\u001b[49m\u001b[43m)\u001b[49m\n",
      "File \u001b[0;32m~/opt/anaconda3/lib/python3.9/site-packages/pandas/core/internals/managers.py:304\u001b[0m, in \u001b[0;36mBaseBlockManager.apply\u001b[0;34m(self, f, align_keys, ignore_failures, **kwargs)\u001b[0m\n\u001b[1;32m    302\u001b[0m         applied \u001b[38;5;241m=\u001b[39m b\u001b[38;5;241m.\u001b[39mapply(f, \u001b[38;5;241m*\u001b[39m\u001b[38;5;241m*\u001b[39mkwargs)\n\u001b[1;32m    303\u001b[0m     \u001b[38;5;28;01melse\u001b[39;00m:\n\u001b[0;32m--> 304\u001b[0m         applied \u001b[38;5;241m=\u001b[39m \u001b[38;5;28;43mgetattr\u001b[39;49m\u001b[43m(\u001b[49m\u001b[43mb\u001b[49m\u001b[43m,\u001b[49m\u001b[43m \u001b[49m\u001b[43mf\u001b[49m\u001b[43m)\u001b[49m\u001b[43m(\u001b[49m\u001b[38;5;241;43m*\u001b[39;49m\u001b[38;5;241;43m*\u001b[39;49m\u001b[43mkwargs\u001b[49m\u001b[43m)\u001b[49m\n\u001b[1;32m    305\u001b[0m \u001b[38;5;28;01mexcept\u001b[39;00m (\u001b[38;5;167;01mTypeError\u001b[39;00m, \u001b[38;5;167;01mNotImplementedError\u001b[39;00m):\n\u001b[1;32m    306\u001b[0m     \u001b[38;5;28;01mif\u001b[39;00m \u001b[38;5;129;01mnot\u001b[39;00m ignore_failures:\n",
      "File \u001b[0;32m~/opt/anaconda3/lib/python3.9/site-packages/pandas/core/internals/blocks.py:580\u001b[0m, in \u001b[0;36mBlock.astype\u001b[0;34m(self, dtype, copy, errors)\u001b[0m\n\u001b[1;32m    562\u001b[0m \u001b[38;5;124;03m\"\"\"\u001b[39;00m\n\u001b[1;32m    563\u001b[0m \u001b[38;5;124;03mCoerce to the new dtype.\u001b[39;00m\n\u001b[1;32m    564\u001b[0m \n\u001b[0;32m   (...)\u001b[0m\n\u001b[1;32m    576\u001b[0m \u001b[38;5;124;03mBlock\u001b[39;00m\n\u001b[1;32m    577\u001b[0m \u001b[38;5;124;03m\"\"\"\u001b[39;00m\n\u001b[1;32m    578\u001b[0m values \u001b[38;5;241m=\u001b[39m \u001b[38;5;28mself\u001b[39m\u001b[38;5;241m.\u001b[39mvalues\n\u001b[0;32m--> 580\u001b[0m new_values \u001b[38;5;241m=\u001b[39m \u001b[43mastype_array_safe\u001b[49m\u001b[43m(\u001b[49m\u001b[43mvalues\u001b[49m\u001b[43m,\u001b[49m\u001b[43m \u001b[49m\u001b[43mdtype\u001b[49m\u001b[43m,\u001b[49m\u001b[43m \u001b[49m\u001b[43mcopy\u001b[49m\u001b[38;5;241;43m=\u001b[39;49m\u001b[43mcopy\u001b[49m\u001b[43m,\u001b[49m\u001b[43m \u001b[49m\u001b[43merrors\u001b[49m\u001b[38;5;241;43m=\u001b[39;49m\u001b[43merrors\u001b[49m\u001b[43m)\u001b[49m\n\u001b[1;32m    582\u001b[0m new_values \u001b[38;5;241m=\u001b[39m maybe_coerce_values(new_values)\n\u001b[1;32m    583\u001b[0m newb \u001b[38;5;241m=\u001b[39m \u001b[38;5;28mself\u001b[39m\u001b[38;5;241m.\u001b[39mmake_block(new_values)\n",
      "File \u001b[0;32m~/opt/anaconda3/lib/python3.9/site-packages/pandas/core/dtypes/cast.py:1292\u001b[0m, in \u001b[0;36mastype_array_safe\u001b[0;34m(values, dtype, copy, errors)\u001b[0m\n\u001b[1;32m   1289\u001b[0m     dtype \u001b[38;5;241m=\u001b[39m dtype\u001b[38;5;241m.\u001b[39mnumpy_dtype\n\u001b[1;32m   1291\u001b[0m \u001b[38;5;28;01mtry\u001b[39;00m:\n\u001b[0;32m-> 1292\u001b[0m     new_values \u001b[38;5;241m=\u001b[39m \u001b[43mastype_array\u001b[49m\u001b[43m(\u001b[49m\u001b[43mvalues\u001b[49m\u001b[43m,\u001b[49m\u001b[43m \u001b[49m\u001b[43mdtype\u001b[49m\u001b[43m,\u001b[49m\u001b[43m \u001b[49m\u001b[43mcopy\u001b[49m\u001b[38;5;241;43m=\u001b[39;49m\u001b[43mcopy\u001b[49m\u001b[43m)\u001b[49m\n\u001b[1;32m   1293\u001b[0m \u001b[38;5;28;01mexcept\u001b[39;00m (\u001b[38;5;167;01mValueError\u001b[39;00m, \u001b[38;5;167;01mTypeError\u001b[39;00m):\n\u001b[1;32m   1294\u001b[0m     \u001b[38;5;66;03m# e.g. astype_nansafe can fail on object-dtype of strings\u001b[39;00m\n\u001b[1;32m   1295\u001b[0m     \u001b[38;5;66;03m#  trying to convert to float\u001b[39;00m\n\u001b[1;32m   1296\u001b[0m     \u001b[38;5;28;01mif\u001b[39;00m errors \u001b[38;5;241m==\u001b[39m \u001b[38;5;124m\"\u001b[39m\u001b[38;5;124mignore\u001b[39m\u001b[38;5;124m\"\u001b[39m:\n",
      "File \u001b[0;32m~/opt/anaconda3/lib/python3.9/site-packages/pandas/core/dtypes/cast.py:1237\u001b[0m, in \u001b[0;36mastype_array\u001b[0;34m(values, dtype, copy)\u001b[0m\n\u001b[1;32m   1234\u001b[0m     values \u001b[38;5;241m=\u001b[39m values\u001b[38;5;241m.\u001b[39mastype(dtype, copy\u001b[38;5;241m=\u001b[39mcopy)\n\u001b[1;32m   1236\u001b[0m \u001b[38;5;28;01melse\u001b[39;00m:\n\u001b[0;32m-> 1237\u001b[0m     values \u001b[38;5;241m=\u001b[39m \u001b[43mastype_nansafe\u001b[49m\u001b[43m(\u001b[49m\u001b[43mvalues\u001b[49m\u001b[43m,\u001b[49m\u001b[43m \u001b[49m\u001b[43mdtype\u001b[49m\u001b[43m,\u001b[49m\u001b[43m \u001b[49m\u001b[43mcopy\u001b[49m\u001b[38;5;241;43m=\u001b[39;49m\u001b[43mcopy\u001b[49m\u001b[43m)\u001b[49m\n\u001b[1;32m   1239\u001b[0m \u001b[38;5;66;03m# in pandas we don't store numpy str dtypes, so convert to object\u001b[39;00m\n\u001b[1;32m   1240\u001b[0m \u001b[38;5;28;01mif\u001b[39;00m \u001b[38;5;28misinstance\u001b[39m(dtype, np\u001b[38;5;241m.\u001b[39mdtype) \u001b[38;5;129;01mand\u001b[39;00m \u001b[38;5;28missubclass\u001b[39m(values\u001b[38;5;241m.\u001b[39mdtype\u001b[38;5;241m.\u001b[39mtype, \u001b[38;5;28mstr\u001b[39m):\n",
      "File \u001b[0;32m~/opt/anaconda3/lib/python3.9/site-packages/pandas/core/dtypes/cast.py:1154\u001b[0m, in \u001b[0;36mastype_nansafe\u001b[0;34m(arr, dtype, copy, skipna)\u001b[0m\n\u001b[1;32m   1150\u001b[0m \u001b[38;5;28;01melif\u001b[39;00m is_object_dtype(arr\u001b[38;5;241m.\u001b[39mdtype):\n\u001b[1;32m   1151\u001b[0m \n\u001b[1;32m   1152\u001b[0m     \u001b[38;5;66;03m# work around NumPy brokenness, #1987\u001b[39;00m\n\u001b[1;32m   1153\u001b[0m     \u001b[38;5;28;01mif\u001b[39;00m np\u001b[38;5;241m.\u001b[39missubdtype(dtype\u001b[38;5;241m.\u001b[39mtype, np\u001b[38;5;241m.\u001b[39minteger):\n\u001b[0;32m-> 1154\u001b[0m         \u001b[38;5;28;01mreturn\u001b[39;00m \u001b[43mlib\u001b[49m\u001b[38;5;241;43m.\u001b[39;49m\u001b[43mastype_intsafe\u001b[49m\u001b[43m(\u001b[49m\u001b[43marr\u001b[49m\u001b[43m,\u001b[49m\u001b[43m \u001b[49m\u001b[43mdtype\u001b[49m\u001b[43m)\u001b[49m\n\u001b[1;32m   1156\u001b[0m     \u001b[38;5;66;03m# if we have a datetime/timedelta array of objects\u001b[39;00m\n\u001b[1;32m   1157\u001b[0m     \u001b[38;5;66;03m# then coerce to a proper dtype and recall astype_nansafe\u001b[39;00m\n\u001b[1;32m   1159\u001b[0m     \u001b[38;5;28;01melif\u001b[39;00m is_datetime64_dtype(dtype):\n",
      "File \u001b[0;32m~/opt/anaconda3/lib/python3.9/site-packages/pandas/_libs/lib.pyx:668\u001b[0m, in \u001b[0;36mpandas._libs.lib.astype_intsafe\u001b[0;34m()\u001b[0m\n",
      "\u001b[0;31mValueError\u001b[0m: invalid literal for int() with base 10: '20A'"
     ]
    }
   ],
   "source": [
    "df['Trap'] = df['Trap'].astype(dtype = 'int64')"
   ]
  },
  {
   "cell_type": "markdown",
   "id": "445af5af",
   "metadata": {},
   "source": [
    "However, we run into an issue of a Trap ID containing an alphanumerical character. Let's take a deeper look."
   ]
  },
  {
   "cell_type": "code",
   "execution_count": 156,
   "id": "d7143514",
   "metadata": {},
   "outputs": [
    {
     "data": {
      "text/plain": [
       "002    418\n",
       "138    369\n",
       "114    349\n",
       "030    335\n",
       "054    335\n",
       "031    333\n",
       "008    326\n",
       "151    303\n",
       "135    302\n",
       "913    302\n",
       "115    299\n",
       "128    284\n",
       "159    284\n",
       "011    282\n",
       "028    278\n",
       "912    272\n",
       "090    261\n",
       "066    261\n",
       "221    259\n",
       "212    257\n",
       "009    253\n",
       "046    250\n",
       "074    249\n",
       "048    245\n",
       "225    237\n",
       "209    234\n",
       "065    230\n",
       "094    229\n",
       "073    226\n",
       "063    224\n",
       "012    219\n",
       "233    216\n",
       "235    216\n",
       "082    212\n",
       "003    211\n",
       "102    209\n",
       "223    209\n",
       "061    209\n",
       "027    206\n",
       "147    205\n",
       "905    203\n",
       "080    199\n",
       "902    198\n",
       "152    194\n",
       "013    194\n",
       "095    182\n",
       "047    180\n",
       "916    180\n",
       "220    178\n",
       "033    178\n",
       "230    177\n",
       "062    173\n",
       "228    170\n",
       "226    170\n",
       "155    169\n",
       "035    160\n",
       "039    160\n",
       "900    159\n",
       "069    158\n",
       "227    156\n",
       "906    155\n",
       "222    151\n",
       "079    149\n",
       "231    148\n",
       "049    144\n",
       "089    138\n",
       "083    136\n",
       "099    134\n",
       "236    134\n",
       "903    129\n",
       "017    126\n",
       "224    124\n",
       "068    122\n",
       "158    113\n",
       "901    108\n",
       "200    106\n",
       "018     89\n",
       "218     81\n",
       "043     80\n",
       "160     78\n",
       "904     76\n",
       "915     71\n",
       "240     71\n",
       "910     70\n",
       "077     70\n",
       "144     70\n",
       "918     68\n",
       "016     64\n",
       "148     64\n",
       "925     59\n",
       "232     56\n",
       "923     54\n",
       "103     40\n",
       "015     40\n",
       "081     40\n",
       "096     40\n",
       "924     39\n",
       "087     39\n",
       "045     38\n",
       "911     35\n",
       "153     34\n",
       "215     29\n",
       "014     28\n",
       "060     24\n",
       "143     24\n",
       "086     23\n",
       "006     22\n",
       "909     21\n",
       "242     21\n",
       "203     21\n",
       "907     20\n",
       "146     20\n",
       "908     19\n",
       "085     18\n",
       "067     17\n",
       "154     17\n",
       "037     16\n",
       "091     16\n",
       "129     16\n",
       "076     16\n",
       "156     15\n",
       "036     15\n",
       "104     14\n",
       "088     14\n",
       "084     14\n",
       "025     13\n",
       "019     13\n",
       "007     13\n",
       "150     13\n",
       "161     13\n",
       "092     12\n",
       "219     12\n",
       "162     12\n",
       "100     11\n",
       "206     11\n",
       "107     11\n",
       "075     11\n",
       "070     11\n",
       "034     10\n",
       "145     10\n",
       "141     10\n",
       "142     10\n",
       "071      9\n",
       "917      9\n",
       "921      8\n",
       "044      8\n",
       "001      7\n",
       "004      7\n",
       "157      7\n",
       "097      7\n",
       "050      7\n",
       "920      7\n",
       "005      6\n",
       "149      6\n",
       "051      5\n",
       "072      5\n",
       "238      4\n",
       "20A      4\n",
       "234      4\n",
       "914      3\n",
       "078      2\n",
       "229      2\n",
       "241      1\n",
       "167      1\n",
       "040      1\n",
       "Name: Trap, dtype: int64"
      ]
     },
     "execution_count": 156,
     "metadata": {},
     "output_type": "execute_result"
    }
   ],
   "source": [
    "# remove limit on number of rows displayed\n",
    "\n",
    "pd.set_option(\"display.max_rows\", None)\n",
    "\n",
    "# find all unqiue new Trap values\n",
    "\n",
    "df['Trap'].value_counts()"
   ]
  },
  {
   "cell_type": "markdown",
   "id": "6cd0cf56",
   "metadata": {},
   "source": [
    "It looks like only 1 new Trap ID is facing this issue. We'll import the original CSV into a separate dataframe to see if we can spot the extraction issue"
   ]
  },
  {
   "cell_type": "code",
   "execution_count": 157,
   "id": "670b09a9",
   "metadata": {},
   "outputs": [
    {
     "data": {
      "text/plain": [
       "T002     406\n",
       "T114     340\n",
       "T031     333\n",
       "T008     326\n",
       "T138     304\n",
       "T151     303\n",
       "T913     302\n",
       "T135     301\n",
       "T115     299\n",
       "T030     299\n",
       "T159     284\n",
       "T128     283\n",
       "T011     282\n",
       "T028     273\n",
       "T912     272\n",
       "T066     261\n",
       "T221     259\n",
       "T212     257\n",
       "T009     251\n",
       "T074     246\n",
       "T048     245\n",
       "T090     244\n",
       "T225     237\n",
       "T209     234\n",
       "T073     226\n",
       "T094     226\n",
       "T012     219\n",
       "T065     217\n",
       "T063     217\n",
       "T233     216\n",
       "T235     216\n",
       "T082     212\n",
       "T003     211\n",
       "T223     209\n",
       "T061     209\n",
       "T102     209\n",
       "T027     206\n",
       "T147     205\n",
       "T046     205\n",
       "T905     203\n",
       "T080     199\n",
       "T902     198\n",
       "T152     194\n",
       "T013     194\n",
       "T095     182\n",
       "T916     180\n",
       "T047     180\n",
       "T033     178\n",
       "T220     178\n",
       "T230     177\n",
       "T062     173\n",
       "T228     170\n",
       "T226     170\n",
       "T155     169\n",
       "T039     160\n",
       "T035     160\n",
       "T900     159\n",
       "T069     158\n",
       "T227     156\n",
       "T906     155\n",
       "T222     151\n",
       "T054B    150\n",
       "T079     149\n",
       "T231     148\n",
       "T049     144\n",
       "T089     138\n",
       "T083     136\n",
       "T099     134\n",
       "T236     134\n",
       "T903     129\n",
       "T017     126\n",
       "T224     124\n",
       "T068     122\n",
       "T158     113\n",
       "T901     108\n",
       "T200     101\n",
       "T054A     98\n",
       "T018      89\n",
       "T043      80\n",
       "T160      78\n",
       "T904      76\n",
       "T218      73\n",
       "T054C     73\n",
       "T915      71\n",
       "T144      70\n",
       "T910      70\n",
       "T077      70\n",
       "T918      68\n",
       "T138B     65\n",
       "T016      64\n",
       "T148      64\n",
       "T925      59\n",
       "T232      56\n",
       "T923      54\n",
       "T046B     45\n",
       "T081      40\n",
       "T103      40\n",
       "T096      40\n",
       "T015      40\n",
       "T924      39\n",
       "T087      39\n",
       "T240      38\n",
       "T045      38\n",
       "T030B     36\n",
       "T911      35\n",
       "T153      34\n",
       "T240B     33\n",
       "T215      29\n",
       "T014      28\n",
       "T060      24\n",
       "T143      24\n",
       "T086      23\n",
       "T006      22\n",
       "T909      21\n",
       "T203      21\n",
       "T242      21\n",
       "T146      20\n",
       "T907      20\n",
       "T908      19\n",
       "T085      18\n",
       "T067      17\n",
       "T154      17\n",
       "T037      16\n",
       "T129      16\n",
       "T076      16\n",
       "T091      16\n",
       "T036      15\n",
       "T156      15\n",
       "T054      14\n",
       "T084      14\n",
       "T088      14\n",
       "T104      14\n",
       "T161      13\n",
       "T019      13\n",
       "T065A     13\n",
       "T025      13\n",
       "T007      13\n",
       "T150      13\n",
       "T162      12\n",
       "T219      12\n",
       "T092      12\n",
       "T075      11\n",
       "T100      11\n",
       "T107      11\n",
       "T070      11\n",
       "T206      11\n",
       "T141      10\n",
       "T145      10\n",
       "T142      10\n",
       "T034      10\n",
       "T002A     10\n",
       "T917       9\n",
       "T071       9\n",
       "T114B      9\n",
       "T921       8\n",
       "T044       8\n",
       "T050       7\n",
       "T004       7\n",
       "T920       7\n",
       "T097       7\n",
       "T063B      7\n",
       "T001       7\n",
       "T090B      7\n",
       "T157       7\n",
       "T149       6\n",
       "T005       6\n",
       "T090C      6\n",
       "T072       5\n",
       "T028B      5\n",
       "T051       5\n",
       "T200A      5\n",
       "T090A      4\n",
       "T238       4\n",
       "T234       4\n",
       "220A       4\n",
       "T218B      3\n",
       "T218A      3\n",
       "T914       3\n",
       "T094B      3\n",
       "T074B      3\n",
       "T218C      2\n",
       "T229       2\n",
       "T078       2\n",
       "T002B      2\n",
       "T009B      2\n",
       "T128A      1\n",
       "T135B      1\n",
       "T241       1\n",
       "T167       1\n",
       "T040       1\n",
       "Name: Trap, dtype: int64"
      ]
     },
     "execution_count": 157,
     "metadata": {},
     "output_type": "execute_result"
    }
   ],
   "source": [
    "# read in original CSV\n",
    "\n",
    "test_trap_df = pd.read_csv('mosquito_data_part_2.csv')\n",
    "\n",
    "# find all unique values in Trap\n",
    "\n",
    "test_trap_df['Trap'].value_counts()"
   ]
  },
  {
   "cell_type": "code",
   "execution_count": 158,
   "id": "a96084dd",
   "metadata": {},
   "outputs": [],
   "source": [
    "# restore display limit to avoid browser issues\n",
    "\n",
    "pd.set_option('display.max_rows', 20)"
   ]
  },
  {
   "cell_type": "markdown",
   "id": "f30dfe43",
   "metadata": {},
   "source": [
    "For whatever reason, this Trap ID is the only ID that does not have a T as the preceding alphabetical character in the value. We'll remediate this through replacement of the ID in our dataframe."
   ]
  },
  {
   "cell_type": "code",
   "execution_count": 159,
   "id": "7d338728",
   "metadata": {
    "scrolled": true
   },
   "outputs": [
    {
     "name": "stderr",
     "output_type": "stream",
     "text": [
      "/var/folders/lb/vxhdzz_128l9mjh0gmf_1d2c0000gq/T/ipykernel_6095/4155296787.py:3: SettingWithCopyWarning: \n",
      "A value is trying to be set on a copy of a slice from a DataFrame\n",
      "\n",
      "See the caveats in the documentation: https://pandas.pydata.org/pandas-docs/stable/user_guide/indexing.html#returning-a-view-versus-a-copy\n",
      "  df['Trap'][df['Trap'] == '20A'] = '220'\n"
     ]
    }
   ],
   "source": [
    "# filter dataframe for rows that have the problematic identifier and replace the value with the appropriate value\n",
    "\n",
    "df['Trap'][df['Trap'] == '20A'] = '220'"
   ]
  },
  {
   "cell_type": "markdown",
   "id": "799cb373",
   "metadata": {},
   "source": [
    "Now that the replacement is done, we are able to convert the dtype object within `Trap` from object to int"
   ]
  },
  {
   "cell_type": "code",
   "execution_count": 160,
   "id": "e87c42d2",
   "metadata": {},
   "outputs": [],
   "source": [
    "# changing dtype using .astype()\n",
    "\n",
    "df['Trap'] = df['Trap'].astype(dtype = 'int64')"
   ]
  },
  {
   "cell_type": "code",
   "execution_count": 161,
   "id": "b33cd6c5",
   "metadata": {},
   "outputs": [
    {
     "name": "stdout",
     "output_type": "stream",
     "text": [
      "<class 'pandas.core.frame.DataFrame'>\n",
      "RangeIndex: 18495 entries, 0 to 18494\n",
      "Data columns (total 11 columns):\n",
      " #   Column           Non-Null Count  Dtype  \n",
      "---  ------           --------------  -----  \n",
      " 0   Year             18495 non-null  int64  \n",
      " 1   Week             18495 non-null  int64  \n",
      " 2   Address Block    18495 non-null  object \n",
      " 3   Trap             18495 non-null  int64  \n",
      " 4   Trap type        18495 non-null  object \n",
      " 5   Mosquito number  18495 non-null  int64  \n",
      " 6   WNV Present      18495 non-null  int64  \n",
      " 7   Species          18495 non-null  object \n",
      " 8   Lat              18495 non-null  float64\n",
      " 9   Lon              18495 non-null  float64\n",
      " 10  Month            18495 non-null  int64  \n",
      "dtypes: float64(2), int64(6), object(3)\n",
      "memory usage: 1.6+ MB\n"
     ]
    }
   ],
   "source": [
    "# confirm change\n",
    "\n",
    "df.info()"
   ]
  },
  {
   "cell_type": "markdown",
   "id": "6175e61c",
   "metadata": {},
   "source": [
    "The last object that has not been addressed in this exercise or the prompts above is `Address Block`\n",
    "\n",
    "`Address Block` current has 154 unique values, which is would be a ton of columns added to the dataset via dummy variables, making the initial analysis complex. Now that we have encoded `Trap` which has only 10 more values. In addition, we already have `Lat`, and `Lon`, which provide insight into mosquito location in addition to `Trap`.\n",
    "\n",
    "Since this can be considered as duplicate column information, we'll drop `Address Block` from the dataframe."
   ]
  },
  {
   "cell_type": "code",
   "execution_count": 162,
   "id": "d678d08e",
   "metadata": {},
   "outputs": [],
   "source": [
    "# remove Address Block from dataset\n",
    "\n",
    "df = df.drop('Address Block', axis = 1)"
   ]
  },
  {
   "cell_type": "code",
   "execution_count": 163,
   "id": "0ea7af3b",
   "metadata": {},
   "outputs": [
    {
     "name": "stdout",
     "output_type": "stream",
     "text": [
      "<class 'pandas.core.frame.DataFrame'>\n",
      "RangeIndex: 18495 entries, 0 to 18494\n",
      "Data columns (total 10 columns):\n",
      " #   Column           Non-Null Count  Dtype  \n",
      "---  ------           --------------  -----  \n",
      " 0   Year             18495 non-null  int64  \n",
      " 1   Week             18495 non-null  int64  \n",
      " 2   Trap             18495 non-null  int64  \n",
      " 3   Trap type        18495 non-null  object \n",
      " 4   Mosquito number  18495 non-null  int64  \n",
      " 5   WNV Present      18495 non-null  int64  \n",
      " 6   Species          18495 non-null  object \n",
      " 7   Lat              18495 non-null  float64\n",
      " 8   Lon              18495 non-null  float64\n",
      " 9   Month            18495 non-null  int64  \n",
      "dtypes: float64(2), int64(6), object(2)\n",
      "memory usage: 1.4+ MB\n"
     ]
    }
   ],
   "source": [
    "# confirm change\n",
    "\n",
    "df.info()"
   ]
  },
  {
   "cell_type": "markdown",
   "id": "91129ade",
   "metadata": {},
   "source": [
    "Now that the only objects that remain are `Trap type` and `Species`, and that we know they are fairly small in terms of unique values, we can create a separate dataframe that contains their dummy variables and the other numeric columns in the dataframe.\n",
    "\n",
    "Luckily, the `pd.get_dummies()` package knows not to apply dummies to numerical dtypes, so applying the function to the existing dataframe will only be applied to the columns of interest."
   ]
  },
  {
   "cell_type": "code",
   "execution_count": 164,
   "id": "761a213f",
   "metadata": {},
   "outputs": [],
   "source": [
    "# create separate dataframe of dummy and numeric variables\n",
    "\n",
    "dummy_df = pd.get_dummies(df)"
   ]
  },
  {
   "cell_type": "markdown",
   "id": "9f0ac181",
   "metadata": {},
   "source": [
    "To view the correlations between all columns and `Mosquito number`, we can run the same `.corr()` function we've run previously. The segmentation between positive correlations and negative correlations are below."
   ]
  },
  {
   "cell_type": "code",
   "execution_count": 165,
   "id": "0531c841",
   "metadata": {},
   "outputs": [
    {
     "data": {
      "text/html": [
       "<div>\n",
       "<style scoped>\n",
       "    .dataframe tbody tr th:only-of-type {\n",
       "        vertical-align: middle;\n",
       "    }\n",
       "\n",
       "    .dataframe tbody tr th {\n",
       "        vertical-align: top;\n",
       "    }\n",
       "\n",
       "    .dataframe thead th {\n",
       "        text-align: right;\n",
       "    }\n",
       "</style>\n",
       "<table border=\"1\" class=\"dataframe\">\n",
       "  <thead>\n",
       "    <tr style=\"text-align: right;\">\n",
       "      <th></th>\n",
       "      <th>Year</th>\n",
       "      <th>Week</th>\n",
       "      <th>Trap</th>\n",
       "      <th>Mosquito number</th>\n",
       "      <th>WNV Present</th>\n",
       "      <th>Lat</th>\n",
       "      <th>Lon</th>\n",
       "      <th>Month</th>\n",
       "      <th>Trap type_CDC</th>\n",
       "      <th>Trap type_GRAVID</th>\n",
       "      <th>Trap type_OVI</th>\n",
       "      <th>Trap type_SENTINEL</th>\n",
       "      <th>Species_CULEX PIPIENS</th>\n",
       "      <th>Species_CULEX RESTUANS</th>\n",
       "      <th>Species_CULEX SALINARIUS</th>\n",
       "      <th>Species_CULEX TERRITANS</th>\n",
       "    </tr>\n",
       "  </thead>\n",
       "  <tbody>\n",
       "    <tr>\n",
       "      <th>Year</th>\n",
       "      <td>1.000000</td>\n",
       "      <td>-0.023283</td>\n",
       "      <td>0.102077</td>\n",
       "      <td>0.129326</td>\n",
       "      <td>0.153881</td>\n",
       "      <td>0.093983</td>\n",
       "      <td>-0.094628</td>\n",
       "      <td>-0.100847</td>\n",
       "      <td>-0.261514</td>\n",
       "      <td>0.155283</td>\n",
       "      <td>-0.011656</td>\n",
       "      <td>0.128327</td>\n",
       "      <td>-0.347588</td>\n",
       "      <td>0.343895</td>\n",
       "      <td>-0.066536</td>\n",
       "      <td>0.005373</td>\n",
       "    </tr>\n",
       "    <tr>\n",
       "      <th>Week</th>\n",
       "      <td>-0.023283</td>\n",
       "      <td>1.000000</td>\n",
       "      <td>-0.017556</td>\n",
       "      <td>-0.033900</td>\n",
       "      <td>0.174265</td>\n",
       "      <td>-0.002876</td>\n",
       "      <td>0.002967</td>\n",
       "      <td>0.948940</td>\n",
       "      <td>0.028723</td>\n",
       "      <td>-0.047021</td>\n",
       "      <td>-0.013587</td>\n",
       "      <td>0.043002</td>\n",
       "      <td>0.316788</td>\n",
       "      <td>-0.315605</td>\n",
       "      <td>-0.011918</td>\n",
       "      <td>0.036645</td>\n",
       "    </tr>\n",
       "    <tr>\n",
       "      <th>Trap</th>\n",
       "      <td>0.102077</td>\n",
       "      <td>-0.017556</td>\n",
       "      <td>1.000000</td>\n",
       "      <td>0.116507</td>\n",
       "      <td>0.103819</td>\n",
       "      <td>0.323703</td>\n",
       "      <td>-0.590902</td>\n",
       "      <td>-0.025334</td>\n",
       "      <td>-0.013569</td>\n",
       "      <td>0.031873</td>\n",
       "      <td>-0.000977</td>\n",
       "      <td>-0.037872</td>\n",
       "      <td>-0.022527</td>\n",
       "      <td>0.035888</td>\n",
       "      <td>0.031356</td>\n",
       "      <td>-0.047749</td>\n",
       "    </tr>\n",
       "    <tr>\n",
       "      <th>Mosquito number</th>\n",
       "      <td>0.129326</td>\n",
       "      <td>-0.033900</td>\n",
       "      <td>0.116507</td>\n",
       "      <td>1.000000</td>\n",
       "      <td>0.408034</td>\n",
       "      <td>0.096820</td>\n",
       "      <td>-0.151421</td>\n",
       "      <td>-0.040426</td>\n",
       "      <td>0.094147</td>\n",
       "      <td>-0.138275</td>\n",
       "      <td>-0.005392</td>\n",
       "      <td>0.108575</td>\n",
       "      <td>0.014730</td>\n",
       "      <td>0.070999</td>\n",
       "      <td>-0.072859</td>\n",
       "      <td>-0.150962</td>\n",
       "    </tr>\n",
       "    <tr>\n",
       "      <th>WNV Present</th>\n",
       "      <td>0.153881</td>\n",
       "      <td>0.174265</td>\n",
       "      <td>0.103819</td>\n",
       "      <td>0.408034</td>\n",
       "      <td>1.000000</td>\n",
       "      <td>0.110175</td>\n",
       "      <td>-0.163967</td>\n",
       "      <td>0.161334</td>\n",
       "      <td>0.002740</td>\n",
       "      <td>-0.027359</td>\n",
       "      <td>-0.003859</td>\n",
       "      <td>0.047073</td>\n",
       "      <td>0.065388</td>\n",
       "      <td>-0.001498</td>\n",
       "      <td>-0.045215</td>\n",
       "      <td>-0.111394</td>\n",
       "    </tr>\n",
       "    <tr>\n",
       "      <th>Lat</th>\n",
       "      <td>0.093983</td>\n",
       "      <td>-0.002876</td>\n",
       "      <td>0.323703</td>\n",
       "      <td>0.096820</td>\n",
       "      <td>0.110175</td>\n",
       "      <td>1.000000</td>\n",
       "      <td>-0.749416</td>\n",
       "      <td>-0.011544</td>\n",
       "      <td>-0.068795</td>\n",
       "      <td>0.067916</td>\n",
       "      <td>0.001292</td>\n",
       "      <td>-0.017184</td>\n",
       "      <td>-0.052372</td>\n",
       "      <td>0.076660</td>\n",
       "      <td>-0.004388</td>\n",
       "      <td>-0.056925</td>\n",
       "    </tr>\n",
       "    <tr>\n",
       "      <th>Lon</th>\n",
       "      <td>-0.094628</td>\n",
       "      <td>0.002967</td>\n",
       "      <td>-0.590902</td>\n",
       "      <td>-0.151421</td>\n",
       "      <td>-0.163967</td>\n",
       "      <td>-0.749416</td>\n",
       "      <td>1.000000</td>\n",
       "      <td>0.010695</td>\n",
       "      <td>0.060961</td>\n",
       "      <td>-0.081628</td>\n",
       "      <td>-0.004017</td>\n",
       "      <td>0.055548</td>\n",
       "      <td>0.021916</td>\n",
       "      <td>-0.055278</td>\n",
       "      <td>-0.004243</td>\n",
       "      <td>0.078145</td>\n",
       "    </tr>\n",
       "    <tr>\n",
       "      <th>Month</th>\n",
       "      <td>-0.100847</td>\n",
       "      <td>0.948940</td>\n",
       "      <td>-0.025334</td>\n",
       "      <td>-0.040426</td>\n",
       "      <td>0.161334</td>\n",
       "      <td>-0.011544</td>\n",
       "      <td>0.010695</td>\n",
       "      <td>1.000000</td>\n",
       "      <td>0.070174</td>\n",
       "      <td>-0.078398</td>\n",
       "      <td>-0.011988</td>\n",
       "      <td>0.035333</td>\n",
       "      <td>0.330760</td>\n",
       "      <td>-0.327509</td>\n",
       "      <td>-0.010218</td>\n",
       "      <td>0.032683</td>\n",
       "    </tr>\n",
       "    <tr>\n",
       "      <th>Trap type_CDC</th>\n",
       "      <td>-0.261514</td>\n",
       "      <td>0.028723</td>\n",
       "      <td>-0.013569</td>\n",
       "      <td>0.094147</td>\n",
       "      <td>0.002740</td>\n",
       "      <td>-0.068795</td>\n",
       "      <td>0.060961</td>\n",
       "      <td>0.070174</td>\n",
       "      <td>1.000000</td>\n",
       "      <td>-0.844420</td>\n",
       "      <td>-0.001280</td>\n",
       "      <td>-0.018611</td>\n",
       "      <td>0.158779</td>\n",
       "      <td>-0.150160</td>\n",
       "      <td>0.038892</td>\n",
       "      <td>-0.022071</td>\n",
       "    </tr>\n",
       "    <tr>\n",
       "      <th>Trap type_GRAVID</th>\n",
       "      <td>0.155283</td>\n",
       "      <td>-0.047021</td>\n",
       "      <td>0.031873</td>\n",
       "      <td>-0.138275</td>\n",
       "      <td>-0.027359</td>\n",
       "      <td>0.067916</td>\n",
       "      <td>-0.081628</td>\n",
       "      <td>-0.078398</td>\n",
       "      <td>-0.844420</td>\n",
       "      <td>1.000000</td>\n",
       "      <td>-0.035669</td>\n",
       "      <td>-0.518582</td>\n",
       "      <td>-0.109750</td>\n",
       "      <td>0.098497</td>\n",
       "      <td>-0.029333</td>\n",
       "      <td>0.028193</td>\n",
       "    </tr>\n",
       "    <tr>\n",
       "      <th>Trap type_OVI</th>\n",
       "      <td>-0.011656</td>\n",
       "      <td>-0.013587</td>\n",
       "      <td>-0.000977</td>\n",
       "      <td>-0.005392</td>\n",
       "      <td>-0.003859</td>\n",
       "      <td>0.001292</td>\n",
       "      <td>-0.004017</td>\n",
       "      <td>-0.011988</td>\n",
       "      <td>-0.001280</td>\n",
       "      <td>-0.035669</td>\n",
       "      <td>1.000000</td>\n",
       "      <td>-0.000786</td>\n",
       "      <td>0.011323</td>\n",
       "      <td>-0.009838</td>\n",
       "      <td>-0.000818</td>\n",
       "      <td>-0.001680</td>\n",
       "    </tr>\n",
       "    <tr>\n",
       "      <th>Trap type_SENTINEL</th>\n",
       "      <td>0.128327</td>\n",
       "      <td>0.043002</td>\n",
       "      <td>-0.037872</td>\n",
       "      <td>0.108575</td>\n",
       "      <td>0.047073</td>\n",
       "      <td>-0.017184</td>\n",
       "      <td>0.055548</td>\n",
       "      <td>0.035333</td>\n",
       "      <td>-0.018611</td>\n",
       "      <td>-0.518582</td>\n",
       "      <td>-0.000786</td>\n",
       "      <td>1.000000</td>\n",
       "      <td>-0.049268</td>\n",
       "      <td>0.056440</td>\n",
       "      <td>-0.007235</td>\n",
       "      <td>-0.017349</td>\n",
       "    </tr>\n",
       "    <tr>\n",
       "      <th>Species_CULEX PIPIENS</th>\n",
       "      <td>-0.347588</td>\n",
       "      <td>0.316788</td>\n",
       "      <td>-0.022527</td>\n",
       "      <td>0.014730</td>\n",
       "      <td>0.065388</td>\n",
       "      <td>-0.052372</td>\n",
       "      <td>0.021916</td>\n",
       "      <td>0.330760</td>\n",
       "      <td>0.158779</td>\n",
       "      <td>-0.109750</td>\n",
       "      <td>0.011323</td>\n",
       "      <td>-0.049268</td>\n",
       "      <td>1.000000</td>\n",
       "      <td>-0.868829</td>\n",
       "      <td>-0.072228</td>\n",
       "      <td>-0.148322</td>\n",
       "    </tr>\n",
       "    <tr>\n",
       "      <th>Species_CULEX RESTUANS</th>\n",
       "      <td>0.343895</td>\n",
       "      <td>-0.315605</td>\n",
       "      <td>0.035888</td>\n",
       "      <td>0.070999</td>\n",
       "      <td>-0.001498</td>\n",
       "      <td>0.076660</td>\n",
       "      <td>-0.055278</td>\n",
       "      <td>-0.327509</td>\n",
       "      <td>-0.150160</td>\n",
       "      <td>0.098497</td>\n",
       "      <td>-0.009838</td>\n",
       "      <td>0.056440</td>\n",
       "      <td>-0.868829</td>\n",
       "      <td>1.000000</td>\n",
       "      <td>-0.148808</td>\n",
       "      <td>-0.305582</td>\n",
       "    </tr>\n",
       "    <tr>\n",
       "      <th>Species_CULEX SALINARIUS</th>\n",
       "      <td>-0.066536</td>\n",
       "      <td>-0.011918</td>\n",
       "      <td>0.031356</td>\n",
       "      <td>-0.072859</td>\n",
       "      <td>-0.045215</td>\n",
       "      <td>-0.004388</td>\n",
       "      <td>-0.004243</td>\n",
       "      <td>-0.010218</td>\n",
       "      <td>0.038892</td>\n",
       "      <td>-0.029333</td>\n",
       "      <td>-0.000818</td>\n",
       "      <td>-0.007235</td>\n",
       "      <td>-0.072228</td>\n",
       "      <td>-0.148808</td>\n",
       "      <td>1.000000</td>\n",
       "      <td>-0.025404</td>\n",
       "    </tr>\n",
       "    <tr>\n",
       "      <th>Species_CULEX TERRITANS</th>\n",
       "      <td>0.005373</td>\n",
       "      <td>0.036645</td>\n",
       "      <td>-0.047749</td>\n",
       "      <td>-0.150962</td>\n",
       "      <td>-0.111394</td>\n",
       "      <td>-0.056925</td>\n",
       "      <td>0.078145</td>\n",
       "      <td>0.032683</td>\n",
       "      <td>-0.022071</td>\n",
       "      <td>0.028193</td>\n",
       "      <td>-0.001680</td>\n",
       "      <td>-0.017349</td>\n",
       "      <td>-0.148322</td>\n",
       "      <td>-0.305582</td>\n",
       "      <td>-0.025404</td>\n",
       "      <td>1.000000</td>\n",
       "    </tr>\n",
       "  </tbody>\n",
       "</table>\n",
       "</div>"
      ],
      "text/plain": [
       "                              Year      Week      Trap  Mosquito number  \\\n",
       "Year                      1.000000 -0.023283  0.102077         0.129326   \n",
       "Week                     -0.023283  1.000000 -0.017556        -0.033900   \n",
       "Trap                      0.102077 -0.017556  1.000000         0.116507   \n",
       "Mosquito number           0.129326 -0.033900  0.116507         1.000000   \n",
       "WNV Present               0.153881  0.174265  0.103819         0.408034   \n",
       "Lat                       0.093983 -0.002876  0.323703         0.096820   \n",
       "Lon                      -0.094628  0.002967 -0.590902        -0.151421   \n",
       "Month                    -0.100847  0.948940 -0.025334        -0.040426   \n",
       "Trap type_CDC            -0.261514  0.028723 -0.013569         0.094147   \n",
       "Trap type_GRAVID          0.155283 -0.047021  0.031873        -0.138275   \n",
       "Trap type_OVI            -0.011656 -0.013587 -0.000977        -0.005392   \n",
       "Trap type_SENTINEL        0.128327  0.043002 -0.037872         0.108575   \n",
       "Species_CULEX PIPIENS    -0.347588  0.316788 -0.022527         0.014730   \n",
       "Species_CULEX RESTUANS    0.343895 -0.315605  0.035888         0.070999   \n",
       "Species_CULEX SALINARIUS -0.066536 -0.011918  0.031356        -0.072859   \n",
       "Species_CULEX TERRITANS   0.005373  0.036645 -0.047749        -0.150962   \n",
       "\n",
       "                          WNV Present       Lat       Lon     Month  \\\n",
       "Year                         0.153881  0.093983 -0.094628 -0.100847   \n",
       "Week                         0.174265 -0.002876  0.002967  0.948940   \n",
       "Trap                         0.103819  0.323703 -0.590902 -0.025334   \n",
       "Mosquito number              0.408034  0.096820 -0.151421 -0.040426   \n",
       "WNV Present                  1.000000  0.110175 -0.163967  0.161334   \n",
       "Lat                          0.110175  1.000000 -0.749416 -0.011544   \n",
       "Lon                         -0.163967 -0.749416  1.000000  0.010695   \n",
       "Month                        0.161334 -0.011544  0.010695  1.000000   \n",
       "Trap type_CDC                0.002740 -0.068795  0.060961  0.070174   \n",
       "Trap type_GRAVID            -0.027359  0.067916 -0.081628 -0.078398   \n",
       "Trap type_OVI               -0.003859  0.001292 -0.004017 -0.011988   \n",
       "Trap type_SENTINEL           0.047073 -0.017184  0.055548  0.035333   \n",
       "Species_CULEX PIPIENS        0.065388 -0.052372  0.021916  0.330760   \n",
       "Species_CULEX RESTUANS      -0.001498  0.076660 -0.055278 -0.327509   \n",
       "Species_CULEX SALINARIUS    -0.045215 -0.004388 -0.004243 -0.010218   \n",
       "Species_CULEX TERRITANS     -0.111394 -0.056925  0.078145  0.032683   \n",
       "\n",
       "                          Trap type_CDC  Trap type_GRAVID  Trap type_OVI  \\\n",
       "Year                          -0.261514          0.155283      -0.011656   \n",
       "Week                           0.028723         -0.047021      -0.013587   \n",
       "Trap                          -0.013569          0.031873      -0.000977   \n",
       "Mosquito number                0.094147         -0.138275      -0.005392   \n",
       "WNV Present                    0.002740         -0.027359      -0.003859   \n",
       "Lat                           -0.068795          0.067916       0.001292   \n",
       "Lon                            0.060961         -0.081628      -0.004017   \n",
       "Month                          0.070174         -0.078398      -0.011988   \n",
       "Trap type_CDC                  1.000000         -0.844420      -0.001280   \n",
       "Trap type_GRAVID              -0.844420          1.000000      -0.035669   \n",
       "Trap type_OVI                 -0.001280         -0.035669       1.000000   \n",
       "Trap type_SENTINEL            -0.018611         -0.518582      -0.000786   \n",
       "Species_CULEX PIPIENS          0.158779         -0.109750       0.011323   \n",
       "Species_CULEX RESTUANS        -0.150160          0.098497      -0.009838   \n",
       "Species_CULEX SALINARIUS       0.038892         -0.029333      -0.000818   \n",
       "Species_CULEX TERRITANS       -0.022071          0.028193      -0.001680   \n",
       "\n",
       "                          Trap type_SENTINEL  Species_CULEX PIPIENS  \\\n",
       "Year                                0.128327              -0.347588   \n",
       "Week                                0.043002               0.316788   \n",
       "Trap                               -0.037872              -0.022527   \n",
       "Mosquito number                     0.108575               0.014730   \n",
       "WNV Present                         0.047073               0.065388   \n",
       "Lat                                -0.017184              -0.052372   \n",
       "Lon                                 0.055548               0.021916   \n",
       "Month                               0.035333               0.330760   \n",
       "Trap type_CDC                      -0.018611               0.158779   \n",
       "Trap type_GRAVID                   -0.518582              -0.109750   \n",
       "Trap type_OVI                      -0.000786               0.011323   \n",
       "Trap type_SENTINEL                  1.000000              -0.049268   \n",
       "Species_CULEX PIPIENS              -0.049268               1.000000   \n",
       "Species_CULEX RESTUANS              0.056440              -0.868829   \n",
       "Species_CULEX SALINARIUS           -0.007235              -0.072228   \n",
       "Species_CULEX TERRITANS            -0.017349              -0.148322   \n",
       "\n",
       "                          Species_CULEX RESTUANS  Species_CULEX SALINARIUS  \\\n",
       "Year                                    0.343895                 -0.066536   \n",
       "Week                                   -0.315605                 -0.011918   \n",
       "Trap                                    0.035888                  0.031356   \n",
       "Mosquito number                         0.070999                 -0.072859   \n",
       "WNV Present                            -0.001498                 -0.045215   \n",
       "Lat                                     0.076660                 -0.004388   \n",
       "Lon                                    -0.055278                 -0.004243   \n",
       "Month                                  -0.327509                 -0.010218   \n",
       "Trap type_CDC                          -0.150160                  0.038892   \n",
       "Trap type_GRAVID                        0.098497                 -0.029333   \n",
       "Trap type_OVI                          -0.009838                 -0.000818   \n",
       "Trap type_SENTINEL                      0.056440                 -0.007235   \n",
       "Species_CULEX PIPIENS                  -0.868829                 -0.072228   \n",
       "Species_CULEX RESTUANS                  1.000000                 -0.148808   \n",
       "Species_CULEX SALINARIUS               -0.148808                  1.000000   \n",
       "Species_CULEX TERRITANS                -0.305582                 -0.025404   \n",
       "\n",
       "                          Species_CULEX TERRITANS  \n",
       "Year                                     0.005373  \n",
       "Week                                     0.036645  \n",
       "Trap                                    -0.047749  \n",
       "Mosquito number                         -0.150962  \n",
       "WNV Present                             -0.111394  \n",
       "Lat                                     -0.056925  \n",
       "Lon                                      0.078145  \n",
       "Month                                    0.032683  \n",
       "Trap type_CDC                           -0.022071  \n",
       "Trap type_GRAVID                         0.028193  \n",
       "Trap type_OVI                           -0.001680  \n",
       "Trap type_SENTINEL                      -0.017349  \n",
       "Species_CULEX PIPIENS                   -0.148322  \n",
       "Species_CULEX RESTUANS                  -0.305582  \n",
       "Species_CULEX SALINARIUS                -0.025404  \n",
       "Species_CULEX TERRITANS                  1.000000  "
      ]
     },
     "execution_count": 165,
     "metadata": {},
     "output_type": "execute_result"
    }
   ],
   "source": [
    "# produce correlation matrix for analysis\n",
    "\n",
    "dummy_df.corr()"
   ]
  },
  {
   "cell_type": "markdown",
   "id": "ae858a6f",
   "metadata": {},
   "source": [
    "Positive Correlations:\n",
    "* `Year`\n",
    "* `Trap`\n",
    "* `WNV Present`\n",
    "* `Lat`\n",
    "* `Trap type_CDC`\n",
    "* `Trap type_Sentinel`\n",
    "* `Species_CULEX PIPIENS`\n",
    "* `Species_CULEX RESTUANS`\n",
    "\n",
    "Negative Correlations:\n",
    "* `Week`\n",
    "* `Lon`\n",
    "* `Month`\n",
    "* `Trap type_GRAVID`\n",
    "* `Trap type_OVI`\n",
    "* `Species_CULEX SALINARIUS`\n",
    "* `Species_CULEX TERRITANS`"
   ]
  },
  {
   "cell_type": "markdown",
   "id": "6be66e15",
   "metadata": {},
   "source": [
    "However, to better visualize and understand the correlations between columns, we can leverage heatmaps using the `seaborn` python package.\n",
    "\n",
    "This visualization can also help us address colinearity, which needs to be mitigated to produce an optimized model."
   ]
  },
  {
   "cell_type": "code",
   "execution_count": 166,
   "id": "72e2c1cb",
   "metadata": {},
   "outputs": [
    {
     "data": {
      "image/png": "[encoded data removed]",
      "text/plain": [
       "<Figure size 1440x1440 with 2 Axes>"
      ]
     },
     "metadata": {
      "needs_background": "light"
     },
     "output_type": "display_data"
    }
   ],
   "source": [
    "# create separate dataframe from dummy dataframe to create heatmap of correlation relationships\n",
    "corr_df = dummy_df.corr()\n",
    "\n",
    "# create a mask, which in this case cuts the matrix in half, diagonally, to remove duplicate information\n",
    "mask = np.triu(corr_df)\n",
    "\n",
    "# create visualization\n",
    "## annot: to display column labels & corr numbers\n",
    "## vmax/vmin: to set upper/lower bound of key\n",
    "## center: to set center of key\n",
    "## cmap: to set color theme\n",
    "## mask: to apply triangular matrix, as specified above\n",
    "\n",
    "plt.figure(figsize = (20,20))\n",
    "sns.heatmap(corr_df.round(2), annot = True, vmax = 1, vmin= -1, center = 0, cmap = 'coolwarm', mask = mask)\n",
    "plt.show()"
   ]
  },
  {
   "cell_type": "markdown",
   "id": "e1ef09a8",
   "metadata": {},
   "source": [
    "As mentioned above, in addition to being a much better visualization aid, the heat map also provides clear problematic issues with colinearity across certain variables. We'll work through reducing the dataframe to mitigate this issues.\n",
    "\n",
    "The first one we'll address is `Lat` and `Lon`. We see fairly strong negative correlations between the two columns. Since `Lon` is also problematic in conjunction with `Trap`, we'll drop `Lon` from the dataframe."
   ]
  },
  {
   "cell_type": "code",
   "execution_count": 167,
   "id": "a27072ae",
   "metadata": {},
   "outputs": [],
   "source": [
    "# remove 'Lon' using .drop()\n",
    "\n",
    "dummy_df.drop('Lon', axis = 1, inplace = True)"
   ]
  },
  {
   "cell_type": "markdown",
   "id": "d8321299",
   "metadata": {},
   "source": [
    "Another issue is `Month` and `Week`, which see an extremely high positive correlation, nearing 1. It could go either way, but we'll remove `Week` for now and can swap later if need be."
   ]
  },
  {
   "cell_type": "code",
   "execution_count": 168,
   "id": "476937a3",
   "metadata": {},
   "outputs": [],
   "source": [
    "# remove 'Lon' using .drop()\n",
    "\n",
    "dummy_df.drop('Week', axis = 1, inplace = True)"
   ]
  },
  {
   "cell_type": "markdown",
   "id": "8ec46e03",
   "metadata": {},
   "source": [
    "Next are the dummy columns for `Species`, specifically between `Species_CULEX RESTUANS` and `Species_CULEX PIPIENS`. First, let's check out the break down between the columns."
   ]
  },
  {
   "cell_type": "code",
   "execution_count": 169,
   "id": "8a865704",
   "metadata": {},
   "outputs": [
    {
     "data": {
      "text/plain": [
       "Species_CULEX RESTUANS      11866\n",
       "Species_CULEX PIPIENS        5486\n",
       "Species_CULEX SALINARIUS      226\n",
       "Species_CULEX TERRITANS       917\n",
       "dtype: int64"
      ]
     },
     "execution_count": 169,
     "metadata": {},
     "output_type": "execute_result"
    }
   ],
   "source": [
    "# check distribution of species\n",
    "\n",
    "dummy_df[['Species_CULEX RESTUANS', 'Species_CULEX PIPIENS', 'Species_CULEX SALINARIUS', 'Species_CULEX TERRITANS']].sum()"
   ]
  },
  {
   "cell_type": "markdown",
   "id": "8b895521",
   "metadata": {},
   "source": [
    "While not ideal in removing `Species_CULEX PIPIENS`, it is safe to remove it from the dataframe. As mentioned towards the beginning of the notebook, removing one of the dummy columns from the dummy variable creation is safe to do, since if all other columns are False, it is assumed that the removed column is True."
   ]
  },
  {
   "cell_type": "code",
   "execution_count": 170,
   "id": "158c50e2",
   "metadata": {},
   "outputs": [],
   "source": [
    "# remove culex pipiens species using .drop()\n",
    "\n",
    "dummy_df.drop('Species_CULEX PIPIENS', axis = 1, inplace = True)"
   ]
  },
  {
   "cell_type": "markdown",
   "id": "f1697ea0",
   "metadata": {},
   "source": [
    "Last is the `Trap type` dummy columns. Again, let's first look at the breakdown of Trap types."
   ]
  },
  {
   "cell_type": "code",
   "execution_count": 171,
   "id": "f5479464",
   "metadata": {},
   "outputs": [
    {
     "data": {
      "text/plain": [
       "Trap type_CDC           544\n",
       "Trap type_SENTINEL      209\n",
       "Trap type_GRAVID      17741\n",
       "Trap type_OVI             1\n",
       "dtype: int64"
      ]
     },
     "execution_count": 171,
     "metadata": {},
     "output_type": "execute_result"
    }
   ],
   "source": [
    "# check trap type distribution\n",
    "\n",
    "dummy_df[['Trap type_CDC', 'Trap type_SENTINEL', 'Trap type_GRAVID', 'Trap type_OVI']].sum()"
   ]
  },
  {
   "cell_type": "markdown",
   "id": "41b07e5c",
   "metadata": {},
   "source": [
    "The GRAVID trap has by far the most use, and therefore sees a negative strong negative correlation with other traps. Since OVI is used only once, and since SENTINEL has a relatively lower negative correlation with GRAVID, we'll drop CDC. This is safe to do since if a test does is not used by either GRAVID or SENTINEL, it has a 99% likelihood that it is a CDC trap."
   ]
  },
  {
   "cell_type": "code",
   "execution_count": 172,
   "id": "75381bd0",
   "metadata": {},
   "outputs": [],
   "source": [
    "# remove CDC and OVI trap types\n",
    "\n",
    "dummy_df.drop('Trap type_CDC', axis = 1, inplace = True)\n",
    "dummy_df.drop('Trap type_OVI', axis = 1, inplace = True)"
   ]
  },
  {
   "cell_type": "markdown",
   "id": "281444f1",
   "metadata": {},
   "source": [
    "Now that strong colinearity is removed from the dataset, we'll again visualize the heatmap"
   ]
  },
  {
   "cell_type": "code",
   "execution_count": 173,
   "id": "df6d7a2d",
   "metadata": {},
   "outputs": [
    {
     "data": {
      "image/png": "[encoded data removed]",
      "text/plain": [
       "<Figure size 1440x1440 with 2 Axes>"
      ]
     },
     "metadata": {
      "needs_background": "light"
     },
     "output_type": "display_data"
    }
   ],
   "source": [
    "# same heatmap construction as above\n",
    "\n",
    "corr_df = dummy_df.corr()\n",
    "\n",
    "mask = np.triu(corr_df)\n",
    "\n",
    "plt.figure(figsize = (20,20))\n",
    "sns.heatmap(corr_df.round(2), annot = True, vmax = 1, vmin= -1, center = 0, cmap = 'coolwarm', mask = mask)\n",
    "plt.show()"
   ]
  },
  {
   "cell_type": "code",
   "execution_count": 190,
   "id": "8dca6241",
   "metadata": {},
   "outputs": [
    {
     "data": {
      "text/plain": [
       "Index(['Year', 'Trap', 'Mosquito number', 'WNV Present', 'Lat', 'Month',\n",
       "       'Trap type_GRAVID', 'Trap type_SENTINEL', 'Species_CULEX RESTUANS',\n",
       "       'Species_CULEX SALINARIUS', 'Species_CULEX TERRITANS'],\n",
       "      dtype='object')"
      ]
     },
     "execution_count": 190,
     "metadata": {},
     "output_type": "execute_result"
    }
   ],
   "source": [
    "dummy_df.columns"
   ]
  },
  {
   "cell_type": "code",
   "execution_count": 196,
   "id": "3a0a058e",
   "metadata": {},
   "outputs": [
    {
     "name": "stdout",
     "output_type": "stream",
     "text": [
      "The correlation between Year and the number of mosquitos is 0.12932594549371043 and the p-value is 8.393050016377127e-70\n",
      "The correlation between Trap and the number of mosquitos is 0.11650748044690704 and the p-value is 6.575277902585879e-57\n",
      "The correlation between Mosquito number and the number of mosquitos is 1.0 and the p-value is 0.0\n",
      "The correlation between WNV Present and the number of mosquitos is 0.40803439689029875 and the p-value is 0.0\n",
      "The correlation between Lat and the number of mosquitos is 0.09681989674648905 and the p-value is 9.096861337562708e-40\n",
      "The correlation between Month and the number of mosquitos is -0.04042643719660079 and the p-value is 3.8038755209747194e-08\n",
      "The correlation between Trap type_GRAVID and the number of mosquitos is -0.13827479127699152 and the p-value is 1.2678161470314007e-79\n",
      "The correlation between Trap type_SENTINEL and the number of mosquitos is 0.10857486046661548 and the p-value is 1.289396369617735e-49\n",
      "The correlation between Species_CULEX RESTUANS and the number of mosquitos is 0.07099925346799671 and the p-value is 4.15651049475258e-22\n",
      "The correlation between Species_CULEX SALINARIUS and the number of mosquitos is -0.07285875847642856 and the p-value is 3.372228634943767e-23\n",
      "The correlation between Species_CULEX TERRITANS and the number of mosquitos is -0.15096200881059016 and the p-value is 1.0319100941508683e-94\n"
     ]
    }
   ],
   "source": [
    "# added this at the last minute since I thought I was onto something, but the p-values look off\n",
    "# this is confirmed linear regression results, where Trap type_SENTINEL has a p-value of .114, but here is 1.28e-49\n",
    "# however, the correlations are right on, so I'm unsure. Leaving it in here just for the feedback portion when it comes\n",
    "\n",
    "for x in dummy_df:\n",
    "    ind = dummy_df[x]\n",
    "    dep = dummy_df['Mosquito number']\n",
    "    pearson = stats.pearsonr(ind,dep)\n",
    "    print(f'The correlation between {x} and the number of mosquitos is {pearson[0]} and the p-value is {pearson[1]}')"
   ]
  },
  {
   "cell_type": "markdown",
   "id": "52825aa8",
   "metadata": {},
   "source": [
    "## Part 3 - Advanced Statistical Analysis\n",
    "1. Run a linear regression to determine how the independent variables affect the number of mosquitoes caught. Explain your model construction process. Analyze the model and the results and discuss the model’s limitations. This may end up being an iterative process.\n",
    "Note:\n",
    "\n",
    "* You will likely see a low R^2 value, that is to be expected.\n",
    "* This dataset does not respond well to performing VIF analysis, so this is not required.\n",
    "* `WNV Present` must not be one of your independent variables."
   ]
  },
  {
   "cell_type": "code",
   "execution_count": 174,
   "id": "91252ec3",
   "metadata": {},
   "outputs": [
    {
     "data": {
      "text/html": [
       "<div>\n",
       "<style scoped>\n",
       "    .dataframe tbody tr th:only-of-type {\n",
       "        vertical-align: middle;\n",
       "    }\n",
       "\n",
       "    .dataframe tbody tr th {\n",
       "        vertical-align: top;\n",
       "    }\n",
       "\n",
       "    .dataframe thead th {\n",
       "        text-align: right;\n",
       "    }\n",
       "</style>\n",
       "<table border=\"1\" class=\"dataframe\">\n",
       "  <thead>\n",
       "    <tr style=\"text-align: right;\">\n",
       "      <th></th>\n",
       "      <th>Year</th>\n",
       "      <th>Trap</th>\n",
       "      <th>Mosquito number</th>\n",
       "      <th>WNV Present</th>\n",
       "      <th>Lat</th>\n",
       "      <th>Month</th>\n",
       "      <th>Trap type_GRAVID</th>\n",
       "      <th>Trap type_SENTINEL</th>\n",
       "      <th>Species_CULEX RESTUANS</th>\n",
       "      <th>Species_CULEX SALINARIUS</th>\n",
       "      <th>Species_CULEX TERRITANS</th>\n",
       "    </tr>\n",
       "  </thead>\n",
       "  <tbody>\n",
       "    <tr>\n",
       "      <th>0</th>\n",
       "      <td>2019</td>\n",
       "      <td>910</td>\n",
       "      <td>2</td>\n",
       "      <td>0</td>\n",
       "      <td>41.977738</td>\n",
       "      <td>9</td>\n",
       "      <td>1</td>\n",
       "      <td>0</td>\n",
       "      <td>1</td>\n",
       "      <td>0</td>\n",
       "      <td>0</td>\n",
       "    </tr>\n",
       "    <tr>\n",
       "      <th>1</th>\n",
       "      <td>2019</td>\n",
       "      <td>114</td>\n",
       "      <td>1</td>\n",
       "      <td>0</td>\n",
       "      <td>41.798211</td>\n",
       "      <td>9</td>\n",
       "      <td>1</td>\n",
       "      <td>0</td>\n",
       "      <td>1</td>\n",
       "      <td>0</td>\n",
       "      <td>0</td>\n",
       "    </tr>\n",
       "    <tr>\n",
       "      <th>2</th>\n",
       "      <td>2019</td>\n",
       "      <td>28</td>\n",
       "      <td>2</td>\n",
       "      <td>0</td>\n",
       "      <td>41.987245</td>\n",
       "      <td>9</td>\n",
       "      <td>1</td>\n",
       "      <td>0</td>\n",
       "      <td>1</td>\n",
       "      <td>0</td>\n",
       "      <td>0</td>\n",
       "    </tr>\n",
       "    <tr>\n",
       "      <th>3</th>\n",
       "      <td>2019</td>\n",
       "      <td>228</td>\n",
       "      <td>1</td>\n",
       "      <td>0</td>\n",
       "      <td>41.953664</td>\n",
       "      <td>9</td>\n",
       "      <td>1</td>\n",
       "      <td>0</td>\n",
       "      <td>1</td>\n",
       "      <td>0</td>\n",
       "      <td>0</td>\n",
       "    </tr>\n",
       "    <tr>\n",
       "      <th>4</th>\n",
       "      <td>2019</td>\n",
       "      <td>209</td>\n",
       "      <td>9</td>\n",
       "      <td>0</td>\n",
       "      <td>41.657069</td>\n",
       "      <td>9</td>\n",
       "      <td>1</td>\n",
       "      <td>0</td>\n",
       "      <td>1</td>\n",
       "      <td>0</td>\n",
       "      <td>0</td>\n",
       "    </tr>\n",
       "  </tbody>\n",
       "</table>\n",
       "</div>"
      ],
      "text/plain": [
       "   Year  Trap  Mosquito number  WNV Present        Lat  Month  \\\n",
       "0  2019   910                2            0  41.977738      9   \n",
       "1  2019   114                1            0  41.798211      9   \n",
       "2  2019    28                2            0  41.987245      9   \n",
       "3  2019   228                1            0  41.953664      9   \n",
       "4  2019   209                9            0  41.657069      9   \n",
       "\n",
       "   Trap type_GRAVID  Trap type_SENTINEL  Species_CULEX RESTUANS  \\\n",
       "0                 1                   0                       1   \n",
       "1                 1                   0                       1   \n",
       "2                 1                   0                       1   \n",
       "3                 1                   0                       1   \n",
       "4                 1                   0                       1   \n",
       "\n",
       "   Species_CULEX SALINARIUS  Species_CULEX TERRITANS  \n",
       "0                         0                        0  \n",
       "1                         0                        0  \n",
       "2                         0                        0  \n",
       "3                         0                        0  \n",
       "4                         0                        0  "
      ]
     },
     "execution_count": 174,
     "metadata": {},
     "output_type": "execute_result"
    }
   ],
   "source": [
    "# review dataframe after above changes\n",
    "\n",
    "dummy_df.head()"
   ]
  },
  {
   "cell_type": "code",
   "execution_count": 175,
   "id": "14484ad2",
   "metadata": {},
   "outputs": [
    {
     "data": {
      "text/plain": [
       "Index(['Year', 'Trap', 'Mosquito number', 'WNV Present', 'Lat', 'Month',\n",
       "       'Trap type_GRAVID', 'Trap type_SENTINEL', 'Species_CULEX RESTUANS',\n",
       "       'Species_CULEX SALINARIUS', 'Species_CULEX TERRITANS'],\n",
       "      dtype='object')"
      ]
     },
     "execution_count": 175,
     "metadata": {},
     "output_type": "execute_result"
    }
   ],
   "source": [
    "# use .columns function to retrieve array of column names\n",
    "\n",
    "dummy_df.columns"
   ]
  },
  {
   "cell_type": "code",
   "execution_count": 176,
   "id": "623de87c",
   "metadata": {},
   "outputs": [],
   "source": [
    "# set x variables (independent)\n",
    "# set y variable (dependent)\n",
    "\n",
    "X = dummy_df[['Year', 'Trap', 'Lat', 'Month', 'Trap type_GRAVID', 'Trap type_SENTINEL', 'Species_CULEX RESTUANS', 'Species_CULEX SALINARIUS', 'Species_CULEX TERRITANS']]\n",
    "y = dummy_df['Mosquito number']"
   ]
  },
  {
   "cell_type": "markdown",
   "id": "1ed8a8e3",
   "metadata": {},
   "source": [
    "Now that the independent and dependent variables are defined, we first want to get a high level understanding of the relationships between each independent variable and the dependent variable. This helps us visualize the potential relationships and findings we may see once we run the linear regression model."
   ]
  },
  {
   "cell_type": "code",
   "execution_count": 177,
   "id": "c33d4693",
   "metadata": {
    "scrolled": true
   },
   "outputs": [
    {
     "data": {
      "image/png": "[encoded data removed]",
      "text/plain": [
       "<Figure size 432x288 with 1 Axes>"
      ]
     },
     "metadata": {
      "needs_background": "light"
     },
     "output_type": "display_data"
    },
    {
     "data": {
      "image/png": "[encoded data removed]",
      "text/plain": [
       "<Figure size 432x288 with 1 Axes>"
      ]
     },
     "metadata": {
      "needs_background": "light"
     },
     "output_type": "display_data"
    },
    {
     "data": {
      "image/png": "[encoded data removed]",
      "text/plain": [
       "<Figure size 432x288 with 1 Axes>"
      ]
     },
     "metadata": {
      "needs_background": "light"
     },
     "output_type": "display_data"
    },
    {
     "data": {
      "image/png": "[encoded data removed]",
      "text/plain": [
       "<Figure size 432x288 with 1 Axes>"
      ]
     },
     "metadata": {
      "needs_background": "light"
     },
     "output_type": "display_data"
    },
    {
     "data": {
      "image/png": "[encoded data removed]",
      "text/plain": [
       "<Figure size 432x288 with 1 Axes>"
      ]
     },
     "metadata": {
      "needs_background": "light"
     },
     "output_type": "display_data"
    },
    {
     "data": {
      "image/png": "[encoded data removed]",
      "text/plain": [
       "<Figure size 432x288 with 1 Axes>"
      ]
     },
     "metadata": {
      "needs_background": "light"
     },
     "output_type": "display_data"
    },
    {
     "data": {
      "image/png": "[encoded data removed]",
      "text/plain": [
       "<Figure size 432x288 with 1 Axes>"
      ]
     },
     "metadata": {
      "needs_background": "light"
     },
     "output_type": "display_data"
    },
    {
     "data": {
      "image/png": "[encoded data removed]",
      "text/plain": [
       "<Figure size 432x288 with 1 Axes>"
      ]
     },
     "metadata": {
      "needs_background": "light"
     },
     "output_type": "display_data"
    },
    {
     "data": {
      "image/png": "[encoded data removed]",
      "text/plain": [
       "<Figure size 432x288 with 1 Axes>"
      ]
     },
     "metadata": {
      "needs_background": "light"
     },
     "output_type": "display_data"
    }
   ],
   "source": [
    "# perform high-level analysis to gauge linear relationships\n",
    "\n",
    "for column in X.columns:\n",
    "    plt.figure()\n",
    "    plt.scatter(X[column], y)\n",
    "    plt.xlabel(column)\n",
    "    plt.ylabel('Mosquito number')\n",
    "    plt.show()"
   ]
  },
  {
   "cell_type": "markdown",
   "id": "eee0eb19",
   "metadata": {},
   "source": [
    "As seen in each visualization, there really aren't any linear relationships between the independent and dependent variables.\n",
    "\n",
    "This is due to the fact that while we have successfully transformed our dataset to numerical values, the dataframe is largely categorical. In other words, the numbers represent discrete classifications, as opposed to continuous data points.\n",
    "\n",
    "Linear regression models thrive when leveraging continuous data since those relationships can be correlated and projected on a future, temporal basis. However, when dealing with classification problems, a linear model is not fitting since there are no continuous data points, outside of the dependent variable, to base the causation and projection of future outcomes.\n",
    "\n",
    "Having said that, let's continue through the Linear Regression model building."
   ]
  },
  {
   "cell_type": "code",
   "execution_count": 178,
   "id": "65b6cbb2",
   "metadata": {},
   "outputs": [],
   "source": [
    "# adding the constant\n",
    "\n",
    "X_withconstant = sm.add_constant(X)"
   ]
  },
  {
   "cell_type": "code",
   "execution_count": 179,
   "id": "0fe14bad",
   "metadata": {},
   "outputs": [
    {
     "data": {
      "text/html": [
       "<table class=\"simpletable\">\n",
       "<caption>OLS Regression Results</caption>\n",
       "<tr>\n",
       "  <th>Dep. Variable:</th>     <td>Mosquito number</td> <th>  R-squared:         </th> <td>   0.085</td> \n",
       "</tr>\n",
       "<tr>\n",
       "  <th>Model:</th>                   <td>OLS</td>       <th>  Adj. R-squared:    </th> <td>   0.085</td> \n",
       "</tr>\n",
       "<tr>\n",
       "  <th>Method:</th>             <td>Least Squares</td>  <th>  F-statistic:       </th> <td>   191.7</td> \n",
       "</tr>\n",
       "<tr>\n",
       "  <th>Date:</th>             <td>Sun, 10 Jul 2022</td> <th>  Prob (F-statistic):</th>  <td>  0.00</td>  \n",
       "</tr>\n",
       "<tr>\n",
       "  <th>Time:</th>                 <td>20:56:41</td>     <th>  Log-Likelihood:    </th> <td> -73520.</td> \n",
       "</tr>\n",
       "<tr>\n",
       "  <th>No. Observations:</th>      <td> 18495</td>      <th>  AIC:               </th> <td>1.471e+05</td>\n",
       "</tr>\n",
       "<tr>\n",
       "  <th>Df Residuals:</th>          <td> 18485</td>      <th>  BIC:               </th> <td>1.471e+05</td>\n",
       "</tr>\n",
       "<tr>\n",
       "  <th>Df Model:</th>              <td>     9</td>      <th>                     </th>     <td> </td>    \n",
       "</tr>\n",
       "<tr>\n",
       "  <th>Covariance Type:</th>      <td>nonrobust</td>    <th>                     </th>     <td> </td>    \n",
       "</tr>\n",
       "</table>\n",
       "<table class=\"simpletable\">\n",
       "<tr>\n",
       "              <td></td>                <th>coef</th>     <th>std err</th>      <th>t</th>      <th>P>|t|</th>  <th>[0.025</th>    <th>0.975]</th>  \n",
       "</tr>\n",
       "<tr>\n",
       "  <th>const</th>                    <td>-1323.3645</td> <td>   66.461</td> <td>  -19.912</td> <td> 0.000</td> <td>-1453.635</td> <td>-1193.094</td>\n",
       "</tr>\n",
       "<tr>\n",
       "  <th>Year</th>                     <td>    0.5223</td> <td>    0.028</td> <td>   18.410</td> <td> 0.000</td> <td>    0.467</td> <td>    0.578</td>\n",
       "</tr>\n",
       "<tr>\n",
       "  <th>Trap</th>                     <td>    0.0041</td> <td>    0.000</td> <td>   11.121</td> <td> 0.000</td> <td>    0.003</td> <td>    0.005</td>\n",
       "</tr>\n",
       "<tr>\n",
       "  <th>Lat</th>                      <td>    7.1361</td> <td>    0.873</td> <td>    8.177</td> <td> 0.000</td> <td>    5.426</td> <td>    8.847</td>\n",
       "</tr>\n",
       "<tr>\n",
       "  <th>Month</th>                    <td>   -0.6317</td> <td>    0.101</td> <td>   -6.237</td> <td> 0.000</td> <td>   -0.830</td> <td>   -0.433</td>\n",
       "</tr>\n",
       "<tr>\n",
       "  <th>Trap type_GRAVID</th>         <td>  -10.7443</td> <td>    0.584</td> <td>  -18.408</td> <td> 0.000</td> <td>  -11.888</td> <td>   -9.600</td>\n",
       "</tr>\n",
       "<tr>\n",
       "  <th>Trap type_SENTINEL</th>       <td>    1.7165</td> <td>    1.086</td> <td>    1.581</td> <td> 0.114</td> <td>   -0.412</td> <td>    3.845</td>\n",
       "</tr>\n",
       "<tr>\n",
       "  <th>Species_CULEX RESTUANS</th>   <td>   -1.2962</td> <td>    0.239</td> <td>   -5.419</td> <td> 0.000</td> <td>   -1.765</td> <td>   -0.827</td>\n",
       "</tr>\n",
       "<tr>\n",
       "  <th>Species_CULEX SALINARIUS</th> <td>   -9.9809</td> <td>    0.878</td> <td>  -11.373</td> <td> 0.000</td> <td>  -11.701</td> <td>   -8.261</td>\n",
       "</tr>\n",
       "<tr>\n",
       "  <th>Species_CULEX TERRITANS</th>  <td>   -9.5743</td> <td>    0.466</td> <td>  -20.537</td> <td> 0.000</td> <td>  -10.488</td> <td>   -8.660</td>\n",
       "</tr>\n",
       "</table>\n",
       "<table class=\"simpletable\">\n",
       "<tr>\n",
       "  <th>Omnibus:</th>       <td>4558.580</td> <th>  Durbin-Watson:     </th> <td>   1.550</td>\n",
       "</tr>\n",
       "<tr>\n",
       "  <th>Prob(Omnibus):</th>  <td> 0.000</td>  <th>  Jarque-Bera (JB):  </th> <td>9044.048</td>\n",
       "</tr>\n",
       "<tr>\n",
       "  <th>Skew:</th>           <td> 1.512</td>  <th>  Prob(JB):          </th> <td>    0.00</td>\n",
       "</tr>\n",
       "<tr>\n",
       "  <th>Kurtosis:</th>       <td> 4.609</td>  <th>  Cond. No.          </th> <td>1.42e+06</td>\n",
       "</tr>\n",
       "</table><br/><br/>Notes:<br/>[1] Standard Errors assume that the covariance matrix of the errors is correctly specified.<br/>[2] The condition number is large, 1.42e+06. This might indicate that there are<br/>strong multicollinearity or other numerical problems."
      ],
      "text/plain": [
       "<class 'statsmodels.iolib.summary.Summary'>\n",
       "\"\"\"\n",
       "                            OLS Regression Results                            \n",
       "==============================================================================\n",
       "Dep. Variable:        Mosquito number   R-squared:                       0.085\n",
       "Model:                            OLS   Adj. R-squared:                  0.085\n",
       "Method:                 Least Squares   F-statistic:                     191.7\n",
       "Date:                Sun, 10 Jul 2022   Prob (F-statistic):               0.00\n",
       "Time:                        20:56:41   Log-Likelihood:                -73520.\n",
       "No. Observations:               18495   AIC:                         1.471e+05\n",
       "Df Residuals:                   18485   BIC:                         1.471e+05\n",
       "Df Model:                           9                                         \n",
       "Covariance Type:            nonrobust                                         \n",
       "============================================================================================\n",
       "                               coef    std err          t      P>|t|      [0.025      0.975]\n",
       "--------------------------------------------------------------------------------------------\n",
       "const                    -1323.3645     66.461    -19.912      0.000   -1453.635   -1193.094\n",
       "Year                         0.5223      0.028     18.410      0.000       0.467       0.578\n",
       "Trap                         0.0041      0.000     11.121      0.000       0.003       0.005\n",
       "Lat                          7.1361      0.873      8.177      0.000       5.426       8.847\n",
       "Month                       -0.6317      0.101     -6.237      0.000      -0.830      -0.433\n",
       "Trap type_GRAVID           -10.7443      0.584    -18.408      0.000     -11.888      -9.600\n",
       "Trap type_SENTINEL           1.7165      1.086      1.581      0.114      -0.412       3.845\n",
       "Species_CULEX RESTUANS      -1.2962      0.239     -5.419      0.000      -1.765      -0.827\n",
       "Species_CULEX SALINARIUS    -9.9809      0.878    -11.373      0.000     -11.701      -8.261\n",
       "Species_CULEX TERRITANS     -9.5743      0.466    -20.537      0.000     -10.488      -8.660\n",
       "==============================================================================\n",
       "Omnibus:                     4558.580   Durbin-Watson:                   1.550\n",
       "Prob(Omnibus):                  0.000   Jarque-Bera (JB):             9044.048\n",
       "Skew:                           1.512   Prob(JB):                         0.00\n",
       "Kurtosis:                       4.609   Cond. No.                     1.42e+06\n",
       "==============================================================================\n",
       "\n",
       "Notes:\n",
       "[1] Standard Errors assume that the covariance matrix of the errors is correctly specified.\n",
       "[2] The condition number is large, 1.42e+06. This might indicate that there are\n",
       "strong multicollinearity or other numerical problems.\n",
       "\"\"\""
      ]
     },
     "execution_count": 179,
     "metadata": {},
     "output_type": "execute_result"
    }
   ],
   "source": [
    "# Initiating the model using statsmodel\n",
    "mos_num = sm.OLS(y, X_withconstant)\n",
    "\n",
    "# Fit and run the model\n",
    "mos_num_results = mos_num.fit()\n",
    "\n",
    "# View the results\n",
    "mos_num_results.summary()"
   ]
  },
  {
   "cell_type": "markdown",
   "id": "743225f1",
   "metadata": {},
   "source": [
    "The main takeaway of the above results is the statistical insignificance of the Sentinel Trap type. Before removing it from the model, lets try to interpret the model results.\n",
    "\n",
    "The coefficients shown represent the relative increase or decrease in the number of mosquitos with a one unit increase in the independent variable. For example:\n",
    "\n",
    "* With 1 unit increase in Year, there is a 0.5223 increase in the number of mosquitos trapped, indicating a rising number of mosquitos in the area (or simply more effective trapping mechanisms)\n",
    "* With 1 unit increase in Trap, there is a 0.0041 increase in the number of mosquitos trapped, indicating a near-negligible effect on the dependent variable.\n",
    "* However, interestingly enough, with 1 unit increase in Lat, there is a 7.1361 increase in the number of mosquitos trapped, which substaintial, especially considering the small effect Trap number had."
   ]
  },
  {
   "cell_type": "markdown",
   "id": "617bfc9f",
   "metadata": {},
   "source": [
    "As expected, the model performs poorly. This is mainly due to the point above regarding the fact that this dataset is better suited towards a classification problem, has opposed to forecasting problem.\n",
    "\n",
    "However, let's remove the Sentinel Trap to see if we garner better results."
   ]
  },
  {
   "cell_type": "code",
   "execution_count": 180,
   "id": "7b0beac1",
   "metadata": {},
   "outputs": [],
   "source": [
    "X = dummy_df[['Year', 'Trap', 'Lat', 'Month', 'Trap type_GRAVID', 'Species_CULEX RESTUANS', 'Species_CULEX SALINARIUS', 'Species_CULEX TERRITANS']]\n",
    "y = dummy_df['Mosquito number']"
   ]
  },
  {
   "cell_type": "code",
   "execution_count": 181,
   "id": "29014b28",
   "metadata": {},
   "outputs": [],
   "source": [
    "X_withconstant = sm.add_constant(X)"
   ]
  },
  {
   "cell_type": "code",
   "execution_count": 182,
   "id": "05a57017",
   "metadata": {},
   "outputs": [
    {
     "data": {
      "text/html": [
       "<table class=\"simpletable\">\n",
       "<caption>OLS Regression Results</caption>\n",
       "<tr>\n",
       "  <th>Dep. Variable:</th>     <td>Mosquito number</td> <th>  R-squared:         </th> <td>   0.085</td> \n",
       "</tr>\n",
       "<tr>\n",
       "  <th>Model:</th>                   <td>OLS</td>       <th>  Adj. R-squared:    </th> <td>   0.085</td> \n",
       "</tr>\n",
       "<tr>\n",
       "  <th>Method:</th>             <td>Least Squares</td>  <th>  F-statistic:       </th> <td>   215.4</td> \n",
       "</tr>\n",
       "<tr>\n",
       "  <th>Date:</th>             <td>Sun, 10 Jul 2022</td> <th>  Prob (F-statistic):</th>  <td>  0.00</td>  \n",
       "</tr>\n",
       "<tr>\n",
       "  <th>Time:</th>                 <td>20:56:43</td>     <th>  Log-Likelihood:    </th> <td> -73521.</td> \n",
       "</tr>\n",
       "<tr>\n",
       "  <th>No. Observations:</th>      <td> 18495</td>      <th>  AIC:               </th> <td>1.471e+05</td>\n",
       "</tr>\n",
       "<tr>\n",
       "  <th>Df Residuals:</th>          <td> 18486</td>      <th>  BIC:               </th> <td>1.471e+05</td>\n",
       "</tr>\n",
       "<tr>\n",
       "  <th>Df Model:</th>              <td>     8</td>      <th>                     </th>     <td> </td>    \n",
       "</tr>\n",
       "<tr>\n",
       "  <th>Covariance Type:</th>      <td>nonrobust</td>    <th>                     </th>     <td> </td>    \n",
       "</tr>\n",
       "</table>\n",
       "<table class=\"simpletable\">\n",
       "<tr>\n",
       "              <td></td>                <th>coef</th>     <th>std err</th>      <th>t</th>      <th>P>|t|</th>  <th>[0.025</th>    <th>0.975]</th>  \n",
       "</tr>\n",
       "<tr>\n",
       "  <th>const</th>                    <td>-1343.5079</td> <td>   65.231</td> <td>  -20.596</td> <td> 0.000</td> <td>-1471.367</td> <td>-1215.649</td>\n",
       "</tr>\n",
       "<tr>\n",
       "  <th>Year</th>                     <td>    0.5321</td> <td>    0.028</td> <td>   19.220</td> <td> 0.000</td> <td>    0.478</td> <td>    0.586</td>\n",
       "</tr>\n",
       "<tr>\n",
       "  <th>Trap</th>                     <td>    0.0041</td> <td>    0.000</td> <td>   11.053</td> <td> 0.000</td> <td>    0.003</td> <td>    0.005</td>\n",
       "</tr>\n",
       "<tr>\n",
       "  <th>Lat</th>                      <td>    7.1565</td> <td>    0.873</td> <td>    8.201</td> <td> 0.000</td> <td>    5.446</td> <td>    8.867</td>\n",
       "</tr>\n",
       "<tr>\n",
       "  <th>Month</th>                    <td>   -0.6264</td> <td>    0.101</td> <td>   -6.188</td> <td> 0.000</td> <td>   -0.825</td> <td>   -0.428</td>\n",
       "</tr>\n",
       "<tr>\n",
       "  <th>Trap type_GRAVID</th>         <td>  -11.2515</td> <td>    0.488</td> <td>  -23.074</td> <td> 0.000</td> <td>  -12.207</td> <td>  -10.296</td>\n",
       "</tr>\n",
       "<tr>\n",
       "  <th>Species_CULEX RESTUANS</th>   <td>   -1.2752</td> <td>    0.239</td> <td>   -5.339</td> <td> 0.000</td> <td>   -1.743</td> <td>   -0.807</td>\n",
       "</tr>\n",
       "<tr>\n",
       "  <th>Species_CULEX SALINARIUS</th> <td>   -9.9805</td> <td>    0.878</td> <td>  -11.372</td> <td> 0.000</td> <td>  -11.701</td> <td>   -8.260</td>\n",
       "</tr>\n",
       "<tr>\n",
       "  <th>Species_CULEX TERRITANS</th>  <td>   -9.5645</td> <td>    0.466</td> <td>  -20.517</td> <td> 0.000</td> <td>  -10.478</td> <td>   -8.651</td>\n",
       "</tr>\n",
       "</table>\n",
       "<table class=\"simpletable\">\n",
       "<tr>\n",
       "  <th>Omnibus:</th>       <td>4546.974</td> <th>  Durbin-Watson:     </th> <td>   1.551</td>\n",
       "</tr>\n",
       "<tr>\n",
       "  <th>Prob(Omnibus):</th>  <td> 0.000</td>  <th>  Jarque-Bera (JB):  </th> <td>9003.011</td>\n",
       "</tr>\n",
       "<tr>\n",
       "  <th>Skew:</th>           <td> 1.510</td>  <th>  Prob(JB):          </th> <td>    0.00</td>\n",
       "</tr>\n",
       "<tr>\n",
       "  <th>Kurtosis:</th>       <td> 4.601</td>  <th>  Cond. No.          </th> <td>1.39e+06</td>\n",
       "</tr>\n",
       "</table><br/><br/>Notes:<br/>[1] Standard Errors assume that the covariance matrix of the errors is correctly specified.<br/>[2] The condition number is large, 1.39e+06. This might indicate that there are<br/>strong multicollinearity or other numerical problems."
      ],
      "text/plain": [
       "<class 'statsmodels.iolib.summary.Summary'>\n",
       "\"\"\"\n",
       "                            OLS Regression Results                            \n",
       "==============================================================================\n",
       "Dep. Variable:        Mosquito number   R-squared:                       0.085\n",
       "Model:                            OLS   Adj. R-squared:                  0.085\n",
       "Method:                 Least Squares   F-statistic:                     215.4\n",
       "Date:                Sun, 10 Jul 2022   Prob (F-statistic):               0.00\n",
       "Time:                        20:56:43   Log-Likelihood:                -73521.\n",
       "No. Observations:               18495   AIC:                         1.471e+05\n",
       "Df Residuals:                   18486   BIC:                         1.471e+05\n",
       "Df Model:                           8                                         \n",
       "Covariance Type:            nonrobust                                         \n",
       "============================================================================================\n",
       "                               coef    std err          t      P>|t|      [0.025      0.975]\n",
       "--------------------------------------------------------------------------------------------\n",
       "const                    -1343.5079     65.231    -20.596      0.000   -1471.367   -1215.649\n",
       "Year                         0.5321      0.028     19.220      0.000       0.478       0.586\n",
       "Trap                         0.0041      0.000     11.053      0.000       0.003       0.005\n",
       "Lat                          7.1565      0.873      8.201      0.000       5.446       8.867\n",
       "Month                       -0.6264      0.101     -6.188      0.000      -0.825      -0.428\n",
       "Trap type_GRAVID           -11.2515      0.488    -23.074      0.000     -12.207     -10.296\n",
       "Species_CULEX RESTUANS      -1.2752      0.239     -5.339      0.000      -1.743      -0.807\n",
       "Species_CULEX SALINARIUS    -9.9805      0.878    -11.372      0.000     -11.701      -8.260\n",
       "Species_CULEX TERRITANS     -9.5645      0.466    -20.517      0.000     -10.478      -8.651\n",
       "==============================================================================\n",
       "Omnibus:                     4546.974   Durbin-Watson:                   1.551\n",
       "Prob(Omnibus):                  0.000   Jarque-Bera (JB):             9003.011\n",
       "Skew:                           1.510   Prob(JB):                         0.00\n",
       "Kurtosis:                       4.601   Cond. No.                     1.39e+06\n",
       "==============================================================================\n",
       "\n",
       "Notes:\n",
       "[1] Standard Errors assume that the covariance matrix of the errors is correctly specified.\n",
       "[2] The condition number is large, 1.39e+06. This might indicate that there are\n",
       "strong multicollinearity or other numerical problems.\n",
       "\"\"\""
      ]
     },
     "execution_count": 182,
     "metadata": {},
     "output_type": "execute_result"
    }
   ],
   "source": [
    "# Initiating the model using statsmodel\n",
    "mos_num = sm.OLS(y, X_withconstant)\n",
    "\n",
    "# Fit and run the model\n",
    "mos_num_results = mos_num.fit()\n",
    "\n",
    "# View the results\n",
    "mos_num_results.summary()"
   ]
  },
  {
   "cell_type": "markdown",
   "id": "6e6db067",
   "metadata": {},
   "source": [
    "Unfortunately, no discernable changes once Sentinel trap type is removed.\n",
    "\n",
    "Since we've already seen in the pre-model fitting process that Linear Regression was not the ideal model methodology for this dataset, lets take a look at Logistic Regression."
   ]
  },
  {
   "cell_type": "markdown",
   "id": "d7c41ad1",
   "metadata": {},
   "source": [
    "#### Q3.2: Run a logistic regression to determine how the independent variables affect West Nile Virus presence. Explain your model construction process. Analyze the model and the results and discuss the model’s limitations. This may end up being an iterative process.\n",
    "Note: `Mosquito number` should be one of your independent variables."
   ]
  },
  {
   "cell_type": "code",
   "execution_count": 183,
   "id": "9420f41f",
   "metadata": {},
   "outputs": [],
   "source": [
    "# define independent variables\n",
    "X = dummy_df[['Year', 'Trap', 'Mosquito number', 'Lat', 'Month', 'Trap type_GRAVID', 'Trap type_SENTINEL', 'Species_CULEX RESTUANS', 'Species_CULEX SALINARIUS', 'Species_CULEX TERRITANS']]\n",
    "# define dependent variable\n",
    "y = dummy_df['WNV Present']\n",
    "\n",
    "# add constant\n",
    "X_withconstant = sm.add_constant(X)"
   ]
  },
  {
   "cell_type": "code",
   "execution_count": 184,
   "id": "0c116f46",
   "metadata": {},
   "outputs": [
    {
     "name": "stdout",
     "output_type": "stream",
     "text": [
      "Optimization terminated successfully.\n",
      "         Current function value: 0.408964\n",
      "         Iterations 8\n"
     ]
    },
    {
     "data": {
      "text/html": [
       "<table class=\"simpletable\">\n",
       "<caption>Logit Regression Results</caption>\n",
       "<tr>\n",
       "  <th>Dep. Variable:</th>      <td>WNV Present</td>   <th>  No. Observations:  </th>  <td> 18495</td> \n",
       "</tr>\n",
       "<tr>\n",
       "  <th>Model:</th>                 <td>Logit</td>      <th>  Df Residuals:      </th>  <td> 18484</td> \n",
       "</tr>\n",
       "<tr>\n",
       "  <th>Method:</th>                 <td>MLE</td>       <th>  Df Model:          </th>  <td>    10</td> \n",
       "</tr>\n",
       "<tr>\n",
       "  <th>Date:</th>            <td>Sun, 10 Jul 2022</td> <th>  Pseudo R-squ.:     </th>  <td>0.2161</td> \n",
       "</tr>\n",
       "<tr>\n",
       "  <th>Time:</th>                <td>20:56:45</td>     <th>  Log-Likelihood:    </th> <td> -7563.8</td>\n",
       "</tr>\n",
       "<tr>\n",
       "  <th>converged:</th>             <td>True</td>       <th>  LL-Null:           </th> <td> -9649.5</td>\n",
       "</tr>\n",
       "<tr>\n",
       "  <th>Covariance Type:</th>     <td>nonrobust</td>    <th>  LLR p-value:       </th>  <td> 0.000</td> \n",
       "</tr>\n",
       "</table>\n",
       "<table class=\"simpletable\">\n",
       "<tr>\n",
       "              <td></td>                <th>coef</th>     <th>std err</th>      <th>z</th>      <th>P>|z|</th>  <th>[0.025</th>    <th>0.975]</th>  \n",
       "</tr>\n",
       "<tr>\n",
       "  <th>const</th>                    <td> -307.4805</td> <td>   15.687</td> <td>  -19.601</td> <td> 0.000</td> <td> -338.227</td> <td> -276.734</td>\n",
       "</tr>\n",
       "<tr>\n",
       "  <th>Year</th>                     <td>    0.1213</td> <td>    0.007</td> <td>   18.079</td> <td> 0.000</td> <td>    0.108</td> <td>    0.134</td>\n",
       "</tr>\n",
       "<tr>\n",
       "  <th>Trap</th>                     <td>    0.0003</td> <td> 7.23e-05</td> <td>    4.606</td> <td> 0.000</td> <td>    0.000</td> <td>    0.000</td>\n",
       "</tr>\n",
       "<tr>\n",
       "  <th>Mosquito number</th>          <td>    0.0656</td> <td>    0.001</td> <td>   45.368</td> <td> 0.000</td> <td>    0.063</td> <td>    0.068</td>\n",
       "</tr>\n",
       "<tr>\n",
       "  <th>Lat</th>                      <td>    1.3407</td> <td>    0.195</td> <td>    6.892</td> <td> 0.000</td> <td>    0.959</td> <td>    1.722</td>\n",
       "</tr>\n",
       "<tr>\n",
       "  <th>Month</th>                    <td>    0.6235</td> <td>    0.024</td> <td>   25.764</td> <td> 0.000</td> <td>    0.576</td> <td>    0.671</td>\n",
       "</tr>\n",
       "<tr>\n",
       "  <th>Trap type_GRAVID</th>         <td>    0.2607</td> <td>    0.132</td> <td>    1.981</td> <td> 0.048</td> <td>    0.003</td> <td>    0.519</td>\n",
       "</tr>\n",
       "<tr>\n",
       "  <th>Trap type_SENTINEL</th>       <td>   -0.2619</td> <td>    0.215</td> <td>   -1.217</td> <td> 0.224</td> <td>   -0.684</td> <td>    0.160</td>\n",
       "</tr>\n",
       "<tr>\n",
       "  <th>Species_CULEX RESTUANS</th>   <td>   -0.2938</td> <td>    0.051</td> <td>   -5.773</td> <td> 0.000</td> <td>   -0.393</td> <td>   -0.194</td>\n",
       "</tr>\n",
       "<tr>\n",
       "  <th>Species_CULEX SALINARIUS</th> <td>   -0.9997</td> <td>    0.322</td> <td>   -3.100</td> <td> 0.002</td> <td>   -1.632</td> <td>   -0.368</td>\n",
       "</tr>\n",
       "<tr>\n",
       "  <th>Species_CULEX TERRITANS</th>  <td>   -2.5412</td> <td>    0.274</td> <td>   -9.265</td> <td> 0.000</td> <td>   -3.079</td> <td>   -2.004</td>\n",
       "</tr>\n",
       "</table>"
      ],
      "text/plain": [
       "<class 'statsmodels.iolib.summary.Summary'>\n",
       "\"\"\"\n",
       "                           Logit Regression Results                           \n",
       "==============================================================================\n",
       "Dep. Variable:            WNV Present   No. Observations:                18495\n",
       "Model:                          Logit   Df Residuals:                    18484\n",
       "Method:                           MLE   Df Model:                           10\n",
       "Date:                Sun, 10 Jul 2022   Pseudo R-squ.:                  0.2161\n",
       "Time:                        20:56:45   Log-Likelihood:                -7563.8\n",
       "converged:                       True   LL-Null:                       -9649.5\n",
       "Covariance Type:            nonrobust   LLR p-value:                     0.000\n",
       "============================================================================================\n",
       "                               coef    std err          z      P>|z|      [0.025      0.975]\n",
       "--------------------------------------------------------------------------------------------\n",
       "const                     -307.4805     15.687    -19.601      0.000    -338.227    -276.734\n",
       "Year                         0.1213      0.007     18.079      0.000       0.108       0.134\n",
       "Trap                         0.0003   7.23e-05      4.606      0.000       0.000       0.000\n",
       "Mosquito number              0.0656      0.001     45.368      0.000       0.063       0.068\n",
       "Lat                          1.3407      0.195      6.892      0.000       0.959       1.722\n",
       "Month                        0.6235      0.024     25.764      0.000       0.576       0.671\n",
       "Trap type_GRAVID             0.2607      0.132      1.981      0.048       0.003       0.519\n",
       "Trap type_SENTINEL          -0.2619      0.215     -1.217      0.224      -0.684       0.160\n",
       "Species_CULEX RESTUANS      -0.2938      0.051     -5.773      0.000      -0.393      -0.194\n",
       "Species_CULEX SALINARIUS    -0.9997      0.322     -3.100      0.002      -1.632      -0.368\n",
       "Species_CULEX TERRITANS     -2.5412      0.274     -9.265      0.000      -3.079      -2.004\n",
       "============================================================================================\n",
       "\"\"\""
      ]
     },
     "execution_count": 184,
     "metadata": {},
     "output_type": "execute_result"
    }
   ],
   "source": [
    "# initiate model\n",
    "wnv_logreg = sm.Logit(y, X_withconstant)\n",
    "\n",
    "# fit model\n",
    "wmv_logreg_results = wnv_logreg.fit()\n",
    "\n",
    "# run model and see summary results\n",
    "wmv_logreg_results.summary()"
   ]
  },
  {
   "cell_type": "code",
   "execution_count": 185,
   "id": "99b12608",
   "metadata": {},
   "outputs": [
    {
     "data": {
      "text/plain": [
       "81.292"
      ]
     },
     "execution_count": 185,
     "metadata": {},
     "output_type": "execute_result"
    }
   ],
   "source": [
    "# initiative predictive function of model using .predict and defined add_constant\n",
    "y_proba = wmv_logreg_results.predict(X_withconstant)\n",
    "\n",
    "# round results over .5 to 1, since logistic regression probabilities are based binaries\n",
    "y_pred = np.where(y_proba >= 0.5, 1, 0)\n",
    "\n",
    "# where WNV present result equals prediction, consider prediction correct and sum\n",
    "num_correct = (y_pred == y).sum()\n",
    "\n",
    "# divide number correct by total number of records to find prediction accuracy\n",
    "pct_accuracy = num_correct / X.shape[0]\n",
    "\n",
    "# display prediction accuracy\n",
    "np.round(pct_accuracy * 100, 3)"
   ]
  },
  {
   "cell_type": "markdown",
   "id": "9951543d",
   "metadata": {},
   "source": [
    "At a model accuracy of 81.292%, we assume that we can predict with that accuracy whether or not a given test batch will be WNV positive or not. \n",
    "\n",
    "Although the Sentinel Trap Type has a relatively higher p-value, and is technically statistically insignificant, it is an important business question of the type of traps that should be used as the WNV testing process is scaled and/or optimized, so we will keep it for now.\n",
    "\n",
    "To better visualize the importance of the features that go into a given prediction, we'll graphically depict the coefficients below."
   ]
  },
  {
   "cell_type": "code",
   "execution_count": 186,
   "id": "cbc81830",
   "metadata": {},
   "outputs": [
    {
     "data": {
      "image/png": "[encoded data removed]",
      "text/plain": [
       "<Figure size 432x288 with 1 Axes>"
      ]
     },
     "metadata": {
      "needs_background": "light"
     },
     "output_type": "display_data"
    }
   ],
   "source": [
    "#grab features\n",
    "parameters = wmv_logreg_results.params\n",
    "#drop constant\n",
    "parameters.drop('const', inplace = True)\n",
    "\n",
    "#plot features by coefficient values\n",
    "plt.figure()\n",
    "parameters.sort_values().plot(kind=\"barh\")\n",
    "plt.show()"
   ]
  },
  {
   "cell_type": "markdown",
   "id": "937d7219",
   "metadata": {},
   "source": [
    "Here, we see that Latitude and Month are the two largest contributors towards the model's prediction.\n",
    "\n",
    "However, let's see how we can leverage the correlation numbers seen previously to achieve similar accuracy with less features."
   ]
  },
  {
   "cell_type": "code",
   "execution_count": 187,
   "id": "7faf822d",
   "metadata": {},
   "outputs": [
    {
     "data": {
      "text/plain": [
       "WNV Present                 1.000000\n",
       "Mosquito number             0.408034\n",
       "Month                       0.161334\n",
       "Year                        0.153881\n",
       "Lat                         0.110175\n",
       "Trap                        0.103819\n",
       "Trap type_SENTINEL          0.047073\n",
       "Species_CULEX RESTUANS     -0.001498\n",
       "Trap type_GRAVID           -0.027359\n",
       "Species_CULEX SALINARIUS   -0.045215\n",
       "Species_CULEX TERRITANS    -0.111394\n",
       "Name: WNV Present, dtype: float64"
      ]
     },
     "execution_count": 187,
     "metadata": {},
     "output_type": "execute_result"
    }
   ],
   "source": [
    "# find correlation numbers\n",
    "\n",
    "dummy_df.corr()['WNV Present'].sort_values(ascending = False)"
   ]
  },
  {
   "cell_type": "code",
   "execution_count": 188,
   "id": "930808a0",
   "metadata": {},
   "outputs": [
    {
     "name": "stdout",
     "output_type": "stream",
     "text": [
      "Optimization terminated successfully.\n",
      "         Current function value: 0.449355\n",
      "         Iterations 6\n"
     ]
    },
    {
     "data": {
      "text/html": [
       "<table class=\"simpletable\">\n",
       "<caption>Logit Regression Results</caption>\n",
       "<tr>\n",
       "  <th>Dep. Variable:</th>      <td>WNV Present</td>   <th>  No. Observations:  </th>  <td> 18495</td> \n",
       "</tr>\n",
       "<tr>\n",
       "  <th>Model:</th>                 <td>Logit</td>      <th>  Df Residuals:      </th>  <td> 18493</td> \n",
       "</tr>\n",
       "<tr>\n",
       "  <th>Method:</th>                 <td>MLE</td>       <th>  Df Model:          </th>  <td>     1</td> \n",
       "</tr>\n",
       "<tr>\n",
       "  <th>Date:</th>            <td>Sun, 10 Jul 2022</td> <th>  Pseudo R-squ.:     </th>  <td>0.1387</td> \n",
       "</tr>\n",
       "<tr>\n",
       "  <th>Time:</th>                <td>20:56:49</td>     <th>  Log-Likelihood:    </th> <td> -8310.8</td>\n",
       "</tr>\n",
       "<tr>\n",
       "  <th>converged:</th>             <td>True</td>       <th>  LL-Null:           </th> <td> -9649.5</td>\n",
       "</tr>\n",
       "<tr>\n",
       "  <th>Covariance Type:</th>     <td>nonrobust</td>    <th>  LLR p-value:       </th>  <td> 0.000</td> \n",
       "</tr>\n",
       "</table>\n",
       "<table class=\"simpletable\">\n",
       "<tr>\n",
       "         <td></td>            <th>coef</th>     <th>std err</th>      <th>z</th>      <th>P>|z|</th>  <th>[0.025</th>    <th>0.975]</th>  \n",
       "</tr>\n",
       "<tr>\n",
       "  <th>const</th>           <td>   -2.1471</td> <td>    0.028</td> <td>  -77.765</td> <td> 0.000</td> <td>   -2.201</td> <td>   -2.093</td>\n",
       "</tr>\n",
       "<tr>\n",
       "  <th>Mosquito number</th> <td>    0.0637</td> <td>    0.001</td> <td>   48.970</td> <td> 0.000</td> <td>    0.061</td> <td>    0.066</td>\n",
       "</tr>\n",
       "</table>"
      ],
      "text/plain": [
       "<class 'statsmodels.iolib.summary.Summary'>\n",
       "\"\"\"\n",
       "                           Logit Regression Results                           \n",
       "==============================================================================\n",
       "Dep. Variable:            WNV Present   No. Observations:                18495\n",
       "Model:                          Logit   Df Residuals:                    18493\n",
       "Method:                           MLE   Df Model:                            1\n",
       "Date:                Sun, 10 Jul 2022   Pseudo R-squ.:                  0.1387\n",
       "Time:                        20:56:49   Log-Likelihood:                -8310.8\n",
       "converged:                       True   LL-Null:                       -9649.5\n",
       "Covariance Type:            nonrobust   LLR p-value:                     0.000\n",
       "===================================================================================\n",
       "                      coef    std err          z      P>|z|      [0.025      0.975]\n",
       "-----------------------------------------------------------------------------------\n",
       "const              -2.1471      0.028    -77.765      0.000      -2.201      -2.093\n",
       "Mosquito number     0.0637      0.001     48.970      0.000       0.061       0.066\n",
       "===================================================================================\n",
       "\"\"\""
      ]
     },
     "execution_count": 188,
     "metadata": {},
     "output_type": "execute_result"
    }
   ],
   "source": [
    "# perform same logistic regression set-up as seen above\n",
    "X_2 = X['Mosquito number']\n",
    "X_2_cons = sm.add_constant(X_2)\n",
    "\n",
    "forw_select = sm.Logit(y, X_2_cons)\n",
    "\n",
    "forw_select_fit = forw_select.fit()\n",
    "\n",
    "forw_select_fit.summary()"
   ]
  },
  {
   "cell_type": "code",
   "execution_count": 189,
   "id": "e8ba04ba",
   "metadata": {},
   "outputs": [
    {
     "data": {
      "text/plain": [
       "79.205"
      ]
     },
     "execution_count": 189,
     "metadata": {},
     "output_type": "execute_result"
    }
   ],
   "source": [
    "# initiative predictive function of model using .predict and defined add_constant\n",
    "y_proba = forw_select_fit.predict(X_2_cons)\n",
    "\n",
    "# round results over .5 to 1, since logistic regression probabilities are based binaries\n",
    "y_pred = np.where(y_proba >= 0.5, 1, 0)\n",
    "\n",
    "# where WNV present result equals prediction, consider prediction correct and sum\n",
    "num_correct = (y_pred == y).sum()\n",
    "\n",
    "# divide number correct by total number of records to find prediction accuracy\n",
    "pct_accuracy = num_correct / X.shape[0]\n",
    "\n",
    "# display prediction accuracy\n",
    "np.round(pct_accuracy * 100, 3)"
   ]
  },
  {
   "cell_type": "markdown",
   "id": "8db4497c",
   "metadata": {},
   "source": [
    "Compared to the 81% accuracy we saw with many features, we see a 79% accuracy with only one.\n",
    "\n",
    "Intuitively, it makes sense that the larger number of mosquitos trapped and tested, the higher the likelihood that a mosquito in the batch will test positive."
   ]
  },
  {
   "cell_type": "markdown",
   "id": "fb518875",
   "metadata": {},
   "source": [
    "# Summary"
   ]
  },
  {
   "cell_type": "markdown",
   "id": "f91ace9c",
   "metadata": {},
   "source": [
    "In this notebook, we performed the following:\n",
    "* Performed data transformations and encodings for statisical analysis, such as binarization and dummy variables\n",
    "* Found trends and relationships between number of mosquitos by month\n",
    "* Performed hypothesis testing via Chi Squares to determine statistical significance between categorical variables\n",
    "* Performed multi-variable correlation analysis and statistical significance of correlations\n",
    "* Explored colinearity, and how to mitigate said relationships when building models\n",
    "* Built Linear Regression models and determined how data types influence model selection\n",
    "* Build Logistic Regression models, how to perform model accuracy measurement, and how leveraging forward selection via correlation can supplement model development"
   ]
  },
  {
   "cell_type": "code",
   "execution_count": null,
   "id": "fe4d7f75",
   "metadata": {},
   "outputs": [],
   "source": []
  }
 ],
 "metadata": {
  "kernelspec": {
   "display_name": "Python 3 (ipykernel)",
   "language": "python",
   "name": "python3"
  },
  "language_info": {
   "codemirror_mode": {
    "name": "ipython",
    "version": 3
   },
   "file_extension": ".py",
   "mimetype": "text/x-python",
   "name": "python",
   "nbconvert_exporter": "python",
   "pygments_lexer": "ipython3",
   "version": "3.9.12"
  }
 },
 "nbformat": 4,
 "nbformat_minor": 5
}
