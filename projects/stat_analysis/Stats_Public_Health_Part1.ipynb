{
 "cells": [
  {
   "cell_type": "markdown",
   "id": "e9ff0a48",
   "metadata": {},
   "source": [
    "# Stats and Public Health Part 1\n",
    "\n",
    "## Introduction\n",
    "The following notebook breaks down various EDA cleansing and analyses to provide foundational knowledge surrounding the West Nile Virus dataset, which contains the tracking and testing of mosquito populations throughout the city of Chicago."
   ]
  },
  {
   "cell_type": "markdown",
   "id": "f9bb4d41",
   "metadata": {},
   "source": [
    "## Part One: Basic Data Wrangling\n",
    "The first section of the notebook entails basic data cleansing and understanding of data formats and distributions"
   ]
  },
  {
   "cell_type": "markdown",
   "id": "6f8fe53b",
   "metadata": {},
   "source": [
    "#### Import Appropriate Libraries"
   ]
  },
  {
   "cell_type": "code",
   "execution_count": 797,
   "id": "a1897a17",
   "metadata": {},
   "outputs": [],
   "source": [
    "import numpy as np\n",
    "import pandas as pd\n",
    "import matplotlib.pyplot as plt\n",
    "import seaborn as sns"
   ]
  },
  {
   "cell_type": "markdown",
   "id": "5d066b21",
   "metadata": {},
   "source": [
    "#### Import CSV file, see preview of the dataset"
   ]
  },
  {
   "cell_type": "code",
   "execution_count": 798,
   "id": "3ae8d731",
   "metadata": {},
   "outputs": [
    {
     "data": {
      "text/html": [
       "<div>\n",
       "<style scoped>\n",
       "    .dataframe tbody tr th:only-of-type {\n",
       "        vertical-align: middle;\n",
       "    }\n",
       "\n",
       "    .dataframe tbody tr th {\n",
       "        vertical-align: top;\n",
       "    }\n",
       "\n",
       "    .dataframe thead th {\n",
       "        text-align: right;\n",
       "    }\n",
       "</style>\n",
       "<table border=\"1\" class=\"dataframe\">\n",
       "  <thead>\n",
       "    <tr style=\"text-align: right;\">\n",
       "      <th></th>\n",
       "      <th>Year</th>\n",
       "      <th>Week</th>\n",
       "      <th>Address Block</th>\n",
       "      <th>Block</th>\n",
       "      <th>Trap</th>\n",
       "      <th>Trap type</th>\n",
       "      <th>Date</th>\n",
       "      <th>Mosquito number</th>\n",
       "      <th>Mosquito ID</th>\n",
       "      <th>WNV Present</th>\n",
       "      <th>Species</th>\n",
       "      <th>Lat</th>\n",
       "      <th>Lon</th>\n",
       "    </tr>\n",
       "  </thead>\n",
       "  <tbody>\n",
       "    <tr>\n",
       "      <th>0</th>\n",
       "      <td>2019</td>\n",
       "      <td>39</td>\n",
       "      <td>100XX W OHARE AIRPORT</td>\n",
       "      <td>100</td>\n",
       "      <td>T910</td>\n",
       "      <td>GRAVID</td>\n",
       "      <td>2019-09-26 00:09:00</td>\n",
       "      <td>2</td>\n",
       "      <td>Res</td>\n",
       "      <td>negative</td>\n",
       "      <td>CULEX RESTUANS</td>\n",
       "      <td>NaN</td>\n",
       "      <td>NaN</td>\n",
       "    </tr>\n",
       "    <tr>\n",
       "      <th>1</th>\n",
       "      <td>2019</td>\n",
       "      <td>39</td>\n",
       "      <td>52XX S KOLMAR AVE</td>\n",
       "      <td>52</td>\n",
       "      <td>T114</td>\n",
       "      <td>GRAVID</td>\n",
       "      <td>2019-09-26 00:09:00</td>\n",
       "      <td>1</td>\n",
       "      <td>Res</td>\n",
       "      <td>negative</td>\n",
       "      <td>CULEX RESTUANS</td>\n",
       "      <td>41.798211</td>\n",
       "      <td>-87.736925</td>\n",
       "    </tr>\n",
       "    <tr>\n",
       "      <th>2</th>\n",
       "      <td>2019</td>\n",
       "      <td>39</td>\n",
       "      <td>58XX N WESTERN AVE</td>\n",
       "      <td>58</td>\n",
       "      <td>T028</td>\n",
       "      <td>GRAVID</td>\n",
       "      <td>2019-09-26 00:09:00</td>\n",
       "      <td>2</td>\n",
       "      <td>Res</td>\n",
       "      <td>negative</td>\n",
       "      <td>CULEX RESTUANS</td>\n",
       "      <td>41.987245</td>\n",
       "      <td>-87.689417</td>\n",
       "    </tr>\n",
       "    <tr>\n",
       "      <th>3</th>\n",
       "      <td>2019</td>\n",
       "      <td>39</td>\n",
       "      <td>39XX N SPRINGFIELD AVE</td>\n",
       "      <td>39</td>\n",
       "      <td>T228</td>\n",
       "      <td>GRAVID</td>\n",
       "      <td>2019-09-26 00:09:00</td>\n",
       "      <td>1</td>\n",
       "      <td>Res</td>\n",
       "      <td>negative</td>\n",
       "      <td>CULEX RESTUANS</td>\n",
       "      <td>41.953664</td>\n",
       "      <td>-87.724987</td>\n",
       "    </tr>\n",
       "    <tr>\n",
       "      <th>4</th>\n",
       "      <td>2019</td>\n",
       "      <td>39</td>\n",
       "      <td>131XX S BRANDON AVE</td>\n",
       "      <td>131</td>\n",
       "      <td>T209</td>\n",
       "      <td>GRAVID</td>\n",
       "      <td>2019-09-26 00:09:00</td>\n",
       "      <td>9</td>\n",
       "      <td>Res</td>\n",
       "      <td>negative</td>\n",
       "      <td>CULEX RESTUANS</td>\n",
       "      <td>41.657069</td>\n",
       "      <td>-87.546049</td>\n",
       "    </tr>\n",
       "  </tbody>\n",
       "</table>\n",
       "</div>"
      ],
      "text/plain": [
       "   Year  Week           Address Block  Block  Trap Trap type  \\\n",
       "0  2019    39   100XX W OHARE AIRPORT    100  T910    GRAVID   \n",
       "1  2019    39       52XX S KOLMAR AVE     52  T114    GRAVID   \n",
       "2  2019    39      58XX N WESTERN AVE     58  T028    GRAVID   \n",
       "3  2019    39  39XX N SPRINGFIELD AVE     39  T228    GRAVID   \n",
       "4  2019    39     131XX S BRANDON AVE    131  T209    GRAVID   \n",
       "\n",
       "                  Date  Mosquito number Mosquito ID WNV Present  \\\n",
       "0  2019-09-26 00:09:00                2         Res    negative   \n",
       "1  2019-09-26 00:09:00                1         Res    negative   \n",
       "2  2019-09-26 00:09:00                2         Res    negative   \n",
       "3  2019-09-26 00:09:00                1         Res    negative   \n",
       "4  2019-09-26 00:09:00                9         Res    negative   \n",
       "\n",
       "          Species        Lat        Lon  \n",
       "0  CULEX RESTUANS        NaN        NaN  \n",
       "1  CULEX RESTUANS  41.798211 -87.736925  \n",
       "2  CULEX RESTUANS  41.987245 -87.689417  \n",
       "3  CULEX RESTUANS  41.953664 -87.724987  \n",
       "4  CULEX RESTUANS  41.657069 -87.546049  "
      ]
     },
     "execution_count": 798,
     "metadata": {},
     "output_type": "execute_result"
    }
   ],
   "source": [
    "df = pd.read_csv('/Users/scolelli/Downloads/mosquito_data.csv')\n",
    "df.head()"
   ]
  },
  {
   "cell_type": "markdown",
   "id": "8a9f070d",
   "metadata": {},
   "source": [
    "### Q1.1: Find the shape of the dataframe\n",
    "The shape function in the numpy package outputs the number of total rows and columns that exist in the dataframe. The information is also provided at the end of the dataset when just calling `df`, but `np.shape()` simply outputs a tuple of the number of rows and columns."
   ]
  },
  {
   "cell_type": "code",
   "execution_count": 799,
   "id": "1f454ed4",
   "metadata": {},
   "outputs": [
    {
     "data": {
      "text/plain": [
       "(18495, 13)"
      ]
     },
     "execution_count": 799,
     "metadata": {},
     "output_type": "execute_result"
    }
   ],
   "source": [
    "# 1.1: Shape of the dataframe\n",
    "\n",
    "np.shape(df)"
   ]
  },
  {
   "cell_type": "markdown",
   "id": "1c207e57",
   "metadata": {},
   "source": [
    "### Q1.2: Convert the Date Column to a datetime format\n",
    "Within the initital project outline, the data type for each column is specified including Date, which is currently stored as a string, or object. This will lead to issues if we wish to leverage Date throughout the analysis."
   ]
  },
  {
   "cell_type": "markdown",
   "id": "a7683678",
   "metadata": {},
   "source": [
    "##### Step 1: Check existing datatypes\n",
    "Assuming we did not receive that data type definition beforehand, the first step would be to check the data types for all columns"
   ]
  },
  {
   "cell_type": "code",
   "execution_count": 800,
   "id": "0c754908",
   "metadata": {
    "scrolled": true
   },
   "outputs": [
    {
     "name": "stdout",
     "output_type": "stream",
     "text": [
      "<class 'pandas.core.frame.DataFrame'>\n",
      "RangeIndex: 18495 entries, 0 to 18494\n",
      "Data columns (total 13 columns):\n",
      " #   Column           Non-Null Count  Dtype  \n",
      "---  ------           --------------  -----  \n",
      " 0   Year             18495 non-null  int64  \n",
      " 1   Week             18495 non-null  int64  \n",
      " 2   Address Block    18495 non-null  object \n",
      " 3   Block            18495 non-null  int64  \n",
      " 4   Trap             18495 non-null  object \n",
      " 5   Trap type        18495 non-null  object \n",
      " 6   Date             18495 non-null  object \n",
      " 7   Mosquito number  18495 non-null  int64  \n",
      " 8   Mosquito ID      18495 non-null  object \n",
      " 9   WNV Present      18495 non-null  object \n",
      " 10  Species          18495 non-null  object \n",
      " 11  Lat              15571 non-null  float64\n",
      " 12  Lon              15571 non-null  float64\n",
      "dtypes: float64(2), int64(4), object(7)\n",
      "memory usage: 1.8+ MB\n"
     ]
    }
   ],
   "source": [
    "df.info()"
   ]
  },
  {
   "cell_type": "markdown",
   "id": "93f0ed8e",
   "metadata": {},
   "source": [
    "##### Step 2: Change datatype for Date\n",
    "To change the data type of a dataframe, the pandas library provides `.astype()` which allows for the transformation of one dtype to another"
   ]
  },
  {
   "cell_type": "code",
   "execution_count": 801,
   "id": "db139b02",
   "metadata": {},
   "outputs": [
    {
     "data": {
      "text/plain": [
       "0       2019-09-26 00:09:00\n",
       "1       2019-09-26 00:09:00\n",
       "2       2019-09-26 00:09:00\n",
       "3       2019-09-26 00:09:00\n",
       "4       2019-09-26 00:09:00\n",
       "                ...        \n",
       "18490   2016-09-09 00:09:00\n",
       "18491   2007-08-24 00:08:00\n",
       "18492   2016-07-27 00:07:00\n",
       "18493   2017-08-17 00:08:00\n",
       "18494   2015-08-20 00:08:00\n",
       "Name: Date, Length: 18495, dtype: datetime64[ns]"
      ]
     },
     "execution_count": 801,
     "metadata": {},
     "output_type": "execute_result"
    }
   ],
   "source": [
    "df['Date'].astype('datetime64')"
   ]
  },
  {
   "cell_type": "markdown",
   "id": "b9755a7e",
   "metadata": {},
   "source": [
    "Another option is to invoke another function in pandas, `.to_datetime()`, which essentially performs that same function as `.astype()`"
   ]
  },
  {
   "cell_type": "code",
   "execution_count": 802,
   "id": "03a6e784",
   "metadata": {},
   "outputs": [],
   "source": [
    "df['Date'] = pd.to_datetime(df['Date'])"
   ]
  },
  {
   "cell_type": "markdown",
   "id": "05d28eda",
   "metadata": {},
   "source": [
    "##### Step 3: Confirm changes\n",
    "The last step would be to confirm the data type change by either again invoking `df.info()` or calling the Date column directly."
   ]
  },
  {
   "cell_type": "code",
   "execution_count": 803,
   "id": "1c0a5bd9",
   "metadata": {},
   "outputs": [
    {
     "name": "stdout",
     "output_type": "stream",
     "text": [
      "<class 'pandas.core.frame.DataFrame'>\n",
      "RangeIndex: 18495 entries, 0 to 18494\n",
      "Data columns (total 13 columns):\n",
      " #   Column           Non-Null Count  Dtype         \n",
      "---  ------           --------------  -----         \n",
      " 0   Year             18495 non-null  int64         \n",
      " 1   Week             18495 non-null  int64         \n",
      " 2   Address Block    18495 non-null  object        \n",
      " 3   Block            18495 non-null  int64         \n",
      " 4   Trap             18495 non-null  object        \n",
      " 5   Trap type        18495 non-null  object        \n",
      " 6   Date             18495 non-null  datetime64[ns]\n",
      " 7   Mosquito number  18495 non-null  int64         \n",
      " 8   Mosquito ID      18495 non-null  object        \n",
      " 9   WNV Present      18495 non-null  object        \n",
      " 10  Species          18495 non-null  object        \n",
      " 11  Lat              15571 non-null  float64       \n",
      " 12  Lon              15571 non-null  float64       \n",
      "dtypes: datetime64[ns](1), float64(2), int64(4), object(6)\n",
      "memory usage: 1.8+ MB\n"
     ]
    }
   ],
   "source": [
    "df.info()"
   ]
  },
  {
   "cell_type": "code",
   "execution_count": 804,
   "id": "901335da",
   "metadata": {},
   "outputs": [
    {
     "data": {
      "text/plain": [
       "0       2019-09-26 00:09:00\n",
       "1       2019-09-26 00:09:00\n",
       "2       2019-09-26 00:09:00\n",
       "3       2019-09-26 00:09:00\n",
       "4       2019-09-26 00:09:00\n",
       "                ...        \n",
       "18490   2016-09-09 00:09:00\n",
       "18491   2007-08-24 00:08:00\n",
       "18492   2016-07-27 00:07:00\n",
       "18493   2017-08-17 00:08:00\n",
       "18494   2015-08-20 00:08:00\n",
       "Name: Date, Length: 18495, dtype: datetime64[ns]"
      ]
     },
     "execution_count": 804,
     "metadata": {},
     "output_type": "execute_result"
    }
   ],
   "source": [
    "df['Date']"
   ]
  },
  {
   "cell_type": "markdown",
   "id": "8023c883",
   "metadata": {},
   "source": [
    "### Q1.3: Pick 2 Numerical & 2 Categorical columns. What are they storing and how are they distributed?\n",
    "The distinction between a numerical and a categorical data type is that the former is usually considered continuous while the latter is considered discrete.\n",
    "\n",
    "Continuous: Data type that falls anywhere on a number line or sequence, technically in an infinite space.\n",
    "\n",
    "Discrete: Data type that falls within a specific classification or finite, defined space.\n",
    "\n",
    "It is important to note that certain data can be both discrete or continuous depending on their storage and presentation. Time is a good example of this, especially seen in this dataset. The Week column, although numeric, can be considered categorical in this case due to the fact that there is clear start and end for each column (1 to 52). On the other hand, datatime, which is on a seconds basis, can be considered continuous since it can fall anywhere on the number line.\n",
    "\n",
    "Interestingly enough, many of the numeric data types in this dataset to have discrete attributes:\n",
    "* Year: Fixed from 2008 to 2019\n",
    "* Week: Fixed from 20 to 40 (excludes winter weeks)\n",
    "* Block: Fixed, dependent on the number of fixed traps\n",
    "* Mosquito Number: Each batch is capped at the number 50\n",
    "\n",
    "Regardless of the distinction between continuous and discrete, another important aspect of differentiating numerical and categorical data types is the representation of these data, which will be further discussed below."
   ]
  },
  {
   "cell_type": "markdown",
   "id": "eee027a5",
   "metadata": {},
   "source": [
    "##### Step 1: See all data types"
   ]
  },
  {
   "cell_type": "code",
   "execution_count": 805,
   "id": "0444f855",
   "metadata": {},
   "outputs": [
    {
     "name": "stdout",
     "output_type": "stream",
     "text": [
      "<class 'pandas.core.frame.DataFrame'>\n",
      "RangeIndex: 18495 entries, 0 to 18494\n",
      "Data columns (total 13 columns):\n",
      " #   Column           Non-Null Count  Dtype         \n",
      "---  ------           --------------  -----         \n",
      " 0   Year             18495 non-null  int64         \n",
      " 1   Week             18495 non-null  int64         \n",
      " 2   Address Block    18495 non-null  object        \n",
      " 3   Block            18495 non-null  int64         \n",
      " 4   Trap             18495 non-null  object        \n",
      " 5   Trap type        18495 non-null  object        \n",
      " 6   Date             18495 non-null  datetime64[ns]\n",
      " 7   Mosquito number  18495 non-null  int64         \n",
      " 8   Mosquito ID      18495 non-null  object        \n",
      " 9   WNV Present      18495 non-null  object        \n",
      " 10  Species          18495 non-null  object        \n",
      " 11  Lat              15571 non-null  float64       \n",
      " 12  Lon              15571 non-null  float64       \n",
      "dtypes: datetime64[ns](1), float64(2), int64(4), object(6)\n",
      "memory usage: 1.8+ MB\n"
     ]
    }
   ],
   "source": [
    "df.info()"
   ]
  },
  {
   "cell_type": "markdown",
   "id": "421e31ad",
   "metadata": {},
   "source": [
    "##### Step 2: Visualize 2 numeric columns (Mosquito Number & Latitude)\n",
    "\n",
    "For numerical data types, the best visualization to understand distribution of data points is via histogram, where the segmentation of data points is based on predefined bin counts.\n",
    "\n",
    "Since there are no categories to segment the data, a histogram will use bin counts to group the data based on the number range available in the dataset."
   ]
  },
  {
   "cell_type": "code",
   "execution_count": 806,
   "id": "4e5230b7",
   "metadata": {},
   "outputs": [
    {
     "data": {
      "image/png": "[encoded data removed]",
      "text/plain": [
       "<Figure size 432x288 with 1 Axes>"
      ]
     },
     "metadata": {
      "needs_background": "light"
     },
     "output_type": "display_data"
    },
    {
     "data": {
      "image/png": "[encoded data removed]",
      "text/plain": [
       "<Figure size 432x288 with 1 Axes>"
      ]
     },
     "metadata": {
      "needs_background": "light"
     },
     "output_type": "display_data"
    }
   ],
   "source": [
    "plt.figure()\n",
    "plt.hist(df['Mosquito number'], bins = 10)\n",
    "plt.title('Mosquito Number')\n",
    "plt.show()\n",
    "\n",
    "plt.figure()\n",
    "plt.hist(df['Week'], bins = 10)\n",
    "plt.title('Week')\n",
    "plt.show()"
   ]
  },
  {
   "cell_type": "markdown",
   "id": "3373131c",
   "metadata": {},
   "source": [
    "Mosquito Number: This column contains the number of mosquitos that have been trapped and tested at a given point in time. We see that the vast majority of tests are distributed towards a smaller number of mosquitos per test. The increase in the bin representing 45-50 mosquitos per test is due to the fact that a batch of mosquitos is capped at 50, and when a batch exceeds 50, it is separated into a new entry.\n",
    "\n",
    "Week: This column represents the number week of the year that a test is conducted. We see a fairly normal distribution here, where the weeks in the middle of the year see the most tests. This makes logical sense, since mosquitos are most prevalent in the summer months."
   ]
  },
  {
   "cell_type": "markdown",
   "id": "ce048527",
   "metadata": {},
   "source": [
    "##### Step 3: Visualize 2 categorical columns (Species & Trap Types)\n",
    "\n",
    "For categorical data types, the best visualization to understand data distributions is through bar plots, where the distribution of data points is based on the categories or classifications that are already defined in the dataset."
   ]
  },
  {
   "cell_type": "code",
   "execution_count": 807,
   "id": "affc1f7a",
   "metadata": {
    "scrolled": false
   },
   "outputs": [
    {
     "data": {
      "image/png": "[encoded data removed]",
      "text/plain": [
       "<Figure size 432x288 with 1 Axes>"
      ]
     },
     "metadata": {
      "needs_background": "light"
     },
     "output_type": "display_data"
    },
    {
     "data": {
      "image/png": "[encoded data removed]",
      "text/plain": [
       "<Figure size 432x288 with 1 Axes>"
      ]
     },
     "metadata": {
      "needs_background": "light"
     },
     "output_type": "display_data"
    }
   ],
   "source": [
    "df['Species'].value_counts().sort_values().plot(kind = 'barh')\n",
    "plt.show()\n",
    "\n",
    "df['Trap type'].value_counts().sort_values().plot(kind = 'barh')\n",
    "plt.show()"
   ]
  },
  {
   "cell_type": "markdown",
   "id": "e2cbe07e",
   "metadata": {},
   "source": [
    "#### Q4: Remove any dupliate information\n",
    "A core part of any data analysis is ensuring consistent and reliable source datasets. It is common to find erronious information within any dataset to a variety of factors and it is important to mitigate the risk of inaccurate conclusions stemming from these errors.\n",
    "\n",
    "One of the most common errors is the existence of duplicate information, which could improperly skew your analysis towards a specific outcome."
   ]
  },
  {
   "cell_type": "markdown",
   "id": "0a5b02d7",
   "metadata": {},
   "source": [
    "##### Step 1: Check for total number of duplicates\n",
    "The pandas library has a built-in function specifically tailored towards this issues, known as `.duplicated()`. The addition of .sum() simply allows for the total number of duplicate records as opposed to only viewing a boolean of the each row in the dataframe, specifying if a row is a duplicate or not."
   ]
  },
  {
   "cell_type": "code",
   "execution_count": 808,
   "id": "96db5030",
   "metadata": {},
   "outputs": [
    {
     "data": {
      "text/plain": [
       "658"
      ]
     },
     "execution_count": 808,
     "metadata": {},
     "output_type": "execute_result"
    }
   ],
   "source": [
    "df.duplicated().sum()"
   ]
  },
  {
   "cell_type": "markdown",
   "id": "2b42835e",
   "metadata": {},
   "source": [
    "##### Step 2: Check for prevalence of duplicates\n",
    "While understanding the total number of duplicates is important, it is equally important to understand the ratio of duplicate entries relative to all entries in the dataframe.\n",
    "\n",
    "In the first function called in the dataset, we found that there were 18,495 rows. The function below simply divided the sum of duplications by that first number, calling the same `.shape()` function used previously.\n",
    "\n",
    "After multiplying the ratio by 100, we find that percentage of duplicate entires relative to the entire dataset."
   ]
  },
  {
   "cell_type": "code",
   "execution_count": 809,
   "id": "bc28e049",
   "metadata": {},
   "outputs": [
    {
     "data": {
      "text/plain": [
       "3.5577183022438494"
      ]
     },
     "execution_count": 809,
     "metadata": {},
     "output_type": "execute_result"
    }
   ],
   "source": [
    "df.duplicated().sum() / df.shape[0] * 100"
   ]
  },
  {
   "cell_type": "markdown",
   "id": "18d099d7",
   "metadata": {},
   "source": [
    "##### Step 3: Visualize duplicates to confirm\n",
    "Although confident in the above, it is important to visualize the duplicates to ensure that the duplicate records identified are indeed duplicates.\n",
    "\n",
    "To do this, we create a temporary dataframe that only contains the rows that have been identified as duplicates using the same `.duplicated()` function used previously. From there, we use that temporary dataframe to filter the source dataframe using the `.loc` function. Since the two dataframes follow the same schema, `.loc` will use the index specified in the temporary dataframe to only show duplicated rows."
   ]
  },
  {
   "cell_type": "code",
   "execution_count": 810,
   "id": "9bb5b852",
   "metadata": {},
   "outputs": [
    {
     "data": {
      "text/html": [
       "<div>\n",
       "<style scoped>\n",
       "    .dataframe tbody tr th:only-of-type {\n",
       "        vertical-align: middle;\n",
       "    }\n",
       "\n",
       "    .dataframe tbody tr th {\n",
       "        vertical-align: top;\n",
       "    }\n",
       "\n",
       "    .dataframe thead th {\n",
       "        text-align: right;\n",
       "    }\n",
       "</style>\n",
       "<table border=\"1\" class=\"dataframe\">\n",
       "  <thead>\n",
       "    <tr style=\"text-align: right;\">\n",
       "      <th></th>\n",
       "      <th>Year</th>\n",
       "      <th>Week</th>\n",
       "      <th>Address Block</th>\n",
       "      <th>Block</th>\n",
       "      <th>Trap</th>\n",
       "      <th>Trap type</th>\n",
       "      <th>Date</th>\n",
       "      <th>Mosquito number</th>\n",
       "      <th>Mosquito ID</th>\n",
       "      <th>WNV Present</th>\n",
       "      <th>Species</th>\n",
       "      <th>Lat</th>\n",
       "      <th>Lon</th>\n",
       "    </tr>\n",
       "  </thead>\n",
       "  <tbody>\n",
       "    <tr>\n",
       "      <th>17733</th>\n",
       "      <td>2007</td>\n",
       "      <td>28</td>\n",
       "      <td>4XX W 127TH</td>\n",
       "      <td>4</td>\n",
       "      <td>T135</td>\n",
       "      <td>CDC</td>\n",
       "      <td>2007-08-01 02:08:34</td>\n",
       "      <td>10</td>\n",
       "      <td>Pip</td>\n",
       "      <td>positive</td>\n",
       "      <td>CULEX PIPIENS</td>\n",
       "      <td>NaN</td>\n",
       "      <td>NaN</td>\n",
       "    </tr>\n",
       "    <tr>\n",
       "      <th>14942</th>\n",
       "      <td>2007</td>\n",
       "      <td>28</td>\n",
       "      <td>4XX W 127TH</td>\n",
       "      <td>4</td>\n",
       "      <td>T135</td>\n",
       "      <td>CDC</td>\n",
       "      <td>2007-08-01 02:08:34</td>\n",
       "      <td>10</td>\n",
       "      <td>Pip</td>\n",
       "      <td>positive</td>\n",
       "      <td>CULEX PIPIENS</td>\n",
       "      <td>NaN</td>\n",
       "      <td>NaN</td>\n",
       "    </tr>\n",
       "    <tr>\n",
       "      <th>17486</th>\n",
       "      <td>2007</td>\n",
       "      <td>28</td>\n",
       "      <td>4XX W 127TH</td>\n",
       "      <td>4</td>\n",
       "      <td>T135</td>\n",
       "      <td>CDC</td>\n",
       "      <td>2007-08-01 02:08:34</td>\n",
       "      <td>10</td>\n",
       "      <td>Pip</td>\n",
       "      <td>positive</td>\n",
       "      <td>CULEX PIPIENS</td>\n",
       "      <td>NaN</td>\n",
       "      <td>NaN</td>\n",
       "    </tr>\n",
       "    <tr>\n",
       "      <th>17613</th>\n",
       "      <td>2007</td>\n",
       "      <td>28</td>\n",
       "      <td>4XX W 127TH</td>\n",
       "      <td>4</td>\n",
       "      <td>T135</td>\n",
       "      <td>CDC</td>\n",
       "      <td>2007-08-01 02:08:34</td>\n",
       "      <td>10</td>\n",
       "      <td>Pip</td>\n",
       "      <td>positive</td>\n",
       "      <td>CULEX PIPIENS</td>\n",
       "      <td>NaN</td>\n",
       "      <td>NaN</td>\n",
       "    </tr>\n",
       "    <tr>\n",
       "      <th>14703</th>\n",
       "      <td>2007</td>\n",
       "      <td>31</td>\n",
       "      <td>65XX N OAK PARK AVE</td>\n",
       "      <td>65</td>\n",
       "      <td>T143</td>\n",
       "      <td>GRAVID</td>\n",
       "      <td>2007-08-07 00:08:00</td>\n",
       "      <td>29</td>\n",
       "      <td>Pip</td>\n",
       "      <td>positive</td>\n",
       "      <td>CULEX PIPIENS</td>\n",
       "      <td>NaN</td>\n",
       "      <td>NaN</td>\n",
       "    </tr>\n",
       "    <tr>\n",
       "      <th>...</th>\n",
       "      <td>...</td>\n",
       "      <td>...</td>\n",
       "      <td>...</td>\n",
       "      <td>...</td>\n",
       "      <td>...</td>\n",
       "      <td>...</td>\n",
       "      <td>...</td>\n",
       "      <td>...</td>\n",
       "      <td>...</td>\n",
       "      <td>...</td>\n",
       "      <td>...</td>\n",
       "      <td>...</td>\n",
       "      <td>...</td>\n",
       "    </tr>\n",
       "    <tr>\n",
       "      <th>15760</th>\n",
       "      <td>2019</td>\n",
       "      <td>34</td>\n",
       "      <td>100XX W OHARE AIRPORT</td>\n",
       "      <td>100</td>\n",
       "      <td>T901</td>\n",
       "      <td>GRAVID</td>\n",
       "      <td>2019-08-22 00:08:00</td>\n",
       "      <td>16</td>\n",
       "      <td>Res</td>\n",
       "      <td>positive</td>\n",
       "      <td>CULEX RESTUANS</td>\n",
       "      <td>NaN</td>\n",
       "      <td>NaN</td>\n",
       "    </tr>\n",
       "    <tr>\n",
       "      <th>18239</th>\n",
       "      <td>2019</td>\n",
       "      <td>34</td>\n",
       "      <td>100XX W OHARE AIRPORT</td>\n",
       "      <td>100</td>\n",
       "      <td>T901</td>\n",
       "      <td>GRAVID</td>\n",
       "      <td>2019-08-22 00:08:00</td>\n",
       "      <td>16</td>\n",
       "      <td>Res</td>\n",
       "      <td>positive</td>\n",
       "      <td>CULEX RESTUANS</td>\n",
       "      <td>NaN</td>\n",
       "      <td>NaN</td>\n",
       "    </tr>\n",
       "    <tr>\n",
       "      <th>17206</th>\n",
       "      <td>2019</td>\n",
       "      <td>35</td>\n",
       "      <td>100XX W OHARE AIRPORT</td>\n",
       "      <td>100</td>\n",
       "      <td>T913</td>\n",
       "      <td>GRAVID</td>\n",
       "      <td>2019-08-29 00:08:00</td>\n",
       "      <td>3</td>\n",
       "      <td>Res</td>\n",
       "      <td>positive</td>\n",
       "      <td>CULEX RESTUANS</td>\n",
       "      <td>NaN</td>\n",
       "      <td>NaN</td>\n",
       "    </tr>\n",
       "    <tr>\n",
       "      <th>16769</th>\n",
       "      <td>2019</td>\n",
       "      <td>35</td>\n",
       "      <td>100XX W OHARE AIRPORT</td>\n",
       "      <td>100</td>\n",
       "      <td>T913</td>\n",
       "      <td>GRAVID</td>\n",
       "      <td>2019-08-29 00:08:00</td>\n",
       "      <td>3</td>\n",
       "      <td>Res</td>\n",
       "      <td>positive</td>\n",
       "      <td>CULEX RESTUANS</td>\n",
       "      <td>NaN</td>\n",
       "      <td>NaN</td>\n",
       "    </tr>\n",
       "    <tr>\n",
       "      <th>187</th>\n",
       "      <td>2019</td>\n",
       "      <td>35</td>\n",
       "      <td>100XX W OHARE AIRPORT</td>\n",
       "      <td>100</td>\n",
       "      <td>T913</td>\n",
       "      <td>GRAVID</td>\n",
       "      <td>2019-08-29 00:08:00</td>\n",
       "      <td>3</td>\n",
       "      <td>Res</td>\n",
       "      <td>positive</td>\n",
       "      <td>CULEX RESTUANS</td>\n",
       "      <td>NaN</td>\n",
       "      <td>NaN</td>\n",
       "    </tr>\n",
       "  </tbody>\n",
       "</table>\n",
       "<p>862 rows × 13 columns</p>\n",
       "</div>"
      ],
      "text/plain": [
       "       Year  Week          Address Block  Block  Trap Trap type  \\\n",
       "17733  2007    28            4XX W 127TH      4  T135       CDC   \n",
       "14942  2007    28            4XX W 127TH      4  T135       CDC   \n",
       "17486  2007    28            4XX W 127TH      4  T135       CDC   \n",
       "17613  2007    28            4XX W 127TH      4  T135       CDC   \n",
       "14703  2007    31    65XX N OAK PARK AVE     65  T143    GRAVID   \n",
       "...     ...   ...                    ...    ...   ...       ...   \n",
       "15760  2019    34  100XX W OHARE AIRPORT    100  T901    GRAVID   \n",
       "18239  2019    34  100XX W OHARE AIRPORT    100  T901    GRAVID   \n",
       "17206  2019    35  100XX W OHARE AIRPORT    100  T913    GRAVID   \n",
       "16769  2019    35  100XX W OHARE AIRPORT    100  T913    GRAVID   \n",
       "187    2019    35  100XX W OHARE AIRPORT    100  T913    GRAVID   \n",
       "\n",
       "                     Date  Mosquito number Mosquito ID WNV Present  \\\n",
       "17733 2007-08-01 02:08:34               10         Pip    positive   \n",
       "14942 2007-08-01 02:08:34               10         Pip    positive   \n",
       "17486 2007-08-01 02:08:34               10         Pip    positive   \n",
       "17613 2007-08-01 02:08:34               10         Pip    positive   \n",
       "14703 2007-08-07 00:08:00               29         Pip    positive   \n",
       "...                   ...              ...         ...         ...   \n",
       "15760 2019-08-22 00:08:00               16         Res    positive   \n",
       "18239 2019-08-22 00:08:00               16         Res    positive   \n",
       "17206 2019-08-29 00:08:00                3         Res    positive   \n",
       "16769 2019-08-29 00:08:00                3         Res    positive   \n",
       "187   2019-08-29 00:08:00                3         Res    positive   \n",
       "\n",
       "              Species  Lat  Lon  \n",
       "17733   CULEX PIPIENS  NaN  NaN  \n",
       "14942   CULEX PIPIENS  NaN  NaN  \n",
       "17486   CULEX PIPIENS  NaN  NaN  \n",
       "17613   CULEX PIPIENS  NaN  NaN  \n",
       "14703   CULEX PIPIENS  NaN  NaN  \n",
       "...               ...  ...  ...  \n",
       "15760  CULEX RESTUANS  NaN  NaN  \n",
       "18239  CULEX RESTUANS  NaN  NaN  \n",
       "17206  CULEX RESTUANS  NaN  NaN  \n",
       "16769  CULEX RESTUANS  NaN  NaN  \n",
       "187    CULEX RESTUANS  NaN  NaN  \n",
       "\n",
       "[862 rows x 13 columns]"
      ]
     },
     "execution_count": 810,
     "metadata": {},
     "output_type": "execute_result"
    }
   ],
   "source": [
    "dup_df = df.duplicated(keep = False)\n",
    "df.loc[dup_df, :].sort_values(by = 'Date')"
   ]
  },
  {
   "cell_type": "markdown",
   "id": "3b720c56",
   "metadata": {},
   "source": [
    "##### Step 4: Visualize entries where 'Mosquito number' equals 50\n",
    "In the initial project outline, it specifies that when a batch of mosquitos reaches 50, it is capped and a new data entry is created. However, it doesn't specify if the 'Date' column is the same and we are unsure if the batches are technically tested and the exact same date and time.\n",
    "\n",
    "We'll visualize the duplicated dataframe for entries where the 'Mosquito number' is 50 to try to gain more insight."
   ]
  },
  {
   "cell_type": "code",
   "execution_count": 811,
   "id": "4a879636",
   "metadata": {
    "scrolled": false
   },
   "outputs": [
    {
     "data": {
      "text/html": [
       "<div>\n",
       "<style scoped>\n",
       "    .dataframe tbody tr th:only-of-type {\n",
       "        vertical-align: middle;\n",
       "    }\n",
       "\n",
       "    .dataframe tbody tr th {\n",
       "        vertical-align: top;\n",
       "    }\n",
       "\n",
       "    .dataframe thead th {\n",
       "        text-align: right;\n",
       "    }\n",
       "</style>\n",
       "<table border=\"1\" class=\"dataframe\">\n",
       "  <thead>\n",
       "    <tr style=\"text-align: right;\">\n",
       "      <th></th>\n",
       "      <th>Year</th>\n",
       "      <th>Week</th>\n",
       "      <th>Address Block</th>\n",
       "      <th>Block</th>\n",
       "      <th>Trap</th>\n",
       "      <th>Trap type</th>\n",
       "      <th>Date</th>\n",
       "      <th>Mosquito number</th>\n",
       "      <th>Mosquito ID</th>\n",
       "      <th>WNV Present</th>\n",
       "      <th>Species</th>\n",
       "      <th>Lat</th>\n",
       "      <th>Lon</th>\n",
       "    </tr>\n",
       "  </thead>\n",
       "  <tbody>\n",
       "    <tr>\n",
       "      <th>17605</th>\n",
       "      <td>2007</td>\n",
       "      <td>31</td>\n",
       "      <td>115XX S AVENUE L</td>\n",
       "      <td>115</td>\n",
       "      <td>T103</td>\n",
       "      <td>GRAVID</td>\n",
       "      <td>2007-08-08 00:08:00</td>\n",
       "      <td>50</td>\n",
       "      <td>Pip</td>\n",
       "      <td>positive</td>\n",
       "      <td>CULEX PIPIENS</td>\n",
       "      <td>NaN</td>\n",
       "      <td>NaN</td>\n",
       "    </tr>\n",
       "    <tr>\n",
       "      <th>17442</th>\n",
       "      <td>2007</td>\n",
       "      <td>31</td>\n",
       "      <td>115XX S AVENUE L</td>\n",
       "      <td>115</td>\n",
       "      <td>T103</td>\n",
       "      <td>GRAVID</td>\n",
       "      <td>2007-08-08 00:08:00</td>\n",
       "      <td>50</td>\n",
       "      <td>Pip</td>\n",
       "      <td>positive</td>\n",
       "      <td>CULEX PIPIENS</td>\n",
       "      <td>NaN</td>\n",
       "      <td>NaN</td>\n",
       "    </tr>\n",
       "    <tr>\n",
       "      <th>14656</th>\n",
       "      <td>2007</td>\n",
       "      <td>31</td>\n",
       "      <td>115XX S AVENUE L</td>\n",
       "      <td>115</td>\n",
       "      <td>T103</td>\n",
       "      <td>GRAVID</td>\n",
       "      <td>2007-08-08 00:08:00</td>\n",
       "      <td>50</td>\n",
       "      <td>Pip</td>\n",
       "      <td>positive</td>\n",
       "      <td>CULEX PIPIENS</td>\n",
       "      <td>NaN</td>\n",
       "      <td>NaN</td>\n",
       "    </tr>\n",
       "    <tr>\n",
       "      <th>15941</th>\n",
       "      <td>2007</td>\n",
       "      <td>31</td>\n",
       "      <td>115XX S AVENUE L</td>\n",
       "      <td>115</td>\n",
       "      <td>T103</td>\n",
       "      <td>GRAVID</td>\n",
       "      <td>2007-08-08 00:08:00</td>\n",
       "      <td>50</td>\n",
       "      <td>Pip</td>\n",
       "      <td>positive</td>\n",
       "      <td>CULEX PIPIENS</td>\n",
       "      <td>NaN</td>\n",
       "      <td>NaN</td>\n",
       "    </tr>\n",
       "    <tr>\n",
       "      <th>16648</th>\n",
       "      <td>2007</td>\n",
       "      <td>34</td>\n",
       "      <td>4XX W 127TH</td>\n",
       "      <td>4</td>\n",
       "      <td>T135</td>\n",
       "      <td>CDC</td>\n",
       "      <td>2007-08-24 00:08:00</td>\n",
       "      <td>50</td>\n",
       "      <td>Pip</td>\n",
       "      <td>positive</td>\n",
       "      <td>CULEX PIPIENS</td>\n",
       "      <td>NaN</td>\n",
       "      <td>NaN</td>\n",
       "    </tr>\n",
       "    <tr>\n",
       "      <th>...</th>\n",
       "      <td>...</td>\n",
       "      <td>...</td>\n",
       "      <td>...</td>\n",
       "      <td>...</td>\n",
       "      <td>...</td>\n",
       "      <td>...</td>\n",
       "      <td>...</td>\n",
       "      <td>...</td>\n",
       "      <td>...</td>\n",
       "      <td>...</td>\n",
       "      <td>...</td>\n",
       "      <td>...</td>\n",
       "      <td>...</td>\n",
       "    </tr>\n",
       "    <tr>\n",
       "      <th>1929</th>\n",
       "      <td>2018</td>\n",
       "      <td>25</td>\n",
       "      <td>100XX W OHARE AIRPORT</td>\n",
       "      <td>100</td>\n",
       "      <td>T912</td>\n",
       "      <td>GRAVID</td>\n",
       "      <td>2018-06-21 00:06:00</td>\n",
       "      <td>50</td>\n",
       "      <td>Res</td>\n",
       "      <td>positive</td>\n",
       "      <td>CULEX RESTUANS</td>\n",
       "      <td>NaN</td>\n",
       "      <td>NaN</td>\n",
       "    </tr>\n",
       "    <tr>\n",
       "      <th>18329</th>\n",
       "      <td>2018</td>\n",
       "      <td>25</td>\n",
       "      <td>100XX W OHARE AIRPORT</td>\n",
       "      <td>100</td>\n",
       "      <td>T912</td>\n",
       "      <td>GRAVID</td>\n",
       "      <td>2018-06-21 00:06:00</td>\n",
       "      <td>50</td>\n",
       "      <td>Res</td>\n",
       "      <td>positive</td>\n",
       "      <td>CULEX RESTUANS</td>\n",
       "      <td>NaN</td>\n",
       "      <td>NaN</td>\n",
       "    </tr>\n",
       "    <tr>\n",
       "      <th>15542</th>\n",
       "      <td>2018</td>\n",
       "      <td>25</td>\n",
       "      <td>100XX W OHARE AIRPORT</td>\n",
       "      <td>100</td>\n",
       "      <td>T912</td>\n",
       "      <td>GRAVID</td>\n",
       "      <td>2018-06-21 00:06:00</td>\n",
       "      <td>50</td>\n",
       "      <td>Res</td>\n",
       "      <td>positive</td>\n",
       "      <td>CULEX RESTUANS</td>\n",
       "      <td>NaN</td>\n",
       "      <td>NaN</td>\n",
       "    </tr>\n",
       "    <tr>\n",
       "      <th>17398</th>\n",
       "      <td>2018</td>\n",
       "      <td>26</td>\n",
       "      <td>100XX W OHARE AIRPORT</td>\n",
       "      <td>100</td>\n",
       "      <td>T912</td>\n",
       "      <td>GRAVID</td>\n",
       "      <td>2018-06-28 00:06:00</td>\n",
       "      <td>50</td>\n",
       "      <td>Res</td>\n",
       "      <td>positive</td>\n",
       "      <td>CULEX RESTUANS</td>\n",
       "      <td>NaN</td>\n",
       "      <td>NaN</td>\n",
       "    </tr>\n",
       "    <tr>\n",
       "      <th>1860</th>\n",
       "      <td>2018</td>\n",
       "      <td>26</td>\n",
       "      <td>100XX W OHARE AIRPORT</td>\n",
       "      <td>100</td>\n",
       "      <td>T912</td>\n",
       "      <td>GRAVID</td>\n",
       "      <td>2018-06-28 00:06:00</td>\n",
       "      <td>50</td>\n",
       "      <td>Res</td>\n",
       "      <td>positive</td>\n",
       "      <td>CULEX RESTUANS</td>\n",
       "      <td>NaN</td>\n",
       "      <td>NaN</td>\n",
       "    </tr>\n",
       "  </tbody>\n",
       "</table>\n",
       "<p>100 rows × 13 columns</p>\n",
       "</div>"
      ],
      "text/plain": [
       "       Year  Week          Address Block  Block  Trap Trap type  \\\n",
       "17605  2007    31       115XX S AVENUE L    115  T103    GRAVID   \n",
       "17442  2007    31       115XX S AVENUE L    115  T103    GRAVID   \n",
       "14656  2007    31       115XX S AVENUE L    115  T103    GRAVID   \n",
       "15941  2007    31       115XX S AVENUE L    115  T103    GRAVID   \n",
       "16648  2007    34            4XX W 127TH      4  T135       CDC   \n",
       "...     ...   ...                    ...    ...   ...       ...   \n",
       "1929   2018    25  100XX W OHARE AIRPORT    100  T912    GRAVID   \n",
       "18329  2018    25  100XX W OHARE AIRPORT    100  T912    GRAVID   \n",
       "15542  2018    25  100XX W OHARE AIRPORT    100  T912    GRAVID   \n",
       "17398  2018    26  100XX W OHARE AIRPORT    100  T912    GRAVID   \n",
       "1860   2018    26  100XX W OHARE AIRPORT    100  T912    GRAVID   \n",
       "\n",
       "                     Date  Mosquito number Mosquito ID WNV Present  \\\n",
       "17605 2007-08-08 00:08:00               50         Pip    positive   \n",
       "17442 2007-08-08 00:08:00               50         Pip    positive   \n",
       "14656 2007-08-08 00:08:00               50         Pip    positive   \n",
       "15941 2007-08-08 00:08:00               50         Pip    positive   \n",
       "16648 2007-08-24 00:08:00               50         Pip    positive   \n",
       "...                   ...              ...         ...         ...   \n",
       "1929  2018-06-21 00:06:00               50         Res    positive   \n",
       "18329 2018-06-21 00:06:00               50         Res    positive   \n",
       "15542 2018-06-21 00:06:00               50         Res    positive   \n",
       "17398 2018-06-28 00:06:00               50         Res    positive   \n",
       "1860  2018-06-28 00:06:00               50         Res    positive   \n",
       "\n",
       "              Species  Lat  Lon  \n",
       "17605   CULEX PIPIENS  NaN  NaN  \n",
       "17442   CULEX PIPIENS  NaN  NaN  \n",
       "14656   CULEX PIPIENS  NaN  NaN  \n",
       "15941   CULEX PIPIENS  NaN  NaN  \n",
       "16648   CULEX PIPIENS  NaN  NaN  \n",
       "...               ...  ...  ...  \n",
       "1929   CULEX RESTUANS  NaN  NaN  \n",
       "18329  CULEX RESTUANS  NaN  NaN  \n",
       "15542  CULEX RESTUANS  NaN  NaN  \n",
       "17398  CULEX RESTUANS  NaN  NaN  \n",
       "1860   CULEX RESTUANS  NaN  NaN  \n",
       "\n",
       "[100 rows x 13 columns]"
      ]
     },
     "execution_count": 811,
     "metadata": {},
     "output_type": "execute_result"
    }
   ],
   "source": [
    "df[(df['Mosquito number'] == 50)].loc[dup_df, :].sort_values(by = 'Date')"
   ]
  },
  {
   "cell_type": "markdown",
   "id": "134a8492",
   "metadata": {},
   "source": [
    "We find that there are 100 rows of duplicates where the 'Mosquito number' equals the 50 cap per entry, which is about 12% of all duplicate columns (862 rows in Step 3).\n",
    "\n",
    "Additionally, we see that in the summary of the filtered dataframe, the 'WNV Present' column is positive in each entry.\n",
    "\n",
    "Let's filter the dataframe down even more to see if all 100 rows specify the presence of WNV."
   ]
  },
  {
   "cell_type": "code",
   "execution_count": 812,
   "id": "8562851c",
   "metadata": {},
   "outputs": [
    {
     "data": {
      "text/html": [
       "<div>\n",
       "<style scoped>\n",
       "    .dataframe tbody tr th:only-of-type {\n",
       "        vertical-align: middle;\n",
       "    }\n",
       "\n",
       "    .dataframe tbody tr th {\n",
       "        vertical-align: top;\n",
       "    }\n",
       "\n",
       "    .dataframe thead th {\n",
       "        text-align: right;\n",
       "    }\n",
       "</style>\n",
       "<table border=\"1\" class=\"dataframe\">\n",
       "  <thead>\n",
       "    <tr style=\"text-align: right;\">\n",
       "      <th></th>\n",
       "      <th>Year</th>\n",
       "      <th>Week</th>\n",
       "      <th>Address Block</th>\n",
       "      <th>Block</th>\n",
       "      <th>Trap</th>\n",
       "      <th>Trap type</th>\n",
       "      <th>Date</th>\n",
       "      <th>Mosquito number</th>\n",
       "      <th>Mosquito ID</th>\n",
       "      <th>WNV Present</th>\n",
       "      <th>Species</th>\n",
       "      <th>Lat</th>\n",
       "      <th>Lon</th>\n",
       "    </tr>\n",
       "  </thead>\n",
       "  <tbody>\n",
       "    <tr>\n",
       "      <th>17605</th>\n",
       "      <td>2007</td>\n",
       "      <td>31</td>\n",
       "      <td>115XX S AVENUE L</td>\n",
       "      <td>115</td>\n",
       "      <td>T103</td>\n",
       "      <td>GRAVID</td>\n",
       "      <td>2007-08-08 00:08:00</td>\n",
       "      <td>50</td>\n",
       "      <td>Pip</td>\n",
       "      <td>positive</td>\n",
       "      <td>CULEX PIPIENS</td>\n",
       "      <td>NaN</td>\n",
       "      <td>NaN</td>\n",
       "    </tr>\n",
       "    <tr>\n",
       "      <th>17442</th>\n",
       "      <td>2007</td>\n",
       "      <td>31</td>\n",
       "      <td>115XX S AVENUE L</td>\n",
       "      <td>115</td>\n",
       "      <td>T103</td>\n",
       "      <td>GRAVID</td>\n",
       "      <td>2007-08-08 00:08:00</td>\n",
       "      <td>50</td>\n",
       "      <td>Pip</td>\n",
       "      <td>positive</td>\n",
       "      <td>CULEX PIPIENS</td>\n",
       "      <td>NaN</td>\n",
       "      <td>NaN</td>\n",
       "    </tr>\n",
       "    <tr>\n",
       "      <th>14656</th>\n",
       "      <td>2007</td>\n",
       "      <td>31</td>\n",
       "      <td>115XX S AVENUE L</td>\n",
       "      <td>115</td>\n",
       "      <td>T103</td>\n",
       "      <td>GRAVID</td>\n",
       "      <td>2007-08-08 00:08:00</td>\n",
       "      <td>50</td>\n",
       "      <td>Pip</td>\n",
       "      <td>positive</td>\n",
       "      <td>CULEX PIPIENS</td>\n",
       "      <td>NaN</td>\n",
       "      <td>NaN</td>\n",
       "    </tr>\n",
       "    <tr>\n",
       "      <th>15941</th>\n",
       "      <td>2007</td>\n",
       "      <td>31</td>\n",
       "      <td>115XX S AVENUE L</td>\n",
       "      <td>115</td>\n",
       "      <td>T103</td>\n",
       "      <td>GRAVID</td>\n",
       "      <td>2007-08-08 00:08:00</td>\n",
       "      <td>50</td>\n",
       "      <td>Pip</td>\n",
       "      <td>positive</td>\n",
       "      <td>CULEX PIPIENS</td>\n",
       "      <td>NaN</td>\n",
       "      <td>NaN</td>\n",
       "    </tr>\n",
       "    <tr>\n",
       "      <th>16648</th>\n",
       "      <td>2007</td>\n",
       "      <td>34</td>\n",
       "      <td>4XX W 127TH</td>\n",
       "      <td>4</td>\n",
       "      <td>T135</td>\n",
       "      <td>CDC</td>\n",
       "      <td>2007-08-24 00:08:00</td>\n",
       "      <td>50</td>\n",
       "      <td>Pip</td>\n",
       "      <td>positive</td>\n",
       "      <td>CULEX PIPIENS</td>\n",
       "      <td>NaN</td>\n",
       "      <td>NaN</td>\n",
       "    </tr>\n",
       "    <tr>\n",
       "      <th>...</th>\n",
       "      <td>...</td>\n",
       "      <td>...</td>\n",
       "      <td>...</td>\n",
       "      <td>...</td>\n",
       "      <td>...</td>\n",
       "      <td>...</td>\n",
       "      <td>...</td>\n",
       "      <td>...</td>\n",
       "      <td>...</td>\n",
       "      <td>...</td>\n",
       "      <td>...</td>\n",
       "      <td>...</td>\n",
       "      <td>...</td>\n",
       "    </tr>\n",
       "    <tr>\n",
       "      <th>1929</th>\n",
       "      <td>2018</td>\n",
       "      <td>25</td>\n",
       "      <td>100XX W OHARE AIRPORT</td>\n",
       "      <td>100</td>\n",
       "      <td>T912</td>\n",
       "      <td>GRAVID</td>\n",
       "      <td>2018-06-21 00:06:00</td>\n",
       "      <td>50</td>\n",
       "      <td>Res</td>\n",
       "      <td>positive</td>\n",
       "      <td>CULEX RESTUANS</td>\n",
       "      <td>NaN</td>\n",
       "      <td>NaN</td>\n",
       "    </tr>\n",
       "    <tr>\n",
       "      <th>18329</th>\n",
       "      <td>2018</td>\n",
       "      <td>25</td>\n",
       "      <td>100XX W OHARE AIRPORT</td>\n",
       "      <td>100</td>\n",
       "      <td>T912</td>\n",
       "      <td>GRAVID</td>\n",
       "      <td>2018-06-21 00:06:00</td>\n",
       "      <td>50</td>\n",
       "      <td>Res</td>\n",
       "      <td>positive</td>\n",
       "      <td>CULEX RESTUANS</td>\n",
       "      <td>NaN</td>\n",
       "      <td>NaN</td>\n",
       "    </tr>\n",
       "    <tr>\n",
       "      <th>15542</th>\n",
       "      <td>2018</td>\n",
       "      <td>25</td>\n",
       "      <td>100XX W OHARE AIRPORT</td>\n",
       "      <td>100</td>\n",
       "      <td>T912</td>\n",
       "      <td>GRAVID</td>\n",
       "      <td>2018-06-21 00:06:00</td>\n",
       "      <td>50</td>\n",
       "      <td>Res</td>\n",
       "      <td>positive</td>\n",
       "      <td>CULEX RESTUANS</td>\n",
       "      <td>NaN</td>\n",
       "      <td>NaN</td>\n",
       "    </tr>\n",
       "    <tr>\n",
       "      <th>17398</th>\n",
       "      <td>2018</td>\n",
       "      <td>26</td>\n",
       "      <td>100XX W OHARE AIRPORT</td>\n",
       "      <td>100</td>\n",
       "      <td>T912</td>\n",
       "      <td>GRAVID</td>\n",
       "      <td>2018-06-28 00:06:00</td>\n",
       "      <td>50</td>\n",
       "      <td>Res</td>\n",
       "      <td>positive</td>\n",
       "      <td>CULEX RESTUANS</td>\n",
       "      <td>NaN</td>\n",
       "      <td>NaN</td>\n",
       "    </tr>\n",
       "    <tr>\n",
       "      <th>1860</th>\n",
       "      <td>2018</td>\n",
       "      <td>26</td>\n",
       "      <td>100XX W OHARE AIRPORT</td>\n",
       "      <td>100</td>\n",
       "      <td>T912</td>\n",
       "      <td>GRAVID</td>\n",
       "      <td>2018-06-28 00:06:00</td>\n",
       "      <td>50</td>\n",
       "      <td>Res</td>\n",
       "      <td>positive</td>\n",
       "      <td>CULEX RESTUANS</td>\n",
       "      <td>NaN</td>\n",
       "      <td>NaN</td>\n",
       "    </tr>\n",
       "  </tbody>\n",
       "</table>\n",
       "<p>100 rows × 13 columns</p>\n",
       "</div>"
      ],
      "text/plain": [
       "       Year  Week          Address Block  Block  Trap Trap type  \\\n",
       "17605  2007    31       115XX S AVENUE L    115  T103    GRAVID   \n",
       "17442  2007    31       115XX S AVENUE L    115  T103    GRAVID   \n",
       "14656  2007    31       115XX S AVENUE L    115  T103    GRAVID   \n",
       "15941  2007    31       115XX S AVENUE L    115  T103    GRAVID   \n",
       "16648  2007    34            4XX W 127TH      4  T135       CDC   \n",
       "...     ...   ...                    ...    ...   ...       ...   \n",
       "1929   2018    25  100XX W OHARE AIRPORT    100  T912    GRAVID   \n",
       "18329  2018    25  100XX W OHARE AIRPORT    100  T912    GRAVID   \n",
       "15542  2018    25  100XX W OHARE AIRPORT    100  T912    GRAVID   \n",
       "17398  2018    26  100XX W OHARE AIRPORT    100  T912    GRAVID   \n",
       "1860   2018    26  100XX W OHARE AIRPORT    100  T912    GRAVID   \n",
       "\n",
       "                     Date  Mosquito number Mosquito ID WNV Present  \\\n",
       "17605 2007-08-08 00:08:00               50         Pip    positive   \n",
       "17442 2007-08-08 00:08:00               50         Pip    positive   \n",
       "14656 2007-08-08 00:08:00               50         Pip    positive   \n",
       "15941 2007-08-08 00:08:00               50         Pip    positive   \n",
       "16648 2007-08-24 00:08:00               50         Pip    positive   \n",
       "...                   ...              ...         ...         ...   \n",
       "1929  2018-06-21 00:06:00               50         Res    positive   \n",
       "18329 2018-06-21 00:06:00               50         Res    positive   \n",
       "15542 2018-06-21 00:06:00               50         Res    positive   \n",
       "17398 2018-06-28 00:06:00               50         Res    positive   \n",
       "1860  2018-06-28 00:06:00               50         Res    positive   \n",
       "\n",
       "              Species  Lat  Lon  \n",
       "17605   CULEX PIPIENS  NaN  NaN  \n",
       "17442   CULEX PIPIENS  NaN  NaN  \n",
       "14656   CULEX PIPIENS  NaN  NaN  \n",
       "15941   CULEX PIPIENS  NaN  NaN  \n",
       "16648   CULEX PIPIENS  NaN  NaN  \n",
       "...               ...  ...  ...  \n",
       "1929   CULEX RESTUANS  NaN  NaN  \n",
       "18329  CULEX RESTUANS  NaN  NaN  \n",
       "15542  CULEX RESTUANS  NaN  NaN  \n",
       "17398  CULEX RESTUANS  NaN  NaN  \n",
       "1860   CULEX RESTUANS  NaN  NaN  \n",
       "\n",
       "[100 rows x 13 columns]"
      ]
     },
     "execution_count": 812,
     "metadata": {},
     "output_type": "execute_result"
    }
   ],
   "source": [
    "df[(df['Mosquito number'] == 50) & (df['WNV Present'] == 'positive')].loc[dup_df, :].sort_values(by = 'Date')"
   ]
  },
  {
   "cell_type": "markdown",
   "id": "ed945538",
   "metadata": {},
   "source": [
    "Indeed, every single entry of duplicated records with 'Mosquito number' equaling 50 also has 'WNV Present' being positive.\n",
    "\n",
    "Since there is uncertainty around the batch segmentations and testing times, and how potentially significant the presence of these line items can skew the analysis, this should definitely be a point of emphasis to follow-up with from a business requirements perspecive."
   ]
  },
  {
   "cell_type": "markdown",
   "id": "df5d0400",
   "metadata": {},
   "source": [
    "##### Step 5: Removal of duplicates\n",
    "For right now, we will move forward with the decision to remove all duplicate listings, with the priority in mind to confirm the above uncertainties.\n",
    "\n",
    "To drop the duplicates, we simply call the function `.drop_duplicates()` from the pandas library. Since the changes do not persist, we'll need to create a new dataframe with these changes."
   ]
  },
  {
   "cell_type": "code",
   "execution_count": 813,
   "id": "97ff72e2",
   "metadata": {},
   "outputs": [],
   "source": [
    "df2 = df.drop_duplicates().copy()"
   ]
  },
  {
   "cell_type": "markdown",
   "id": "b4678b1a",
   "metadata": {},
   "source": [
    "##### Step 6: Confirm if any columns are duplicated\n",
    "Lastly, we'll check to see if any columns are duplicated using the `.T.duplicated()` function."
   ]
  },
  {
   "cell_type": "code",
   "execution_count": 814,
   "id": "3ef32b16",
   "metadata": {
    "scrolled": false
   },
   "outputs": [
    {
     "data": {
      "text/plain": [
       "Year               False\n",
       "Week               False\n",
       "Address Block      False\n",
       "Block              False\n",
       "Trap               False\n",
       "Trap type          False\n",
       "Date               False\n",
       "Mosquito number    False\n",
       "Mosquito ID        False\n",
       "WNV Present        False\n",
       "Species            False\n",
       "Lat                False\n",
       "Lon                False\n",
       "dtype: bool"
      ]
     },
     "execution_count": 814,
     "metadata": {},
     "output_type": "execute_result"
    }
   ],
   "source": [
    "df2.T.duplicated()"
   ]
  },
  {
   "cell_type": "markdown",
   "id": "1fdafe22",
   "metadata": {},
   "source": [
    "#### Q5: Check for & Remediate Null Values\n",
    "Another very common dataset error is the existence of null values. Either due to a lack of data points or error in the initial data collection pipeline, null values represent fields within a data entry that does not have a data point specified.\n",
    "\n",
    "The can lead to either skewed or a misrepresentation of the truth, or can just be difficult to navigate when Null Values are sporadically present throughout a dataset."
   ]
  },
  {
   "cell_type": "markdown",
   "id": "1574d17d",
   "metadata": {},
   "source": [
    "##### Step 1: Check for total number of nulls in each column\n",
    "The pandas library has a function known as `.isna()` which, similar to `.duplicated()`, will provide a boolean specifying whether there is a Null Value. However, the `.isna()` differs from the `.duplicated()` output, since `.isna()` is determined by column, while `.duplicated()` is determinded by row.\n",
    "\n",
    "When again attach `.sum()` to this function for the total number of Null Values, `.isna()` will specify the number of Null Values per column."
   ]
  },
  {
   "cell_type": "code",
   "execution_count": 815,
   "id": "ad0e2adf",
   "metadata": {},
   "outputs": [
    {
     "data": {
      "text/plain": [
       "Year                  0\n",
       "Week                  0\n",
       "Address Block         0\n",
       "Block                 0\n",
       "Trap                  0\n",
       "Trap type             0\n",
       "Date                  0\n",
       "Mosquito number       0\n",
       "Mosquito ID           0\n",
       "WNV Present           0\n",
       "Species               0\n",
       "Lat                2266\n",
       "Lon                2266\n",
       "dtype: int64"
      ]
     },
     "execution_count": 815,
     "metadata": {},
     "output_type": "execute_result"
    }
   ],
   "source": [
    "df2.isna().sum()"
   ]
  },
  {
   "cell_type": "markdown",
   "id": "eb1c13e0",
   "metadata": {},
   "source": [
    "##### Step 2: Determine the prevalence of Nulls relative to the entire column\n",
    "To better gauge how many nulls are within Latitude and Longitutde, we'll divide the number of Nulls by the total number of values within each column."
   ]
  },
  {
   "cell_type": "code",
   "execution_count": 816,
   "id": "dc495eec",
   "metadata": {},
   "outputs": [
    {
     "data": {
      "text/plain": [
       "Year                0.00000\n",
       "Week                0.00000\n",
       "Address Block       0.00000\n",
       "Block               0.00000\n",
       "Trap                0.00000\n",
       "Trap type           0.00000\n",
       "Date                0.00000\n",
       "Mosquito number     0.00000\n",
       "Mosquito ID         0.00000\n",
       "WNV Present         0.00000\n",
       "Species             0.00000\n",
       "Lat                12.70393\n",
       "Lon                12.70393\n",
       "dtype: float64"
      ]
     },
     "execution_count": 816,
     "metadata": {},
     "output_type": "execute_result"
    }
   ],
   "source": [
    "df2.isna().sum() / df2.shape[0] * 100"
   ]
  },
  {
   "cell_type": "markdown",
   "id": "3c8de11f",
   "metadata": {},
   "source": [
    "##### Step 3: Prevalence of missing Latitude & Longitutde per Trap\n",
    "Since the 'Lat' and 'Lon' columns represent the location of traps throughout the city, it's important to understand which traps contain null values and the extent to the missing location data.\n",
    "\n",
    "Ideally speaking, if the ratio of Null lat and lon values is less than 100% per trap, we should be able to fill in the Null Values with the appropriate location data for each trap. But first, we need to find that ratio.\n",
    "\n",
    "The first step within Step 3 is to filter the dataframe of all traps that are missing location data. Since Lat & Lon have the same exact number of Null Values, we are going to assume that when a value in the Lat column is Null, it is also Null in the Lon column.\n",
    "\n",
    "To find the number of Null Values for 'Lat', grouped by Trap, build the following argument:\n",
    "* `df2.loc[:,['Trap','Lat']]`: Select all rows in the dataframe, but only the 'Trap' and 'Lat' columns\n",
    "* `[df2['Lat'].isna()]`: Filter selection for all rows where 'Lat' is Null\n",
    "* `.groupby('Trap')['Trap'].count()`: Based on the above filters, group that dataframe subset by the unique Trap ID, and then count the number of times that Trap ID exists within the filtered subset\n",
    "* `null_lat_traps`: For easier usage of the argument in the coming arguments, we'll save this to a variable"
   ]
  },
  {
   "cell_type": "code",
   "execution_count": 817,
   "id": "8497b9ac",
   "metadata": {},
   "outputs": [
    {
     "data": {
      "text/plain": [
       "Trap\n",
       "T035     12\n",
       "T068    116\n",
       "T083    127\n",
       "T100     11\n",
       "T103     32\n",
       "T135    264\n",
       "T143     17\n",
       "T145     10\n",
       "T900    114\n",
       "T901     94\n",
       "T902    127\n",
       "T903     89\n",
       "T904     68\n",
       "T905    151\n",
       "T906    112\n",
       "T907     20\n",
       "T908     14\n",
       "T909     21\n",
       "T910     50\n",
       "T911     22\n",
       "T912    184\n",
       "T913    211\n",
       "T914      3\n",
       "T915     59\n",
       "T916    145\n",
       "T917      3\n",
       "T918     57\n",
       "T920      7\n",
       "T921      8\n",
       "T923     44\n",
       "T924     35\n",
       "T925     39\n",
       "Name: Trap, dtype: int64"
      ]
     },
     "execution_count": 817,
     "metadata": {},
     "output_type": "execute_result"
    }
   ],
   "source": [
    "null_lat_traps = (df2.loc[:,['Trap','Lat']][df2['Lat'].isna()]).groupby('Trap')['Trap'].count()\n",
    "null_lat_traps"
   ]
  },
  {
   "cell_type": "markdown",
   "id": "81dbef4b",
   "metadata": {},
   "source": [
    "Now that we've found the total number of Null 'Lat' values per Trap, we want to find the total number of 'Lat' trap values per Trap to understand the prevelance of Null location data for each Trap.\n",
    "\n",
    "* `df2.groupby('Trap')['Trap'].count()`: Using the same groupby function as null_lat_traps, but without the 'Lat' Null Value filter.\n",
    "* `all_lat_traps`: Variable function for future use"
   ]
  },
  {
   "cell_type": "code",
   "execution_count": 818,
   "id": "9c60bcfa",
   "metadata": {},
   "outputs": [
    {
     "data": {
      "text/plain": [
       "Trap\n",
       "220A       4\n",
       "T001       7\n",
       "T002     406\n",
       "T002A     10\n",
       "T002B      2\n",
       "        ... \n",
       "T920       7\n",
       "T921       8\n",
       "T923      44\n",
       "T924      35\n",
       "T925      39\n",
       "Name: Trap, Length: 190, dtype: int64"
      ]
     },
     "execution_count": 818,
     "metadata": {},
     "output_type": "execute_result"
    }
   ],
   "source": [
    "all_lat_traps = df2.groupby('Trap')['Trap'].count()\n",
    "all_lat_traps"
   ]
  },
  {
   "cell_type": "markdown",
   "id": "99cdd138",
   "metadata": {},
   "source": [
    "Next, we will find the ratio of Null 'Lat' Values relative to all 'Lat' Values for each trap."
   ]
  },
  {
   "cell_type": "code",
   "execution_count": 819,
   "id": "2c3ac91d",
   "metadata": {},
   "outputs": [
    {
     "data": {
      "text/plain": [
       "Trap\n",
       "T035      7.643312\n",
       "T068    100.000000\n",
       "T083    100.000000\n",
       "T100    100.000000\n",
       "T103    100.000000\n",
       "T135    100.000000\n",
       "T143    100.000000\n",
       "T145    100.000000\n",
       "T900    100.000000\n",
       "T901    100.000000\n",
       "T902    100.000000\n",
       "T903    100.000000\n",
       "T904    100.000000\n",
       "T905    100.000000\n",
       "T906    100.000000\n",
       "T907    100.000000\n",
       "T908    100.000000\n",
       "T909    100.000000\n",
       "T910    100.000000\n",
       "T911    100.000000\n",
       "T912    100.000000\n",
       "T913    100.000000\n",
       "T914    100.000000\n",
       "T915    100.000000\n",
       "T916    100.000000\n",
       "T917    100.000000\n",
       "T918    100.000000\n",
       "T920    100.000000\n",
       "T921    100.000000\n",
       "T923    100.000000\n",
       "T924    100.000000\n",
       "T925    100.000000\n",
       "Name: Trap, dtype: float64"
      ]
     },
     "execution_count": 819,
     "metadata": {},
     "output_type": "execute_result"
    }
   ],
   "source": [
    "df_traps = (null_lat_traps / all_lat_traps * 100)\n",
    "df_traps[df_traps > 0]"
   ]
  },
  {
   "cell_type": "markdown",
   "id": "b72419f4",
   "metadata": {},
   "source": [
    "##### Step 4: Fill Null Values for Trap T035\n",
    "As seen above, all Traps with Null 'Lat' Values are missing the location data throughout the entire dataset except for one trap: T035.\n",
    "\n",
    "We'll first filter the dataframe for all entries with T035 and Null 'Lat' Values."
   ]
  },
  {
   "cell_type": "code",
   "execution_count": 820,
   "id": "18761bb7",
   "metadata": {},
   "outputs": [
    {
     "data": {
      "text/html": [
       "<div>\n",
       "<style scoped>\n",
       "    .dataframe tbody tr th:only-of-type {\n",
       "        vertical-align: middle;\n",
       "    }\n",
       "\n",
       "    .dataframe tbody tr th {\n",
       "        vertical-align: top;\n",
       "    }\n",
       "\n",
       "    .dataframe thead th {\n",
       "        text-align: right;\n",
       "    }\n",
       "</style>\n",
       "<table border=\"1\" class=\"dataframe\">\n",
       "  <thead>\n",
       "    <tr style=\"text-align: right;\">\n",
       "      <th></th>\n",
       "      <th>Year</th>\n",
       "      <th>Week</th>\n",
       "      <th>Address Block</th>\n",
       "      <th>Block</th>\n",
       "      <th>Trap</th>\n",
       "      <th>Trap type</th>\n",
       "      <th>Date</th>\n",
       "      <th>Mosquito number</th>\n",
       "      <th>Mosquito ID</th>\n",
       "      <th>WNV Present</th>\n",
       "      <th>Species</th>\n",
       "      <th>Lat</th>\n",
       "      <th>Lon</th>\n",
       "    </tr>\n",
       "  </thead>\n",
       "  <tbody>\n",
       "    <tr>\n",
       "      <th>13806</th>\n",
       "      <td>2007</td>\n",
       "      <td>39</td>\n",
       "      <td>30XX S HOYNE</td>\n",
       "      <td>30</td>\n",
       "      <td>T035</td>\n",
       "      <td>GRAVID</td>\n",
       "      <td>2007-10-04 00:10:00</td>\n",
       "      <td>14</td>\n",
       "      <td>Pip</td>\n",
       "      <td>negative</td>\n",
       "      <td>CULEX PIPIENS</td>\n",
       "      <td>NaN</td>\n",
       "      <td>NaN</td>\n",
       "    </tr>\n",
       "    <tr>\n",
       "      <th>13986</th>\n",
       "      <td>2007</td>\n",
       "      <td>37</td>\n",
       "      <td>30XX S HOYNE</td>\n",
       "      <td>30</td>\n",
       "      <td>T035</td>\n",
       "      <td>GRAVID</td>\n",
       "      <td>2007-09-18 00:09:00</td>\n",
       "      <td>2</td>\n",
       "      <td>Pip</td>\n",
       "      <td>negative</td>\n",
       "      <td>CULEX PIPIENS</td>\n",
       "      <td>NaN</td>\n",
       "      <td>NaN</td>\n",
       "    </tr>\n",
       "    <tr>\n",
       "      <th>13995</th>\n",
       "      <td>2007</td>\n",
       "      <td>37</td>\n",
       "      <td>30XX S HOYNE</td>\n",
       "      <td>30</td>\n",
       "      <td>T035</td>\n",
       "      <td>GRAVID</td>\n",
       "      <td>2007-09-18 00:09:00</td>\n",
       "      <td>1</td>\n",
       "      <td>Ter</td>\n",
       "      <td>negative</td>\n",
       "      <td>CULEX TERRITANS</td>\n",
       "      <td>NaN</td>\n",
       "      <td>NaN</td>\n",
       "    </tr>\n",
       "    <tr>\n",
       "      <th>14002</th>\n",
       "      <td>2007</td>\n",
       "      <td>36</td>\n",
       "      <td>30XX S HOYNE</td>\n",
       "      <td>30</td>\n",
       "      <td>T035</td>\n",
       "      <td>GRAVID</td>\n",
       "      <td>2007-09-12 00:09:00</td>\n",
       "      <td>1</td>\n",
       "      <td>Pip</td>\n",
       "      <td>negative</td>\n",
       "      <td>CULEX PIPIENS</td>\n",
       "      <td>NaN</td>\n",
       "      <td>NaN</td>\n",
       "    </tr>\n",
       "    <tr>\n",
       "      <th>14296</th>\n",
       "      <td>2007</td>\n",
       "      <td>34</td>\n",
       "      <td>30XX S HOYNE</td>\n",
       "      <td>30</td>\n",
       "      <td>T035</td>\n",
       "      <td>GRAVID</td>\n",
       "      <td>2007-08-24 00:08:00</td>\n",
       "      <td>2</td>\n",
       "      <td>Pip</td>\n",
       "      <td>negative</td>\n",
       "      <td>CULEX PIPIENS</td>\n",
       "      <td>NaN</td>\n",
       "      <td>NaN</td>\n",
       "    </tr>\n",
       "    <tr>\n",
       "      <th>14404</th>\n",
       "      <td>2007</td>\n",
       "      <td>33</td>\n",
       "      <td>30XX S HOYNE</td>\n",
       "      <td>30</td>\n",
       "      <td>T035</td>\n",
       "      <td>GRAVID</td>\n",
       "      <td>2007-08-21 00:08:00</td>\n",
       "      <td>5</td>\n",
       "      <td>Pip</td>\n",
       "      <td>negative</td>\n",
       "      <td>CULEX PIPIENS</td>\n",
       "      <td>NaN</td>\n",
       "      <td>NaN</td>\n",
       "    </tr>\n",
       "    <tr>\n",
       "      <th>14422</th>\n",
       "      <td>2007</td>\n",
       "      <td>33</td>\n",
       "      <td>30XX S HOYNE</td>\n",
       "      <td>30</td>\n",
       "      <td>T035</td>\n",
       "      <td>GRAVID</td>\n",
       "      <td>2007-08-21 00:08:00</td>\n",
       "      <td>2</td>\n",
       "      <td>Res</td>\n",
       "      <td>negative</td>\n",
       "      <td>CULEX RESTUANS</td>\n",
       "      <td>NaN</td>\n",
       "      <td>NaN</td>\n",
       "    </tr>\n",
       "    <tr>\n",
       "      <th>14500</th>\n",
       "      <td>2007</td>\n",
       "      <td>32</td>\n",
       "      <td>30XX S HOYNE</td>\n",
       "      <td>30</td>\n",
       "      <td>T035</td>\n",
       "      <td>GRAVID</td>\n",
       "      <td>2007-08-15 00:08:00</td>\n",
       "      <td>4</td>\n",
       "      <td>Pip</td>\n",
       "      <td>negative</td>\n",
       "      <td>CULEX PIPIENS</td>\n",
       "      <td>NaN</td>\n",
       "      <td>NaN</td>\n",
       "    </tr>\n",
       "    <tr>\n",
       "      <th>14592</th>\n",
       "      <td>2007</td>\n",
       "      <td>32</td>\n",
       "      <td>30XX S HOYNE</td>\n",
       "      <td>30</td>\n",
       "      <td>T035</td>\n",
       "      <td>GRAVID</td>\n",
       "      <td>2007-08-15 00:08:00</td>\n",
       "      <td>1</td>\n",
       "      <td>Res</td>\n",
       "      <td>positive</td>\n",
       "      <td>CULEX RESTUANS</td>\n",
       "      <td>NaN</td>\n",
       "      <td>NaN</td>\n",
       "    </tr>\n",
       "    <tr>\n",
       "      <th>14724</th>\n",
       "      <td>2007</td>\n",
       "      <td>31</td>\n",
       "      <td>30XX S HOYNE</td>\n",
       "      <td>30</td>\n",
       "      <td>T035</td>\n",
       "      <td>GRAVID</td>\n",
       "      <td>2007-08-07 00:08:00</td>\n",
       "      <td>1</td>\n",
       "      <td>Res</td>\n",
       "      <td>negative</td>\n",
       "      <td>CULEX RESTUANS</td>\n",
       "      <td>NaN</td>\n",
       "      <td>NaN</td>\n",
       "    </tr>\n",
       "    <tr>\n",
       "      <th>15021</th>\n",
       "      <td>2007</td>\n",
       "      <td>30</td>\n",
       "      <td>30XX S HOYNE</td>\n",
       "      <td>30</td>\n",
       "      <td>T035</td>\n",
       "      <td>GRAVID</td>\n",
       "      <td>2007-08-01 02:08:26</td>\n",
       "      <td>5</td>\n",
       "      <td>Pip</td>\n",
       "      <td>negative</td>\n",
       "      <td>CULEX PIPIENS</td>\n",
       "      <td>NaN</td>\n",
       "      <td>NaN</td>\n",
       "    </tr>\n",
       "    <tr>\n",
       "      <th>15110</th>\n",
       "      <td>2007</td>\n",
       "      <td>26</td>\n",
       "      <td>30XX S HOYNE</td>\n",
       "      <td>30</td>\n",
       "      <td>T035</td>\n",
       "      <td>GRAVID</td>\n",
       "      <td>2007-07-27 11:07:18</td>\n",
       "      <td>1</td>\n",
       "      <td>Res</td>\n",
       "      <td>negative</td>\n",
       "      <td>CULEX RESTUANS</td>\n",
       "      <td>NaN</td>\n",
       "      <td>NaN</td>\n",
       "    </tr>\n",
       "  </tbody>\n",
       "</table>\n",
       "</div>"
      ],
      "text/plain": [
       "       Year  Week Address Block  Block  Trap Trap type                Date  \\\n",
       "13806  2007    39  30XX S HOYNE     30  T035    GRAVID 2007-10-04 00:10:00   \n",
       "13986  2007    37  30XX S HOYNE     30  T035    GRAVID 2007-09-18 00:09:00   \n",
       "13995  2007    37  30XX S HOYNE     30  T035    GRAVID 2007-09-18 00:09:00   \n",
       "14002  2007    36  30XX S HOYNE     30  T035    GRAVID 2007-09-12 00:09:00   \n",
       "14296  2007    34  30XX S HOYNE     30  T035    GRAVID 2007-08-24 00:08:00   \n",
       "14404  2007    33  30XX S HOYNE     30  T035    GRAVID 2007-08-21 00:08:00   \n",
       "14422  2007    33  30XX S HOYNE     30  T035    GRAVID 2007-08-21 00:08:00   \n",
       "14500  2007    32  30XX S HOYNE     30  T035    GRAVID 2007-08-15 00:08:00   \n",
       "14592  2007    32  30XX S HOYNE     30  T035    GRAVID 2007-08-15 00:08:00   \n",
       "14724  2007    31  30XX S HOYNE     30  T035    GRAVID 2007-08-07 00:08:00   \n",
       "15021  2007    30  30XX S HOYNE     30  T035    GRAVID 2007-08-01 02:08:26   \n",
       "15110  2007    26  30XX S HOYNE     30  T035    GRAVID 2007-07-27 11:07:18   \n",
       "\n",
       "       Mosquito number Mosquito ID WNV Present          Species  Lat  Lon  \n",
       "13806               14         Pip    negative    CULEX PIPIENS  NaN  NaN  \n",
       "13986                2         Pip    negative    CULEX PIPIENS  NaN  NaN  \n",
       "13995                1         Ter    negative  CULEX TERRITANS  NaN  NaN  \n",
       "14002                1         Pip    negative    CULEX PIPIENS  NaN  NaN  \n",
       "14296                2         Pip    negative    CULEX PIPIENS  NaN  NaN  \n",
       "14404                5         Pip    negative    CULEX PIPIENS  NaN  NaN  \n",
       "14422                2         Res    negative   CULEX RESTUANS  NaN  NaN  \n",
       "14500                4         Pip    negative    CULEX PIPIENS  NaN  NaN  \n",
       "14592                1         Res    positive   CULEX RESTUANS  NaN  NaN  \n",
       "14724                1         Res    negative   CULEX RESTUANS  NaN  NaN  \n",
       "15021                5         Pip    negative    CULEX PIPIENS  NaN  NaN  \n",
       "15110                1         Res    negative   CULEX RESTUANS  NaN  NaN  "
      ]
     },
     "execution_count": 820,
     "metadata": {},
     "output_type": "execute_result"
    }
   ],
   "source": [
    "df2[(df2['Trap'] == 'T035') & (df2['Lat'].isna() == True)]"
   ]
  },
  {
   "cell_type": "markdown",
   "id": "94fe5632",
   "metadata": {},
   "source": [
    "Next, for all T035 entries where 'Lat' & 'Lon' values that aren't Null, we'll look to find the appropriate values to fill the Null Values with."
   ]
  },
  {
   "cell_type": "code",
   "execution_count": 821,
   "id": "5f33b09b",
   "metadata": {},
   "outputs": [
    {
     "name": "stdout",
     "output_type": "stream",
     "text": [
      "Lat\n",
      "41.763371    128\n",
      "41.763371      1\n",
      "41.763371      1\n",
      "41.763371      1\n",
      "41.763372      1\n",
      "41.763373      1\n",
      "41.763374      1\n",
      "41.763374      1\n",
      "41.763374      1\n",
      "41.763375      1\n",
      "41.763375      1\n",
      "41.763375      1\n",
      "41.763375      1\n",
      "41.763376      1\n",
      "41.763377      1\n",
      "41.763378      1\n",
      "41.763379      1\n",
      "41.763379      1\n",
      "Name: Lat, dtype: int64\n",
      "Lon\n",
      "-87.637873    128\n",
      "-87.637872      1\n",
      "-87.637872      1\n",
      "-87.637872      1\n",
      "-87.637872      1\n",
      "-87.637871      1\n",
      "-87.637871      1\n",
      "-87.637870      1\n",
      "-87.637870      1\n",
      "-87.637869      1\n",
      "-87.637869      1\n",
      "-87.637868      1\n",
      "-87.637868      1\n",
      "-87.637867      1\n",
      "-87.637867      1\n",
      "-87.637865      1\n",
      "-87.637865      1\n",
      "-87.637864      1\n",
      "Name: Lon, dtype: int64\n"
     ]
    }
   ],
   "source": [
    "print(df2[df2['Trap'] == 'T035'].groupby('Lat')['Lat'].count())\n",
    "print(df2[df2['Trap'] == 'T035'].groupby('Lon')['Lon'].count())"
   ]
  },
  {
   "cell_type": "markdown",
   "id": "d65afb6d",
   "metadata": {},
   "source": [
    "Although there is a bit of a range of values, it is clear that the vast majority of T035 entries are identified under a single 'Lat' & 'Lon' value. We'll fill is Null Values with these values.\n",
    "\n",
    "Although the below arguments look long, they are relatively simple.\n",
    "* `df2[(df2['Trap'] == 'T035') & (df2['Lat'].isna() == True)]`: Filter the dataframe for the rows with the T035 trap and Null 'Lat' Values.\n",
    "* `= df2[(df2['Trap'] == 'T035') & (df2['Lat'].isna() == True)].fillna(41.763371)`: Make that filter equal to the dataframe with the same filter, but also specifying the `.fillna() clause`\n",
    "\n",
    "`.fillna()` is from the pandas library that will replace Null Values with the specified value."
   ]
  },
  {
   "cell_type": "code",
   "execution_count": 822,
   "id": "4db6c633",
   "metadata": {},
   "outputs": [],
   "source": [
    "df2[(df2['Trap'] == 'T035') & (df2['Lat'].isna() == True)] = df2[(df2['Trap'] == 'T035') & (df2['Lat'].isna() == True)].fillna(41.763371)\n",
    "df2[(df2['Trap'] == 'T035') & (df2['Lon'].isna() == True)] = df2[(df2['Trap'] == 'T035') & (df2['Lon'].isna() == True)].fillna(-87.637873)"
   ]
  },
  {
   "cell_type": "code",
   "execution_count": 823,
   "id": "379e29e9",
   "metadata": {},
   "outputs": [
    {
     "name": "stderr",
     "output_type": "stream",
     "text": [
      "/var/folders/lb/vxhdzz_128l9mjh0gmf_1d2c0000gq/T/ipykernel_49154/273176979.py:1: UserWarning: Boolean Series key will be reindexed to match DataFrame index.\n",
      "  df100 = df2[df['Trap'].str.contains('A') | df['Trap'].str.contains('B')].sort_values(by = 'Trap')\n"
     ]
    }
   ],
   "source": [
    "df100 = df2[df['Trap'].str.contains('A') | df['Trap'].str.contains('B')].sort_values(by = 'Trap')\n",
    "\n",
    "df100.to_csv('/Users/scolelli/Downloads/gauge.csv')"
   ]
  },
  {
   "cell_type": "markdown",
   "id": "9cc20a5f",
   "metadata": {},
   "source": [
    "##### Step 6: Fill Nulls for Other Traps\n",
    "Since all other traps have Null ['Lat'] Values across the dataset, we'll take a look at the 'Block' to see if we can find a representative 'Lat' and 'Lon' Value."
   ]
  },
  {
   "cell_type": "code",
   "execution_count": 824,
   "id": "f57be537",
   "metadata": {},
   "outputs": [
    {
     "data": {
      "text/plain": [
       "Block\n",
       "4       50.381679\n",
       "43     100.000000\n",
       "65      89.473684\n",
       "79      76.047904\n",
       "81     100.000000\n",
       "98     100.000000\n",
       "100    100.000000\n",
       "115     82.051282\n",
       "Name: Block, dtype: float64"
      ]
     },
     "execution_count": 824,
     "metadata": {},
     "output_type": "execute_result"
    }
   ],
   "source": [
    "null_lat_block = (df2.loc[:,['Block','Lat']][df2['Lat'].isna()]).groupby('Block')['Block'].count()\n",
    "all_lat_block = df2.groupby('Block')['Block'].count()\n",
    "df_block = (null_lat_block / all_lat_block * 100)\n",
    "null_lat_ratio = df_block[df_block > 0]\n",
    "null_lat_ratio"
   ]
  },
  {
   "cell_type": "markdown",
   "id": "c493b9d8",
   "metadata": {},
   "source": [
    "Since there are 4 blocks that have valid 'Lat' Values, we'll build a for loop to fill in the Null Values. But first, we'll find the mean, median, and mode to ensure that the existing 'Lat' Values are consistent for each block."
   ]
  },
  {
   "cell_type": "code",
   "execution_count": 825,
   "id": "a5e5eb70",
   "metadata": {},
   "outputs": [],
   "source": [
    "null_blocks = df2[(df2['Lat'].isna() == True)]['Block'].unique()"
   ]
  },
  {
   "cell_type": "code",
   "execution_count": 826,
   "id": "0ac808e0",
   "metadata": {},
   "outputs": [
    {
     "name": "stdout",
     "output_type": "stream",
     "text": [
      "100\n",
      "nan\n",
      "nan\n",
      "Series([], Name: Lat, dtype: float64)\n",
      "4\n",
      "41.659252436558866\n",
      "41.659236018\n",
      "0    41.659236\n",
      "Name: Lat, dtype: float64\n",
      "81\n",
      "nan\n",
      "nan\n",
      "Series([], Name: Lat, dtype: float64)\n",
      "79\n",
      "41.97418436770787\n",
      "41.974182874\n",
      "0    41.974183\n",
      "Name: Lat, dtype: float64\n",
      "98\n",
      "nan\n",
      "nan\n",
      "Series([], Name: Lat, dtype: float64)\n",
      "65\n",
      "41.775428607\n",
      "41.775428607\n",
      "0    41.775429\n",
      "Name: Lat, dtype: float64\n",
      "115\n",
      "41.683726704077756\n",
      "41.683724975\n",
      "0    41.683725\n",
      "Name: Lat, dtype: float64\n",
      "43\n",
      "nan\n",
      "nan\n",
      "Series([], Name: Lat, dtype: float64)\n"
     ]
    }
   ],
   "source": [
    "for block in null_blocks:\n",
    "    print(block)\n",
    "    print(df2[(df2['Block'] == block)]['Lat'].mean())\n",
    "    print(df2[(df2['Block'] == block)]['Lat'].median())\n",
    "    print(df2[(df2['Block'] == block)]['Lat'].mode())"
   ]
  },
  {
   "cell_type": "markdown",
   "id": "f7cdf29c",
   "metadata": {},
   "source": [
    "Now that consistency is confirmed, we'll build the for loop to leverage `.fillna()` for each appropriate block"
   ]
  },
  {
   "cell_type": "code",
   "execution_count": 827,
   "id": "7053735f",
   "metadata": {},
   "outputs": [],
   "source": [
    "for block in null_blocks:\n",
    "    df2[(df2['Block'] == block) & (df2['Lat'].isna() == True)] = df2[(df2['Block'] == block) & (df2['Lat'].isna() == True)].fillna(df2[(df2['Block'] == block)]['Lat'].mean())\n",
    "    df2[(df2['Block'] == block) & (df2['Lon'].isna() == True)] = df2[(df2['Block'] == block) & (df2['Lon'].isna() == True)].fillna(df2[(df2['Block'] == block)]['Lon'].mean())"
   ]
  },
  {
   "cell_type": "markdown",
   "id": "2de4c949",
   "metadata": {},
   "source": [
    "## Part 2: Basic EDA\n",
    "Now that preliminary data cleansing is complete, the next section of the notebook will cover high-level, exploratory visualizations to provide a better understanding of the relationships across different data points."
   ]
  },
  {
   "cell_type": "markdown",
   "id": "f8c8715a",
   "metadata": {},
   "source": [
    "### Q2.1: Explore the Relationship between Mosquito Number & Date\n",
    "\n",
    "As opposed to using the 'Date' datetime format, which creates many more data points that would be difficult to visualize in a notebook-style plot, we created a new column that concatenated 'Year' & 'Week'.\n",
    "\n",
    "By creating this new column, we can find the average number of mosquitos per year and week and allow for a clearer understanding of the trend of mosquito numbers over time."
   ]
  },
  {
   "cell_type": "code",
   "execution_count": 828,
   "id": "64560b26",
   "metadata": {
    "scrolled": false
   },
   "outputs": [
    {
     "data": {
      "image/png": "[encoded data removed]",
      "text/plain": [
       "<Figure size 3600x720 with 1 Axes>"
      ]
     },
     "metadata": {
      "needs_background": "light"
     },
     "output_type": "display_data"
    },
    {
     "data": {
      "image/png": "[encoded data removed]",
      "text/plain": [
       "<Figure size 720x720 with 1 Axes>"
      ]
     },
     "metadata": {
      "needs_background": "light"
     },
     "output_type": "display_data"
    }
   ],
   "source": [
    "df2['Year-Week'] = df2['Year'].astype(str) + df2['Week'].astype(str)\n",
    "\n",
    "#df2.loc[:, ['Week', 'Mosquito number']].groupby('Week').mean()\n",
    "year_week_avg = df2.loc[:, ['Year-Week', 'Mosquito number']].groupby('Year-Week').mean()\n",
    "week_number_avg = df2.loc[:, ['Week', 'Mosquito number']].groupby('Week').mean()\n",
    "\n",
    "plt.figure(figsize = (50,10))\n",
    "plt.plot(year_week_avg)\n",
    "plt.xticks(rotation = 90)\n",
    "plt.show()\n",
    "\n",
    "plt.figure(figsize = (10,10))\n",
    "plt.plot(week_number_avg)\n",
    "plt.xticks(rotation = 90)\n",
    "plt.show()\n"
   ]
  },
  {
   "cell_type": "markdown",
   "id": "08acb996",
   "metadata": {},
   "source": [
    "The top graph shows the trend of average Mosquito Numbers over time, by week. While we seem to see general increases in mosquito numbers over time, we also see a trend that seems to be extremely cyclical.\n",
    "\n",
    "To dive deeper into this cycle, we plotted average Mosquito Numbers by week, regardless of the year. This helps us understand the trend of increased mosquito numbers during the summer months, which was already assumed in the histogram plot in Part 1."
   ]
  },
  {
   "cell_type": "markdown",
   "id": "376f6ed1",
   "metadata": {},
   "source": [
    "## Part 3: Advanced EDA\n",
    "The last section of the notebook will handle Advanced EDA, which will take a more in-depth look into the possible relationships across all of the data points available. This part meant to draw conclusions regarding which columns and relationships show the strongest evidence towards further predicition-based analysis and potential mitigation of WNV in the city of Chicago."
   ]
  },
  {
   "cell_type": "markdown",
   "id": "30098592",
   "metadata": {},
   "source": [
    "### Q3.1: Explore relationship between mosquito species and WNV prevalence\n",
    "\n",
    "To better understand the relationship between species and WNV prevalence, we'll perform a pivot-style groupby and finding the ratio of negative and positive testing of WNV for each species type."
   ]
  },
  {
   "cell_type": "markdown",
   "id": "4e5ce0d9",
   "metadata": {},
   "source": [
    "##### Step 1: Count test results by Species\n",
    "\n",
    "We'll first count the number of negative and positive test results by species. The `.groupby()` function, similar to `GROUP BY` in SQL, groups together specific columns from the dataframe, followed by a certain quantitative function, which in this case, will be `.count`"
   ]
  },
  {
   "cell_type": "code",
   "execution_count": 829,
   "id": "516f418a",
   "metadata": {},
   "outputs": [
    {
     "data": {
      "text/plain": [
       "Species           WNV Present\n",
       "CULEX PIPIENS     negative       4074\n",
       "                  positive       1237\n",
       "CULEX RESTUANS    negative       9309\n",
       "                  positive       2078\n",
       "CULEX SALINARIUS  negative        215\n",
       "                  positive          7\n",
       "CULEX TERRITANS   negative        903\n",
       "                  positive         14\n",
       "Name: Species, dtype: int64"
      ]
     },
     "execution_count": 829,
     "metadata": {},
     "output_type": "execute_result"
    }
   ],
   "source": [
    "df2.groupby(['Species', 'WNV Present'])['Species'].count()"
   ]
  },
  {
   "cell_type": "markdown",
   "id": "efc7e626",
   "metadata": {},
   "source": [
    "##### Step 2: Divide test result count by total count\n",
    "\n",
    "To find the ratio of a specific test result relative to all test results for a specific species, we'll simply divide the above results by the same `.groupby()` and `.count()` function, but now excluding WNV test results."
   ]
  },
  {
   "cell_type": "code",
   "execution_count": 830,
   "id": "5d94b72a",
   "metadata": {},
   "outputs": [
    {
     "data": {
      "text/plain": [
       "Species           WNV Present\n",
       "CULEX PIPIENS     negative       0.767087\n",
       "                  positive       0.232913\n",
       "CULEX RESTUANS    negative       0.817511\n",
       "                  positive       0.182489\n",
       "CULEX SALINARIUS  negative       0.968468\n",
       "                  positive       0.031532\n",
       "CULEX TERRITANS   negative       0.984733\n",
       "                  positive       0.015267\n",
       "Name: Species, dtype: float64"
      ]
     },
     "execution_count": 830,
     "metadata": {},
     "output_type": "execute_result"
    }
   ],
   "source": [
    "wmv_by_species = df2.groupby(['Species', 'WNV Present'])['Species'].count() / df2.groupby('Species')['Species'].count()\n",
    "wmv_by_species"
   ]
  },
  {
   "cell_type": "markdown",
   "id": "b797f94e",
   "metadata": {},
   "source": [
    "##### Step 3: Visualize Results\n",
    "\n",
    "Lastly, we'll plot this ratio on a graph with specific color codes representing positive or negative test results. Since are overlaying 3 separate variables (Species, WNV test results, and the ratio between the two), we'll use a horizontal bar plot with color codes."
   ]
  },
  {
   "cell_type": "code",
   "execution_count": 831,
   "id": "a1c80dc5",
   "metadata": {},
   "outputs": [
    {
     "data": {
      "image/png": "[encoded data removed]",
      "text/plain": [
       "<Figure size 432x288 with 1 Axes>"
      ]
     },
     "metadata": {
      "needs_background": "light"
     },
     "output_type": "display_data"
    }
   ],
   "source": [
    "wmv_by_species.unstack().plot(kind = 'barh', stacked = True, color = ['blue', 'yellow'])\n",
    "plt.show()"
   ]
  },
  {
   "cell_type": "markdown",
   "id": "1367a583",
   "metadata": {},
   "source": [
    "The above analysis and visualization show us that the Culex Pipens species has the highest likelihood of producing positive test results, with a positive test rate of 23.2% of the time. Culex Resuans, which is the most common type of mosquito trapped, has the second highest positive test rate of 18.2%"
   ]
  },
  {
   "cell_type": "markdown",
   "id": "8776c313",
   "metadata": {},
   "source": [
    "### Q3.2: Explore the relationship between the number of mosquitos caught and trap type"
   ]
  },
  {
   "cell_type": "markdown",
   "id": "f080c88f",
   "metadata": {},
   "source": [
    "##### Step 1: Group Trap Type by Number of Mosquitos\n",
    "The first step, similar to the previous plot, is to again perform `groupby.()` to aggregate the sum of mosquito numbers by trap type."
   ]
  },
  {
   "cell_type": "code",
   "execution_count": 832,
   "id": "6708cfde",
   "metadata": {},
   "outputs": [
    {
     "data": {
      "text/plain": [
       "Trap type\n",
       "OVI              1\n",
       "SENTINEL      5134\n",
       "CDC           9514\n",
       "GRAVID      171905\n",
       "Name: Mosquito number, dtype: int64"
      ]
     },
     "execution_count": 832,
     "metadata": {},
     "output_type": "execute_result"
    }
   ],
   "source": [
    "data = df2.groupby(['Trap type']).sum('Mosquito number')['Mosquito number'].sort_values()\n",
    "data"
   ]
  },
  {
   "cell_type": "markdown",
   "id": "f10b2e9e",
   "metadata": {},
   "source": [
    "##### Step 2: Visualize results\n",
    "Due to the categorical nature of Trap Type, a bar plot makes most sense for this visualization."
   ]
  },
  {
   "cell_type": "code",
   "execution_count": 833,
   "id": "02ca82f8",
   "metadata": {},
   "outputs": [
    {
     "data": {
      "text/plain": [
       "<AxesSubplot:xlabel='Trap type'>"
      ]
     },
     "execution_count": 833,
     "metadata": {},
     "output_type": "execute_result"
    },
    {
     "data": {
      "image/png": "[encoded data removed]",
      "text/plain": [
       "<Figure size 432x288 with 1 Axes>"
      ]
     },
     "metadata": {
      "needs_background": "light"
     },
     "output_type": "display_data"
    }
   ],
   "source": [
    "data.plot(kind = 'bar')"
   ]
  },
  {
   "cell_type": "markdown",
   "id": "606e5375",
   "metadata": {},
   "source": [
    "### Q3.3: Create Additional Insight of Your Choice\n",
    "To achieve a better understanding of the relationships between all variables, the following insight will summarize a lot of the points stated throughout this workbook into a group of visualizations."
   ]
  },
  {
   "cell_type": "markdown",
   "id": "93adf0c5",
   "metadata": {},
   "source": [
    "##### Step 1: Create dataframes for categorical and numerical data types\n",
    "As previously states, numerical data types are best represented via histograms, while categorical data types are best represented via bar plots. Creating separate dataframes for each can help automate the generation of the most applicable visualizations."
   ]
  },
  {
   "cell_type": "code",
   "execution_count": 834,
   "id": "93f525a5",
   "metadata": {},
   "outputs": [
    {
     "name": "stdout",
     "output_type": "stream",
     "text": [
      "<class 'pandas.core.frame.DataFrame'>\n",
      "Int64Index: 17837 entries, 0 to 18493\n",
      "Data columns (total 13 columns):\n",
      " #   Column           Non-Null Count  Dtype  \n",
      "---  ------           --------------  -----  \n",
      " 0   Year             17837 non-null  int64  \n",
      " 1   Week             17837 non-null  int64  \n",
      " 2   Address Block    17837 non-null  object \n",
      " 3   Block            17837 non-null  int64  \n",
      " 4   Trap             17837 non-null  object \n",
      " 5   Trap type        17837 non-null  object \n",
      " 6   Date             17837 non-null  object \n",
      " 7   Mosquito number  17837 non-null  int64  \n",
      " 8   Mosquito ID      17837 non-null  object \n",
      " 9   WNV Present      17837 non-null  object \n",
      " 10  Species          17837 non-null  object \n",
      " 11  Lat              16023 non-null  float64\n",
      " 12  Lon              16023 non-null  float64\n",
      "dtypes: float64(2), int64(4), object(7)\n",
      "memory usage: 2.4+ MB\n"
     ]
    }
   ],
   "source": [
    "# dropping 'Year-Week since it was not part of original dataset'\n",
    "df2 = df2.drop(columns = ['Year-Week'])\n",
    "df2.info()"
   ]
  },
  {
   "cell_type": "code",
   "execution_count": 835,
   "id": "6fc946fc",
   "metadata": {},
   "outputs": [
    {
     "data": {
      "text/html": [
       "<div>\n",
       "<style scoped>\n",
       "    .dataframe tbody tr th:only-of-type {\n",
       "        vertical-align: middle;\n",
       "    }\n",
       "\n",
       "    .dataframe tbody tr th {\n",
       "        vertical-align: top;\n",
       "    }\n",
       "\n",
       "    .dataframe thead th {\n",
       "        text-align: right;\n",
       "    }\n",
       "</style>\n",
       "<table border=\"1\" class=\"dataframe\">\n",
       "  <thead>\n",
       "    <tr style=\"text-align: right;\">\n",
       "      <th></th>\n",
       "      <th>Address Block</th>\n",
       "      <th>Trap</th>\n",
       "      <th>Trap type</th>\n",
       "      <th>Date</th>\n",
       "      <th>Mosquito ID</th>\n",
       "      <th>WNV Present</th>\n",
       "      <th>Species</th>\n",
       "    </tr>\n",
       "  </thead>\n",
       "  <tbody>\n",
       "    <tr>\n",
       "      <th>0</th>\n",
       "      <td>100XX W OHARE AIRPORT</td>\n",
       "      <td>T910</td>\n",
       "      <td>GRAVID</td>\n",
       "      <td>2019-09-26 00:09:00</td>\n",
       "      <td>Res</td>\n",
       "      <td>negative</td>\n",
       "      <td>CULEX RESTUANS</td>\n",
       "    </tr>\n",
       "    <tr>\n",
       "      <th>1</th>\n",
       "      <td>52XX S KOLMAR AVE</td>\n",
       "      <td>T114</td>\n",
       "      <td>GRAVID</td>\n",
       "      <td>2019-09-26 00:09:00</td>\n",
       "      <td>Res</td>\n",
       "      <td>negative</td>\n",
       "      <td>CULEX RESTUANS</td>\n",
       "    </tr>\n",
       "    <tr>\n",
       "      <th>2</th>\n",
       "      <td>58XX N WESTERN AVE</td>\n",
       "      <td>T028</td>\n",
       "      <td>GRAVID</td>\n",
       "      <td>2019-09-26 00:09:00</td>\n",
       "      <td>Res</td>\n",
       "      <td>negative</td>\n",
       "      <td>CULEX RESTUANS</td>\n",
       "    </tr>\n",
       "    <tr>\n",
       "      <th>3</th>\n",
       "      <td>39XX N SPRINGFIELD AVE</td>\n",
       "      <td>T228</td>\n",
       "      <td>GRAVID</td>\n",
       "      <td>2019-09-26 00:09:00</td>\n",
       "      <td>Res</td>\n",
       "      <td>negative</td>\n",
       "      <td>CULEX RESTUANS</td>\n",
       "    </tr>\n",
       "    <tr>\n",
       "      <th>4</th>\n",
       "      <td>131XX S BRANDON AVE</td>\n",
       "      <td>T209</td>\n",
       "      <td>GRAVID</td>\n",
       "      <td>2019-09-26 00:09:00</td>\n",
       "      <td>Res</td>\n",
       "      <td>negative</td>\n",
       "      <td>CULEX RESTUANS</td>\n",
       "    </tr>\n",
       "    <tr>\n",
       "      <th>...</th>\n",
       "      <td>...</td>\n",
       "      <td>...</td>\n",
       "      <td>...</td>\n",
       "      <td>...</td>\n",
       "      <td>...</td>\n",
       "      <td>...</td>\n",
       "      <td>...</td>\n",
       "    </tr>\n",
       "    <tr>\n",
       "      <th>18489</th>\n",
       "      <td>63XX W 64TH ST</td>\n",
       "      <td>T155</td>\n",
       "      <td>GRAVID</td>\n",
       "      <td>2013-08-29 00:08:00</td>\n",
       "      <td>Pip</td>\n",
       "      <td>positive</td>\n",
       "      <td>CULEX PIPIENS</td>\n",
       "    </tr>\n",
       "    <tr>\n",
       "      <th>18490</th>\n",
       "      <td>3XX W 18TH ST</td>\n",
       "      <td>T043</td>\n",
       "      <td>GRAVID</td>\n",
       "      <td>2016-09-09 00:09:00</td>\n",
       "      <td>Pip</td>\n",
       "      <td>positive</td>\n",
       "      <td>CULEX PIPIENS</td>\n",
       "    </tr>\n",
       "    <tr>\n",
       "      <th>18491</th>\n",
       "      <td>46XX N MILWAUKEE AVE</td>\n",
       "      <td>T003</td>\n",
       "      <td>GRAVID</td>\n",
       "      <td>2007-08-24 00:08:00</td>\n",
       "      <td>Pip</td>\n",
       "      <td>positive</td>\n",
       "      <td>CULEX PIPIENS</td>\n",
       "    </tr>\n",
       "    <tr>\n",
       "      <th>18492</th>\n",
       "      <td>127XX S DOTY AVE</td>\n",
       "      <td>T115</td>\n",
       "      <td>GRAVID</td>\n",
       "      <td>2016-07-27 00:07:00</td>\n",
       "      <td>Res</td>\n",
       "      <td>positive</td>\n",
       "      <td>CULEX RESTUANS</td>\n",
       "    </tr>\n",
       "    <tr>\n",
       "      <th>18493</th>\n",
       "      <td>20XX N DOMINICK ST</td>\n",
       "      <td>T240B</td>\n",
       "      <td>SENTINEL</td>\n",
       "      <td>2017-08-17 00:08:00</td>\n",
       "      <td>Res</td>\n",
       "      <td>positive</td>\n",
       "      <td>CULEX RESTUANS</td>\n",
       "    </tr>\n",
       "  </tbody>\n",
       "</table>\n",
       "<p>17837 rows × 7 columns</p>\n",
       "</div>"
      ],
      "text/plain": [
       "                Address Block   Trap Trap type                 Date  \\\n",
       "0       100XX W OHARE AIRPORT   T910    GRAVID  2019-09-26 00:09:00   \n",
       "1           52XX S KOLMAR AVE   T114    GRAVID  2019-09-26 00:09:00   \n",
       "2          58XX N WESTERN AVE   T028    GRAVID  2019-09-26 00:09:00   \n",
       "3      39XX N SPRINGFIELD AVE   T228    GRAVID  2019-09-26 00:09:00   \n",
       "4         131XX S BRANDON AVE   T209    GRAVID  2019-09-26 00:09:00   \n",
       "...                       ...    ...       ...                  ...   \n",
       "18489          63XX W 64TH ST   T155    GRAVID  2013-08-29 00:08:00   \n",
       "18490           3XX W 18TH ST   T043    GRAVID  2016-09-09 00:09:00   \n",
       "18491    46XX N MILWAUKEE AVE   T003    GRAVID  2007-08-24 00:08:00   \n",
       "18492        127XX S DOTY AVE   T115    GRAVID  2016-07-27 00:07:00   \n",
       "18493      20XX N DOMINICK ST  T240B  SENTINEL  2017-08-17 00:08:00   \n",
       "\n",
       "      Mosquito ID WNV Present         Species  \n",
       "0             Res    negative  CULEX RESTUANS  \n",
       "1             Res    negative  CULEX RESTUANS  \n",
       "2             Res    negative  CULEX RESTUANS  \n",
       "3             Res    negative  CULEX RESTUANS  \n",
       "4             Res    negative  CULEX RESTUANS  \n",
       "...           ...         ...             ...  \n",
       "18489         Pip    positive   CULEX PIPIENS  \n",
       "18490         Pip    positive   CULEX PIPIENS  \n",
       "18491         Pip    positive   CULEX PIPIENS  \n",
       "18492         Res    positive  CULEX RESTUANS  \n",
       "18493         Res    positive  CULEX RESTUANS  \n",
       "\n",
       "[17837 rows x 7 columns]"
      ]
     },
     "execution_count": 835,
     "metadata": {},
     "output_type": "execute_result"
    }
   ],
   "source": [
    "cat_df = df2.select_dtypes('object')\n",
    "cat_df"
   ]
  },
  {
   "cell_type": "code",
   "execution_count": 836,
   "id": "910c8fbc",
   "metadata": {},
   "outputs": [
    {
     "data": {
      "text/html": [
       "<div>\n",
       "<style scoped>\n",
       "    .dataframe tbody tr th:only-of-type {\n",
       "        vertical-align: middle;\n",
       "    }\n",
       "\n",
       "    .dataframe tbody tr th {\n",
       "        vertical-align: top;\n",
       "    }\n",
       "\n",
       "    .dataframe thead th {\n",
       "        text-align: right;\n",
       "    }\n",
       "</style>\n",
       "<table border=\"1\" class=\"dataframe\">\n",
       "  <thead>\n",
       "    <tr style=\"text-align: right;\">\n",
       "      <th></th>\n",
       "      <th>Year</th>\n",
       "      <th>Week</th>\n",
       "      <th>Block</th>\n",
       "      <th>Mosquito number</th>\n",
       "      <th>Lat</th>\n",
       "      <th>Lon</th>\n",
       "    </tr>\n",
       "  </thead>\n",
       "  <tbody>\n",
       "    <tr>\n",
       "      <th>0</th>\n",
       "      <td>2019</td>\n",
       "      <td>39</td>\n",
       "      <td>100</td>\n",
       "      <td>2</td>\n",
       "      <td>NaN</td>\n",
       "      <td>NaN</td>\n",
       "    </tr>\n",
       "    <tr>\n",
       "      <th>1</th>\n",
       "      <td>2019</td>\n",
       "      <td>39</td>\n",
       "      <td>52</td>\n",
       "      <td>1</td>\n",
       "      <td>41.798211</td>\n",
       "      <td>-87.736925</td>\n",
       "    </tr>\n",
       "    <tr>\n",
       "      <th>2</th>\n",
       "      <td>2019</td>\n",
       "      <td>39</td>\n",
       "      <td>58</td>\n",
       "      <td>2</td>\n",
       "      <td>41.987245</td>\n",
       "      <td>-87.689417</td>\n",
       "    </tr>\n",
       "    <tr>\n",
       "      <th>3</th>\n",
       "      <td>2019</td>\n",
       "      <td>39</td>\n",
       "      <td>39</td>\n",
       "      <td>1</td>\n",
       "      <td>41.953664</td>\n",
       "      <td>-87.724987</td>\n",
       "    </tr>\n",
       "    <tr>\n",
       "      <th>4</th>\n",
       "      <td>2019</td>\n",
       "      <td>39</td>\n",
       "      <td>131</td>\n",
       "      <td>9</td>\n",
       "      <td>41.657069</td>\n",
       "      <td>-87.546049</td>\n",
       "    </tr>\n",
       "    <tr>\n",
       "      <th>...</th>\n",
       "      <td>...</td>\n",
       "      <td>...</td>\n",
       "      <td>...</td>\n",
       "      <td>...</td>\n",
       "      <td>...</td>\n",
       "      <td>...</td>\n",
       "    </tr>\n",
       "    <tr>\n",
       "      <th>18489</th>\n",
       "      <td>2013</td>\n",
       "      <td>35</td>\n",
       "      <td>63</td>\n",
       "      <td>3</td>\n",
       "      <td>41.776009</td>\n",
       "      <td>-87.779408</td>\n",
       "    </tr>\n",
       "    <tr>\n",
       "      <th>18490</th>\n",
       "      <td>2016</td>\n",
       "      <td>36</td>\n",
       "      <td>3</td>\n",
       "      <td>4</td>\n",
       "      <td>41.857843</td>\n",
       "      <td>-87.635858</td>\n",
       "    </tr>\n",
       "    <tr>\n",
       "      <th>18491</th>\n",
       "      <td>2007</td>\n",
       "      <td>34</td>\n",
       "      <td>46</td>\n",
       "      <td>19</td>\n",
       "      <td>41.965376</td>\n",
       "      <td>-87.758403</td>\n",
       "    </tr>\n",
       "    <tr>\n",
       "      <th>18492</th>\n",
       "      <td>2016</td>\n",
       "      <td>30</td>\n",
       "      <td>127</td>\n",
       "      <td>34</td>\n",
       "      <td>41.662395</td>\n",
       "      <td>-87.590176</td>\n",
       "    </tr>\n",
       "    <tr>\n",
       "      <th>18493</th>\n",
       "      <td>2017</td>\n",
       "      <td>33</td>\n",
       "      <td>20</td>\n",
       "      <td>50</td>\n",
       "      <td>41.919197</td>\n",
       "      <td>-87.664758</td>\n",
       "    </tr>\n",
       "  </tbody>\n",
       "</table>\n",
       "<p>17837 rows × 6 columns</p>\n",
       "</div>"
      ],
      "text/plain": [
       "       Year  Week  Block  Mosquito number        Lat        Lon\n",
       "0      2019    39    100                2        NaN        NaN\n",
       "1      2019    39     52                1  41.798211 -87.736925\n",
       "2      2019    39     58                2  41.987245 -87.689417\n",
       "3      2019    39     39                1  41.953664 -87.724987\n",
       "4      2019    39    131                9  41.657069 -87.546049\n",
       "...     ...   ...    ...              ...        ...        ...\n",
       "18489  2013    35     63                3  41.776009 -87.779408\n",
       "18490  2016    36      3                4  41.857843 -87.635858\n",
       "18491  2007    34     46               19  41.965376 -87.758403\n",
       "18492  2016    30    127               34  41.662395 -87.590176\n",
       "18493  2017    33     20               50  41.919197 -87.664758\n",
       "\n",
       "[17837 rows x 6 columns]"
      ]
     },
     "execution_count": 836,
     "metadata": {},
     "output_type": "execute_result"
    }
   ],
   "source": [
    "num_df = df2.select_dtypes(['int', 'float'])\n",
    "num_df"
   ]
  },
  {
   "cell_type": "markdown",
   "id": "523300ab",
   "metadata": {},
   "source": [
    "##### Step 2: Create For Loop for each dataframe with the proper visualization\n",
    "Creating a For Loop for each new dataframe will allow for the generation of the most applicable visualization type and enable further relationship analysis.\n",
    "\n",
    "First, we'll focus on num_df."
   ]
  },
  {
   "cell_type": "code",
   "execution_count": 837,
   "id": "33bd648e",
   "metadata": {},
   "outputs": [
    {
     "data": {
      "image/png": "[encoded data removed]",
      "text/plain": [
       "<Figure size 432x288 with 1 Axes>"
      ]
     },
     "metadata": {
      "needs_background": "light"
     },
     "output_type": "display_data"
    },
    {
     "data": {
      "image/png": "[encoded data removed]",
      "text/plain": [
       "<Figure size 432x288 with 1 Axes>"
      ]
     },
     "metadata": {
      "needs_background": "light"
     },
     "output_type": "display_data"
    },
    {
     "data": {
      "image/png": "[encoded data removed]",
      "text/plain": [
       "<Figure size 432x288 with 1 Axes>"
      ]
     },
     "metadata": {
      "needs_background": "light"
     },
     "output_type": "display_data"
    },
    {
     "data": {
      "image/png": "[encoded data removed]",
      "text/plain": [
       "<Figure size 432x288 with 1 Axes>"
      ]
     },
     "metadata": {
      "needs_background": "light"
     },
     "output_type": "display_data"
    },
    {
     "data": {
      "image/png": "[encoded data removed]",
      "text/plain": [
       "<Figure size 432x288 with 1 Axes>"
      ]
     },
     "metadata": {
      "needs_background": "light"
     },
     "output_type": "display_data"
    },
    {
     "data": {
      "image/png": "[encoded data removed]",
      "text/plain": [
       "<Figure size 432x288 with 1 Axes>"
      ]
     },
     "metadata": {
      "needs_background": "light"
     },
     "output_type": "display_data"
    }
   ],
   "source": [
    "for col in num_df:\n",
    "    num_df[col].hist()\n",
    "    plt.title([col])\n",
    "    plt.show()"
   ]
  },
  {
   "cell_type": "markdown",
   "id": "9408ed31",
   "metadata": {},
   "source": [
    "##### Step 3: Create For Loop for `cat_df`\n",
    "For cat_df, since the data types are categorical, we have more flexibility in terms of the variables and relationships we can include in a single plot.\n",
    "\n",
    "Since the overall goal of the WNV testing sites and analysis is to move forward with a proactive approach towards WNV identification and mitigation, we'll utilize the same analysis we performed in Q3.1, but this time we'll generalize it for all variables and not just for mosquito species."
   ]
  },
  {
   "cell_type": "code",
   "execution_count": 838,
   "id": "a6f82deb",
   "metadata": {
    "scrolled": false
   },
   "outputs": [
    {
     "data": {
      "image/png": "[encoded data removed]",
      "text/plain": [
       "<Figure size 432x288 with 1 Axes>"
      ]
     },
     "metadata": {
      "needs_background": "light"
     },
     "output_type": "display_data"
    },
    {
     "name": "stdout",
     "output_type": "stream",
     "text": [
      "Address Block             WNV Present\n",
      "100XX W OHARE             negative       0.926966\n",
      "                          positive       0.073034\n",
      "100XX W OHARE AIRPORT     negative       0.880587\n",
      "                          positive       0.119413\n",
      "101XX S STONY ISLAND AVE  negative       0.696477\n",
      "                                           ...   \n",
      "96XX S HOYNE AVE          negative       1.000000\n",
      "96XX S LONGWOOD DR        negative       1.000000\n",
      "98XX S AVENUE G           negative       1.000000\n",
      "9XX W GARFIELD BLVD       negative       0.905882\n",
      "                          positive       0.094118\n",
      "Name: Address Block, Length: 255, dtype: float64\n"
     ]
    },
    {
     "data": {
      "image/png": "[encoded data removed]",
      "text/plain": [
       "<Figure size 432x288 with 1 Axes>"
      ]
     },
     "metadata": {
      "needs_background": "light"
     },
     "output_type": "display_data"
    },
    {
     "name": "stdout",
     "output_type": "stream",
     "text": [
      "Trap   WNV Present\n",
      "220A   negative       1.000000\n",
      "T001   negative       1.000000\n",
      "T002   negative       0.633005\n",
      "       positive       0.366995\n",
      "T002A  negative       1.000000\n",
      "                        ...   \n",
      "T923   positive       0.068182\n",
      "T924   negative       0.971429\n",
      "       positive       0.028571\n",
      "T925   negative       0.897436\n",
      "       positive       0.102564\n",
      "Name: Trap, Length: 313, dtype: float64\n"
     ]
    },
    {
     "data": {
      "image/png": "[encoded data removed]",
      "text/plain": [
       "<Figure size 432x288 with 1 Axes>"
      ]
     },
     "metadata": {
      "needs_background": "light"
     },
     "output_type": "display_data"
    },
    {
     "name": "stdout",
     "output_type": "stream",
     "text": [
      "Trap type  WNV Present\n",
      "CDC        negative       0.799622\n",
      "           positive       0.200378\n",
      "GRAVID     negative       0.815943\n",
      "           positive       0.184057\n",
      "OVI        negative       1.000000\n",
      "SENTINEL   negative       0.602871\n",
      "           positive       0.397129\n",
      "Name: Trap type, dtype: float64\n"
     ]
    },
    {
     "data": {
      "image/png": "[encoded data removed]",
      "text/plain": [
       "<Figure size 432x288 with 1 Axes>"
      ]
     },
     "metadata": {
      "needs_background": "light"
     },
     "output_type": "display_data"
    },
    {
     "name": "stdout",
     "output_type": "stream",
     "text": [
      "Date                 WNV Present\n",
      "2007-05-29 00:05:00  negative       1.000000\n",
      "2007-06-05 00:06:00  negative       1.000000\n",
      "2007-06-26 04:06:06  negative       1.000000\n",
      "2007-06-26 04:06:07  negative       1.000000\n",
      "2007-06-26 04:06:56  negative       1.000000\n",
      "                                      ...   \n",
      "2019-09-05 00:09:00  positive       0.121951\n",
      "2019-09-12 00:09:00  negative       0.779661\n",
      "                     positive       0.220339\n",
      "2019-09-19 00:09:00  negative       1.000000\n",
      "2019-09-26 00:09:00  negative       1.000000\n",
      "Name: Date, Length: 450, dtype: float64\n"
     ]
    },
    {
     "data": {
      "image/png": "[encoded data removed]",
      "text/plain": [
       "<Figure size 432x288 with 1 Axes>"
      ]
     },
     "metadata": {
      "needs_background": "light"
     },
     "output_type": "display_data"
    },
    {
     "name": "stdout",
     "output_type": "stream",
     "text": [
      "Mosquito ID  WNV Present\n",
      "Pip          negative       0.767087\n",
      "             positive       0.232913\n",
      "Res          negative       0.817511\n",
      "             positive       0.182489\n",
      "Sal          negative       0.968468\n",
      "             positive       0.031532\n",
      "Ter          negative       0.984733\n",
      "             positive       0.015267\n",
      "Name: Mosquito ID, dtype: float64\n"
     ]
    },
    {
     "data": {
      "image/png": "[encoded data removed]",
      "text/plain": [
       "<Figure size 432x288 with 1 Axes>"
      ]
     },
     "metadata": {
      "needs_background": "light"
     },
     "output_type": "display_data"
    },
    {
     "name": "stdout",
     "output_type": "stream",
     "text": [
      "WNV Present  WNV Present\n",
      "negative     negative       1.0\n",
      "positive     positive       1.0\n",
      "Name: WNV Present, dtype: float64\n"
     ]
    },
    {
     "data": {
      "image/png": "[encoded data removed]",
      "text/plain": [
       "<Figure size 432x288 with 1 Axes>"
      ]
     },
     "metadata": {
      "needs_background": "light"
     },
     "output_type": "display_data"
    },
    {
     "name": "stdout",
     "output_type": "stream",
     "text": [
      "Species           WNV Present\n",
      "CULEX PIPIENS     negative       0.767087\n",
      "                  positive       0.232913\n",
      "CULEX RESTUANS    negative       0.817511\n",
      "                  positive       0.182489\n",
      "CULEX SALINARIUS  negative       0.968468\n",
      "                  positive       0.031532\n",
      "CULEX TERRITANS   negative       0.984733\n",
      "                  positive       0.015267\n",
      "Name: Species, dtype: float64\n"
     ]
    }
   ],
   "source": [
    "for col in cat_df:\n",
    "    wnv_prev = df2.groupby([col, 'WNV Present'])[col].count() / df2.groupby(col)[col].count()\n",
    "    wnv_prev.unstack().sort_values(by = 'negative').plot(kind = 'barh', stacked = True, color = ['blue', 'yellow'])\n",
    "    plt.show()\n",
    "    print(wnv_prev)"
   ]
  },
  {
   "cell_type": "code",
   "execution_count": 840,
   "id": "14613045",
   "metadata": {
    "scrolled": false
   },
   "outputs": [
    {
     "data": {
      "image/png": "[encoded data removed]",
      "text/plain": [
       "<Figure size 432x288 with 1 Axes>"
      ]
     },
     "metadata": {
      "needs_background": "light"
     },
     "output_type": "display_data"
    },
    {
     "name": "stdout",
     "output_type": "stream",
     "text": [
      "Address Block\n",
      "21XX S HAMLIN AVE               1\n",
      "54XX W PARKER AVE               2\n",
      "104XX S OGLESBY AVE             2\n",
      "65XX S RACINE AVE               2\n",
      "29XX N KENNETH AVE              3\n",
      "                            ...  \n",
      "52XX S KOLMAR AVE            4974\n",
      "70XX N MOSELLE AVE           6618\n",
      "101XX S STONY ISLAND AVE     8117\n",
      "41XX N OAK PARK AVE          9304\n",
      "100XX W OHARE AIRPORT       20812\n",
      "Name: Mosquito number, Length: 154, dtype: int64\n"
     ]
    },
    {
     "data": {
      "image/png": "[encoded data removed]",
      "text/plain": [
       "<Figure size 432x288 with 1 Axes>"
      ]
     },
     "metadata": {
      "needs_background": "light"
     },
     "output_type": "display_data"
    },
    {
     "name": "stdout",
     "output_type": "stream",
     "text": [
      "Trap\n",
      "T040        1\n",
      "T167        1\n",
      "T241        2\n",
      "T078        2\n",
      "T128A       2\n",
      "         ... \n",
      "T114     4634\n",
      "T115     4822\n",
      "T138     5787\n",
      "T008     6618\n",
      "T002     9285\n",
      "Name: Mosquito number, Length: 190, dtype: int64\n"
     ]
    },
    {
     "data": {
      "image/png": "[encoded data removed]",
      "text/plain": [
       "<Figure size 432x288 with 1 Axes>"
      ]
     },
     "metadata": {
      "needs_background": "light"
     },
     "output_type": "display_data"
    },
    {
     "name": "stdout",
     "output_type": "stream",
     "text": [
      "Trap type\n",
      "OVI              1\n",
      "SENTINEL      5134\n",
      "CDC           9514\n",
      "GRAVID      171905\n",
      "Name: Mosquito number, dtype: int64\n"
     ]
    },
    {
     "data": {
      "image/png": "[encoded data removed]",
      "text/plain": [
       "<Figure size 432x288 with 1 Axes>"
      ]
     },
     "metadata": {
      "needs_background": "light"
     },
     "output_type": "display_data"
    },
    {
     "name": "stdout",
     "output_type": "stream",
     "text": [
      "Date\n",
      "2008-07-21 00:07:00       5\n",
      "2007-06-26 04:06:56      12\n",
      "2007-06-26 04:06:07      18\n",
      "2007-07-27 11:07:17      21\n",
      "2007-06-26 04:06:59      23\n",
      "                       ... \n",
      "2014-07-31 00:07:00    3622\n",
      "2014-08-21 00:08:00    4005\n",
      "2016-08-11 00:08:00    4838\n",
      "2016-07-27 00:07:00    5118\n",
      "2016-08-04 00:08:00    5235\n",
      "Name: Mosquito number, Length: 298, dtype: int64\n"
     ]
    },
    {
     "data": {
      "image/png": "[encoded data removed]",
      "text/plain": [
       "<Figure size 432x288 with 1 Axes>"
      ]
     },
     "metadata": {
      "needs_background": "light"
     },
     "output_type": "display_data"
    },
    {
     "name": "stdout",
     "output_type": "stream",
     "text": [
      "Mosquito ID\n",
      "Sal       446\n",
      "Ter      1810\n",
      "Pip     57657\n",
      "Res    126641\n",
      "Name: Mosquito number, dtype: int64\n"
     ]
    },
    {
     "data": {
      "image/png": "[encoded data removed]",
      "text/plain": [
       "<Figure size 432x288 with 1 Axes>"
      ]
     },
     "metadata": {
      "needs_background": "light"
     },
     "output_type": "display_data"
    },
    {
     "name": "stdout",
     "output_type": "stream",
     "text": [
      "WNV Present\n",
      "positive     70627\n",
      "negative    115927\n",
      "Name: Mosquito number, dtype: int64\n"
     ]
    },
    {
     "data": {
      "image/png": "[encoded data removed]",
      "text/plain": [
       "<Figure size 432x288 with 1 Axes>"
      ]
     },
     "metadata": {
      "needs_background": "light"
     },
     "output_type": "display_data"
    },
    {
     "name": "stdout",
     "output_type": "stream",
     "text": [
      "Species\n",
      "CULEX SALINARIUS       446\n",
      "CULEX TERRITANS       1810\n",
      "CULEX PIPIENS        57657\n",
      "CULEX RESTUANS      126641\n",
      "Name: Mosquito number, dtype: int64\n"
     ]
    }
   ],
   "source": [
    "for col in cat_df:\n",
    "    m_count = df2.groupby([col])['Mosquito number'].sum().sort_values()\n",
    "    m_count.plot(kind = 'barh', stacked = True)\n",
    "    plt.show()\n",
    "    print(m_count)"
   ]
  },
  {
   "cell_type": "markdown",
   "id": "1db50cca",
   "metadata": {},
   "source": [
    "Lastly, after seeing how the total volume of trap type, species, and tests seemed to effect positive test rates, I was curious in the potential relationship between the total number of mosquitos trapped, by Trap, and that Trap's positive test rate."
   ]
  },
  {
   "cell_type": "code",
   "execution_count": 849,
   "id": "fb9f436e",
   "metadata": {
    "scrolled": true
   },
   "outputs": [
    {
     "data": {
      "image/png": "[encoded data removed]",
      "text/plain": [
       "<Figure size 432x288 with 1 Axes>"
      ]
     },
     "metadata": {
      "needs_background": "light"
     },
     "output_type": "display_data"
    }
   ],
   "source": [
    "m_count = df2.groupby(['Trap'])['Mosquito number'].sum()\n",
    "\n",
    "wnv_by_trap = df2.groupby(['Trap', 'WNV Present'])['Trap'].count() / df2.groupby('Trap')['Trap'].count()\n",
    "x = wnv_by_trap.unstack()['positive']\n",
    "\n",
    "plt.figure()\n",
    "plt.scatter(x, m_count)\n",
    "plt.show()"
   ]
  },
  {
   "cell_type": "markdown",
   "id": "a78b3bef",
   "metadata": {},
   "source": [
    "## Summary Findings"
   ]
  },
  {
   "cell_type": "markdown",
   "id": "0c3f04d1",
   "metadata": {},
   "source": [
    "`1. Summer weeks are the most popular times for testing and when the largest number of mosquitos are trapped.`\n",
    "\n",
    "`2. Culex Pipiens & Culex Restuans are the most common mosquito types in the city of Chicago and are also the most likely to be found with West Nile Virus`\n",
    "\n",
    "`3. GRAVID is the most commonly utilized Trap Type, with relatively high positive counts. However, SENTINEL has significantly higher positive rates of the mosquitos it traps. Since it is used seldomly, the high positive rate may be help pinpoint at-risk areas within the city.`\n",
    "\n",
    "`4. Lastly, and perhaps most importantly, outside of a few outliers, there seems to be a very strong relationship between the total number of mosquitos tested and a postiive test result across the city. This insuates that trapping and testing should most likely be ramped up across the city, as there could be the potential for a much higher positive test rate.`"
   ]
  },
  {
   "cell_type": "code",
   "execution_count": null,
   "id": "b85bf870",
   "metadata": {},
   "outputs": [],
   "source": []
  }
 ],
 "metadata": {
  "kernelspec": {
   "display_name": "Python 3 (ipykernel)",
   "language": "python",
   "name": "python3"
  },
  "language_info": {
   "codemirror_mode": {
    "name": "ipython",
    "version": 3
   },
   "file_extension": ".py",
   "mimetype": "text/x-python",
   "name": "python",
   "nbconvert_exporter": "python",
   "pygments_lexer": "ipython3",
   "version": "3.9.12"
  }
 },
 "nbformat": 4,
 "nbformat_minor": 5
}
