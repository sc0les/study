{
 "cells": [
  {
   "cell_type": "markdown",
   "metadata": {
    "colab_type": "text",
    "id": "L6uHZJVpCdhW"
   },
   "source": [
    "# Network Analysis\n"
   ]
  },
  {
   "cell_type": "code",
   "execution_count": 20,
   "metadata": {
    "colab": {},
    "colab_type": "code",
    "id": "OgirdLSPCdhX"
   },
   "outputs": [],
   "source": [
    "import numpy as np\n",
    "import pandas as pd\n"
   ]
  },
  {
   "cell_type": "markdown",
   "metadata": {},
   "source": [
    "One data type we have not looked at in much detail is the network. Social\n",
    "networking is one of the largest drivers of internet use at present, and\n",
    "analysis of cliques, influencers, (fake) news spread and bots is now a serious\n",
    "topic.\n"
   ]
  },
  {
   "cell_type": "markdown",
   "metadata": {},
   "source": [
    "## Business Applications\n",
    "\n",
    "Network analysis is used in many domains, but some notable examples are:\n",
    "\n",
    "- [Food Discovery with Uber Eats (Recommendation Systems)](https://eng.uber.com/uber-eats-graph-learning/)\n",
    "- [Google's Webpage Ranking Through the PageRank Algorithm](https://en.wikipedia.org/wiki/PageRank)\n",
    "- [Social Network Analysis](https://arxiv.org/abs/2107.05731)\n",
    "\n",
    "The idea behind network analysis is to model a problem a collection of\n",
    "relationships between entities. Some problems are easier to model as such (e.g.\n",
    "social networks, page links, transactions from buyer to seller).\n"
   ]
  },
  {
   "cell_type": "markdown",
   "metadata": {
    "colab_type": "text",
    "id": "u-80RWWyCdhb"
   },
   "source": [
    "## Network Basics\n",
    "\n",
    "Network are often called **Graphs**, and much of the vocabulary used in network\n",
    "analysis refers to graphs.\n",
    "\n",
    "We can think of a network as consisting of two major items:\n",
    "\n",
    "**Nodes**: A node is a unit in the network - A user, item, location or website.\n",
    "\n",
    "**Edges**: An edge is a connection between nodes. A Facebook friendship, a link\n",
    "between sites, a purchase of an item, or connecting flight between cities.\n",
    "\n",
    "Based on the way these entities are chosen, we can have several types of\n",
    "networks:\n",
    "\n",
    "- Undirected - Any edge between nodes is symmetrical (Such as a Facebook\n",
    "  friendship).\n",
    "- Directed - Any edge is non-symmetrical (Such as following someone on twitter).\n",
    "- Weighted - Any edge carries with it some weight - such as as proportion.\n",
    "- Unweighted - Each edge is treated identically.\n",
    "\n",
    "We can also have networks that allow multiple connections between the same nodes\n",
    "(multi-graphs), but we will not cover these today.\n"
   ]
  },
  {
   "cell_type": "markdown",
   "metadata": {},
   "source": [
    "Let's plot a few out to show some examples. The `networkx` Python package\n",
    "(Documentation [here](https://networkx.org/documentation/stable/tutorial.html))\n",
    "provides us with many analysis tools for working with network data. It can also\n",
    "perform basic visualization , but for network visualizations we will use `pyvis`\n",
    "(Documentation [here](https://pyvis.readthedocs.io/en/latest/tutorial.html))\n"
   ]
  },
  {
   "cell_type": "code",
   "execution_count": 2,
   "metadata": {
    "colab": {},
    "colab_type": "code",
    "id": "GizOGLP5Cdhc",
    "outputId": "6781a543-1d55-4503-a2f9-b65b5da68333"
   },
   "outputs": [
    {
     "data": {
      "image/png": "[encoded data removed]",
      "text/plain": [
       "<Figure size 640x480 with 1 Axes>"
      ]
     },
     "metadata": {},
     "output_type": "display_data"
    }
   ],
   "source": [
    "import networkx as nx\n",
    "\n",
    "# Graph is an undirected network\n",
    "network = nx.Graph()\n",
    "\n",
    "# Adding edges one at a time\n",
    "network.add_edge(1, 2)\n",
    "network.add_edge(2, 3)\n",
    "\n",
    "# Adding edges from a list of tuples\n",
    "network.add_edges_from([(4, 2), (4, 3)])\n",
    "\n",
    "nx.draw(network, with_labels=True)\n"
   ]
  },
  {
   "cell_type": "code",
   "execution_count": 3,
   "metadata": {},
   "outputs": [
    {
     "name": "stdout",
     "output_type": "stream",
     "text": [
      "Local cdn resources have problems on chrome/safari when used in jupyter-notebook. \n"
     ]
    },
    {
     "data": {
      "text/html": [
       "\n",
       "        <iframe\n",
       "            width=\"300px\"\n",
       "            height=\"600px\"\n",
       "            src=\"sample_network.html\"\n",
       "            frameborder=\"0\"\n",
       "            allowfullscreen\n",
       "            \n",
       "        ></iframe>\n",
       "        "
      ],
      "text/plain": [
       "<IPython.lib.display.IFrame at 0x115718850>"
      ]
     },
     "execution_count": 3,
     "metadata": {},
     "output_type": "execute_result"
    }
   ],
   "source": [
    "from pyvis.network import Network\n",
    "\n",
    "pyvis_network = Network(\"300px\", \"300px\", notebook=True)\n",
    "pyvis_network.from_nx(network)\n",
    "\n",
    "# The network is interactive\n",
    "pyvis_network.show(\"sample_network.html\")\n"
   ]
  },
  {
   "cell_type": "markdown",
   "metadata": {},
   "source": [
    "When visualizing with `pyvis`, the default visualization is dynamic and responds\n",
    "to user interaction through a physics simulation, but we can turn that off for\n",
    "easier manipulation of the network.\n"
   ]
  },
  {
   "cell_type": "code",
   "execution_count": 4,
   "metadata": {},
   "outputs": [
    {
     "name": "stdout",
     "output_type": "stream",
     "text": [
      "Local cdn resources have problems on chrome/safari when used in jupyter-notebook. \n"
     ]
    },
    {
     "data": {
      "text/html": [
       "\n",
       "        <iframe\n",
       "            width=\"300px\"\n",
       "            height=\"600px\"\n",
       "            src=\"sample_network_no_physics.html\"\n",
       "            frameborder=\"0\"\n",
       "            allowfullscreen\n",
       "            \n",
       "        ></iframe>\n",
       "        "
      ],
      "text/plain": [
       "<IPython.lib.display.IFrame at 0x115927940>"
      ]
     },
     "execution_count": 4,
     "metadata": {},
     "output_type": "execute_result"
    }
   ],
   "source": [
    "pyvis_network = Network(\"300px\", \"300px\", notebook=True)\n",
    "pyvis_network.from_nx(network)\n",
    "\n",
    "# You can turn off physics simulations to make sure nodes stay\n",
    "# where you drag them\n",
    "pyvis_network.toggle_physics(False)\n",
    "\n",
    "pyvis_network.show(\"sample_network_no_physics.html\")\n"
   ]
  },
  {
   "cell_type": "markdown",
   "metadata": {},
   "source": [
    "A network can have **undirected** edges (e.g. if I am friends with someone on\n",
    "Facebook, they are friends with me, so the relationship is always symmetric), or\n",
    "it can have **directed** edges (e.g. If I am flying from New York to Tokyo, I am\n",
    "not simultaneously flying from Tokyo to New York, the relationship is not\n",
    "symmetric).\n"
   ]
  },
  {
   "cell_type": "code",
   "execution_count": 5,
   "metadata": {
    "colab": {},
    "colab_type": "code",
    "id": "sQn_A4I2Cdhh",
    "outputId": "e3aa905c-ea5e-4487-c11f-a1decdaf054e"
   },
   "outputs": [
    {
     "data": {
      "image/png": "[encoded data removed]",
      "text/plain": [
       "<Figure size 640x480 with 1 Axes>"
      ]
     },
     "metadata": {},
     "output_type": "display_data"
    }
   ],
   "source": [
    "# Directed\n",
    "directed_network = nx.DiGraph()\n",
    "directed_network.add_edges_from([(1, 2), (2, 3), (2, 4)])\n",
    "directed_network.add_edges_from([(4, 2), (4, 3)])\n",
    "\n",
    "nx.draw(directed_network, with_labels=True)\n"
   ]
  },
  {
   "cell_type": "code",
   "execution_count": 6,
   "metadata": {},
   "outputs": [
    {
     "name": "stdout",
     "output_type": "stream",
     "text": [
      "Local cdn resources have problems on chrome/safari when used in jupyter-notebook. \n"
     ]
    },
    {
     "data": {
      "text/html": [
       "\n",
       "        <iframe\n",
       "            width=\"300px\"\n",
       "            height=\"600px\"\n",
       "            src=\"sample_directed_network.html\"\n",
       "            frameborder=\"0\"\n",
       "            allowfullscreen\n",
       "            \n",
       "        ></iframe>\n",
       "        "
      ],
      "text/plain": [
       "<IPython.lib.display.IFrame at 0x1159ae5c0>"
      ]
     },
     "execution_count": 6,
     "metadata": {},
     "output_type": "execute_result"
    }
   ],
   "source": [
    "directed_pyvis_network = Network(\n",
    "    \"300px\", \"300px\", notebook=True, directed=True\n",
    ")  # We have to explicitly describe the network as directed\n",
    "directed_pyvis_network.from_nx(directed_network)\n",
    "directed_pyvis_network.show(\"sample_directed_network.html\")\n"
   ]
  },
  {
   "cell_type": "markdown",
   "metadata": {},
   "source": [
    "For the purposes of this notebook, we will explore the more common\n",
    "**undirected** network\n"
   ]
  },
  {
   "cell_type": "markdown",
   "metadata": {
    "colab_type": "text",
    "id": "YmtwL5ORCdhu"
   },
   "source": [
    "### Network Connectivity Basics\n",
    "\n",
    "Let's take a step back and walk through a small social network example. We will\n",
    "import a `.gml` file, a common file type for storing network data.\n",
    "\n",
    "This file captures the social relationships across a group of 62 bottlenose\n",
    "dolphins living off the coast of New Zealand. Each node is a dolphin and each\n",
    "edge represents a frequent association between 2 dolphins:\n"
   ]
  },
  {
   "cell_type": "code",
   "execution_count": 21,
   "metadata": {},
   "outputs": [
    {
     "name": "stdout",
     "output_type": "stream",
     "text": [
      "Local cdn resources have problems on chrome/safari when used in jupyter-notebook. \n"
     ]
    },
    {
     "data": {
      "text/html": [
       "\n",
       "        <iframe\n",
       "            width=\"100%\"\n",
       "            height=\"600px\"\n",
       "            src=\"dolphin_network.html\"\n",
       "            frameborder=\"0\"\n",
       "            allowfullscreen\n",
       "            \n",
       "        ></iframe>\n",
       "        "
      ],
      "text/plain": [
       "<IPython.lib.display.IFrame at 0x11e465060>"
      ]
     },
     "execution_count": 21,
     "metadata": {},
     "output_type": "execute_result"
    }
   ],
   "source": [
    "dolphin_network = nx.read_gml(\"../_data/dolphins.gml\")\n",
    "\n",
    "dolphin_pyvis_network = Network(\"500px\", \"100%\", notebook=True)\n",
    "dolphin_pyvis_network.from_nx(dolphin_network)\n",
    "\n",
    "# dolphin_pyvis_network.toggle_physics(False)\n",
    "dolphin_pyvis_network.show(\"dolphin_network.html\")\n"
   ]
  },
  {
   "cell_type": "markdown",
   "metadata": {
    "colab_type": "text",
    "id": "9PDzi6NhCdhy"
   },
   "source": [
    "We can immediately see that there appear to be 2 main clusters, and that some\n",
    "dolphins are more socially central while others are on the periphery.\n",
    "\n",
    "Let's walk through a few basic functions from the `networkx` API:\n"
   ]
  },
  {
   "cell_type": "code",
   "execution_count": 22,
   "metadata": {
    "colab": {},
    "colab_type": "code",
    "id": "DFWuUWICCdhz",
    "outputId": "2b27e9ff-4b99-466a-add6-82946c0212fd"
   },
   "outputs": [
    {
     "name": "stdout",
     "output_type": "stream",
     "text": [
      "number of nodes 62\n",
      "total edges: 159\n",
      "first few edges: [('Beak', 'Fish'), ('Beak', 'Grin'), ('Beak', 'Haecksel'), ('Beak', 'SN9'), ('Beak', 'SN96')]\n"
     ]
    }
   ],
   "source": [
    "# Number of nodes\n",
    "print(f\"number of nodes {len(dolphin_network)}\")\n",
    "\n",
    "# Number of edges:\n",
    "print(f\"total edges: {len(dolphin_network.edges())}\")\n",
    "\n",
    "# View first 5 edges:\n",
    "print(f\"first few edges: {list(dolphin_network.edges())[:5]}\")\n"
   ]
  },
  {
   "cell_type": "code",
   "execution_count": 23,
   "metadata": {},
   "outputs": [
    {
     "data": {
      "text/plain": [
       "['Fish', 'Grin', 'Haecksel', 'SN9', 'SN96', 'TR77']"
      ]
     },
     "execution_count": 23,
     "metadata": {},
     "output_type": "execute_result"
    }
   ],
   "source": [
    "# List the connections (i.e. neighbors) of the dolphin named 'Beak'\n",
    "list(dolphin_network.neighbors(\"Beak\"))\n"
   ]
  },
  {
   "cell_type": "code",
   "execution_count": 24,
   "metadata": {},
   "outputs": [
    {
     "data": {
      "text/html": [
       "\n",
       "        <iframe\n",
       "            width=\"100%\"\n",
       "            height=\"600px\"\n",
       "            src=\"dolphin_network_beak.html\"\n",
       "            frameborder=\"0\"\n",
       "            allowfullscreen\n",
       "            \n",
       "        ></iframe>\n",
       "        "
      ],
      "text/plain": [
       "<IPython.lib.display.IFrame at 0x1159afb80>"
      ]
     },
     "execution_count": 24,
     "metadata": {},
     "output_type": "execute_result"
    }
   ],
   "source": [
    "# Let's showcase this in our network\n",
    "dolphin_pyvis_network.get_node(\"Beak\")[\"color\"] = {\n",
    "    \"background\": \"rgba(255,255,0,255)\",\n",
    "    \"highlight\": {\"background\": \"rgba(255,234,30,1)\"},\n",
    "}\n",
    "\n",
    "for neighbor in list(dolphin_pyvis_network.neighbors(\"Beak\")):\n",
    "    dolphin_pyvis_network.get_node(neighbor)[\"color\"] = {\"background\": \"rgba(255,125,125,255)\"}\n",
    "\n",
    "dolphin_pyvis_network.toggle_physics(False)\n",
    "dolphin_pyvis_network.show(\"dolphin_network_beak.html\")\n"
   ]
  },
  {
   "cell_type": "markdown",
   "metadata": {
    "colab_type": "text",
    "id": "r4c-V8jhCdh3"
   },
   "source": [
    "## Measures of Centrality\n",
    "\n",
    "We can now see which individuals have the most connections. Social network\n",
    "analysis will often try to find the most \"connected\" individuals. If we know\n",
    "someone has a large number of connections, we can pay them to promote our\n",
    "product, designate them as a leader, or remove them, depending on our exact\n",
    "goals.\n",
    "\n",
    "However, the nodes with the most connections might not be the ones who are most\n",
    "important! There are many ways to measure the \"connectedness\" of a node. These\n",
    "measures are called **_centrality_** metrics.\n"
   ]
  },
  {
   "cell_type": "markdown",
   "metadata": {},
   "source": [
    "### Degree\n",
    "\n",
    "We've already seen the most basic measure of centrality: which node has the most\n",
    "neighbors. This is called the **_degree_** of a node. There's a quick `networkx`\n",
    "function to calculate this across the entire network:\n"
   ]
  },
  {
   "cell_type": "code",
   "execution_count": 25,
   "metadata": {},
   "outputs": [
    {
     "data": {
      "text/html": [
       "<div>\n",
       "<style scoped>\n",
       "    .dataframe tbody tr th:only-of-type {\n",
       "        vertical-align: middle;\n",
       "    }\n",
       "\n",
       "    .dataframe tbody tr th {\n",
       "        vertical-align: top;\n",
       "    }\n",
       "\n",
       "    .dataframe thead th {\n",
       "        text-align: right;\n",
       "    }\n",
       "</style>\n",
       "<table border=\"1\" class=\"dataframe\">\n",
       "  <thead>\n",
       "    <tr style=\"text-align: right;\">\n",
       "      <th></th>\n",
       "      <th>Dolphin</th>\n",
       "      <th>Degree</th>\n",
       "    </tr>\n",
       "  </thead>\n",
       "  <tbody>\n",
       "    <tr>\n",
       "      <th>14</th>\n",
       "      <td>Grin</td>\n",
       "      <td>12</td>\n",
       "    </tr>\n",
       "    <tr>\n",
       "      <th>37</th>\n",
       "      <td>SN4</td>\n",
       "      <td>11</td>\n",
       "    </tr>\n",
       "    <tr>\n",
       "      <th>45</th>\n",
       "      <td>Topless</td>\n",
       "      <td>11</td>\n",
       "    </tr>\n",
       "    <tr>\n",
       "      <th>33</th>\n",
       "      <td>Scabs</td>\n",
       "      <td>10</td>\n",
       "    </tr>\n",
       "    <tr>\n",
       "      <th>51</th>\n",
       "      <td>Trigger</td>\n",
       "      <td>10</td>\n",
       "    </tr>\n",
       "  </tbody>\n",
       "</table>\n",
       "</div>"
      ],
      "text/plain": [
       "    Dolphin  Degree\n",
       "14     Grin      12\n",
       "37      SN4      11\n",
       "45  Topless      11\n",
       "33    Scabs      10\n",
       "51  Trigger      10"
      ]
     },
     "execution_count": 25,
     "metadata": {},
     "output_type": "execute_result"
    }
   ],
   "source": [
    "degree_df = pd.DataFrame.from_dict(dict(nx.degree(dolphin_network)), orient=\"index\")\n",
    "degree_df = degree_df.reset_index()\n",
    "degree_df.columns = [\"Dolphin\", \"Degree\"]\n",
    "\n",
    "degree_df.sort_values(by=\"Degree\", ascending=False).head()\n"
   ]
  },
  {
   "cell_type": "markdown",
   "metadata": {},
   "source": [
    "We can see here that the dolphin named 'Grin' has the most friends.\n"
   ]
  },
  {
   "cell_type": "code",
   "execution_count": 12,
   "metadata": {},
   "outputs": [
    {
     "name": "stdout",
     "output_type": "stream",
     "text": [
      "Local cdn resources have problems on chrome/safari when used in jupyter-notebook. \n"
     ]
    },
    {
     "data": {
      "text/html": [
       "\n",
       "        <iframe\n",
       "            width=\"100%\"\n",
       "            height=\"600px\"\n",
       "            src=\"dolphin_network_grin.html\"\n",
       "            frameborder=\"0\"\n",
       "            allowfullscreen\n",
       "            \n",
       "        ></iframe>\n",
       "        "
      ],
      "text/plain": [
       "<IPython.lib.display.IFrame at 0x11e8a5990>"
      ]
     },
     "execution_count": 12,
     "metadata": {},
     "output_type": "execute_result"
    }
   ],
   "source": [
    "dolphin_pyvis_network = Network(\"500px\", \"100%\", notebook=True)\n",
    "dolphin_pyvis_network.from_nx(dolphin_network)\n",
    "\n",
    "dolphin_pyvis_network.get_node(\"Grin\")[\"color\"] = {\n",
    "    \"background\": \"rgba(255,255,0,1)\",\n",
    "    \"highlight\": {\"background\": \"rgba(255,234,30,1)\"},\n",
    "}\n",
    "\n",
    "for neighbor in list(dolphin_pyvis_network.neighbors(\"Grin\")):\n",
    "    dolphin_pyvis_network.get_node(neighbor)[\"color\"] = {\"background\": \"rgba(255,125,125,1)\"}\n",
    "\n",
    "# dolphin_pyvis_network.toggle_physics(False)\n",
    "dolphin_pyvis_network.show(\"dolphin_network_grin.html\")\n"
   ]
  },
  {
   "cell_type": "markdown",
   "metadata": {},
   "source": [
    "Degree centrality doesn't tell the whole story though. Imagine we have a network\n",
    "with a small & densely connected portion in one section, but a vast number of\n",
    "lightly connected nodes that extend outward for miles. These densely connected\n",
    "nodes might have the highest degree, but they're quite isolated from the rest of\n",
    "the network — not very central at all.\n"
   ]
  },
  {
   "cell_type": "markdown",
   "metadata": {},
   "source": [
    "### Closeness\n",
    "\n",
    "Another important concept when assessing the centrality of a node is its\n",
    "shortest path to other nodes in the network:\n"
   ]
  },
  {
   "cell_type": "code",
   "execution_count": 26,
   "metadata": {},
   "outputs": [
    {
     "name": "stdout",
     "output_type": "stream",
     "text": [
      "['Beak', 'Grin']\n",
      "['Beak', 'Fish', 'Bumper', 'Thumper']\n"
     ]
    }
   ],
   "source": [
    "# Beak & Grin are directly connected\n",
    "print(nx.shortest_path(dolphin_network, \"Beak\", \"Grin\"))\n",
    "\n",
    "# Beak & Thumper are 3 steps away from one another\n",
    "print(nx.shortest_path(dolphin_network, \"Beak\", \"Thumper\"))\n"
   ]
  },
  {
   "cell_type": "markdown",
   "metadata": {},
   "source": [
    "**_Closeness_** centrality measures a node's average shortest path length to\n",
    "each of the other nodes. A node with a high closeness score will be able to\n",
    "share information with each of the other nodes quickest on average.\n"
   ]
  },
  {
   "cell_type": "code",
   "execution_count": 27,
   "metadata": {},
   "outputs": [
    {
     "data": {
      "text/html": [
       "<div>\n",
       "<style scoped>\n",
       "    .dataframe tbody tr th:only-of-type {\n",
       "        vertical-align: middle;\n",
       "    }\n",
       "\n",
       "    .dataframe tbody tr th {\n",
       "        vertical-align: top;\n",
       "    }\n",
       "\n",
       "    .dataframe thead th {\n",
       "        text-align: right;\n",
       "    }\n",
       "</style>\n",
       "<table border=\"1\" class=\"dataframe\">\n",
       "  <thead>\n",
       "    <tr style=\"text-align: right;\">\n",
       "      <th></th>\n",
       "      <th>Dolphin</th>\n",
       "      <th>Closeness</th>\n",
       "    </tr>\n",
       "  </thead>\n",
       "  <tbody>\n",
       "    <tr>\n",
       "      <th>36</th>\n",
       "      <td>SN100</td>\n",
       "      <td>0.417808</td>\n",
       "    </tr>\n",
       "    <tr>\n",
       "      <th>40</th>\n",
       "      <td>SN9</td>\n",
       "      <td>0.403974</td>\n",
       "    </tr>\n",
       "    <tr>\n",
       "      <th>37</th>\n",
       "      <td>SN4</td>\n",
       "      <td>0.398693</td>\n",
       "    </tr>\n",
       "    <tr>\n",
       "      <th>20</th>\n",
       "      <td>Kringel</td>\n",
       "      <td>0.391026</td>\n",
       "    </tr>\n",
       "    <tr>\n",
       "      <th>14</th>\n",
       "      <td>Grin</td>\n",
       "      <td>0.376543</td>\n",
       "    </tr>\n",
       "  </tbody>\n",
       "</table>\n",
       "</div>"
      ],
      "text/plain": [
       "    Dolphin  Closeness\n",
       "36    SN100   0.417808\n",
       "40      SN9   0.403974\n",
       "37      SN4   0.398693\n",
       "20  Kringel   0.391026\n",
       "14     Grin   0.376543"
      ]
     },
     "execution_count": 27,
     "metadata": {},
     "output_type": "execute_result"
    }
   ],
   "source": [
    "# The closeness is normalized by the number of nodes, and is returned as a dictionary\n",
    "closeness_df = pd.DataFrame.from_dict(nx.closeness_centrality(dolphin_network), orient=\"index\")\n",
    "closeness_df = closeness_df.reset_index()\n",
    "closeness_df.columns = [\"Dolphin\", \"Closeness\"]\n",
    "\n",
    "closeness_df.sort_values(by=\"Closeness\", ascending=False).head()\n"
   ]
  },
  {
   "cell_type": "code",
   "execution_count": 28,
   "metadata": {},
   "outputs": [
    {
     "name": "stdout",
     "output_type": "stream",
     "text": [
      "Local cdn resources have problems on chrome/safari when used in jupyter-notebook. \n"
     ]
    },
    {
     "data": {
      "text/html": [
       "\n",
       "        <iframe\n",
       "            width=\"100%\"\n",
       "            height=\"600px\"\n",
       "            src=\"dolphin_network_closeness.html\"\n",
       "            frameborder=\"0\"\n",
       "            allowfullscreen\n",
       "            \n",
       "        ></iframe>\n",
       "        "
      ],
      "text/plain": [
       "<IPython.lib.display.IFrame at 0x11e636590>"
      ]
     },
     "execution_count": 28,
     "metadata": {},
     "output_type": "execute_result"
    }
   ],
   "source": [
    "# Drawing our network with some extra settings defined for readability\n",
    "centralities = nx.closeness_centrality(dolphin_network)\n",
    "\n",
    "dolphin_pyvis_network = Network(\"500px\", \"100%\", notebook=True)\n",
    "dolphin_pyvis_network.from_nx(dolphin_network)\n",
    "\n",
    "for node in dolphin_pyvis_network.nodes:\n",
    "    dolphin_pyvis_network.get_node(node[\"id\"])[\"size\"] = np.exp(centralities[node[\"id\"]] * 7.5)\n",
    "\n",
    "dolphin_pyvis_network.get_node(\"SN100\")[\"color\"] = {\"background\": \"rgba(255,0,0,255)\"}\n",
    "dolphin_pyvis_network.get_node(\"SN9\")[\"color\"] = {\"background\": \"rgba(255,0,0,255)\"}\n",
    "dolphin_pyvis_network.get_node(\"SN4\")[\"color\"] = {\"background\": \"rgba(255,0,0,255)\"}\n",
    "dolphin_pyvis_network.get_node(\"Grin\")[\"color\"] = {\"background\": \"rgba(255,255,0,1)\"}\n",
    "\n",
    "# dolphin_pyvis_network.toggle_physics(False)\n",
    "dolphin_pyvis_network.show(\"dolphin_network_closeness.html\")\n"
   ]
  },
  {
   "cell_type": "markdown",
   "metadata": {},
   "source": [
    "Notice that the dolphins with the highest closeness centrality (SN100, SN9, SN4)\n",
    "are closer to the middle of the network rather than being at the hub of a\n",
    "particular cluster like Grin.\n"
   ]
  },
  {
   "cell_type": "markdown",
   "metadata": {},
   "source": [
    "### Betweenness\n",
    "\n",
    "**_Betweenness_** centrality takes this idea a step further. It asks, how many\n",
    "of the network's shortest paths does a node lie on? Nodes with high betweenness\n",
    "centrality are key to controlling the flow of information and maintaining the\n",
    "network's overall connectivity.\n"
   ]
  },
  {
   "cell_type": "code",
   "execution_count": 14,
   "metadata": {},
   "outputs": [
    {
     "data": {
      "text/html": [
       "<div>\n",
       "<style scoped>\n",
       "    .dataframe tbody tr th:only-of-type {\n",
       "        vertical-align: middle;\n",
       "    }\n",
       "\n",
       "    .dataframe tbody tr th {\n",
       "        vertical-align: top;\n",
       "    }\n",
       "\n",
       "    .dataframe thead th {\n",
       "        text-align: right;\n",
       "    }\n",
       "</style>\n",
       "<table border=\"1\" class=\"dataframe\">\n",
       "  <thead>\n",
       "    <tr style=\"text-align: right;\">\n",
       "      <th></th>\n",
       "      <th>Dolphin</th>\n",
       "      <th>Betweenness</th>\n",
       "    </tr>\n",
       "  </thead>\n",
       "  <tbody>\n",
       "    <tr>\n",
       "      <th>36</th>\n",
       "      <td>SN100</td>\n",
       "      <td>0.248237</td>\n",
       "    </tr>\n",
       "    <tr>\n",
       "      <th>1</th>\n",
       "      <td>Beescratch</td>\n",
       "      <td>0.213324</td>\n",
       "    </tr>\n",
       "    <tr>\n",
       "      <th>40</th>\n",
       "      <td>SN9</td>\n",
       "      <td>0.143150</td>\n",
       "    </tr>\n",
       "    <tr>\n",
       "      <th>37</th>\n",
       "      <td>SN4</td>\n",
       "      <td>0.138570</td>\n",
       "    </tr>\n",
       "    <tr>\n",
       "      <th>7</th>\n",
       "      <td>DN63</td>\n",
       "      <td>0.118239</td>\n",
       "    </tr>\n",
       "    <tr>\n",
       "      <th>17</th>\n",
       "      <td>Jet</td>\n",
       "      <td>0.114300</td>\n",
       "    </tr>\n",
       "    <tr>\n",
       "      <th>20</th>\n",
       "      <td>Kringel</td>\n",
       "      <td>0.102646</td>\n",
       "    </tr>\n",
       "    <tr>\n",
       "      <th>54</th>\n",
       "      <td>Upbang</td>\n",
       "      <td>0.099122</td>\n",
       "    </tr>\n",
       "    <tr>\n",
       "      <th>51</th>\n",
       "      <td>Trigger</td>\n",
       "      <td>0.084677</td>\n",
       "    </tr>\n",
       "    <tr>\n",
       "      <th>57</th>\n",
       "      <td>Web</td>\n",
       "      <td>0.084205</td>\n",
       "    </tr>\n",
       "  </tbody>\n",
       "</table>\n",
       "</div>"
      ],
      "text/plain": [
       "       Dolphin  Betweenness\n",
       "36       SN100     0.248237\n",
       "1   Beescratch     0.213324\n",
       "40         SN9     0.143150\n",
       "37         SN4     0.138570\n",
       "7         DN63     0.118239\n",
       "17         Jet     0.114300\n",
       "20     Kringel     0.102646\n",
       "54      Upbang     0.099122\n",
       "51     Trigger     0.084677\n",
       "57         Web     0.084205"
      ]
     },
     "execution_count": 14,
     "metadata": {},
     "output_type": "execute_result"
    }
   ],
   "source": [
    "betweenness_df = pd.DataFrame.from_dict(nx.betweenness_centrality(dolphin_network), orient=\"index\")\n",
    "betweenness_df = betweenness_df.reset_index()\n",
    "betweenness_df.columns = [\"Dolphin\", \"Betweenness\"]\n",
    "\n",
    "betweenness_df.sort_values(by=\"Betweenness\", ascending=False).head(10)\n"
   ]
  },
  {
   "cell_type": "code",
   "execution_count": 29,
   "metadata": {},
   "outputs": [
    {
     "name": "stdout",
     "output_type": "stream",
     "text": [
      "Local cdn resources have problems on chrome/safari when used in jupyter-notebook. \n"
     ]
    },
    {
     "data": {
      "text/html": [
       "\n",
       "        <iframe\n",
       "            width=\"100%\"\n",
       "            height=\"600px\"\n",
       "            src=\"dolphin_network_betweeness.html\"\n",
       "            frameborder=\"0\"\n",
       "            allowfullscreen\n",
       "            \n",
       "        ></iframe>\n",
       "        "
      ],
      "text/plain": [
       "<IPython.lib.display.IFrame at 0x11db22dd0>"
      ]
     },
     "execution_count": 29,
     "metadata": {},
     "output_type": "execute_result"
    }
   ],
   "source": [
    "betweenness_centralities = nx.betweenness_centrality(dolphin_network)\n",
    "\n",
    "dolphin_pyvis_network = Network(\"500px\", \"100%\", notebook=True)\n",
    "dolphin_pyvis_network.from_nx(dolphin_network)\n",
    "\n",
    "for i, node in enumerate(dolphin_pyvis_network.nodes):\n",
    "    dolphin_pyvis_network.get_node(node[\"id\"])[\"size\"] = np.power(\n",
    "        (betweenness_centralities[node[\"id\"]] + 0.1) * 30, 1.5\n",
    "    )\n",
    "\n",
    "dolphin_pyvis_network.get_node(\"SN100\")[\"color\"] = {\"background\": \"rgba(255,0,0,255)\"}\n",
    "dolphin_pyvis_network.get_node(\"SN9\")[\"color\"] = {\"background\": \"rgba(255,0,0,255)\"}\n",
    "dolphin_pyvis_network.get_node(\"Beescratch\")[\"color\"] = {\"background\": \"rgba(255,0,0,255)\"}\n",
    "\n",
    "# dolphin_pyvis_network.toggle_physics(False)\n",
    "dolphin_pyvis_network.show(\"dolphin_network_betweeness.html\")\n"
   ]
  },
  {
   "cell_type": "markdown",
   "metadata": {},
   "source": [
    "Notice that the dolphins with high betweenness centrality (SN100, Beescratch,\n",
    "SN9) are located at the chokepoints in the network. Were they to be removed, the\n",
    "two clusters would risk losing their connectivity. And our friend Grin, who had\n",
    "the most neighbors overall, isn't even in the top 10 most central nodes by this\n",
    "measure.\n"
   ]
  },
  {
   "cell_type": "code",
   "execution_count": 30,
   "metadata": {},
   "outputs": [
    {
     "name": "stdout",
     "output_type": "stream",
     "text": [
      "Local cdn resources have problems on chrome/safari when used in jupyter-notebook. \n"
     ]
    },
    {
     "data": {
      "text/html": [
       "\n",
       "        <iframe\n",
       "            width=\"100%\"\n",
       "            height=\"600px\"\n",
       "            src=\"dolphin_network_reduced.html\"\n",
       "            frameborder=\"0\"\n",
       "            allowfullscreen\n",
       "            \n",
       "        ></iframe>\n",
       "        "
      ],
      "text/plain": [
       "<IPython.lib.display.IFrame at 0x11e635930>"
      ]
     },
     "execution_count": 30,
     "metadata": {},
     "output_type": "execute_result"
    }
   ],
   "source": [
    "reduced_dolphin_network = dolphin_network.copy()\n",
    "\n",
    "# Remove our chokepoint dolphins\n",
    "reduced_dolphin_network.remove_node(\"SN100\")\n",
    "reduced_dolphin_network.remove_node(\"Beescratch\")\n",
    "reduced_dolphin_network.remove_node(\"SN9\")\n",
    "\n",
    "# There's one more dolphin holding the group together after\n",
    "# the previous 3 are removed\n",
    "reduced_dolphin_network.remove_node(\"PL\")\n",
    "\n",
    "betweenness_centralities = nx.betweenness_centrality(reduced_dolphin_network)\n",
    "\n",
    "dolphin_pyvis_network = Network(\"500px\", \"100%\", notebook=True)\n",
    "dolphin_pyvis_network.from_nx(reduced_dolphin_network)\n",
    "\n",
    "for i, node in enumerate(dolphin_pyvis_network.nodes):\n",
    "    dolphin_pyvis_network.get_node(node[\"id\"])[\"size\"] = np.power(\n",
    "        (betweenness_centralities[node[\"id\"]] + 0.1) * 30, 1.5\n",
    "    )\n",
    "\n",
    "# The networks are still drawn to each other\n",
    "# due to the physics simulation of pyvis\n",
    "\n",
    "# dolphin_pyvis_network.toggle_physics(False)\n",
    "dolphin_pyvis_network.show(\"dolphin_network_reduced.html\")\n"
   ]
  },
  {
   "cell_type": "markdown",
   "metadata": {},
   "source": [
    "Betweenness is a key metric of a number of network models. For example, a power\n",
    "distribution network might seek to limit the overall betweenness centrality of\n",
    "its network to reduce the impact of outages.\n"
   ]
  },
  {
   "cell_type": "markdown",
   "metadata": {},
   "source": [
    "## Facebook Data\n",
    "\n",
    "Let's explorer a larger, more intuitive network. The following code loads a\n",
    "network of anonymized Facebook profiles taken from\n",
    "[here](https://snap.stanford.edu/data/ego-Facebook.html). For ease of\n",
    "computation we've reduced the network, and assigned each anonymized node with a\n",
    "random name.\n"
   ]
  },
  {
   "cell_type": "code",
   "execution_count": 31,
   "metadata": {},
   "outputs": [
    {
     "name": "stdout",
     "output_type": "stream",
     "text": [
      "Local cdn resources have problems on chrome/safari when used in jupyter-notebook. \n"
     ]
    },
    {
     "data": {
      "text/html": [
       "\n",
       "        <iframe\n",
       "            width=\"100%\"\n",
       "            height=\"600px\"\n",
       "            src=\"facebook_network_ex1.html\"\n",
       "            frameborder=\"0\"\n",
       "            allowfullscreen\n",
       "            \n",
       "        ></iframe>\n",
       "        "
      ],
      "text/plain": [
       "<IPython.lib.display.IFrame at 0x1159ae710>"
      ]
     },
     "execution_count": 31,
     "metadata": {},
     "output_type": "execute_result"
    }
   ],
   "source": [
    "facebook_network = nx.read_gml(\"../_data/facebook_reduced.gml\")\n",
    "\n",
    "facebook_pyvis_network = Network(\"700px\", \"100%\", notebook=True)\n",
    "\n",
    "# These settings make sure the\n",
    "# network doesn't take long to stabilize from the\n",
    "# physics simulation\n",
    "facebook_pyvis_network.barnes_hut(spring_strength=0.004, damping=0.18, gravity=-800, spring_length=50)\n",
    "facebook_pyvis_network.from_nx(facebook_network)\n",
    "\n",
    "# facebook_pyvis_network.toggle_physics(False)\n",
    "facebook_pyvis_network.show(\"facebook_network_ex1.html\")\n"
   ]
  },
  {
   "cell_type": "markdown",
   "metadata": {},
   "source": [
    "---\n",
    "\n",
    "#### Exercise 1\n",
    "\n",
    "1. Find the degree of each user in the dataset. Which are the ten most popular\n",
    "   users by this measure? Check the top 10 users by closeness, and betweenness\n",
    "   as well\n",
    "\n",
    "2. Is our network completely connected? How many fully connected components are\n",
    "   present? (Hint: `networkx` has some built-in functions to help with these.)\n"
   ]
  },
  {
   "cell_type": "code",
   "execution_count": 32,
   "metadata": {},
   "outputs": [
    {
     "data": {
      "text/html": [
       "<div>\n",
       "<style scoped>\n",
       "    .dataframe tbody tr th:only-of-type {\n",
       "        vertical-align: middle;\n",
       "    }\n",
       "\n",
       "    .dataframe tbody tr th {\n",
       "        vertical-align: top;\n",
       "    }\n",
       "\n",
       "    .dataframe thead th {\n",
       "        text-align: right;\n",
       "    }\n",
       "</style>\n",
       "<table border=\"1\" class=\"dataframe\">\n",
       "  <thead>\n",
       "    <tr style=\"text-align: right;\">\n",
       "      <th></th>\n",
       "      <th>user</th>\n",
       "      <th>degree</th>\n",
       "      <th>closeness_centrality</th>\n",
       "      <th>betweenness_centrality</th>\n",
       "    </tr>\n",
       "  </thead>\n",
       "  <tbody>\n",
       "    <tr>\n",
       "      <th>0</th>\n",
       "      <td>Dorothy Robinson</td>\n",
       "      <td>13</td>\n",
       "      <td>0.222401</td>\n",
       "      <td>0.168090</td>\n",
       "    </tr>\n",
       "    <tr>\n",
       "      <th>133</th>\n",
       "      <td>Nicole Drayton</td>\n",
       "      <td>12</td>\n",
       "      <td>0.221134</td>\n",
       "      <td>0.062681</td>\n",
       "    </tr>\n",
       "    <tr>\n",
       "      <th>87</th>\n",
       "      <td>Kristine Jaynes</td>\n",
       "      <td>12</td>\n",
       "      <td>0.219260</td>\n",
       "      <td>0.048995</td>\n",
       "    </tr>\n",
       "    <tr>\n",
       "      <th>20</th>\n",
       "      <td>Fannie Krueger</td>\n",
       "      <td>11</td>\n",
       "      <td>0.218028</td>\n",
       "      <td>0.033725</td>\n",
       "    </tr>\n",
       "    <tr>\n",
       "      <th>101</th>\n",
       "      <td>Paul Hutching</td>\n",
       "      <td>11</td>\n",
       "      <td>0.227619</td>\n",
       "      <td>0.049400</td>\n",
       "    </tr>\n",
       "    <tr>\n",
       "      <th>141</th>\n",
       "      <td>Nina Wang</td>\n",
       "      <td>10</td>\n",
       "      <td>0.209778</td>\n",
       "      <td>0.027537</td>\n",
       "    </tr>\n",
       "    <tr>\n",
       "      <th>32</th>\n",
       "      <td>Janis Reynolds</td>\n",
       "      <td>10</td>\n",
       "      <td>0.190474</td>\n",
       "      <td>0.030044</td>\n",
       "    </tr>\n",
       "    <tr>\n",
       "      <th>71</th>\n",
       "      <td>Wendy Dobies</td>\n",
       "      <td>10</td>\n",
       "      <td>0.228962</td>\n",
       "      <td>0.051034</td>\n",
       "    </tr>\n",
       "    <tr>\n",
       "      <th>51</th>\n",
       "      <td>Ted Robinson</td>\n",
       "      <td>9</td>\n",
       "      <td>0.207258</td>\n",
       "      <td>0.034562</td>\n",
       "    </tr>\n",
       "    <tr>\n",
       "      <th>127</th>\n",
       "      <td>Kevin Roman</td>\n",
       "      <td>9</td>\n",
       "      <td>0.217722</td>\n",
       "      <td>0.063128</td>\n",
       "    </tr>\n",
       "  </tbody>\n",
       "</table>\n",
       "</div>"
      ],
      "text/plain": [
       "                 user  degree  closeness_centrality  betweenness_centrality\n",
       "0    Dorothy Robinson      13              0.222401                0.168090\n",
       "133    Nicole Drayton      12              0.221134                0.062681\n",
       "87    Kristine Jaynes      12              0.219260                0.048995\n",
       "20     Fannie Krueger      11              0.218028                0.033725\n",
       "101     Paul Hutching      11              0.227619                0.049400\n",
       "141         Nina Wang      10              0.209778                0.027537\n",
       "32     Janis Reynolds      10              0.190474                0.030044\n",
       "71       Wendy Dobies      10              0.228962                0.051034\n",
       "51       Ted Robinson       9              0.207258                0.034562\n",
       "127       Kevin Roman       9              0.217722                0.063128"
      ]
     },
     "metadata": {},
     "output_type": "display_data"
    }
   ],
   "source": [
    "# 1. Find the degree of each user in the dataset. Which are the ten most popular users by this measure?\n",
    "#    Check the top 10 users by closeness, and betweenness as well\n",
    "\n",
    "degree_df = pd.DataFrame.from_dict(dict(nx.degree(facebook_network)), orient=\"index\")\n",
    "degree_df = degree_df.reset_index()\n",
    "degree_df.columns = [\"user\", \"degree\"]\n",
    "\n",
    "closeness_df = pd.DataFrame.from_dict(dict(nx.closeness_centrality(facebook_network)), orient=\"index\")\n",
    "closeness_df = closeness_df.reset_index()\n",
    "closeness_df.columns = [\"user\", \"closeness_centrality\"]\n",
    "\n",
    "betweenness_df = pd.DataFrame.from_dict(dict(nx.betweenness_centrality(facebook_network)), orient=\"index\")\n",
    "betweenness_df = betweenness_df.reset_index()\n",
    "betweenness_df.columns = [\"user\", \"betweenness_centrality\"]\n",
    "\n",
    "degree_closeneess_df = pd.merge(degree_df, closeness_df, on=\"user\", how=\"inner\")\n",
    "combined_df = pd.merge(degree_closeneess_df, betweenness_df, on=\"user\", how=\"inner\")\n",
    "\n",
    "display(combined_df.sort_values(by=\"degree\", ascending=False).head(10))\n"
   ]
  },
  {
   "cell_type": "code",
   "execution_count": 33,
   "metadata": {},
   "outputs": [
    {
     "data": {
      "text/plain": [
       "14"
      ]
     },
     "execution_count": 33,
     "metadata": {},
     "output_type": "execute_result"
    }
   ],
   "source": [
    "# 2. Is our network completely connected? How many fully connected components are present?\n",
    "#    (Hint: `networkx` has some built-in functions to help with these.)\n",
    "\n",
    "number_of_components = len(list(nx.connected_components(facebook_network)))\n",
    "number_of_components\n"
   ]
  },
  {
   "cell_type": "markdown",
   "metadata": {},
   "source": [
    "---\n"
   ]
  },
  {
   "cell_type": "markdown",
   "metadata": {
    "colab_type": "text",
    "id": "y9ellqiNCdiH"
   },
   "source": [
    "### Community Detection\n",
    "\n",
    "Aside from assessing centrality within a network, which focuses on individual\n",
    "nodes, another major area of network analysis is community detection, which\n",
    "focuses on groups of nodes.\n",
    "\n",
    "_**Cliques**_ are groups of nodes in which each individual node is connected to\n",
    "every other node. It maps nicely to our idea of social cliques: a group of\n",
    "friends that are all friends with each other. For each node, there is (at least)\n",
    "one maximally sized clique that it is a member of.\n"
   ]
  },
  {
   "cell_type": "code",
   "execution_count": 41,
   "metadata": {
    "colab": {},
    "colab_type": "code",
    "id": "PZ2HjC55CdiI",
    "outputId": "8108a543-1d8b-4d85-b4ea-26634c20c2ac"
   },
   "outputs": [
    {
     "name": "stdout",
     "output_type": "stream",
     "text": [
      "['Topless', 'Zap', 'Double']\n",
      "['Topless', 'Zap', 'Haecksel']\n",
      "['Topless', 'Double', 'SN4']\n",
      "['Topless', 'Trigger', 'MN60']\n",
      "['Topless', 'Trigger', 'TR99']\n"
     ]
    }
   ],
   "source": [
    "for i, clique in enumerate(nx.find_cliques(dolphin_network)):  # this is a generator\n",
    "    if i < 5:\n",
    "        print(clique)\n"
   ]
  },
  {
   "cell_type": "markdown",
   "metadata": {
    "colab_type": "text",
    "id": "D-j76-oICdiN"
   },
   "source": [
    "We can use cliques to understand sub-groupings of our graphs, and for further\n",
    "analysis.\n"
   ]
  },
  {
   "cell_type": "markdown",
   "metadata": {},
   "source": [
    "### Clustering Within a Network\n",
    "\n",
    "_**Clusters**_ are groups of nodes that are more densely connected with each\n",
    "other than they are with the rest of the network. Nodes in clusters (likely)\n",
    "aren't connected to every single other node in the cluster, but we see denser\n",
    "connections among nodes within clusters.\n",
    "\n",
    "We see 2 obvious clusters in our dolphin social network:\n"
   ]
  },
  {
   "cell_type": "code",
   "execution_count": 35,
   "metadata": {},
   "outputs": [
    {
     "name": "stdout",
     "output_type": "stream",
     "text": [
      "Local cdn resources have problems on chrome/safari when used in jupyter-notebook. \n"
     ]
    },
    {
     "data": {
      "text/html": [
       "\n",
       "        <iframe\n",
       "            width=\"100%\"\n",
       "            height=\"600px\"\n",
       "            src=\"dolphin_network.html\"\n",
       "            frameborder=\"0\"\n",
       "            allowfullscreen\n",
       "            \n",
       "        ></iframe>\n",
       "        "
      ],
      "text/plain": [
       "<IPython.lib.display.IFrame at 0x11e967040>"
      ]
     },
     "execution_count": 35,
     "metadata": {},
     "output_type": "execute_result"
    }
   ],
   "source": [
    "dolphin_pyvis_network = Network(\"500px\", \"100%\", notebook=True)\n",
    "dolphin_pyvis_network.from_nx(dolphin_network)\n",
    "\n",
    "# dolphin_pyvis_network.toggle_physics(False)\n",
    "dolphin_pyvis_network.show(\"dolphin_network.html\")\n"
   ]
  },
  {
   "cell_type": "markdown",
   "metadata": {},
   "source": [
    "How can we quantitatively assess how \"clustered\" a network is?\n",
    "\n",
    "We can use a metric called the _clustering coefficient_. The **local**\n",
    "clustering coefficient describes, for each node, what proportion of its\n",
    "connections are connected to one another.\n"
   ]
  },
  {
   "cell_type": "code",
   "execution_count": 36,
   "metadata": {},
   "outputs": [
    {
     "data": {
      "text/html": [
       "<div>\n",
       "<style scoped>\n",
       "    .dataframe tbody tr th:only-of-type {\n",
       "        vertical-align: middle;\n",
       "    }\n",
       "\n",
       "    .dataframe tbody tr th {\n",
       "        vertical-align: top;\n",
       "    }\n",
       "\n",
       "    .dataframe thead th {\n",
       "        text-align: right;\n",
       "    }\n",
       "</style>\n",
       "<table border=\"1\" class=\"dataframe\">\n",
       "  <thead>\n",
       "    <tr style=\"text-align: right;\">\n",
       "      <th></th>\n",
       "      <th>Dolphin</th>\n",
       "      <th>Clustering Coefficient</th>\n",
       "    </tr>\n",
       "  </thead>\n",
       "  <tbody>\n",
       "    <tr>\n",
       "      <th>25</th>\n",
       "      <td>Mus</td>\n",
       "      <td>0.666667</td>\n",
       "    </tr>\n",
       "    <tr>\n",
       "      <th>26</th>\n",
       "      <td>Notch</td>\n",
       "      <td>0.666667</td>\n",
       "    </tr>\n",
       "    <tr>\n",
       "      <th>16</th>\n",
       "      <td>Hook</td>\n",
       "      <td>0.600000</td>\n",
       "    </tr>\n",
       "    <tr>\n",
       "      <th>41</th>\n",
       "      <td>SN90</td>\n",
       "      <td>0.600000</td>\n",
       "    </tr>\n",
       "    <tr>\n",
       "      <th>6</th>\n",
       "      <td>DN21</td>\n",
       "      <td>0.533333</td>\n",
       "    </tr>\n",
       "  </tbody>\n",
       "</table>\n",
       "</div>"
      ],
      "text/plain": [
       "   Dolphin  Clustering Coefficient\n",
       "25     Mus                0.666667\n",
       "26   Notch                0.666667\n",
       "16    Hook                0.600000\n",
       "41    SN90                0.600000\n",
       "6     DN21                0.533333"
      ]
     },
     "execution_count": 36,
     "metadata": {},
     "output_type": "execute_result"
    }
   ],
   "source": [
    "clustering_df = pd.DataFrame.from_dict(nx.clustering(dolphin_network), orient=\"index\")\n",
    "clustering_df = clustering_df.reset_index()\n",
    "clustering_df.columns = [\"Dolphin\", \"Clustering Coefficient\"]\n",
    "\n",
    "clustering_df.sort_values(by=\"Clustering Coefficient\", ascending=False).head()\n"
   ]
  },
  {
   "cell_type": "code",
   "execution_count": 37,
   "metadata": {},
   "outputs": [
    {
     "name": "stdout",
     "output_type": "stream",
     "text": [
      "Local cdn resources have problems on chrome/safari when used in jupyter-notebook. \n"
     ]
    },
    {
     "data": {
      "text/html": [
       "\n",
       "        <iframe\n",
       "            width=\"100%\"\n",
       "            height=\"600px\"\n",
       "            src=\"dolphin_network_cluster.html\"\n",
       "            frameborder=\"0\"\n",
       "            allowfullscreen\n",
       "            \n",
       "        ></iframe>\n",
       "        "
      ],
      "text/plain": [
       "<IPython.lib.display.IFrame at 0x1159afd30>"
      ]
     },
     "execution_count": 37,
     "metadata": {},
     "output_type": "execute_result"
    }
   ],
   "source": [
    "clustering_coefs = nx.clustering(dolphin_network)\n",
    "\n",
    "dolphin_pyvis_network = Network(\"500px\", \"100%\", notebook=True)\n",
    "dolphin_pyvis_network.from_nx(dolphin_network)\n",
    "\n",
    "for i, node in enumerate(dolphin_pyvis_network.nodes):\n",
    "    dolphin_pyvis_network.get_node(node[\"id\"])[\"size\"] = np.exp(clustering_coefs[node[\"id\"]] * 5)\n",
    "\n",
    "# dolphin_pyvis_network.toggle_physics(False)\n",
    "dolphin_pyvis_network.show(\"dolphin_network_cluster.html\")\n"
   ]
  },
  {
   "cell_type": "markdown",
   "metadata": {},
   "source": [
    "Basically, if a node has a high clustering coefficient, its neighbors are also\n",
    "neighbors with each other. For example, in our dolphins network, nodes that have\n",
    "a high clustering coefficient are dolphins whose friends are also friends with\n",
    "each other.\n"
   ]
  },
  {
   "cell_type": "markdown",
   "metadata": {},
   "source": [
    "To describe the network's overall tendency towards being clustered, we can take\n",
    "the average of the local clustering coefficient across every node in the\n",
    "network. This metric is called the **global** clustering coefficient.\n"
   ]
  },
  {
   "cell_type": "code",
   "execution_count": 38,
   "metadata": {},
   "outputs": [
    {
     "data": {
      "text/plain": [
       "0.2589582460550202"
      ]
     },
     "execution_count": 38,
     "metadata": {},
     "output_type": "execute_result"
    }
   ],
   "source": [
    "nx.average_clustering(dolphin_network)\n"
   ]
  },
  {
   "cell_type": "markdown",
   "metadata": {},
   "source": [
    "How can we quantitatively identify these clusters?\n",
    "\n",
    "There are a number of algorithms that iterate through the graph to assess\n",
    "connection density and assign nodes to different clusters.\n"
   ]
  },
  {
   "cell_type": "code",
   "execution_count": 39,
   "metadata": {},
   "outputs": [
    {
     "name": "stdout",
     "output_type": "stream",
     "text": [
      "The dolphin social network has 4 clusters.\n"
     ]
    }
   ],
   "source": [
    "from networkx.algorithms.community import greedy_modularity_communities\n",
    "\n",
    "clusters = greedy_modularity_communities(dolphin_network)\n",
    "\n",
    "print(f\"The dolphin social network has {len(clusters)} clusters.\")\n"
   ]
  },
  {
   "cell_type": "markdown",
   "metadata": {},
   "source": [
    "Often when visualizing a network, we'll want to colour the nodes by their\n",
    "cluster membership. This takes a bit of effort, but we can get it done.\n",
    "\n",
    "First we need to add an attribute to each node containing its cluster number.\n",
    "Then we define the node's colour by this attribute upon visualization.\n"
   ]
  },
  {
   "cell_type": "code",
   "execution_count": 40,
   "metadata": {},
   "outputs": [
    {
     "name": "stdout",
     "output_type": "stream",
     "text": [
      "Local cdn resources have problems on chrome/safari when used in jupyter-notebook. \n"
     ]
    },
    {
     "data": {
      "text/html": [
       "\n",
       "        <iframe\n",
       "            width=\"100%\"\n",
       "            height=\"600px\"\n",
       "            src=\"dolphin_network_cluster2.html\"\n",
       "            frameborder=\"0\"\n",
       "            allowfullscreen\n",
       "            \n",
       "        ></iframe>\n",
       "        "
      ],
      "text/plain": [
       "<IPython.lib.display.IFrame at 0x11e636500>"
      ]
     },
     "execution_count": 40,
     "metadata": {},
     "output_type": "execute_result"
    }
   ],
   "source": [
    "# returns a list of sets\n",
    "clusters = greedy_modularity_communities(dolphin_network)\n",
    "colors = [\"red\", \"purple\", \"blue\", \"yellow\"]\n",
    "\n",
    "dolphin_pyvis_network = Network(\"700px\", \"100%\", notebook=True)\n",
    "dolphin_pyvis_network.from_nx(dolphin_network)\n",
    "\n",
    "# We can also provide a few additional properties to each node\n",
    "# for a full list of properties (documented in JavaScript)\n",
    "# https://visjs.github.io/vis-network/docs/network/nodes.html\n",
    "\n",
    "for i, cluster in enumerate(clusters):\n",
    "    for dolphin_name in cluster:\n",
    "        dolphin_pyvis_network.get_node(dolphin_name)[\"color\"] = {\"background\": colors[i]}\n",
    "\n",
    "# dolphin_pyvis_network.toggle_physics(False)\n",
    "dolphin_pyvis_network.show(\"dolphin_network_cluster2.html\")\n"
   ]
  },
  {
   "cell_type": "markdown",
   "metadata": {},
   "source": [
    "---\n",
    "\n",
    "#### Exercise 2\n",
    "\n",
    "Consider our Facebook data again.\n",
    "\n",
    "1. How many clusters do you expect this network to have? How many clusters does\n",
    "   this dataset have?\n",
    "\n",
    "2. Can you identify individuals which have a high degree of connections but low\n",
    "   closeness centrality? Why do you think that is?\n"
   ]
  },
  {
   "cell_type": "code",
   "execution_count": 42,
   "metadata": {},
   "outputs": [
    {
     "name": "stdout",
     "output_type": "stream",
     "text": [
      "Local cdn resources have problems on chrome/safari when used in jupyter-notebook. \n"
     ]
    },
    {
     "data": {
      "text/html": [
       "\n",
       "        <iframe\n",
       "            width=\"100%\"\n",
       "            height=\"600px\"\n",
       "            src=\"facebook_network.html\"\n",
       "            frameborder=\"0\"\n",
       "            allowfullscreen\n",
       "            \n",
       "        ></iframe>\n",
       "        "
      ],
      "text/plain": [
       "<IPython.lib.display.IFrame at 0x1159af700>"
      ]
     },
     "execution_count": 42,
     "metadata": {},
     "output_type": "execute_result"
    }
   ],
   "source": [
    "facebook_network = nx.read_gml(\"../_data/facebook_reduced.gml\")\n",
    "\n",
    "facebook_pyvis_network = Network(\"700px\", \"100%\", notebook=True)\n",
    "\n",
    "# These settings make sure the\n",
    "# network doesn't take long to stabilize from the\n",
    "# physics simulation\n",
    "facebook_pyvis_network.barnes_hut(spring_strength=0.004, damping=0.18, gravity=-800, spring_length=50)\n",
    "facebook_pyvis_network.from_nx(facebook_network)\n",
    "\n",
    "# facebook_pyvis_network.toggle_physics(False)\n",
    "facebook_pyvis_network.show(\"facebook_network.html\")\n"
   ]
  },
  {
   "cell_type": "code",
   "execution_count": 43,
   "metadata": {},
   "outputs": [
    {
     "name": "stdout",
     "output_type": "stream",
     "text": [
      "23\n"
     ]
    }
   ],
   "source": [
    "# 1. How many clusters does this dataset have?\n",
    "clusters = greedy_modularity_communities(\n",
    "    facebook_network,\n",
    ")  # returns a list of sets\n",
    "\n",
    "print(len(clusters))\n"
   ]
  },
  {
   "cell_type": "code",
   "execution_count": 44,
   "metadata": {},
   "outputs": [
    {
     "data": {
      "text/html": [
       "<div>\n",
       "<style scoped>\n",
       "    .dataframe tbody tr th:only-of-type {\n",
       "        vertical-align: middle;\n",
       "    }\n",
       "\n",
       "    .dataframe tbody tr th {\n",
       "        vertical-align: top;\n",
       "    }\n",
       "\n",
       "    .dataframe thead th {\n",
       "        text-align: right;\n",
       "    }\n",
       "</style>\n",
       "<table border=\"1\" class=\"dataframe\">\n",
       "  <thead>\n",
       "    <tr style=\"text-align: right;\">\n",
       "      <th></th>\n",
       "      <th>user</th>\n",
       "      <th>degree</th>\n",
       "      <th>closeness_centrality</th>\n",
       "    </tr>\n",
       "  </thead>\n",
       "  <tbody>\n",
       "    <tr>\n",
       "      <th>0</th>\n",
       "      <td>Dorothy Robinson</td>\n",
       "      <td>13</td>\n",
       "      <td>0.222401</td>\n",
       "    </tr>\n",
       "    <tr>\n",
       "      <th>133</th>\n",
       "      <td>Nicole Drayton</td>\n",
       "      <td>12</td>\n",
       "      <td>0.221134</td>\n",
       "    </tr>\n",
       "    <tr>\n",
       "      <th>87</th>\n",
       "      <td>Kristine Jaynes</td>\n",
       "      <td>12</td>\n",
       "      <td>0.219260</td>\n",
       "    </tr>\n",
       "    <tr>\n",
       "      <th>20</th>\n",
       "      <td>Fannie Krueger</td>\n",
       "      <td>11</td>\n",
       "      <td>0.218028</td>\n",
       "    </tr>\n",
       "    <tr>\n",
       "      <th>101</th>\n",
       "      <td>Paul Hutching</td>\n",
       "      <td>11</td>\n",
       "      <td>0.227619</td>\n",
       "    </tr>\n",
       "    <tr>\n",
       "      <th>141</th>\n",
       "      <td>Nina Wang</td>\n",
       "      <td>10</td>\n",
       "      <td>0.209778</td>\n",
       "    </tr>\n",
       "    <tr>\n",
       "      <th>32</th>\n",
       "      <td>Janis Reynolds</td>\n",
       "      <td>10</td>\n",
       "      <td>0.190474</td>\n",
       "    </tr>\n",
       "    <tr>\n",
       "      <th>71</th>\n",
       "      <td>Wendy Dobies</td>\n",
       "      <td>10</td>\n",
       "      <td>0.228962</td>\n",
       "    </tr>\n",
       "    <tr>\n",
       "      <th>51</th>\n",
       "      <td>Ted Robinson</td>\n",
       "      <td>9</td>\n",
       "      <td>0.207258</td>\n",
       "    </tr>\n",
       "    <tr>\n",
       "      <th>127</th>\n",
       "      <td>Kevin Roman</td>\n",
       "      <td>9</td>\n",
       "      <td>0.217722</td>\n",
       "    </tr>\n",
       "  </tbody>\n",
       "</table>\n",
       "</div>"
      ],
      "text/plain": [
       "                 user  degree  closeness_centrality\n",
       "0    Dorothy Robinson      13              0.222401\n",
       "133    Nicole Drayton      12              0.221134\n",
       "87    Kristine Jaynes      12              0.219260\n",
       "20     Fannie Krueger      11              0.218028\n",
       "101     Paul Hutching      11              0.227619\n",
       "141         Nina Wang      10              0.209778\n",
       "32     Janis Reynolds      10              0.190474\n",
       "71       Wendy Dobies      10              0.228962\n",
       "51       Ted Robinson       9              0.207258\n",
       "127       Kevin Roman       9              0.217722"
      ]
     },
     "execution_count": 44,
     "metadata": {},
     "output_type": "execute_result"
    }
   ],
   "source": [
    "# 2. Can you identify individuals which have a high degree of connections but low closeness centrality?\n",
    "#    Why do you think that is?\n",
    "\n",
    "# Create a dataframe of the node degrees\n",
    "degree_df = pd.DataFrame.from_dict(dict(nx.degree(facebook_network)), orient=\"index\")\n",
    "degree_df = degree_df.reset_index()\n",
    "degree_df.columns = [\"user\", \"degree\"]\n",
    "\n",
    "# Create a dataframe of the node closeness centralities\n",
    "closeness_df = pd.DataFrame.from_dict(dict(nx.closeness_centrality(facebook_network)), orient=\"index\")\n",
    "closeness_df = closeness_df.reset_index()\n",
    "closeness_df.columns = [\"user\", \"closeness_centrality\"]\n",
    "\n",
    "# Merge the two on the user\n",
    "combined_df = pd.merge(degree_df, closeness_df, on=\"user\", how=\"inner\")\n",
    "\n",
    "# Sort and show\n",
    "combined_df.sort_values(by=\"degree\", ascending=False).head(10)\n"
   ]
  },
  {
   "cell_type": "code",
   "execution_count": 34,
   "metadata": {},
   "outputs": [
    {
     "data": {
      "image/png": "[encoded data removed]",
      "text/plain": [
       "<Figure size 1080x360 with 1 Axes>"
      ]
     },
     "metadata": {
      "needs_background": "light"
     },
     "output_type": "display_data"
    }
   ],
   "source": [
    "import matplotlib.pyplot as plt\n",
    "\n",
    "plt.figure(figsize=(15, 5))\n",
    "plt.scatter(combined_df[\"degree\"], combined_df[\"closeness_centrality\"])\n",
    "plt.xlabel(\"Degree\")\n",
    "plt.ylabel(\"Closeness Centrality\")\n",
    "plt.show()\n"
   ]
  },
  {
   "cell_type": "code",
   "execution_count": 35,
   "metadata": {},
   "outputs": [
    {
     "data": {
      "text/html": [
       "<div>\n",
       "<style scoped>\n",
       "    .dataframe tbody tr th:only-of-type {\n",
       "        vertical-align: middle;\n",
       "    }\n",
       "\n",
       "    .dataframe tbody tr th {\n",
       "        vertical-align: top;\n",
       "    }\n",
       "\n",
       "    .dataframe thead th {\n",
       "        text-align: right;\n",
       "    }\n",
       "</style>\n",
       "<table border=\"1\" class=\"dataframe\">\n",
       "  <thead>\n",
       "    <tr style=\"text-align: right;\">\n",
       "      <th></th>\n",
       "      <th>user</th>\n",
       "      <th>degree</th>\n",
       "      <th>closeness_centrality</th>\n",
       "    </tr>\n",
       "  </thead>\n",
       "  <tbody>\n",
       "    <tr>\n",
       "      <th>5</th>\n",
       "      <td>Allan Elkins</td>\n",
       "      <td>8</td>\n",
       "      <td>0.229300</td>\n",
       "    </tr>\n",
       "    <tr>\n",
       "      <th>26</th>\n",
       "      <td>Karl Newell</td>\n",
       "      <td>8</td>\n",
       "      <td>0.192600</td>\n",
       "    </tr>\n",
       "    <tr>\n",
       "      <th>59</th>\n",
       "      <td>Sharon Muncy</td>\n",
       "      <td>8</td>\n",
       "      <td>0.222720</td>\n",
       "    </tr>\n",
       "    <tr>\n",
       "      <th>70</th>\n",
       "      <td>Jack Wing</td>\n",
       "      <td>8</td>\n",
       "      <td>0.207258</td>\n",
       "    </tr>\n",
       "    <tr>\n",
       "      <th>78</th>\n",
       "      <td>Jo Cantave</td>\n",
       "      <td>8</td>\n",
       "      <td>0.222083</td>\n",
       "    </tr>\n",
       "    <tr>\n",
       "      <th>96</th>\n",
       "      <td>Charles Patterson</td>\n",
       "      <td>8</td>\n",
       "      <td>0.032000</td>\n",
       "    </tr>\n",
       "    <tr>\n",
       "      <th>149</th>\n",
       "      <td>Christopher Olofson</td>\n",
       "      <td>8</td>\n",
       "      <td>0.205339</td>\n",
       "    </tr>\n",
       "  </tbody>\n",
       "</table>\n",
       "</div>"
      ],
      "text/plain": [
       "                    user  degree  closeness_centrality\n",
       "5           Allan Elkins       8              0.229300\n",
       "26           Karl Newell       8              0.192600\n",
       "59          Sharon Muncy       8              0.222720\n",
       "70             Jack Wing       8              0.207258\n",
       "78            Jo Cantave       8              0.222083\n",
       "96     Charles Patterson       8              0.032000\n",
       "149  Christopher Olofson       8              0.205339"
      ]
     },
     "execution_count": 35,
     "metadata": {},
     "output_type": "execute_result"
    }
   ],
   "source": [
    "combined_df[combined_df[\"degree\"] == 8]\n"
   ]
  },
  {
   "cell_type": "markdown",
   "metadata": {},
   "source": [
    "Our node of interest seems to be Charles Patterson\n"
   ]
  },
  {
   "cell_type": "code",
   "execution_count": 45,
   "metadata": {},
   "outputs": [
    {
     "name": "stdout",
     "output_type": "stream",
     "text": [
      "Local cdn resources have problems on chrome/safari when used in jupyter-notebook. \n"
     ]
    },
    {
     "data": {
      "text/html": [
       "\n",
       "        <iframe\n",
       "            width=\"100%\"\n",
       "            height=\"600px\"\n",
       "            src=\"facebook_network_ex2.html\"\n",
       "            frameborder=\"0\"\n",
       "            allowfullscreen\n",
       "            \n",
       "        ></iframe>\n",
       "        "
      ],
      "text/plain": [
       "<IPython.lib.display.IFrame at 0x1159aec50>"
      ]
     },
     "execution_count": 45,
     "metadata": {},
     "output_type": "execute_result"
    }
   ],
   "source": [
    "facebook_network = nx.read_gml(\"../_data/facebook_reduced.gml\")\n",
    "\n",
    "facebook_pyvis_network = Network(\"700px\", \"100%\", notebook=True)\n",
    "\n",
    "# These settings make sure the\n",
    "# network doesn't take long to stabilize from the\n",
    "# physics simulation\n",
    "facebook_pyvis_network.barnes_hut(spring_strength=0.004, damping=0.18, gravity=-800, spring_length=50)\n",
    "facebook_pyvis_network.from_nx(facebook_network)\n",
    "\n",
    "facebook_pyvis_network.get_node(\"Charles Patterson\")[\"color\"] = {\"background\": \"yellow\"}\n",
    "\n",
    "# facebook_pyvis_network.toggle_physics(False)\n",
    "facebook_pyvis_network.show(\"facebook_network_ex2.html\")\n"
   ]
  },
  {
   "cell_type": "markdown",
   "metadata": {},
   "source": [
    "**Charles Patterson** has a high degree but low closeness since he is at the\n",
    "center of a relatively small cluster outside the main network. Any node that is\n",
    "added there, but is only connected to Charles will increase his degree but not\n",
    "so much his centrality. This seems to be an isolated subgroup of users that are\n",
    "centered around Charles. Perhaps a new group of users all recommended by a\n",
    "single person who is also new and found Facebook very addicting.\n"
   ]
  },
  {
   "cell_type": "markdown",
   "metadata": {},
   "source": [
    "### Conclusion\n"
   ]
  },
  {
   "cell_type": "markdown",
   "metadata": {},
   "source": [
    "We've seen how the application of network analysis can uncover interesting\n",
    "patterns in a connected set of entities in a toy dataset and an example from\n",
    "social network analysis (SNA). Visualization is fundamental, and metrics such as\n",
    "measures of centrality and the clustering coefficient also allow us to quantify\n",
    "the properties of individual nodes, as well as a network overall.\n",
    "\n",
    "Here we've only scratched the surface of how network analysis techniques can be\n",
    "applied; as noted in the introduction, there are many more applications across\n",
    "multiple subject matter domains. Network analysis techniques can also be\n",
    "combined with supervised or unsupervised learning by treating it as a form of\n",
    "feature engineering: if each row in the data model is a node in the network,\n",
    "degree or other measures can be calculated as new features. These could be\n",
    "important if the topology of a network is a highly predictive factor in a given\n",
    "machine learning task.\n",
    "\n",
    "Network analysis is often viewed as a specialized niche topic under the umbrella\n",
    "of data science. However, if framed correctly, many problems across various\n",
    "domains can benefit from the application of the techniques as seen in our\n",
    "examples, in addition to even more advanced approaches.\n"
   ]
  }
 ],
 "metadata": {
  "colab": {
   "collapsed_sections": [],
   "name": "Network Analysis.ipynb",
   "provenance": [],
   "version": "0.3.2"
  },
  "hide_input": false,
  "kernelspec": {
   "display_name": "Python 3.10.8 ('.venv': poetry)",
   "language": "python",
   "name": "python3"
  },
  "language_info": {
   "codemirror_mode": {
    "name": "ipython",
    "version": 3
   },
   "file_extension": ".py",
   "mimetype": "text/x-python",
   "name": "python",
   "nbconvert_exporter": "python",
   "pygments_lexer": "ipython3",
   "version": "3.10.8"
  },
  "vscode": {
   "interpreter": {
    "hash": "09fa77dfce31738cd768fb92202d4b676dd1336a655854d9fb98a0feba06c452"
   }
  }
 },
 "nbformat": 4,
 "nbformat_minor": 4
}
