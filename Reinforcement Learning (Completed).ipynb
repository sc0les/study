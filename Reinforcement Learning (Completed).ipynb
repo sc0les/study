{
 "cells": [
  {
   "cell_type": "markdown",
   "metadata": {
    "colab_type": "text",
    "id": "W03-5JMk8oMW"
   },
   "source": [
    "# Reinforcement Learning\n"
   ]
  },
  {
   "cell_type": "code",
   "execution_count": 2,
   "metadata": {
    "colab": {},
    "colab_type": "code",
    "id": "99A9L0ga8oMX"
   },
   "outputs": [],
   "source": [
    "import numpy as np\n",
    "import pandas as pd\n",
    "import scipy.stats as stats\n",
    "import random\n",
    "import matplotlib.pyplot as plt\n",
    "import time\n"
   ]
  },
  {
   "cell_type": "markdown",
   "metadata": {},
   "source": [
    "Today we will look at reinforcement learning.\n",
    "\n",
    "To recap, supervised learning attempts to understand some relationship between a\n",
    "set of features, $X$, and a labeled target, $Y$, and unsupervised learning\n",
    "attempts to understand some relationship between a set of data points described\n",
    "only by the features $X$.\n",
    "\n",
    "Unlike those techniques, reinforcement learning tries to understand the\n",
    "relationship between taking certain actions, and the consequences of those\n",
    "actions. The simplest example for employment of reinforcement learning is within\n",
    "games like chess. Every action has a potential consequence, but a set of actions\n",
    "can only have good consequences further in time, so how do we train a system to\n",
    "study the relationship between actions and potential consequences?\n"
   ]
  },
  {
   "cell_type": "markdown",
   "metadata": {},
   "source": [
    "## Exploration-exploitation strategies\n"
   ]
  },
  {
   "cell_type": "markdown",
   "metadata": {
    "colab_type": "text",
    "id": "cXuiGQHw8oNB"
   },
   "source": [
    "In reinforcement learning, the choice of an action is usually driven by two\n",
    "distinct goals: either to explore the environment and potential rewards to our\n",
    "actions, or to exploit what we learned so far. These could be two well-separated\n",
    "phases in the algorithm or somewhat interleaved steps.\n",
    "\n",
    "1. In the _exploration_ steps, our goal is not to maximize profits in the short\n",
    "   term, but instead to discover the strategy which will maximize profits in the\n",
    "   long term. In other words, we want to establish a relationship between our\n",
    "   **actions** and their associated **reward**.\n",
    "\n",
    "2. _The exploitation_ steps are where we apply the best method found in the\n",
    "   exploration phase, hopefully maximizing long term profits. We pick the\n",
    "   **action** which produces the highest **reward**, and we perform this action\n",
    "   as much as we can.\n"
   ]
  },
  {
   "cell_type": "markdown",
   "metadata": {},
   "source": [
    "Of course, every trial in the exploration phase is potentially costing us money\n",
    "in a real-world scenario. So, how do we discover which is the most profitable\n",
    "and how do we do so with the least cost. The first such example we look at is\n",
    "known as the multi-arm bandit problem.\n"
   ]
  },
  {
   "cell_type": "markdown",
   "metadata": {},
   "source": [
    "## Multi-Armed Bandit Problem\n"
   ]
  },
  {
   "cell_type": "markdown",
   "metadata": {
    "colab_type": "text",
    "id": "L-xwmOm88oND"
   },
   "source": [
    "<img src = \"https://drive.google.com/uc?export=view&id=1Iin2VKiGHU9sSWcp1w7WMjTrSP_4HdFe\" width = 400>\n",
    "<center><i>(Image Source: <a>https://upload.wikimedia.org/wikipedia/commons/3/34/Slot_machines_at_Wookey_Hole_Caves.JPG</a>)</i></center>\n",
    "\n",
    "The name is inspired by casino slot machines, each of which has an arm we pull\n",
    "to play (action), each machine has a different payout (different reward), and\n",
    "our job as gamblers is to discover which machine leads to the highest profits\n",
    "(while spending as little money as possible).\n"
   ]
  },
  {
   "cell_type": "markdown",
   "metadata": {
    "colab_type": "text",
    "id": "XHebcmJs8oND"
   },
   "source": [
    "From a theoretical perspective, a multi-arm bandit is made up of $k$ machines\n",
    "(or options). We can describe their mean payouts with the array:\n",
    "\n",
    "$$(\\mu_1,\\mu_2,\\cdots ,\\mu_k)$$\n",
    "\n",
    "We don't know these means, we won't even assume we have a prior belief over\n",
    "them. Our goal is to use exploration to find the machine with the highest mean\n",
    "and then exploit this knowledge for our gain.\n"
   ]
  },
  {
   "cell_type": "markdown",
   "metadata": {
    "colab_type": "text",
    "id": "ZMBm4lNd8oNE"
   },
   "source": [
    "Generally, any reinforcement learning algorithm is composed of an **agent**\n",
    "<img src = \"https://drive.google.com/uc?export=view&id=190ZAOG_E8xbF_Vi_IVmGN7NXgo_6jKQ7\" width = 100>\n",
    "\n",
    "<center><i>(Image Source: <a>https://storage.needpix.com/rsynced_images/agent-1626306_1280.png</a>)</i></center>\n",
    "\n",
    "which tries to learn a set of **actions** and navigate between **states** by\n",
    "studying the **rewards** different actions (or sequences of actions) produce.\n"
   ]
  },
  {
   "cell_type": "markdown",
   "metadata": {},
   "source": [
    "### $\\epsilon-Greedy$\n",
    "\n",
    "As a first strategy we will employ what is known as $\\epsilon-Greedy$. This\n",
    "strategy doesn't have separate exploration/exploitation phase. Instead it\n",
    "alternates between the two. The algorithm runs trials one after another, after\n",
    "each trial it makes an estimate of the outcome means\n",
    "$(\\mu_1',\\mu_2',\\cdots ,\\mu_k')$.\n",
    "\n",
    "For each new trial, the algorithm will either execute an exploration or\n",
    "exploitation step:\n",
    "\n",
    "- In an exploration trial we select one of the $k$ options (**actions**)\n",
    "  uniformly at random, if we selected option $i$ we pull the arm on machine $i$,\n",
    "  see its recent payout (**reward**), and then we update our estimate of $\\mu_i$\n",
    "  by updating $\\mu_i'$.\n",
    "\n",
    "- In an exploitation trial, we also select a machine and pull its arm, but we\n",
    "  don't select at random. Rather we select the machine whose current estimated\n",
    "  $\\mu$ is the highest.\n",
    "\n",
    "How do we decide which method to use at each trial? We use the $\\epsilon$\n",
    "parameter which is between 0 and 1. We run an exploration trial with probability\n",
    "$\\epsilon$, otherwise (with probability $1-\\epsilon$) we execute an exploitation\n",
    "trial.\n"
   ]
  },
  {
   "cell_type": "markdown",
   "metadata": {},
   "source": [
    "---\n",
    "\n",
    "Let's run through an example. Imagine we had the following machines:\n"
   ]
  },
  {
   "cell_type": "code",
   "execution_count": 3,
   "metadata": {},
   "outputs": [
    {
     "data": {
      "text/html": [
       "<div>\n",
       "<style scoped>\n",
       "    .dataframe tbody tr th:only-of-type {\n",
       "        vertical-align: middle;\n",
       "    }\n",
       "\n",
       "    .dataframe tbody tr th {\n",
       "        vertical-align: top;\n",
       "    }\n",
       "\n",
       "    .dataframe thead th {\n",
       "        text-align: right;\n",
       "    }\n",
       "</style>\n",
       "<table border=\"1\" class=\"dataframe\">\n",
       "  <thead>\n",
       "    <tr style=\"text-align: right;\">\n",
       "      <th></th>\n",
       "      <th>Machine Name</th>\n",
       "      <th>True Means</th>\n",
       "      <th>Number of Runs</th>\n",
       "      <th>Total Payout</th>\n",
       "      <th>Estimated Means</th>\n",
       "    </tr>\n",
       "  </thead>\n",
       "  <tbody>\n",
       "    <tr>\n",
       "      <th>0</th>\n",
       "      <td>Machine 0</td>\n",
       "      <td>0.2</td>\n",
       "      <td>0.0</td>\n",
       "      <td>0.0</td>\n",
       "      <td>0.0</td>\n",
       "    </tr>\n",
       "    <tr>\n",
       "      <th>1</th>\n",
       "      <td>Machine 1</td>\n",
       "      <td>0.3</td>\n",
       "      <td>0.0</td>\n",
       "      <td>0.0</td>\n",
       "      <td>0.0</td>\n",
       "    </tr>\n",
       "    <tr>\n",
       "      <th>2</th>\n",
       "      <td>Machine 2</td>\n",
       "      <td>0.5</td>\n",
       "      <td>0.0</td>\n",
       "      <td>0.0</td>\n",
       "      <td>0.0</td>\n",
       "    </tr>\n",
       "    <tr>\n",
       "      <th>3</th>\n",
       "      <td>Machine 3</td>\n",
       "      <td>0.2</td>\n",
       "      <td>0.0</td>\n",
       "      <td>0.0</td>\n",
       "      <td>0.0</td>\n",
       "    </tr>\n",
       "    <tr>\n",
       "      <th>4</th>\n",
       "      <td>Machine 4</td>\n",
       "      <td>0.9</td>\n",
       "      <td>0.0</td>\n",
       "      <td>0.0</td>\n",
       "      <td>0.0</td>\n",
       "    </tr>\n",
       "  </tbody>\n",
       "</table>\n",
       "</div>"
      ],
      "text/plain": [
       "  Machine Name  True Means  Number of Runs  Total Payout  Estimated Means\n",
       "0    Machine 0         0.2             0.0           0.0              0.0\n",
       "1    Machine 1         0.3             0.0           0.0              0.0\n",
       "2    Machine 2         0.5             0.0           0.0              0.0\n",
       "3    Machine 3         0.2             0.0           0.0              0.0\n",
       "4    Machine 4         0.9             0.0           0.0              0.0"
      ]
     },
     "execution_count": 3,
     "metadata": {},
     "output_type": "execute_result"
    }
   ],
   "source": [
    "machine_means = np.array([0.2, 0.3, 0.5, 0.2, 0.9])\n",
    "machines = pd.DataFrame(\n",
    "    {\n",
    "        \"Machine Name\": [\"Machine \" + str(i) for i in range(5)],\n",
    "        \"True Means\": machine_means,\n",
    "        \"Number of Runs\": np.array([0.0, 0.0, 0.0, 0.0, 0.0]),\n",
    "        \"Total Payout\": np.array([0.0, 0.0, 0.0, 0.0, 0.0]),\n",
    "        \"Estimated Means\": np.array([0.0, 0.0, 0.0, 0.0, 0.0]),\n",
    "    }\n",
    ")\n",
    "machines\n"
   ]
  },
  {
   "cell_type": "markdown",
   "metadata": {},
   "source": [
    "Each machine has a different payout. We know the real values here since we\n",
    "created these machines, but we will pretend our agent doesn't know them. We will\n",
    "now run an $\\epsilon$-greedy algorithm\n"
   ]
  },
  {
   "cell_type": "code",
   "execution_count": 4,
   "metadata": {},
   "outputs": [
    {
     "data": {
      "text/plain": [
       "1"
      ]
     },
     "execution_count": 4,
     "metadata": {},
     "output_type": "execute_result"
    }
   ],
   "source": [
    "# random coin flip\n",
    "np.random.binomial(1, 0.5, 1)[0]\n"
   ]
  },
  {
   "cell_type": "code",
   "execution_count": 5,
   "metadata": {},
   "outputs": [],
   "source": [
    "def epsilon_greedy(epsilon, machines_df):\n",
    "    \"\"\"\n",
    "    Parameters:\n",
    "    epsilon: float between 0 and 1, fraction of steps for exploration\n",
    "    machines_df: bookkeeping dataframe of machines and previous games\n",
    "\n",
    "    Output: updated bookkeeping dataframe after one action\n",
    "    \"\"\"\n",
    "\n",
    "    # Determine if this is an explore/exploit trial - biased coin flip\n",
    "    epsilon_coin = np.random.binomial(1, epsilon, 1)[0]\n",
    "\n",
    "    # Explore trial\n",
    "    if (epsilon_coin == 1) or (np.sum(machines_df[\"Estimated Means\"]) == 0.0):\n",
    "\n",
    "        # choose a machine at random\n",
    "        choice = np.random.randint(machines_df.shape[0])\n",
    "\n",
    "    # Exploit trial\n",
    "    else:\n",
    "\n",
    "        # choose the best machine\n",
    "        choice = np.argmax(machines_df[\"Estimated Means\"])\n",
    "\n",
    "    # Pull the machine of choice and update our payouts and estimated means\n",
    "    trial_result = np.random.binomial(1, machines_df.loc[choice, \"True Means\"], 1)[0]\n",
    "\n",
    "    # same with a deterministic reward if you add a Reward column\n",
    "    # trial_result = machines_df.loc[choice, \"Reward\"]\n",
    "\n",
    "    # update the bookkeeping\n",
    "    machines_df.loc[choice, \"Number of Runs\"] += 1\n",
    "    machines_df.loc[choice, \"Total Payout\"] += trial_result\n",
    "    machines_df.loc[choice, \"Estimated Means\"] = (\n",
    "        machines_df.loc[choice, \"Total Payout\"] / machines_df.loc[choice, \"Number of Runs\"]\n",
    "    )\n",
    "\n",
    "    # return the updated estimated means\n",
    "    return machines_df\n"
   ]
  },
  {
   "cell_type": "markdown",
   "metadata": {},
   "source": [
    "If we were to run this strategy with five machines for 10,000 trials\n"
   ]
  },
  {
   "cell_type": "code",
   "execution_count": 7,
   "metadata": {},
   "outputs": [
    {
     "name": "stdout",
     "output_type": "stream",
     "text": [
      "Running Trial 9999\r"
     ]
    },
    {
     "data": {
      "text/html": [
       "<div>\n",
       "<style scoped>\n",
       "    .dataframe tbody tr th:only-of-type {\n",
       "        vertical-align: middle;\n",
       "    }\n",
       "\n",
       "    .dataframe tbody tr th {\n",
       "        vertical-align: top;\n",
       "    }\n",
       "\n",
       "    .dataframe thead th {\n",
       "        text-align: right;\n",
       "    }\n",
       "</style>\n",
       "<table border=\"1\" class=\"dataframe\">\n",
       "  <thead>\n",
       "    <tr style=\"text-align: right;\">\n",
       "      <th></th>\n",
       "      <th>Machine Name</th>\n",
       "      <th>True Means</th>\n",
       "      <th>Number of Runs</th>\n",
       "      <th>Total Payout</th>\n",
       "      <th>Estimated Means</th>\n",
       "    </tr>\n",
       "  </thead>\n",
       "  <tbody>\n",
       "    <tr>\n",
       "      <th>0</th>\n",
       "      <td>Machine 0</td>\n",
       "      <td>0.2</td>\n",
       "      <td>1983.0</td>\n",
       "      <td>407.0</td>\n",
       "      <td>0.205245</td>\n",
       "    </tr>\n",
       "    <tr>\n",
       "      <th>1</th>\n",
       "      <td>Machine 1</td>\n",
       "      <td>0.3</td>\n",
       "      <td>1994.0</td>\n",
       "      <td>597.0</td>\n",
       "      <td>0.299398</td>\n",
       "    </tr>\n",
       "    <tr>\n",
       "      <th>2</th>\n",
       "      <td>Machine 2</td>\n",
       "      <td>0.5</td>\n",
       "      <td>2040.0</td>\n",
       "      <td>1024.0</td>\n",
       "      <td>0.501961</td>\n",
       "    </tr>\n",
       "    <tr>\n",
       "      <th>3</th>\n",
       "      <td>Machine 3</td>\n",
       "      <td>0.2</td>\n",
       "      <td>2002.0</td>\n",
       "      <td>412.0</td>\n",
       "      <td>0.205794</td>\n",
       "    </tr>\n",
       "    <tr>\n",
       "      <th>4</th>\n",
       "      <td>Machine 4</td>\n",
       "      <td>0.9</td>\n",
       "      <td>11981.0</td>\n",
       "      <td>10755.0</td>\n",
       "      <td>0.897671</td>\n",
       "    </tr>\n",
       "  </tbody>\n",
       "</table>\n",
       "</div>"
      ],
      "text/plain": [
       "  Machine Name  True Means  Number of Runs  Total Payout  Estimated Means\n",
       "0    Machine 0         0.2          1983.0         407.0         0.205245\n",
       "1    Machine 1         0.3          1994.0         597.0         0.299398\n",
       "2    Machine 2         0.5          2040.0        1024.0         0.501961\n",
       "3    Machine 3         0.2          2002.0         412.0         0.205794\n",
       "4    Machine 4         0.9         11981.0       10755.0         0.897671"
      ]
     },
     "execution_count": 7,
     "metadata": {},
     "output_type": "execute_result"
    }
   ],
   "source": [
    "num_trials = 10000\n",
    "epsilon = 0.1  # 10% of the time, we explore\n",
    "\n",
    "for i in range(num_trials):\n",
    "    print(f\"Running Trial {i}\", end=\"\\r\")\n",
    "    machines = epsilon_greedy(epsilon, machines)\n",
    "#     if i % 1000 == 0:\n",
    "#         print(machines)\n",
    "\n",
    "machines\n"
   ]
  },
  {
   "cell_type": "markdown",
   "metadata": {},
   "source": [
    "You can consider $\\epsilon$ as a hyperparameter: some amount of exploration is\n",
    "good but too much will unnecessarily pick actions that we already know don't\n",
    "work.\n"
   ]
  },
  {
   "cell_type": "code",
   "execution_count": 8,
   "metadata": {},
   "outputs": [
    {
     "data": {
      "text/plain": [
       "13195.0"
      ]
     },
     "execution_count": 8,
     "metadata": {},
     "output_type": "execute_result"
    }
   ],
   "source": [
    "machines[\"Total Payout\"].sum()\n"
   ]
  },
  {
   "cell_type": "markdown",
   "metadata": {
    "colab_type": "text",
    "id": "Z0KdboRG8oNK"
   },
   "source": [
    "First, notice that the estimated means are pretty close to the true means, so\n",
    "the strategy has learned what the machine payouts are. But is the strategy a\n",
    "profitable one?\n",
    "\n",
    "The measure of profit in the multi-arm bandit setting is called _regret\n",
    "minimization_. Regret is the difference between the best we could have had (in\n",
    "expectation) and what we actually got. What is the best possible outcome? In\n",
    "this particular example the best strategy is to always pick the machine with the\n",
    "highest mean ($\\mu_{opt}$). So after $T$ rounds the optimal strategy would pay\n",
    "us $T \\cdot \\mu_{opt}$ in expectation, instead by picking machine $i$ in round\n",
    "$j$ we got payment $p_j^i$. So after $T$ rounds our overall regret is:\n",
    "\n",
    "$$T \\cdot \\mu_{opt} - \\sum_{j=1}^T p_j^i$$\n",
    "\n",
    "We can calculate this with the following function:\n"
   ]
  },
  {
   "cell_type": "code",
   "execution_count": 9,
   "metadata": {
    "colab": {},
    "colab_type": "code",
    "id": "g1ErNITG8oNK"
   },
   "outputs": [],
   "source": [
    "def regret(machine_df):\n",
    "    optimal_machine = np.max(machine_df[\"True Means\"])\n",
    "    trial_number = np.sum(machine_df[\"Number of Runs\"])\n",
    "\n",
    "    optimal_payout = trial_number * optimal_machine\n",
    "    actual_payout = np.sum(machine_df[\"Total Payout\"])\n",
    "    return optimal_payout - actual_payout\n"
   ]
  },
  {
   "cell_type": "markdown",
   "metadata": {
    "colab_type": "text",
    "id": "U_IevPym8oNN"
   },
   "source": [
    "And get the overall regret of our strategy with the following call:\n"
   ]
  },
  {
   "cell_type": "code",
   "execution_count": 10,
   "metadata": {
    "colab": {},
    "colab_type": "code",
    "id": "nCoL4HVc8oNP",
    "outputId": "bdfb108f-666b-4ef2-9581-136b74dcc9f2"
   },
   "outputs": [
    {
     "name": "stdout",
     "output_type": "stream",
     "text": [
      "Total Regret: 4805.0\n"
     ]
    }
   ],
   "source": [
    "print(f\"Total Regret: {regret(machines)}\")\n"
   ]
  },
  {
   "cell_type": "markdown",
   "metadata": {
    "colab_type": "text",
    "id": "XkDTCBHZ8oNU"
   },
   "source": [
    "Is this regret good or bad? It's hard to say. To use regret we should compare it\n",
    "against other strategies and try to find the one with the overall minimal\n",
    "regret.\n",
    "\n",
    "One problem with the regret measure is it require that we know what the overall\n",
    "optimal machine is. Obviously if we knew this we would not require an\n",
    "exploration phase. Instead when calculating regret we can make an estimate of\n",
    "the optimal, using the knowledge we've accumulated.\n"
   ]
  },
  {
   "cell_type": "markdown",
   "metadata": {},
   "source": [
    "---\n",
    "#### Exercise 1\n",
    "\n",
    "1. Implement regret in each round of the $\\epsilon-Greedy$ strategy. That is,\n",
    "augment our the code in the function above so that we record the regret of the\n",
    "strategy after every move. Plot the round by round regret of this strategy.\n",
    "---\n"
   ]
  },
  {
   "cell_type": "markdown",
   "metadata": {},
   "source": [
    "#### Solution\n"
   ]
  },
  {
   "cell_type": "markdown",
   "metadata": {},
   "source": [
    "We will record the (cumulative) regret over the game and then plot the results:\n"
   ]
  },
  {
   "cell_type": "code",
   "execution_count": 14,
   "metadata": {},
   "outputs": [
    {
     "name": "stdout",
     "output_type": "stream",
     "text": [
      "Running Trial 9999\r"
     ]
    }
   ],
   "source": [
    "# reset the bookkeeping dataframe\n",
    "machine_means = np.array([0.2, 0.3, 0.5, 0.2, 0.9])\n",
    "machines = pd.DataFrame(\n",
    "    {\n",
    "        \"Machine Name\": [\"Machine \" + str(i) for i in range(5)],\n",
    "        \"True Means\": machine_means,\n",
    "        \"Number of Runs\": np.array([0.0, 0.0, 0.0, 0.0, 0.0]),\n",
    "        \"Total Payout\": np.array([0.0, 0.0, 0.0, 0.0, 0.0]),\n",
    "        \"Estimated Means\": np.array([0.0, 0.0, 0.0, 0.0, 0.0]),\n",
    "    }\n",
    ")\n",
    "\n",
    "# trial runs\n",
    "num_trials = 10000\n",
    "epsilon = 0.1  # 10% of the time, we explore\n",
    "\n",
    "regrets = []\n",
    "for i in range(num_trials):\n",
    "    print(f\"Running Trial {i}\", end=\"\\r\")\n",
    "    machines = epsilon_greedy(epsilon, machines)\n",
    "\n",
    "    # calculate regret\n",
    "    current_regret = regret(machines)\n",
    "\n",
    "    # save regret\n",
    "    regrets.append(current_regret)\n"
   ]
  },
  {
   "cell_type": "code",
   "execution_count": 15,
   "metadata": {},
   "outputs": [
    {
     "data": {
      "image/png": "[encoded data removed]",
      "text/plain": [
       "<Figure size 640x480 with 1 Axes>"
      ]
     },
     "metadata": {},
     "output_type": "display_data"
    }
   ],
   "source": [
    "plt.figure()\n",
    "plt.plot(range(num_trials), regrets)\n",
    "plt.xlabel(\"Trials\")\n",
    "plt.ylabel(\"Regret\")\n",
    "plt.title(\"Cumulative regret over 10000 trials\")\n",
    "plt.show()\n"
   ]
  },
  {
   "cell_type": "code",
   "execution_count": 13,
   "metadata": {},
   "outputs": [
    {
     "data": {
      "text/html": [
       "<div>\n",
       "<style scoped>\n",
       "    .dataframe tbody tr th:only-of-type {\n",
       "        vertical-align: middle;\n",
       "    }\n",
       "\n",
       "    .dataframe tbody tr th {\n",
       "        vertical-align: top;\n",
       "    }\n",
       "\n",
       "    .dataframe thead th {\n",
       "        text-align: right;\n",
       "    }\n",
       "</style>\n",
       "<table border=\"1\" class=\"dataframe\">\n",
       "  <thead>\n",
       "    <tr style=\"text-align: right;\">\n",
       "      <th></th>\n",
       "      <th>Machine Name</th>\n",
       "      <th>True Means</th>\n",
       "      <th>Number of Runs</th>\n",
       "      <th>Total Payout</th>\n",
       "      <th>Estimated Means</th>\n",
       "    </tr>\n",
       "  </thead>\n",
       "  <tbody>\n",
       "    <tr>\n",
       "      <th>0</th>\n",
       "      <td>Machine 0</td>\n",
       "      <td>0.2</td>\n",
       "      <td>188.0</td>\n",
       "      <td>40.0</td>\n",
       "      <td>0.212766</td>\n",
       "    </tr>\n",
       "    <tr>\n",
       "      <th>1</th>\n",
       "      <td>Machine 1</td>\n",
       "      <td>0.3</td>\n",
       "      <td>209.0</td>\n",
       "      <td>64.0</td>\n",
       "      <td>0.306220</td>\n",
       "    </tr>\n",
       "    <tr>\n",
       "      <th>2</th>\n",
       "      <td>Machine 2</td>\n",
       "      <td>0.5</td>\n",
       "      <td>205.0</td>\n",
       "      <td>107.0</td>\n",
       "      <td>0.521951</td>\n",
       "    </tr>\n",
       "    <tr>\n",
       "      <th>3</th>\n",
       "      <td>Machine 3</td>\n",
       "      <td>0.2</td>\n",
       "      <td>187.0</td>\n",
       "      <td>27.0</td>\n",
       "      <td>0.144385</td>\n",
       "    </tr>\n",
       "    <tr>\n",
       "      <th>4</th>\n",
       "      <td>Machine 4</td>\n",
       "      <td>0.9</td>\n",
       "      <td>9211.0</td>\n",
       "      <td>8286.0</td>\n",
       "      <td>0.899577</td>\n",
       "    </tr>\n",
       "  </tbody>\n",
       "</table>\n",
       "</div>"
      ],
      "text/plain": [
       "  Machine Name  True Means  Number of Runs  Total Payout  Estimated Means\n",
       "0    Machine 0         0.2           188.0          40.0         0.212766\n",
       "1    Machine 1         0.3           209.0          64.0         0.306220\n",
       "2    Machine 2         0.5           205.0         107.0         0.521951\n",
       "3    Machine 3         0.2           187.0          27.0         0.144385\n",
       "4    Machine 4         0.9          9211.0        8286.0         0.899577"
      ]
     },
     "execution_count": 13,
     "metadata": {},
     "output_type": "execute_result"
    }
   ],
   "source": [
    "machines\n"
   ]
  },
  {
   "cell_type": "markdown",
   "metadata": {},
   "source": [
    "We can see how initially the regret grew much more steeply but as we learned the\n",
    "optimal strategy to choose the best machine (in the first few hundred games) the\n",
    "growth rate stabilized. Note that the regret keeps growing because we still play\n",
    "non-optimally in the exploration phase 10% of the time.\n"
   ]
  },
  {
   "cell_type": "markdown",
   "metadata": {
    "colab_type": "text",
    "id": "muRrlqI38oNU"
   },
   "source": [
    "### $\\epsilon-Decay$ Strategy\n",
    "\n",
    "As mentioned above, we usually have multple strategies that we compare using\n",
    "regret.\n",
    "\n",
    "$\\epsilon-Decay$ is pretty much the same as $\\epsilon-Greedy$, except we start\n",
    "with a higher $\\epsilon$ and slowly decrease it over time.\n",
    "\n",
    "We usually try various decay techniques, such as\n",
    "$\\epsilon_{new} = \\epsilon_{old} - c$ or\n",
    "$\\epsilon_{new} = \\frac{\\epsilon_{old}}{c}$. We then compare the regret over\n",
    "time of new strategies (along with the original $\\epsilon-Greedy$) in order to\n",
    "select the best strategy.\n"
   ]
  },
  {
   "cell_type": "markdown",
   "metadata": {},
   "source": [
    "### Actions and Rewards\n",
    "\n",
    "Looking at the information we've collected while running our epsilon greedy\n",
    "algorithm, we can look at two columns: The machine, and its associated payout\n"
   ]
  },
  {
   "cell_type": "code",
   "execution_count": 16,
   "metadata": {},
   "outputs": [
    {
     "data": {
      "text/html": [
       "<div>\n",
       "<style scoped>\n",
       "    .dataframe tbody tr th:only-of-type {\n",
       "        vertical-align: middle;\n",
       "    }\n",
       "\n",
       "    .dataframe tbody tr th {\n",
       "        vertical-align: top;\n",
       "    }\n",
       "\n",
       "    .dataframe thead th {\n",
       "        text-align: right;\n",
       "    }\n",
       "</style>\n",
       "<table border=\"1\" class=\"dataframe\">\n",
       "  <thead>\n",
       "    <tr style=\"text-align: right;\">\n",
       "      <th></th>\n",
       "      <th>Machine Name</th>\n",
       "      <th>Estimated Means</th>\n",
       "    </tr>\n",
       "  </thead>\n",
       "  <tbody>\n",
       "    <tr>\n",
       "      <th>0</th>\n",
       "      <td>Machine 0</td>\n",
       "      <td>0.175926</td>\n",
       "    </tr>\n",
       "    <tr>\n",
       "      <th>1</th>\n",
       "      <td>Machine 1</td>\n",
       "      <td>0.335052</td>\n",
       "    </tr>\n",
       "    <tr>\n",
       "      <th>2</th>\n",
       "      <td>Machine 2</td>\n",
       "      <td>0.544554</td>\n",
       "    </tr>\n",
       "    <tr>\n",
       "      <th>3</th>\n",
       "      <td>Machine 3</td>\n",
       "      <td>0.199005</td>\n",
       "    </tr>\n",
       "    <tr>\n",
       "      <th>4</th>\n",
       "      <td>Machine 4</td>\n",
       "      <td>0.898117</td>\n",
       "    </tr>\n",
       "  </tbody>\n",
       "</table>\n",
       "</div>"
      ],
      "text/plain": [
       "  Machine Name  Estimated Means\n",
       "0    Machine 0         0.175926\n",
       "1    Machine 1         0.335052\n",
       "2    Machine 2         0.544554\n",
       "3    Machine 3         0.199005\n",
       "4    Machine 4         0.898117"
      ]
     },
     "execution_count": 16,
     "metadata": {},
     "output_type": "execute_result"
    }
   ],
   "source": [
    "machines[[\"Machine Name\", \"Estimated Means\"]]\n"
   ]
  },
  {
   "cell_type": "markdown",
   "metadata": {},
   "source": [
    "and we can re-frame these information pieces as **actions** and **rewards**.\n"
   ]
  },
  {
   "cell_type": "code",
   "execution_count": 17,
   "metadata": {},
   "outputs": [
    {
     "data": {
      "text/html": [
       "<div>\n",
       "<style scoped>\n",
       "    .dataframe tbody tr th:only-of-type {\n",
       "        vertical-align: middle;\n",
       "    }\n",
       "\n",
       "    .dataframe tbody tr th {\n",
       "        vertical-align: top;\n",
       "    }\n",
       "\n",
       "    .dataframe thead th {\n",
       "        text-align: right;\n",
       "    }\n",
       "</style>\n",
       "<table border=\"1\" class=\"dataframe\">\n",
       "  <thead>\n",
       "    <tr style=\"text-align: right;\">\n",
       "      <th></th>\n",
       "      <th>Action</th>\n",
       "      <th>Reward</th>\n",
       "    </tr>\n",
       "  </thead>\n",
       "  <tbody>\n",
       "    <tr>\n",
       "      <th>0</th>\n",
       "      <td>Machine 0</td>\n",
       "      <td>0.188172</td>\n",
       "    </tr>\n",
       "    <tr>\n",
       "      <th>1</th>\n",
       "      <td>Machine 1</td>\n",
       "      <td>0.287938</td>\n",
       "    </tr>\n",
       "    <tr>\n",
       "      <th>2</th>\n",
       "      <td>Machine 2</td>\n",
       "      <td>0.496503</td>\n",
       "    </tr>\n",
       "    <tr>\n",
       "      <th>3</th>\n",
       "      <td>Machine 3</td>\n",
       "      <td>0.169014</td>\n",
       "    </tr>\n",
       "    <tr>\n",
       "      <th>4</th>\n",
       "      <td>Machine 4</td>\n",
       "      <td>0.898764</td>\n",
       "    </tr>\n",
       "  </tbody>\n",
       "</table>\n",
       "</div>"
      ],
      "text/plain": [
       "      Action    Reward\n",
       "0  Machine 0  0.188172\n",
       "1  Machine 1  0.287938\n",
       "2  Machine 2  0.496503\n",
       "3  Machine 3  0.169014\n",
       "4  Machine 4  0.898764"
      ]
     },
     "execution_count": 17,
     "metadata": {},
     "output_type": "execute_result"
    }
   ],
   "source": [
    "new_df = machines[[\"Machine Name\", \"Estimated Means\"]].copy()\n",
    "new_df.columns = [\"Action\", \"Reward\"]\n",
    "new_df\n"
   ]
  },
  {
   "cell_type": "markdown",
   "metadata": {},
   "source": [
    "Notice in terms of information, we really have a $5 \\times 1$ information vector\n",
    "which says that whenever we take action $i$ we get reward $reward[i]$, then we\n",
    "are thrown back into the same **state** to choose which machine to pull again.\n",
    "\n",
    "In this setup, we of course will always pull machine 4... but what if we had a\n",
    "slightly unusual set-up where we can't pull the same machine twice in a row? Now\n",
    "we might pull machine 4's arm, and get our reward, but we cannot do it again. We\n",
    "are in a new **state** and our available choices are different than they were\n",
    "one turn ago.\n"
   ]
  },
  {
   "cell_type": "markdown",
   "metadata": {
    "colab_type": "text",
    "id": "clLvE3VM8oNX"
   },
   "source": [
    "## Markov Decision Processes\n",
    "\n",
    "Multi-armed bandits are a special case of Markov Decision Processes (MDPs). In\n",
    "an MDP the world is divided into a set of states $S$, each state $s \\in S$ has a\n",
    "set of actions $A_s$, an action $a \\in A_s$ transitions us from state $s$ to\n",
    "some other state $s'$ and the action has some (possibly random) reward $R_a$.\n",
    "\n",
    "The multi-armed bandit is a MDP with one state, the actions, lever pulls, lead\n",
    "back to the same state. In general MDPs can be far more complex:\n",
    "\n",
    "<img src = \"https://drive.google.com/uc?export=view&id=1G894t7UGZdNnDIzwQDUrRz7s7-2V7gAo\"  width = 500>\n",
    "<center><i>(Image Source: <a>https://upload.wikimedia.org/wikipedia/commons/2/21/Markov_Decision_Process_example.png</a>)</i></center>\n",
    "\n",
    "Our goal with MDPs is the same as our goal with multi arm bandit. We need to\n",
    "explore the system and discover the structure and payments of the systems and\n",
    "exploit this knowledge to maximize our payouts. Critically we do not know\n",
    "anything about the structure of the MDP a priori, we must discover this through\n",
    "exploration.\n"
   ]
  },
  {
   "cell_type": "markdown",
   "metadata": {
    "colab_type": "text",
    "id": "AZz4mxok8oNY"
   },
   "source": [
    "## Q-Learning\n",
    "\n",
    "Since the 1980s the standard way for dealing with MDPs has been the Q-Learning\n",
    "algorithm. Q-Learning, shorthand for Quality Function Learning, is a general\n",
    "methodology for learning the payment structure of the MDP. It learns to\n",
    "associate with every state $s$, and an action (accessible from the state) $a$, a\n",
    "quality score $Q(s,a)$. $Q(s,a)$ is meant to approximate the quality of the\n",
    "outcome taking action $a$ at state $s$ will eventually lead to.\n",
    "\n",
    "If we knew the structure of the MDP we could easily take the optimal path\n",
    "through the states minimizing our cost (equivalently maximizing our reward). But\n",
    "since we don't know what structure looks like, connections or payments, we need\n",
    "to explore and learn which paths lead to good outcomes, that is we need to learn\n",
    "the $Q$ function via exploration. With a good Q-Function we can exploit our\n",
    "knowledge and maximize our profits.\n"
   ]
  },
  {
   "cell_type": "markdown",
   "metadata": {},
   "source": [
    "At the core of the Q-Learning algorithm is a Q-table; A table which stores\n",
    "information about the world as experienced by an agent (in the Multi-armed\n",
    "Bandit, we had an automatic agent populating a $5\\times 1$ Q-table). Let's\n",
    "imagine we have a world of a $3\\times 3$ tiles, and an agent which has several\n",
    "actions available: move up, move down, move left, and move right.\n"
   ]
  },
  {
   "cell_type": "markdown",
   "metadata": {},
   "source": [
    "<table>\n",
    "    <tr>\n",
    "        <th>            \n",
    "        </th>\n",
    "        <th>\n",
    "            Up\n",
    "        </th>\n",
    "        <th>\n",
    "            Down\n",
    "        </th>\n",
    "        <th>\n",
    "            Left\n",
    "        </th>\n",
    "        <th>\n",
    "            Right\n",
    "        </th>\n",
    "    </tr>\n",
    "    <tr>\n",
    "        <th>\n",
    "            Upper Left\n",
    "        </th>\n",
    "        <td>  \n",
    "            0.0\n",
    "        </td>\n",
    "        <td>  \n",
    "            0.0\n",
    "        </td>\n",
    "        <td>  \n",
    "            0.0\n",
    "        </td>\n",
    "        <td>  \n",
    "            0.0\n",
    "        </td>        \n",
    "    </tr>\n",
    "    <tr>\n",
    "        <th>\n",
    "            Upper Middle\n",
    "        </th>\n",
    "        <td>  \n",
    "            0.0\n",
    "        </td>\n",
    "        <td>  \n",
    "            0.0\n",
    "        </td>\n",
    "        <td>  \n",
    "            0.0\n",
    "        </td>\n",
    "        <td>  \n",
    "            0.0\n",
    "        </td>        \n",
    "    </tr>\n",
    "    <tr>\n",
    "        <th>\n",
    "            Upper Right\n",
    "        </th>\n",
    "        <td>  \n",
    "            0.0\n",
    "        </td>\n",
    "        <td>  \n",
    "            0.0\n",
    "        </td>\n",
    "        <td>  \n",
    "            0.0\n",
    "        </td>\n",
    "        <td>  \n",
    "            0.0\n",
    "        </td>        \n",
    "    </tr>\n",
    "    <tr>\n",
    "        <th>\n",
    "            Middle Left\n",
    "        </th>\n",
    "        <td>  \n",
    "            0.0\n",
    "        </td>\n",
    "        <td>  \n",
    "            0.0\n",
    "        </td>\n",
    "        <td>  \n",
    "            0.0\n",
    "        </td>\n",
    "        <td>  \n",
    "            0.0\n",
    "        </td>        \n",
    "    </tr>\n",
    "    <tr>\n",
    "        <th>\n",
    "            Middle Middle\n",
    "        </th>\n",
    "        <td>  \n",
    "            0.0\n",
    "        </td>\n",
    "        <td>  \n",
    "            0.0\n",
    "        </td>\n",
    "        <td>  \n",
    "            0.0\n",
    "        </td>\n",
    "        <td>  \n",
    "            0.0\n",
    "        </td>        \n",
    "    </tr>\n",
    "    <tr>\n",
    "        <th>\n",
    "            Middle Right\n",
    "        </th>\n",
    "        <td>  \n",
    "            0.0\n",
    "        </td>\n",
    "        <td>  \n",
    "            0.0\n",
    "        </td>\n",
    "        <td>  \n",
    "            0.0\n",
    "        </td>\n",
    "        <td>  \n",
    "            0.0\n",
    "        </td>        \n",
    "    </tr>\n",
    "    <tr>\n",
    "        <th>\n",
    "            Bottom Left\n",
    "        </th>\n",
    "        <td>  \n",
    "            0.0\n",
    "        </td>\n",
    "        <td>  \n",
    "            0.0\n",
    "        </td>\n",
    "        <td>  \n",
    "            0.0\n",
    "        </td>\n",
    "        <td>  \n",
    "            0.0\n",
    "        </td>        \n",
    "    </tr>\n",
    "    <tr>\n",
    "        <th>\n",
    "            Bottom Middle\n",
    "        </th>\n",
    "        <td>  \n",
    "            0.0\n",
    "        </td>\n",
    "        <td>  \n",
    "            0.0\n",
    "        </td>\n",
    "        <td>  \n",
    "            0.0\n",
    "        </td>\n",
    "        <td>  \n",
    "            0.0\n",
    "        </td>        \n",
    "    </tr>\n",
    "    <tr>\n",
    "        <th>\n",
    "            Bottom Right\n",
    "        </th>\n",
    "        <td>  \n",
    "            0.0\n",
    "        </td>\n",
    "        <td>  \n",
    "            0.0\n",
    "        </td>\n",
    "        <td>  \n",
    "            0.0\n",
    "        </td>\n",
    "        <td>  \n",
    "            0.0\n",
    "        </td>        \n",
    "    </tr>\n",
    "</table>\n"
   ]
  },
  {
   "cell_type": "markdown",
   "metadata": {},
   "source": [
    "Which we can represent as a matrix:\n",
    "\n",
    "$$\n",
    "Q\\_table = \\begin{bmatrix} 0.0 & 0.0 & 0.0 & 0.0 \\\\\n",
    "                            0.0 & 0.0 & 0.0 & 0.0 \\\\\n",
    "                            0.0 & 0.0 & 0.0 & 0.0 \\\\\n",
    "                            0.0 & 0.0 & 0.0 & 0.0 \\\\\n",
    "                            0.0 & 0.0 & 0.0 & 0.0 \\\\\n",
    "                            0.0 & 0.0 & 0.0 & 0.0 \\\\\n",
    "                            0.0 & 0.0 & 0.0 & 0.0 \\\\\n",
    "                            0.0 & 0.0 & 0.0 & 0.0 \\\\\n",
    "                            0.0 & 0.0 & 0.0 & 0.0 \\\\\\end{bmatrix}\n",
    "$$\n"
   ]
  },
  {
   "cell_type": "markdown",
   "metadata": {},
   "source": [
    "Of course it starts out as all zeros because our agent knows nothing about the\n",
    "world. Now let's say our agent makes an action, receives some reward, and now\n",
    "has to update its understanding of the world, how would it update its\n",
    "understanding?\n",
    "\n",
    "The agent updates its understanding based on the following rule called Bellman's\n",
    "equation:\n",
    "\n",
    "$$Q_{new}(s,a) = (1-\\alpha) \\cdot Q_{old}(s,a) + \\alpha \\cdot (r + \\gamma  (max_{a'}Q(s',a'))$$\n",
    "\n",
    "Where: <br>\n",
    "\n",
    "- $\\alpha$ is the learning rate that controls how fast the Q-values are changing\n",
    "  (the smaller $\\alpha$ is, the slower the change), <br>\n",
    "- $r$ is the reward received for performing action $a$ in state $s$, <br>\n",
    "- $\\gamma$ is a discount parameter which determines how much it discounts future\n",
    "  rewards when making the update,<br>\n",
    "- $max_{a'}Q(s',a')$ is the maximum $Q$ value from the new state we move into.\n",
    "  In essence, the agent looks ahead and asks \"if I take the action to take me\n",
    "  into state $s'$, what is the highest reward I can get there?\"\n",
    "\n",
    "Notice that if $\\gamma = 0$, then the rule becomes\n",
    "$$Q_{new}(s,a) = (1-\\alpha)\\cdot Q_{old}(s,a) + \\alpha\\cdot r$$ which means we\n",
    "only take into account the immediate reward we just got.\n"
   ]
  },
  {
   "cell_type": "markdown",
   "metadata": {},
   "source": [
    "Python has a `Turtle` module that has been expanded to jupyter notebooks, let's\n",
    "employ it to illustrate Q-learning.\n"
   ]
  },
  {
   "cell_type": "code",
   "execution_count": 20,
   "metadata": {},
   "outputs": [
    {
     "ename": "ModuleNotFoundError",
     "evalue": "No module named '_tkinter'",
     "output_type": "error",
     "traceback": [
      "\u001b[0;31m---------------------------------------------------------------------------\u001b[0m",
      "\u001b[0;31mModuleNotFoundError\u001b[0m                       Traceback (most recent call last)",
      "Cell \u001b[0;32mIn [20], line 1\u001b[0m\n\u001b[0;32m----> 1\u001b[0m \u001b[39mfrom\u001b[39;00m \u001b[39mturtleScript\u001b[39;00m \u001b[39mimport\u001b[39;00m \u001b[39m*\u001b[39m\n\u001b[1;32m      3\u001b[0m \u001b[39m# A few parameters to intialize\u001b[39;00m\n\u001b[1;32m      5\u001b[0m tile_number \u001b[39m=\u001b[39m \u001b[39m3\u001b[39m\n",
      "File \u001b[0;32m~/src/work/brainstation/datascience-bootcamp/Unit_4 - Big Data/3-Adanced Big Data and ML Methods/turtleScript.py:1\u001b[0m\n\u001b[0;32m----> 1\u001b[0m \u001b[39mimport\u001b[39;00m \u001b[39mturtle\u001b[39;00m \u001b[39mas\u001b[39;00m \u001b[39mt\u001b[39;00m\n\u001b[1;32m      2\u001b[0m \u001b[39mimport\u001b[39;00m \u001b[39mtime\u001b[39;00m\n\u001b[1;32m      3\u001b[0m \u001b[39mimport\u001b[39;00m \u001b[39mmath\u001b[39;00m\n",
      "File \u001b[0;32m/usr/local/Cellar/python@3.10/3.10.8/Frameworks/Python.framework/Versions/3.10/lib/python3.10/turtle.py:107\u001b[0m\n\u001b[1;32m    103\u001b[0m _ver \u001b[39m=\u001b[39m \u001b[39m\"\u001b[39m\u001b[39mturtle 1.1b- - for Python 3.1   -  4. 5. 2009\u001b[39m\u001b[39m\"\u001b[39m\n\u001b[1;32m    105\u001b[0m \u001b[39m# print(_ver)\u001b[39;00m\n\u001b[0;32m--> 107\u001b[0m \u001b[39mimport\u001b[39;00m \u001b[39mtkinter\u001b[39;00m \u001b[39mas\u001b[39;00m \u001b[39mTK\u001b[39;00m\n\u001b[1;32m    108\u001b[0m \u001b[39mimport\u001b[39;00m \u001b[39mtypes\u001b[39;00m\n\u001b[1;32m    109\u001b[0m \u001b[39mimport\u001b[39;00m \u001b[39mmath\u001b[39;00m\n",
      "File \u001b[0;32m/usr/local/Cellar/python@3.10/3.10.8/Frameworks/Python.framework/Versions/3.10/lib/python3.10/tkinter/__init__.py:37\u001b[0m\n\u001b[1;32m     34\u001b[0m \u001b[39mimport\u001b[39;00m \u001b[39msys\u001b[39;00m\n\u001b[1;32m     35\u001b[0m \u001b[39mimport\u001b[39;00m \u001b[39mtypes\u001b[39;00m\n\u001b[0;32m---> 37\u001b[0m \u001b[39mimport\u001b[39;00m \u001b[39m_tkinter\u001b[39;00m \u001b[39m# If this fails your Python may not be configured for Tk\u001b[39;00m\n\u001b[1;32m     38\u001b[0m TclError \u001b[39m=\u001b[39m _tkinter\u001b[39m.\u001b[39mTclError\n\u001b[1;32m     39\u001b[0m \u001b[39mfrom\u001b[39;00m \u001b[39mtkinter\u001b[39;00m\u001b[39m.\u001b[39;00m\u001b[39mconstants\u001b[39;00m \u001b[39mimport\u001b[39;00m \u001b[39m*\u001b[39m\n",
      "\u001b[0;31mModuleNotFoundError\u001b[0m: No module named '_tkinter'"
     ]
    }
   ],
   "source": [
    "from turtleScript import *\n",
    "\n",
    "# A few parameters to intialize\n",
    "\n",
    "tile_number = 3\n",
    "t = QTurtle(TILE_NUMBER=tile_number)\n",
    "display(t)\n",
    "t.reset_world()\n"
   ]
  },
  {
   "cell_type": "markdown",
   "metadata": {},
   "source": [
    "Our turtle here is the agent, and let's pretend there is food on the bottom\n",
    "right square. We want to teach our turtle that it should move towards there. How\n",
    "will that work?\n",
    "\n",
    "Let's begin with an empty Q-table, it will have $tile\\_number^2 \\times 4$\n",
    "entries. 4 entries of up,down, left, and right for each square on the board.\n",
    "Let's also create a representation of the world, with some big reward in the\n",
    "bottom right square\n"
   ]
  },
  {
   "cell_type": "code",
   "execution_count": 19,
   "metadata": {},
   "outputs": [
    {
     "data": {
      "text/plain": [
       "array([[  0.,   0.,   0.],\n",
       "       [  0.,   0.,   0.],\n",
       "       [  0.,   0., 100.]])"
      ]
     },
     "metadata": {},
     "output_type": "display_data"
    }
   ],
   "source": [
    "World = np.zeros((tile_number, tile_number))\n",
    "World[-1, -1] = 100\n",
    "display(World)\n"
   ]
  },
  {
   "cell_type": "code",
   "execution_count": 20,
   "metadata": {},
   "outputs": [
    {
     "data": {
      "text/html": [
       "<div>\n",
       "<style scoped>\n",
       "    .dataframe tbody tr th:only-of-type {\n",
       "        vertical-align: middle;\n",
       "    }\n",
       "\n",
       "    .dataframe tbody tr th {\n",
       "        vertical-align: top;\n",
       "    }\n",
       "\n",
       "    .dataframe thead th {\n",
       "        text-align: right;\n",
       "    }\n",
       "</style>\n",
       "<table border=\"1\" class=\"dataframe\">\n",
       "  <thead>\n",
       "    <tr style=\"text-align: right;\">\n",
       "      <th></th>\n",
       "      <th>Up</th>\n",
       "      <th>Down</th>\n",
       "      <th>Left</th>\n",
       "      <th>Right</th>\n",
       "    </tr>\n",
       "  </thead>\n",
       "  <tbody>\n",
       "    <tr>\n",
       "      <th>Top Left</th>\n",
       "      <td>0.0</td>\n",
       "      <td>0.0</td>\n",
       "      <td>0.0</td>\n",
       "      <td>0.0</td>\n",
       "    </tr>\n",
       "    <tr>\n",
       "      <th>Top Middle</th>\n",
       "      <td>0.0</td>\n",
       "      <td>0.0</td>\n",
       "      <td>0.0</td>\n",
       "      <td>0.0</td>\n",
       "    </tr>\n",
       "    <tr>\n",
       "      <th>Top Right</th>\n",
       "      <td>0.0</td>\n",
       "      <td>0.0</td>\n",
       "      <td>0.0</td>\n",
       "      <td>0.0</td>\n",
       "    </tr>\n",
       "    <tr>\n",
       "      <th>Middle Left</th>\n",
       "      <td>0.0</td>\n",
       "      <td>0.0</td>\n",
       "      <td>0.0</td>\n",
       "      <td>0.0</td>\n",
       "    </tr>\n",
       "    <tr>\n",
       "      <th>Middle Middle</th>\n",
       "      <td>0.0</td>\n",
       "      <td>0.0</td>\n",
       "      <td>0.0</td>\n",
       "      <td>0.0</td>\n",
       "    </tr>\n",
       "    <tr>\n",
       "      <th>Middle Right</th>\n",
       "      <td>0.0</td>\n",
       "      <td>0.0</td>\n",
       "      <td>0.0</td>\n",
       "      <td>0.0</td>\n",
       "    </tr>\n",
       "    <tr>\n",
       "      <th>Bottom Left</th>\n",
       "      <td>0.0</td>\n",
       "      <td>0.0</td>\n",
       "      <td>0.0</td>\n",
       "      <td>0.0</td>\n",
       "    </tr>\n",
       "    <tr>\n",
       "      <th>Bottom Middle</th>\n",
       "      <td>0.0</td>\n",
       "      <td>0.0</td>\n",
       "      <td>0.0</td>\n",
       "      <td>0.0</td>\n",
       "    </tr>\n",
       "    <tr>\n",
       "      <th>Bottom Right</th>\n",
       "      <td>0.0</td>\n",
       "      <td>0.0</td>\n",
       "      <td>0.0</td>\n",
       "      <td>0.0</td>\n",
       "    </tr>\n",
       "  </tbody>\n",
       "</table>\n",
       "</div>"
      ],
      "text/plain": [
       "                Up  Down  Left  Right\n",
       "Top Left       0.0   0.0   0.0    0.0\n",
       "Top Middle     0.0   0.0   0.0    0.0\n",
       "Top Right      0.0   0.0   0.0    0.0\n",
       "Middle Left    0.0   0.0   0.0    0.0\n",
       "Middle Middle  0.0   0.0   0.0    0.0\n",
       "Middle Right   0.0   0.0   0.0    0.0\n",
       "Bottom Left    0.0   0.0   0.0    0.0\n",
       "Bottom Middle  0.0   0.0   0.0    0.0\n",
       "Bottom Right   0.0   0.0   0.0    0.0"
      ]
     },
     "metadata": {},
     "output_type": "display_data"
    }
   ],
   "source": [
    "Q_table = pd.DataFrame(\n",
    "    columns=[\"Up\", \"Down\", \"Left\", \"Right\"],\n",
    "    index=[\n",
    "        \"Top Left\",\n",
    "        \"Top Middle\",\n",
    "        \"Top Right\",\n",
    "        \"Middle Left\",\n",
    "        \"Middle Middle\",\n",
    "        \"Middle Right\",\n",
    "        \"Bottom Left\",\n",
    "        \"Bottom Middle\",\n",
    "        \"Bottom Right\",\n",
    "    ],\n",
    "    data=np.zeros((tile_number * tile_number, 4)),\n",
    ")\n",
    "display(Q_table)\n"
   ]
  },
  {
   "cell_type": "markdown",
   "metadata": {},
   "source": [
    "Now let's make our turtle move one square right, and one square down\n"
   ]
  },
  {
   "cell_type": "code",
   "execution_count": 21,
   "metadata": {},
   "outputs": [
    {
     "name": "stdout",
     "output_type": "stream",
     "text": [
      "state was: 4\n"
     ]
    }
   ],
   "source": [
    "state = t.get_Q_state()\n",
    "print(f\"state was: {state}\")\n",
    "t.move_right()\n"
   ]
  },
  {
   "cell_type": "markdown",
   "metadata": {},
   "source": [
    "Nothing to update here, we got no reward.\n"
   ]
  },
  {
   "cell_type": "code",
   "execution_count": 22,
   "metadata": {},
   "outputs": [
    {
     "name": "stdout",
     "output_type": "stream",
     "text": [
      "state was: 5\n"
     ]
    }
   ],
   "source": [
    "state = t.get_Q_state()\n",
    "print(f\"state was: {state}\")\n",
    "t.move_down()\n"
   ]
  },
  {
   "cell_type": "markdown",
   "metadata": {},
   "source": [
    "Now let's update the Q-table, we want to update the value of the middle\n",
    "rightmost square so we know the best action from that place is going straight\n",
    "down.\n",
    "\n",
    "We've yet to set our Q-learning parameters so let's do that:\n"
   ]
  },
  {
   "cell_type": "code",
   "execution_count": 23,
   "metadata": {},
   "outputs": [],
   "source": [
    "alpha = 0.1  # learning rate parameter, how fast are we adjusting the Q-values\n",
    "gamma = 0.9  # discount parameter, how much we take the future rewards account\n"
   ]
  },
  {
   "cell_type": "markdown",
   "metadata": {},
   "source": [
    "And now apply the rule\n",
    "$Q_{new}(s,a) = (1-\\alpha) \\cdot Q_{old}(s,a) + \\alpha \\cdot (r + \\gamma  (max_{a'}Q(s',a'))$\n"
   ]
  },
  {
   "cell_type": "code",
   "execution_count": 24,
   "metadata": {},
   "outputs": [
    {
     "name": "stdout",
     "output_type": "stream",
     "text": [
      " New state is: 8\n"
     ]
    }
   ],
   "source": [
    "new_state = t.get_Q_state()\n",
    "print(f\" New state is: {new_state}\")\n",
    "reward = World[-1, -1]  # 100\n",
    "\n",
    "Q_table.iloc[state].loc[\"Down\"] = ((1 - alpha) * Q_table.iloc[state].loc[\"Down\"]) + (\n",
    "    alpha * (reward + (gamma * np.max(Q_table.iloc[new_state])))\n",
    ")\n"
   ]
  },
  {
   "cell_type": "code",
   "execution_count": 25,
   "metadata": {},
   "outputs": [
    {
     "data": {
      "text/html": [
       "<div>\n",
       "<style scoped>\n",
       "    .dataframe tbody tr th:only-of-type {\n",
       "        vertical-align: middle;\n",
       "    }\n",
       "\n",
       "    .dataframe tbody tr th {\n",
       "        vertical-align: top;\n",
       "    }\n",
       "\n",
       "    .dataframe thead th {\n",
       "        text-align: right;\n",
       "    }\n",
       "</style>\n",
       "<table border=\"1\" class=\"dataframe\">\n",
       "  <thead>\n",
       "    <tr style=\"text-align: right;\">\n",
       "      <th></th>\n",
       "      <th>Up</th>\n",
       "      <th>Down</th>\n",
       "      <th>Left</th>\n",
       "      <th>Right</th>\n",
       "    </tr>\n",
       "  </thead>\n",
       "  <tbody>\n",
       "    <tr>\n",
       "      <th>Top Left</th>\n",
       "      <td>0.0</td>\n",
       "      <td>0.0</td>\n",
       "      <td>0.0</td>\n",
       "      <td>0.0</td>\n",
       "    </tr>\n",
       "    <tr>\n",
       "      <th>Top Middle</th>\n",
       "      <td>0.0</td>\n",
       "      <td>0.0</td>\n",
       "      <td>0.0</td>\n",
       "      <td>0.0</td>\n",
       "    </tr>\n",
       "    <tr>\n",
       "      <th>Top Right</th>\n",
       "      <td>0.0</td>\n",
       "      <td>0.0</td>\n",
       "      <td>0.0</td>\n",
       "      <td>0.0</td>\n",
       "    </tr>\n",
       "    <tr>\n",
       "      <th>Middle Left</th>\n",
       "      <td>0.0</td>\n",
       "      <td>0.0</td>\n",
       "      <td>0.0</td>\n",
       "      <td>0.0</td>\n",
       "    </tr>\n",
       "    <tr>\n",
       "      <th>Middle Middle</th>\n",
       "      <td>0.0</td>\n",
       "      <td>0.0</td>\n",
       "      <td>0.0</td>\n",
       "      <td>0.0</td>\n",
       "    </tr>\n",
       "    <tr>\n",
       "      <th>Middle Right</th>\n",
       "      <td>0.0</td>\n",
       "      <td>10.0</td>\n",
       "      <td>0.0</td>\n",
       "      <td>0.0</td>\n",
       "    </tr>\n",
       "    <tr>\n",
       "      <th>Bottom Left</th>\n",
       "      <td>0.0</td>\n",
       "      <td>0.0</td>\n",
       "      <td>0.0</td>\n",
       "      <td>0.0</td>\n",
       "    </tr>\n",
       "    <tr>\n",
       "      <th>Bottom Middle</th>\n",
       "      <td>0.0</td>\n",
       "      <td>0.0</td>\n",
       "      <td>0.0</td>\n",
       "      <td>0.0</td>\n",
       "    </tr>\n",
       "    <tr>\n",
       "      <th>Bottom Right</th>\n",
       "      <td>0.0</td>\n",
       "      <td>0.0</td>\n",
       "      <td>0.0</td>\n",
       "      <td>0.0</td>\n",
       "    </tr>\n",
       "  </tbody>\n",
       "</table>\n",
       "</div>"
      ],
      "text/plain": [
       "                Up  Down  Left  Right\n",
       "Top Left       0.0   0.0   0.0    0.0\n",
       "Top Middle     0.0   0.0   0.0    0.0\n",
       "Top Right      0.0   0.0   0.0    0.0\n",
       "Middle Left    0.0   0.0   0.0    0.0\n",
       "Middle Middle  0.0   0.0   0.0    0.0\n",
       "Middle Right   0.0  10.0   0.0    0.0\n",
       "Bottom Left    0.0   0.0   0.0    0.0\n",
       "Bottom Middle  0.0   0.0   0.0    0.0\n",
       "Bottom Right   0.0   0.0   0.0    0.0"
      ]
     },
     "metadata": {},
     "output_type": "display_data"
    }
   ],
   "source": [
    "display(Q_table)\n"
   ]
  },
  {
   "cell_type": "markdown",
   "metadata": {},
   "source": [
    "Notice how the quality of going down from state \"Middle Right\" has changed from\n",
    "0 to 10. Now when getting to state 5 (the rightmost middle row tile) the agent\n",
    "will know its best bet is to go down.\n",
    "\n",
    "But wait, will it just randomly wander until it reaches only adjacent tiles?\n",
    "\n",
    "Luckily no. Let's see what happens when our agent begins in the top right corner\n"
   ]
  },
  {
   "cell_type": "code",
   "execution_count": 26,
   "metadata": {},
   "outputs": [],
   "source": [
    "t.drop_in_cell(0, 2)\n"
   ]
  },
  {
   "cell_type": "code",
   "execution_count": 27,
   "metadata": {},
   "outputs": [
    {
     "data": {
      "text/html": [
       "<div>\n",
       "<style scoped>\n",
       "    .dataframe tbody tr th:only-of-type {\n",
       "        vertical-align: middle;\n",
       "    }\n",
       "\n",
       "    .dataframe tbody tr th {\n",
       "        vertical-align: top;\n",
       "    }\n",
       "\n",
       "    .dataframe thead th {\n",
       "        text-align: right;\n",
       "    }\n",
       "</style>\n",
       "<table border=\"1\" class=\"dataframe\">\n",
       "  <thead>\n",
       "    <tr style=\"text-align: right;\">\n",
       "      <th></th>\n",
       "      <th>Up</th>\n",
       "      <th>Down</th>\n",
       "      <th>Left</th>\n",
       "      <th>Right</th>\n",
       "    </tr>\n",
       "  </thead>\n",
       "  <tbody>\n",
       "    <tr>\n",
       "      <th>Top Left</th>\n",
       "      <td>0.0</td>\n",
       "      <td>0.0</td>\n",
       "      <td>0.0</td>\n",
       "      <td>0.0</td>\n",
       "    </tr>\n",
       "    <tr>\n",
       "      <th>Top Middle</th>\n",
       "      <td>0.0</td>\n",
       "      <td>0.0</td>\n",
       "      <td>0.0</td>\n",
       "      <td>0.0</td>\n",
       "    </tr>\n",
       "    <tr>\n",
       "      <th>Top Right</th>\n",
       "      <td>0.0</td>\n",
       "      <td>0.0</td>\n",
       "      <td>0.0</td>\n",
       "      <td>0.0</td>\n",
       "    </tr>\n",
       "    <tr>\n",
       "      <th>Middle Left</th>\n",
       "      <td>0.0</td>\n",
       "      <td>0.0</td>\n",
       "      <td>0.0</td>\n",
       "      <td>0.0</td>\n",
       "    </tr>\n",
       "    <tr>\n",
       "      <th>Middle Middle</th>\n",
       "      <td>0.0</td>\n",
       "      <td>0.0</td>\n",
       "      <td>0.0</td>\n",
       "      <td>0.0</td>\n",
       "    </tr>\n",
       "    <tr>\n",
       "      <th>Middle Right</th>\n",
       "      <td>0.0</td>\n",
       "      <td>10.0</td>\n",
       "      <td>0.0</td>\n",
       "      <td>0.0</td>\n",
       "    </tr>\n",
       "    <tr>\n",
       "      <th>Bottom Left</th>\n",
       "      <td>0.0</td>\n",
       "      <td>0.0</td>\n",
       "      <td>0.0</td>\n",
       "      <td>0.0</td>\n",
       "    </tr>\n",
       "    <tr>\n",
       "      <th>Bottom Middle</th>\n",
       "      <td>0.0</td>\n",
       "      <td>0.0</td>\n",
       "      <td>0.0</td>\n",
       "      <td>0.0</td>\n",
       "    </tr>\n",
       "    <tr>\n",
       "      <th>Bottom Right</th>\n",
       "      <td>0.0</td>\n",
       "      <td>0.0</td>\n",
       "      <td>0.0</td>\n",
       "      <td>0.0</td>\n",
       "    </tr>\n",
       "  </tbody>\n",
       "</table>\n",
       "</div>"
      ],
      "text/plain": [
       "                Up  Down  Left  Right\n",
       "Top Left       0.0   0.0   0.0    0.0\n",
       "Top Middle     0.0   0.0   0.0    0.0\n",
       "Top Right      0.0   0.0   0.0    0.0\n",
       "Middle Left    0.0   0.0   0.0    0.0\n",
       "Middle Middle  0.0   0.0   0.0    0.0\n",
       "Middle Right   0.0  10.0   0.0    0.0\n",
       "Bottom Left    0.0   0.0   0.0    0.0\n",
       "Bottom Middle  0.0   0.0   0.0    0.0\n",
       "Bottom Right   0.0   0.0   0.0    0.0"
      ]
     },
     "metadata": {},
     "output_type": "display_data"
    }
   ],
   "source": [
    "# Inspect the Q-table\n",
    "display(Q_table)\n"
   ]
  },
  {
   "cell_type": "code",
   "execution_count": 28,
   "metadata": {},
   "outputs": [
    {
     "name": "stdout",
     "output_type": "stream",
     "text": [
      "state was: 2\n"
     ]
    }
   ],
   "source": [
    "state = t.get_Q_state()\n",
    "print(f\"state was: {state}\")\n",
    "t.move_down()\n"
   ]
  },
  {
   "cell_type": "markdown",
   "metadata": {},
   "source": [
    "Now we update our Q-table again. Notice our agent gets no reward from moving\n",
    "down, BUT its new state says there is a reward for being in this new square\n"
   ]
  },
  {
   "cell_type": "code",
   "execution_count": 29,
   "metadata": {},
   "outputs": [
    {
     "name": "stdout",
     "output_type": "stream",
     "text": [
      "New state is: 5\n",
      "state was: 2\n"
     ]
    }
   ],
   "source": [
    "new_state = t.get_Q_state()\n",
    "print(f\"New state is: {new_state}\")\n",
    "print(f\"state was: {state}\")\n",
    "turtle_row, turtle_column = t.get_cell()\n",
    "reward = World[turtle_row, turtle_column]\n",
    "\n",
    "Q_table.iloc[state].loc[\"Down\"] = ((1 - alpha) * Q_table.iloc[state].loc[\"Down\"]) + (\n",
    "    alpha * (reward + (gamma * np.max(Q_table.iloc[new_state])))\n",
    ")\n"
   ]
  },
  {
   "cell_type": "markdown",
   "metadata": {},
   "source": [
    "Let's break down every part of this new update. First, the old value\n",
    "$(1-\\alpha) \\cdot Q_{old}(s,a)$ is pretty clear, it's the previous value of that\n",
    "state, action pair.\n",
    "\n",
    "Next, the reward portion $r$. What is the value of that?\n"
   ]
  },
  {
   "cell_type": "code",
   "execution_count": 30,
   "metadata": {},
   "outputs": [
    {
     "name": "stdout",
     "output_type": "stream",
     "text": [
      "reward =  0.0\n"
     ]
    }
   ],
   "source": [
    "print(\"reward = \", reward)\n"
   ]
  },
  {
   "cell_type": "markdown",
   "metadata": {},
   "source": [
    "There was no reward associated with going to the middle right square, there is\n",
    "no food there.\n",
    "\n",
    "However, what about the third piece, the discounted reward\n",
    "$\\gamma  (max_{a'}Q(s',a')$?\n"
   ]
  },
  {
   "cell_type": "code",
   "execution_count": 31,
   "metadata": {},
   "outputs": [
    {
     "name": "stdout",
     "output_type": "stream",
     "text": [
      "New state actions' qualities:\n",
      " Up        0.0\n",
      "Down     10.0\n",
      "Left      0.0\n",
      "Right     0.0\n",
      "Name: Middle Right, dtype: float64\n",
      "\n",
      "Best new state action quality:\n",
      " 10.0\n",
      "\n",
      "Best new state action quality discounted:\n",
      " 9.0\n"
     ]
    }
   ],
   "source": [
    "print(\"New state actions' qualities:\\n\", Q_table.iloc[new_state], end=\"\\n\\n\")\n",
    "print(\"Best new state action quality:\\n\", np.max(Q_table.iloc[new_state]), end=\"\\n\\n\")\n",
    "print(\"Best new state action quality discounted:\\n\", gamma * np.max(Q_table.iloc[new_state]))\n"
   ]
  },
  {
   "cell_type": "markdown",
   "metadata": {},
   "source": [
    "So our new value for $$\\alpha \\cdot (r + \\gamma  (max_{a'}Q(s',a'))$$ is\n",
    "$$0.1 \\cdot (0.0 + 0.9 \\cdot 10.0) = 0.9$$\n"
   ]
  },
  {
   "cell_type": "code",
   "execution_count": 32,
   "metadata": {},
   "outputs": [
    {
     "data": {
      "text/html": [
       "<div>\n",
       "<style scoped>\n",
       "    .dataframe tbody tr th:only-of-type {\n",
       "        vertical-align: middle;\n",
       "    }\n",
       "\n",
       "    .dataframe tbody tr th {\n",
       "        vertical-align: top;\n",
       "    }\n",
       "\n",
       "    .dataframe thead th {\n",
       "        text-align: right;\n",
       "    }\n",
       "</style>\n",
       "<table border=\"1\" class=\"dataframe\">\n",
       "  <thead>\n",
       "    <tr style=\"text-align: right;\">\n",
       "      <th></th>\n",
       "      <th>Up</th>\n",
       "      <th>Down</th>\n",
       "      <th>Left</th>\n",
       "      <th>Right</th>\n",
       "    </tr>\n",
       "  </thead>\n",
       "  <tbody>\n",
       "    <tr>\n",
       "      <th>Top Left</th>\n",
       "      <td>0.0</td>\n",
       "      <td>0.0</td>\n",
       "      <td>0.0</td>\n",
       "      <td>0.0</td>\n",
       "    </tr>\n",
       "    <tr>\n",
       "      <th>Top Middle</th>\n",
       "      <td>0.0</td>\n",
       "      <td>0.0</td>\n",
       "      <td>0.0</td>\n",
       "      <td>0.0</td>\n",
       "    </tr>\n",
       "    <tr>\n",
       "      <th>Top Right</th>\n",
       "      <td>0.0</td>\n",
       "      <td>0.9</td>\n",
       "      <td>0.0</td>\n",
       "      <td>0.0</td>\n",
       "    </tr>\n",
       "    <tr>\n",
       "      <th>Middle Left</th>\n",
       "      <td>0.0</td>\n",
       "      <td>0.0</td>\n",
       "      <td>0.0</td>\n",
       "      <td>0.0</td>\n",
       "    </tr>\n",
       "    <tr>\n",
       "      <th>Middle Middle</th>\n",
       "      <td>0.0</td>\n",
       "      <td>0.0</td>\n",
       "      <td>0.0</td>\n",
       "      <td>0.0</td>\n",
       "    </tr>\n",
       "    <tr>\n",
       "      <th>Middle Right</th>\n",
       "      <td>0.0</td>\n",
       "      <td>10.0</td>\n",
       "      <td>0.0</td>\n",
       "      <td>0.0</td>\n",
       "    </tr>\n",
       "    <tr>\n",
       "      <th>Bottom Left</th>\n",
       "      <td>0.0</td>\n",
       "      <td>0.0</td>\n",
       "      <td>0.0</td>\n",
       "      <td>0.0</td>\n",
       "    </tr>\n",
       "    <tr>\n",
       "      <th>Bottom Middle</th>\n",
       "      <td>0.0</td>\n",
       "      <td>0.0</td>\n",
       "      <td>0.0</td>\n",
       "      <td>0.0</td>\n",
       "    </tr>\n",
       "    <tr>\n",
       "      <th>Bottom Right</th>\n",
       "      <td>0.0</td>\n",
       "      <td>0.0</td>\n",
       "      <td>0.0</td>\n",
       "      <td>0.0</td>\n",
       "    </tr>\n",
       "  </tbody>\n",
       "</table>\n",
       "</div>"
      ],
      "text/plain": [
       "                Up  Down  Left  Right\n",
       "Top Left       0.0   0.0   0.0    0.0\n",
       "Top Middle     0.0   0.0   0.0    0.0\n",
       "Top Right      0.0   0.9   0.0    0.0\n",
       "Middle Left    0.0   0.0   0.0    0.0\n",
       "Middle Middle  0.0   0.0   0.0    0.0\n",
       "Middle Right   0.0  10.0   0.0    0.0\n",
       "Bottom Left    0.0   0.0   0.0    0.0\n",
       "Bottom Middle  0.0   0.0   0.0    0.0\n",
       "Bottom Right   0.0   0.0   0.0    0.0"
      ]
     },
     "metadata": {},
     "output_type": "display_data"
    }
   ],
   "source": [
    "display(Q_table)\n"
   ]
  },
  {
   "cell_type": "markdown",
   "metadata": {},
   "source": [
    "Notice how for state \"Top Right\", there is now a small value associated with\n",
    "going down. Why? because the quality of the cell right below it is very high\n",
    "(since one cell further down is the reward, food).\n"
   ]
  },
  {
   "cell_type": "markdown",
   "metadata": {},
   "source": [
    "### Fast forward the process...\n",
    "\n",
    "Let's move this process further along. Let's land the turtle at random\n",
    "positions, and use an epsilon greedy approach for learning about the world.\n"
   ]
  },
  {
   "cell_type": "code",
   "execution_count": 33,
   "metadata": {},
   "outputs": [],
   "source": [
    "def epsilon_greedy_turtle(epsilon, turtle, Q_table, World):\n",
    "\n",
    "    epsilon_coin = np.random.binomial(1, epsilon, 1)[0]\n",
    "\n",
    "    directions = [turtle.move_up, turtle.move_down, turtle.move_left, turtle.move_right]\n",
    "\n",
    "    state = turtle.get_Q_state()\n",
    "    direction = None\n",
    "    # Explore trial\n",
    "    if epsilon_coin == 1:\n",
    "\n",
    "        direction = np.random.randint(len(directions))\n",
    "\n",
    "    # Exploit trial\n",
    "    else:\n",
    "\n",
    "        direction = np.argmax(Q_table.iloc[state].values)\n",
    "\n",
    "    movement_function = directions[direction]  # this is a callable function\n",
    "    movement_function()\n",
    "\n",
    "    turtle_row, turtle_column = turtle.get_cell()\n",
    "    new_state = t.get_Q_state()\n",
    "    reward = World[turtle_row, turtle_column]\n",
    "\n",
    "    Q_table.iloc[state, direction] = ((1 - alpha) * Q_table.iloc[state, direction]) + (\n",
    "        alpha * (reward + (gamma * np.max(Q_table.iloc[new_state])))\n",
    "    )\n",
    "\n",
    "    # return the updated table\n",
    "    return Q_table\n"
   ]
  },
  {
   "cell_type": "markdown",
   "metadata": {},
   "source": [
    "We are running 500 update steps with the grid environment and the Q-table. At\n",
    "the end of each episode (after we got the reward), we drop the turtle at a\n",
    "random start position (`exploring starts`).\n"
   ]
  },
  {
   "cell_type": "code",
   "execution_count": 34,
   "metadata": {
    "scrolled": true
   },
   "outputs": [
    {
     "name": "stdout",
     "output_type": "stream",
     "text": [
      "finished 99.8% of run\r"
     ]
    }
   ],
   "source": [
    "import time\n",
    "\n",
    "np.random.seed(0)\n",
    "\n",
    "step_number = 0\n",
    "epsilon = 0.5\n",
    "loop_number = 500\n",
    "for i in range(loop_number):\n",
    "    turtle_row, turtle_column = t.get_cell()\n",
    "    if World[turtle_row, turtle_column] == 100.0:\n",
    "\n",
    "        # If the turtle found food, reset it and throw it into a random new position\n",
    "\n",
    "        random_row = np.random.randint(World.shape[0])\n",
    "        random_column = np.random.randint(World.shape[1])\n",
    "        step_number = 0\n",
    "        t.drop_in_cell(random_row, random_column)\n",
    "        time.sleep(1)\n",
    "    else:\n",
    "        # If it didn't find food, keep searching and learning\n",
    "\n",
    "        step_number += 1\n",
    "        Q_table = epsilon_greedy_turtle(epsilon, t, Q_table, World)\n",
    "    print(f\"finished {i*100/loop_number}% of run\", end=\"\\r\")\n"
   ]
  },
  {
   "cell_type": "code",
   "execution_count": 35,
   "metadata": {},
   "outputs": [
    {
     "data": {
      "text/html": [
       "<div>\n",
       "<style scoped>\n",
       "    .dataframe tbody tr th:only-of-type {\n",
       "        vertical-align: middle;\n",
       "    }\n",
       "\n",
       "    .dataframe tbody tr th {\n",
       "        vertical-align: top;\n",
       "    }\n",
       "\n",
       "    .dataframe thead th {\n",
       "        text-align: right;\n",
       "    }\n",
       "</style>\n",
       "<table border=\"1\" class=\"dataframe\">\n",
       "  <thead>\n",
       "    <tr style=\"text-align: right;\">\n",
       "      <th></th>\n",
       "      <th>Up</th>\n",
       "      <th>Down</th>\n",
       "      <th>Left</th>\n",
       "      <th>Right</th>\n",
       "    </tr>\n",
       "  </thead>\n",
       "  <tbody>\n",
       "    <tr>\n",
       "      <th>Top Left</th>\n",
       "      <td>10.425453</td>\n",
       "      <td>7.626582</td>\n",
       "      <td>2.010414</td>\n",
       "      <td>38.943865</td>\n",
       "    </tr>\n",
       "    <tr>\n",
       "      <th>Top Middle</th>\n",
       "      <td>18.584538</td>\n",
       "      <td>19.824016</td>\n",
       "      <td>5.752503</td>\n",
       "      <td>67.426614</td>\n",
       "    </tr>\n",
       "    <tr>\n",
       "      <th>Top Right</th>\n",
       "      <td>35.789917</td>\n",
       "      <td>87.227449</td>\n",
       "      <td>25.881357</td>\n",
       "      <td>35.492692</td>\n",
       "    </tr>\n",
       "    <tr>\n",
       "      <th>Middle Left</th>\n",
       "      <td>10.443475</td>\n",
       "      <td>0.000720</td>\n",
       "      <td>4.162011</td>\n",
       "      <td>47.004587</td>\n",
       "    </tr>\n",
       "    <tr>\n",
       "      <th>Middle Middle</th>\n",
       "      <td>20.506167</td>\n",
       "      <td>15.816151</td>\n",
       "      <td>11.498423</td>\n",
       "      <td>77.949370</td>\n",
       "    </tr>\n",
       "    <tr>\n",
       "      <th>Middle Right</th>\n",
       "      <td>43.278584</td>\n",
       "      <td>99.854442</td>\n",
       "      <td>22.343547</td>\n",
       "      <td>62.608747</td>\n",
       "    </tr>\n",
       "    <tr>\n",
       "      <th>Bottom Left</th>\n",
       "      <td>16.378020</td>\n",
       "      <td>0.000000</td>\n",
       "      <td>0.574152</td>\n",
       "      <td>3.095100</td>\n",
       "    </tr>\n",
       "    <tr>\n",
       "      <th>Bottom Middle</th>\n",
       "      <td>0.000000</td>\n",
       "      <td>4.217031</td>\n",
       "      <td>2.021887</td>\n",
       "      <td>52.170310</td>\n",
       "    </tr>\n",
       "    <tr>\n",
       "      <th>Bottom Right</th>\n",
       "      <td>0.000000</td>\n",
       "      <td>0.000000</td>\n",
       "      <td>0.000000</td>\n",
       "      <td>0.000000</td>\n",
       "    </tr>\n",
       "  </tbody>\n",
       "</table>\n",
       "</div>"
      ],
      "text/plain": [
       "                      Up       Down       Left      Right\n",
       "Top Left       10.425453   7.626582   2.010414  38.943865\n",
       "Top Middle     18.584538  19.824016   5.752503  67.426614\n",
       "Top Right      35.789917  87.227449  25.881357  35.492692\n",
       "Middle Left    10.443475   0.000720   4.162011  47.004587\n",
       "Middle Middle  20.506167  15.816151  11.498423  77.949370\n",
       "Middle Right   43.278584  99.854442  22.343547  62.608747\n",
       "Bottom Left    16.378020   0.000000   0.574152   3.095100\n",
       "Bottom Middle   0.000000   4.217031   2.021887  52.170310\n",
       "Bottom Right    0.000000   0.000000   0.000000   0.000000"
      ]
     },
     "metadata": {},
     "output_type": "display_data"
    }
   ],
   "source": [
    "display(Q_table)\n"
   ]
  },
  {
   "cell_type": "code",
   "execution_count": 36,
   "metadata": {
    "scrolled": true
   },
   "outputs": [
    {
     "name": "stdout",
     "output_type": "stream",
     "text": [
      "finished 99.0% of run\r"
     ]
    }
   ],
   "source": [
    "epsilon = 0.001  # Really not likely to explore, only exploit (i.e. only follow the best path)\n",
    "\n",
    "loop_number = 100\n",
    "for i in range(loop_number):\n",
    "    turtle_row, turtle_column = t.get_cell()\n",
    "    if World[turtle_row, turtle_column] == 100.0:\n",
    "        random_row = np.random.randint(World.shape[0])\n",
    "        random_column = np.random.randint(World.shape[1])\n",
    "        t.drop_in_cell(random_row, random_column)\n",
    "        time.sleep(1)\n",
    "    else:\n",
    "\n",
    "        Q_table = epsilon_greedy_turtle(epsilon, t, Q_table, World)\n",
    "\n",
    "    print(f\"finished {i*100/loop_number}% of run\", end=\"\\r\")\n"
   ]
  },
  {
   "cell_type": "markdown",
   "metadata": {},
   "source": [
    "---\n",
    "#### Exercise 2\n",
    "\n",
    "1. The way we set up our reward system, our agent might not learn the shortest\n",
    "path to the food from every point. Try dropping the turtle in cell (2,0) to see\n",
    "how it moves towards the food. How can we modify our reward system to make it\n",
    "more likely it learns the shortest path from every point?\n",
    "---\n"
   ]
  },
  {
   "cell_type": "markdown",
   "metadata": {},
   "source": [
    "#### Solution\n",
    "\n",
    "We start by setting up an empty Q-table:\n"
   ]
  },
  {
   "cell_type": "code",
   "execution_count": 39,
   "metadata": {
    "scrolled": true
   },
   "outputs": [
    {
     "data": {
      "text/html": [
       "<div>\n",
       "<style scoped>\n",
       "    .dataframe tbody tr th:only-of-type {\n",
       "        vertical-align: middle;\n",
       "    }\n",
       "\n",
       "    .dataframe tbody tr th {\n",
       "        vertical-align: top;\n",
       "    }\n",
       "\n",
       "    .dataframe thead th {\n",
       "        text-align: right;\n",
       "    }\n",
       "</style>\n",
       "<table border=\"1\" class=\"dataframe\">\n",
       "  <thead>\n",
       "    <tr style=\"text-align: right;\">\n",
       "      <th></th>\n",
       "      <th>Up</th>\n",
       "      <th>Down</th>\n",
       "      <th>Left</th>\n",
       "      <th>Right</th>\n",
       "    </tr>\n",
       "  </thead>\n",
       "  <tbody>\n",
       "    <tr>\n",
       "      <th>Top Left</th>\n",
       "      <td>0.0</td>\n",
       "      <td>0.0</td>\n",
       "      <td>0.0</td>\n",
       "      <td>0.0</td>\n",
       "    </tr>\n",
       "    <tr>\n",
       "      <th>Top Middle</th>\n",
       "      <td>0.0</td>\n",
       "      <td>0.0</td>\n",
       "      <td>0.0</td>\n",
       "      <td>0.0</td>\n",
       "    </tr>\n",
       "    <tr>\n",
       "      <th>Top Right</th>\n",
       "      <td>0.0</td>\n",
       "      <td>0.0</td>\n",
       "      <td>0.0</td>\n",
       "      <td>0.0</td>\n",
       "    </tr>\n",
       "    <tr>\n",
       "      <th>Middle Left</th>\n",
       "      <td>0.0</td>\n",
       "      <td>0.0</td>\n",
       "      <td>0.0</td>\n",
       "      <td>0.0</td>\n",
       "    </tr>\n",
       "    <tr>\n",
       "      <th>Middle Middle</th>\n",
       "      <td>0.0</td>\n",
       "      <td>0.0</td>\n",
       "      <td>0.0</td>\n",
       "      <td>0.0</td>\n",
       "    </tr>\n",
       "    <tr>\n",
       "      <th>Middle Right</th>\n",
       "      <td>0.0</td>\n",
       "      <td>0.0</td>\n",
       "      <td>0.0</td>\n",
       "      <td>0.0</td>\n",
       "    </tr>\n",
       "    <tr>\n",
       "      <th>Bottom Left</th>\n",
       "      <td>0.0</td>\n",
       "      <td>0.0</td>\n",
       "      <td>0.0</td>\n",
       "      <td>0.0</td>\n",
       "    </tr>\n",
       "    <tr>\n",
       "      <th>Bottom Middle</th>\n",
       "      <td>0.0</td>\n",
       "      <td>0.0</td>\n",
       "      <td>0.0</td>\n",
       "      <td>0.0</td>\n",
       "    </tr>\n",
       "    <tr>\n",
       "      <th>Bottom Right</th>\n",
       "      <td>0.0</td>\n",
       "      <td>0.0</td>\n",
       "      <td>0.0</td>\n",
       "      <td>0.0</td>\n",
       "    </tr>\n",
       "  </tbody>\n",
       "</table>\n",
       "</div>"
      ],
      "text/plain": [
       "                Up  Down  Left  Right\n",
       "Top Left       0.0   0.0   0.0    0.0\n",
       "Top Middle     0.0   0.0   0.0    0.0\n",
       "Top Right      0.0   0.0   0.0    0.0\n",
       "Middle Left    0.0   0.0   0.0    0.0\n",
       "Middle Middle  0.0   0.0   0.0    0.0\n",
       "Middle Right   0.0   0.0   0.0    0.0\n",
       "Bottom Left    0.0   0.0   0.0    0.0\n",
       "Bottom Middle  0.0   0.0   0.0    0.0\n",
       "Bottom Right   0.0   0.0   0.0    0.0"
      ]
     },
     "metadata": {},
     "output_type": "display_data"
    }
   ],
   "source": [
    "Q_table = pd.DataFrame(\n",
    "    columns=[\"Up\", \"Down\", \"Left\", \"Right\"],\n",
    "    index=[\n",
    "        \"Top Left\",\n",
    "        \"Top Middle\",\n",
    "        \"Top Right\",\n",
    "        \"Middle Left\",\n",
    "        \"Middle Middle\",\n",
    "        \"Middle Right\",\n",
    "        \"Bottom Left\",\n",
    "        \"Bottom Middle\",\n",
    "        \"Bottom Right\",\n",
    "    ],\n",
    "    data=np.zeros((tile_number * tile_number, 4)),\n",
    ")\n",
    "display(Q_table)\n"
   ]
  },
  {
   "cell_type": "markdown",
   "metadata": {},
   "source": [
    "In order to optimize for a shortest path, we will give a negative reward for\n",
    "stepping on any of the non-final positions (the value -10 was chosen quite\n",
    "arbitrarily):\n"
   ]
  },
  {
   "cell_type": "code",
   "execution_count": 40,
   "metadata": {},
   "outputs": [
    {
     "data": {
      "text/plain": [
       "array([[  0.,   0.,   0.],\n",
       "       [  0.,   0.,   0.],\n",
       "       [  0.,   0., 100.]])"
      ]
     },
     "execution_count": 40,
     "metadata": {},
     "output_type": "execute_result"
    }
   ],
   "source": [
    "World\n"
   ]
  },
  {
   "cell_type": "code",
   "execution_count": 41,
   "metadata": {},
   "outputs": [
    {
     "data": {
      "text/plain": [
       "array([[-10., -10., -10.],\n",
       "       [-10., -10., -10.],\n",
       "       [-10., -10., 100.]])"
      ]
     },
     "execution_count": 41,
     "metadata": {},
     "output_type": "execute_result"
    }
   ],
   "source": [
    "new_World = np.where(World == 0, -10, World)\n",
    "new_World\n"
   ]
  },
  {
   "cell_type": "markdown",
   "metadata": {},
   "source": [
    "Now, we can rerun the training loop and see how the learned Q-values and paths\n",
    "changed:\n"
   ]
  },
  {
   "cell_type": "code",
   "execution_count": 42,
   "metadata": {
    "scrolled": true
   },
   "outputs": [
    {
     "name": "stdout",
     "output_type": "stream",
     "text": [
      "finished 99.8% of run\r"
     ]
    }
   ],
   "source": [
    "import time\n",
    "\n",
    "np.random.seed(0)\n",
    "\n",
    "step_number = 0\n",
    "epsilon = 0.5\n",
    "loop_number = 500\n",
    "for i in range(loop_number):\n",
    "    turtle_row, turtle_column = t.get_cell()\n",
    "    if new_World[turtle_row, turtle_column] == 100.0:\n",
    "\n",
    "        # If the turtle found food, reset it and throw it into a random new position\n",
    "\n",
    "        random_row = np.random.randint(new_World.shape[0])\n",
    "        random_column = np.random.randint(new_World.shape[1])\n",
    "        step_number = 0\n",
    "        t.drop_in_cell(random_row, random_column)\n",
    "        time.sleep(1)\n",
    "    else:\n",
    "        # If it didn't find food, keep searching and learning\n",
    "\n",
    "        step_number += 1\n",
    "        Q_table = epsilon_greedy_turtle(epsilon, t, Q_table, new_World)\n",
    "    print(f\"finished {i*100/loop_number}% of run\", end=\"\\r\")\n"
   ]
  },
  {
   "cell_type": "code",
   "execution_count": 43,
   "metadata": {},
   "outputs": [
    {
     "data": {
      "text/html": [
       "<div>\n",
       "<style scoped>\n",
       "    .dataframe tbody tr th:only-of-type {\n",
       "        vertical-align: middle;\n",
       "    }\n",
       "\n",
       "    .dataframe tbody tr th {\n",
       "        vertical-align: top;\n",
       "    }\n",
       "\n",
       "    .dataframe thead th {\n",
       "        text-align: right;\n",
       "    }\n",
       "</style>\n",
       "<table border=\"1\" class=\"dataframe\">\n",
       "  <thead>\n",
       "    <tr style=\"text-align: right;\">\n",
       "      <th></th>\n",
       "      <th>Up</th>\n",
       "      <th>Down</th>\n",
       "      <th>Left</th>\n",
       "      <th>Right</th>\n",
       "    </tr>\n",
       "  </thead>\n",
       "  <tbody>\n",
       "    <tr>\n",
       "      <th>Top Left</th>\n",
       "      <td>-3.903111</td>\n",
       "      <td>4.968770</td>\n",
       "      <td>-4.823637</td>\n",
       "      <td>14.447770</td>\n",
       "    </tr>\n",
       "    <tr>\n",
       "      <th>Top Middle</th>\n",
       "      <td>2.317211</td>\n",
       "      <td>48.919410</td>\n",
       "      <td>-4.818776</td>\n",
       "      <td>19.234927</td>\n",
       "    </tr>\n",
       "    <tr>\n",
       "      <th>Top Right</th>\n",
       "      <td>18.683642</td>\n",
       "      <td>70.181829</td>\n",
       "      <td>-3.491850</td>\n",
       "      <td>12.239481</td>\n",
       "    </tr>\n",
       "    <tr>\n",
       "      <th>Middle Left</th>\n",
       "      <td>-2.072329</td>\n",
       "      <td>-2.565656</td>\n",
       "      <td>4.929495</td>\n",
       "      <td>43.399325</td>\n",
       "    </tr>\n",
       "    <tr>\n",
       "      <th>Middle Middle</th>\n",
       "      <td>10.267236</td>\n",
       "      <td>8.709896</td>\n",
       "      <td>14.191838</td>\n",
       "      <td>77.250168</td>\n",
       "    </tr>\n",
       "    <tr>\n",
       "      <th>Middle Right</th>\n",
       "      <td>17.603635</td>\n",
       "      <td>99.695675</td>\n",
       "      <td>39.088342</td>\n",
       "      <td>48.735788</td>\n",
       "    </tr>\n",
       "    <tr>\n",
       "      <th>Bottom Left</th>\n",
       "      <td>-3.990412</td>\n",
       "      <td>-4.397433</td>\n",
       "      <td>-3.940399</td>\n",
       "      <td>26.956751</td>\n",
       "    </tr>\n",
       "    <tr>\n",
       "      <th>Bottom Middle</th>\n",
       "      <td>19.146688</td>\n",
       "      <td>11.128144</td>\n",
       "      <td>-3.160213</td>\n",
       "      <td>74.581342</td>\n",
       "    </tr>\n",
       "    <tr>\n",
       "      <th>Bottom Right</th>\n",
       "      <td>0.000000</td>\n",
       "      <td>0.000000</td>\n",
       "      <td>0.000000</td>\n",
       "      <td>0.000000</td>\n",
       "    </tr>\n",
       "  </tbody>\n",
       "</table>\n",
       "</div>"
      ],
      "text/plain": [
       "                      Up       Down       Left      Right\n",
       "Top Left       -3.903111   4.968770  -4.823637  14.447770\n",
       "Top Middle      2.317211  48.919410  -4.818776  19.234927\n",
       "Top Right      18.683642  70.181829  -3.491850  12.239481\n",
       "Middle Left    -2.072329  -2.565656   4.929495  43.399325\n",
       "Middle Middle  10.267236   8.709896  14.191838  77.250168\n",
       "Middle Right   17.603635  99.695675  39.088342  48.735788\n",
       "Bottom Left    -3.990412  -4.397433  -3.940399  26.956751\n",
       "Bottom Middle  19.146688  11.128144  -3.160213  74.581342\n",
       "Bottom Right    0.000000   0.000000   0.000000   0.000000"
      ]
     },
     "metadata": {},
     "output_type": "display_data"
    }
   ],
   "source": [
    "display(Q_table)\n"
   ]
  },
  {
   "cell_type": "code",
   "execution_count": 44,
   "metadata": {
    "scrolled": true
   },
   "outputs": [
    {
     "name": "stdout",
     "output_type": "stream",
     "text": [
      "finished 99.0% of run\r"
     ]
    }
   ],
   "source": [
    "epsilon = 0.001  # Really not likely to explore, only exploit (i.e. only follow the best path)\n",
    "\n",
    "loop_number = 100\n",
    "for i in range(loop_number):\n",
    "    turtle_row, turtle_column = t.get_cell()\n",
    "\n",
    "    if new_World[turtle_row, turtle_column] == 100.0:\n",
    "        random_row = np.random.randint(new_World.shape[0])\n",
    "        random_column = np.random.randint(new_World.shape[1])\n",
    "        t.drop_in_cell(random_row, random_column)\n",
    "        time.sleep(1)\n",
    "    else:\n",
    "\n",
    "        Q_table = epsilon_greedy_turtle(epsilon, t, Q_table, new_World)\n",
    "\n",
    "    print(f\"finished {i*100/loop_number}% of run\", end=\"\\r\")\n"
   ]
  },
  {
   "cell_type": "markdown",
   "metadata": {},
   "source": [
    "We can definitely see that the turtle is taking the shortest path now, as\n",
    "expected. One way to visualize this is to show the Q-values of each action over\n",
    "the state-space:\n"
   ]
  },
  {
   "cell_type": "code",
   "execution_count": 52,
   "metadata": {},
   "outputs": [
    {
     "data": {
      "image/png": "[encoded data removed]",
      "text/plain": [
       "<Figure size 720x360 with 4 Axes>"
      ]
     },
     "metadata": {
      "needs_background": "light"
     },
     "output_type": "display_data"
    }
   ],
   "source": [
    "# Show update Q values\n",
    "plt.subplots(1, 4, figsize=(10, 5))\n",
    "plt.subplot(1, 4, 1)\n",
    "plt.imshow(Q_table[\"Up\"].values.reshape(3, 3), vmin=Q_table.values.min(), vmax=Q_table.values.max())\n",
    "plt.title(\"Up\")\n",
    "plt.subplot(1, 4, 2)\n",
    "plt.imshow(Q_table[\"Down\"].values.reshape(3, 3), vmin=Q_table.values.min(), vmax=Q_table.values.max())\n",
    "plt.title(\"Down\")\n",
    "plt.subplot(1, 4, 3)\n",
    "plt.imshow(Q_table[\"Left\"].values.reshape(3, 3), vmin=Q_table.values.min(), vmax=Q_table.values.max())\n",
    "plt.title(\"Left\")\n",
    "plt.subplot(1, 4, 4)\n",
    "plt.imshow(Q_table[\"Right\"].values.reshape(3, 3), vmin=Q_table.values.min(), vmax=Q_table.values.max())\n",
    "plt.title(\"Right\")\n",
    "plt.suptitle(\"Q-values per actions\")\n",
    "plt.show()\n"
   ]
  },
  {
   "cell_type": "markdown",
   "metadata": {},
   "source": [
    "The lighter colors show higher Q-values so for example, from middle right the\n",
    "best choice now is going down; from middle bottom, we should go right; as\n",
    "expected, going up or left has little value overall when we look for the\n",
    "shortest path.\n"
   ]
  },
  {
   "cell_type": "markdown",
   "metadata": {},
   "source": [
    "---\n"
   ]
  },
  {
   "cell_type": "markdown",
   "metadata": {
    "colab_type": "text",
    "id": "-9dEY3ko8oNc"
   },
   "source": [
    "All of the methods we've seen up to this point are examples of reinforcement\n",
    "learning. Unlike supervised learning, classification with SVMs or fitting\n",
    "regression functions, we don't have an explicit target we are trying to predict\n",
    "we don't have class values or a function we are trying to fit. It is also unlike\n",
    "unsupervised learning, we have information about which outcomes are good and\n",
    "bad, we are optimizing for something explicit.\n",
    "\n",
    "The common theme among all these methods is we have some signal that indicates\n",
    "how we are doing, we use this signal to learn about the environment we are\n",
    "working in, and try and maximize our overall score.\n"
   ]
  },
  {
   "cell_type": "markdown",
   "metadata": {},
   "source": [
    "## Deep Reinforcement Learning\n"
   ]
  },
  {
   "cell_type": "markdown",
   "metadata": {
    "colab_type": "text",
    "id": "maiXO1qL8oNd"
   },
   "source": [
    "Probably the most famous examples of reinforcement learning comes from learning\n",
    "to play games. For example consider the game of Pong. Pong can be formulated as\n",
    "a MDP. Let's say we wanted to train some model to control the left paddle. To\n",
    "this model a state is just a picture of the screen:\n",
    "\n",
    "<img src = \"https://drive.google.com/uc?export=view&id=1ylg7XS4BlJym0pOYITQ2HDuFZZXWq_MN\" width = 400 >\n",
    "<center><i>(Image Source: <a>https://upload.wikimedia.org/wikipedia/commons/f/f8/Pong.png</a>)</i></center>\n",
    "\n",
    "The actions are the the directions we can move our paddle (up, down or not at\n",
    "all).\n",
    "\n",
    "The objective is to maximize the score. We can't use traditional Q-Learning with\n",
    "this problem since the number of possible states is huge. It would take forever\n",
    "to converge to anything reasonable. Instead the standard technique is to now use\n",
    "a neural network:\n",
    "\n",
    "<img src = \"https://drive.google.com/uc?export=view&id=1C_kEnG6gryrih4hJESiFR-welgUL5tc2\" width=400>\n",
    "<center><i>(Image Source: <a>https://i.imgur.com/0Cow9XW.png</a>)</i></center>\n",
    "\n",
    "The network takes the state, represented as an image (or another appropriate\n",
    "representation), and outputs an indication of which is the next best action.\n",
    "\n",
    "This process is called Deep Q Learning, and is roughly divided into two main\n",
    "categories:\n",
    "\n",
    "#### Value-based Learning\n",
    "\n",
    "Value based learning is appropriate for cases where the set of all possible\n",
    "states is huge, but the set of all possible actions is finite and small. In\n",
    "Value based learning, the network takes as input a state $S$ and outputs the\n",
    "quality of all possible actions. If a given game has only four controls (e.g.\n",
    "Up, Down, Left, Right), then the network outputs 4 qualities (the output layer\n",
    "will have 4 neurons, but this is **NOT** a classification task): $Q(S, Up)$,\n",
    "$Q(S, Down)$, $Q(S, Left)$, $Q(S, Right)$.\n",
    "\n",
    "#### Policy-based Learning\n",
    "\n",
    "Policy based learning tackles different games or situations where both the state\n",
    "space and action space are very large. For these situations, given a possibility\n",
    "of 40 actions, the network output layer will still have 40 output neurons.\n",
    "However, it now becomes a classification problem. Formally speaking, given a\n",
    "state $S$ we know want our network to learn $\\pi(a_i|S)$, the probability of\n",
    "action $a_i$ for state S.\n",
    "\n",
    "Consider a game of chess. Instead of asking for the quality of each possible\n",
    "action, we ask the network to output the probability every action should be\n",
    "taken. Since this is rephrased as a classification task, we can make the network\n",
    "run through experts' games at first, and learn some basic strategies (policies)\n",
    "based on their games.\n"
   ]
  },
  {
   "cell_type": "markdown",
   "metadata": {
    "colab_type": "text",
    "id": "JyYAnq1G8oNd"
   },
   "source": [
    "### But Games Don't Have Instant Rewards...\n",
    "\n",
    "It's true. Consider again a game of chess. Perhaps we performed a set of\n",
    "actions: <br>\n",
    "$a_1 \\rightarrow a_2 \\rightarrow a_3 \\rightarrow a_4 \\rightarrow a_5 \\rightarrow a_6 \\rightarrow$\n",
    "Lose\n",
    "\n",
    "We can say all these actions are bad, and adjust our network to make sure it\n",
    "won't repeat these actions given the states it saw. We can do this by storing\n",
    "the sequence of actions in memory, then replay each of them, but associate them\n",
    "with a bad reward, so that the probability of each won't get repeated.\n",
    "\n",
    "However, we usually employ a more advanced approach where earlier actions in a\n",
    "sequence which led to a lose get punished more lightly than later actions. This\n",
    "makes sense since it's clear $a_6$ was a terrible action (it immediately led to\n",
    "our loss) but it's not so obvious $a_1$ was bad because the rest of the game\n",
    "might have unfolded differently.\n",
    "\n",
    "This is not a perfect solution. Some games with multiple phases struggle with\n",
    "this methodology, in general if it is not easy to get positive outcomes then our\n",
    "network will have trouble learning what actions are good.\n"
   ]
  },
  {
   "cell_type": "markdown",
   "metadata": {
    "colab_type": "text",
    "id": "zLssb8MT8oNf"
   },
   "source": [
    "### (Almost) Optimal Chess\n",
    "\n",
    "How do we put a good quality function together together? In the 1990s IBM Deep\n",
    "Blue used a handcrafted quality function, built with the input of several chess\n",
    "grand-masters. The function determined the quality of position by measuring\n",
    "things like how safe the King was or how easy it would be to set up a common\n",
    "attacking position. These values were fine tunned by watching the outcome of\n",
    "various games between other grand-masters.\n",
    "\n",
    "This wasn't very machine learning like, instead they just relied on human\n",
    "knowledge and the ability of the computer to evaluate over 200 million board\n",
    "positions a second. This type of strategy was enough to beat the world's best\n",
    "(and probably any subsequent humans).\n"
   ]
  },
  {
   "cell_type": "markdown",
   "metadata": {
    "colab_type": "text",
    "id": "qoCxVeFl8oNg"
   },
   "source": [
    "### (Almost) Optimal Go\n",
    "\n",
    "Go is a much more complex game compared to chess. The problem is there are many\n",
    "more nodes we need to evaluate. Using a similar strategy to Deep Blue computer\n",
    "systems were able to defeat most amateur players, but could not compete with any\n",
    "professionals.\n",
    "\n",
    "<img src = \"https://drive.google.com/uc?export=view&id=1ssbb4keuNdpJb-Vry9IE5_AJ64ww8pSW\" width = 400>\n",
    "<center><i>(Image Source: <a>https://upload.wikimedia.org/wikipedia/commons/2/2a/FloorGoban.JPG</a>)</i></center>\n",
    "\n",
    "To beat Go players we need a better way of exploring the network and evaluating\n",
    "states of the game. To do this, Google Alpha Go trained in three stages.\n",
    "\n",
    "1. The network watched \"replays\" of expert Go players. It allowed it to learn\n",
    "   that given some state $S$, the correct action (class) was $a_i$.\n",
    "2. Once the network could copy humans players fairly well (it was making\n",
    "   somewhat calculated moves instead of random moves), it was cloned and allowed\n",
    "   to play against itself many times. Now it can play games and learn about the\n",
    "   rewards of potentially different game styles, and it can do so much faster\n",
    "   than any human could.\n",
    "3. Another network, a \"Value Network\" studies the potential victories and losses\n",
    "   from different states of the board as experienced by the Policy Network\n",
    "   playing against itself, and works to output a single Q value for a given\n",
    "   board. i.e. given a board state $S$, how good is that state? The use of that\n",
    "   network comes when AlphaGo wants to look at potential states several actions\n",
    "   in the future, but is able to quickly \"prune\" the search space by ignoring\n",
    "   paths that entail bad states.\n",
    "\n",
    "How we train these networks is pretty complex, and expensive. Some early\n",
    "versions of Alpha Go trained on over 1500 CPUs and 200 GPUs.\n",
    "\n",
    "Newer versions with smarter training and network structure, Alpha Zero, only\n",
    "require 4 TPUs to train and uses no human input. Within a few days Alpha Zero\n",
    "surpassed Alpha Go beating it 100 games to 0.\n"
   ]
  },
  {
   "cell_type": "code",
   "execution_count": 41,
   "metadata": {},
   "outputs": [
    {
     "data": {
      "text/html": [
       "\n",
       "        <iframe\n",
       "            width=\"560\"\n",
       "            height=\"315\"\n",
       "            src=\"https://www.youtube.com/embed/8tq1C8spV_g\"\n",
       "            frameborder=\"0\"\n",
       "            allowfullscreen\n",
       "        ></iframe>\n",
       "        "
      ],
      "text/plain": [
       "<IPython.lib.display.IFrame at 0x1a29fe3c88>"
      ]
     },
     "execution_count": 41,
     "metadata": {},
     "output_type": "execute_result"
    }
   ],
   "source": [
    "from IPython.display import IFrame\n",
    "\n",
    "IFrame(\"https://www.youtube.com/embed/8tq1C8spV_g\", width=560, height=315)\n"
   ]
  }
 ],
 "metadata": {
  "colab": {
   "collapsed_sections": [],
   "name": "Reinforcement Learning.ipynb",
   "provenance": [],
   "version": "0.3.2"
  },
  "hide_input": false,
  "kernelspec": {
   "display_name": "Python 3.10.8 ('.venv': poetry)",
   "language": "python",
   "name": "python3"
  },
  "language_info": {
   "codemirror_mode": {
    "name": "ipython",
    "version": 3
   },
   "file_extension": ".py",
   "mimetype": "text/x-python",
   "name": "python",
   "nbconvert_exporter": "python",
   "pygments_lexer": "ipython3",
   "version": "3.10.8"
  },
  "toc": {
   "base_numbering": 1,
   "nav_menu": {},
   "number_sections": false,
   "sideBar": true,
   "skip_h1_title": true,
   "title_cell": "Table of Contents",
   "title_sidebar": "Contents",
   "toc_cell": false,
   "toc_position": {},
   "toc_section_display": true,
   "toc_window_display": false
  },
  "vscode": {
   "interpreter": {
    "hash": "09fa77dfce31738cd768fb92202d4b676dd1336a655854d9fb98a0feba06c452"
   }
  }
 },
 "nbformat": 4,
 "nbformat_minor": 4
}
